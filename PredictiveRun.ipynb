{
 "cells": [
  {
   "cell_type": "code",
   "execution_count": 1,
   "id": "f9fc942e-7f31-4a9b-8176-f09d668c4387",
   "metadata": {},
   "outputs": [],
   "source": [
    "import numpy as np\n",
    "import matplotlib.pyplot as plt\n",
    "import pandas as pd\n",
    "pd.set_option(\"mode.chained_assignment\", None)"
   ]
  },
  {
   "cell_type": "code",
   "execution_count": 2,
   "id": "000c54f4-ba83-4b77-98df-e96556a475af",
   "metadata": {},
   "outputs": [],
   "source": [
    "from sklearn.preprocessing import StandardScaler\n",
    "from sklearn.svm import SVR\n",
    "from sklearn.multioutput import MultiOutputRegressor"
   ]
  },
  {
   "cell_type": "markdown",
   "id": "ec897c9a-4f38-4326-985b-f0b31535b183",
   "metadata": {},
   "source": [
    "## Idea for building the FIS model"
   ]
  },
  {
   "cell_type": "markdown",
   "id": "209d9503-e407-43d2-9a8e-331f3b87a41c",
   "metadata": {},
   "source": [
    " We collect the data for big-LITTLE core utilization and frequency, the memory at ondemand and the GPU util. I plan on setting all the values at 250 ms. So that it is in-tandem with what we decided. \n",
    "\n",
    " Now the next steps are as follows :- \n",
    " 1. Sanity check -- check the correaltion of the utilization and the cost among all the three/four values\n",
    " 2. Modeling -- build a conditional probability model for the likelihood of the others value; for eg in cluster 1 -- what is the likely value of say the CPU util when others are fuzzified\n",
    " 3. The build a fuzzy arma model, using the weights and the linear regr value\n",
    " 4. Then use predicition using that model --\n",
    " 5. And finally predict the CPU usage say based on each cluster-- or sort of defuzzification\n",
    "    "
   ]
  },
  {
   "cell_type": "code",
   "execution_count": 3,
   "id": "d72d3309-8c44-451a-a4db-bdbdd7f5ad20",
   "metadata": {},
   "outputs": [],
   "source": [
    "# Get the data --\n",
    "utilData = pd.read_csv('UtilTRNS.csv')"
   ]
  },
  {
   "cell_type": "code",
   "execution_count": 4,
   "id": "c12fd05f-6664-4e09-a638-d4b4d15e5fed",
   "metadata": {},
   "outputs": [
    {
     "data": {
      "text/html": [
       "<div>\n",
       "<style scoped>\n",
       "    .dataframe tbody tr th:only-of-type {\n",
       "        vertical-align: middle;\n",
       "    }\n",
       "\n",
       "    .dataframe tbody tr th {\n",
       "        vertical-align: top;\n",
       "    }\n",
       "\n",
       "    .dataframe thead th {\n",
       "        text-align: right;\n",
       "    }\n",
       "</style>\n",
       "<table border=\"1\" class=\"dataframe\">\n",
       "  <thead>\n",
       "    <tr style=\"text-align: right;\">\n",
       "      <th></th>\n",
       "      <th>Time</th>\n",
       "      <th>sCPU</th>\n",
       "      <th>cCost</th>\n",
       "      <th>sFreq</th>\n",
       "      <th>bCPU</th>\n",
       "      <th>bUtil</th>\n",
       "      <th>bFreq</th>\n",
       "      <th>Mem</th>\n",
       "      <th>mCost</th>\n",
       "      <th>mFreq</th>\n",
       "      <th>GPU</th>\n",
       "      <th>gCost</th>\n",
       "      <th>gFreq</th>\n",
       "    </tr>\n",
       "  </thead>\n",
       "  <tbody>\n",
       "    <tr>\n",
       "      <th>0</th>\n",
       "      <td>1.700423e+09</td>\n",
       "      <td>sCPU</td>\n",
       "      <td>0</td>\n",
       "      <td>1400000</td>\n",
       "      <td>bCPU</td>\n",
       "      <td>0</td>\n",
       "      <td>2000000</td>\n",
       "      <td>Mem</td>\n",
       "      <td>0</td>\n",
       "      <td>825000000</td>\n",
       "      <td>GPU</td>\n",
       "      <td>0</td>\n",
       "      <td>600000000</td>\n",
       "    </tr>\n",
       "    <tr>\n",
       "      <th>1</th>\n",
       "      <td>1.700423e+09</td>\n",
       "      <td>sCPU</td>\n",
       "      <td>30</td>\n",
       "      <td>1400000</td>\n",
       "      <td>bCPU</td>\n",
       "      <td>0</td>\n",
       "      <td>2000000</td>\n",
       "      <td>Mem</td>\n",
       "      <td>1</td>\n",
       "      <td>825000000</td>\n",
       "      <td>GPU</td>\n",
       "      <td>0</td>\n",
       "      <td>600000000</td>\n",
       "    </tr>\n",
       "    <tr>\n",
       "      <th>2</th>\n",
       "      <td>1.700423e+09</td>\n",
       "      <td>sCPU</td>\n",
       "      <td>32</td>\n",
       "      <td>1400000</td>\n",
       "      <td>bCPU</td>\n",
       "      <td>0</td>\n",
       "      <td>2000000</td>\n",
       "      <td>Mem</td>\n",
       "      <td>0</td>\n",
       "      <td>825000000</td>\n",
       "      <td>GPU</td>\n",
       "      <td>0</td>\n",
       "      <td>600000000</td>\n",
       "    </tr>\n",
       "    <tr>\n",
       "      <th>3</th>\n",
       "      <td>1.700423e+09</td>\n",
       "      <td>sCPU</td>\n",
       "      <td>25</td>\n",
       "      <td>1400000</td>\n",
       "      <td>bCPU</td>\n",
       "      <td>0</td>\n",
       "      <td>2000000</td>\n",
       "      <td>Mem</td>\n",
       "      <td>1</td>\n",
       "      <td>825000000</td>\n",
       "      <td>GPU</td>\n",
       "      <td>0</td>\n",
       "      <td>600000000</td>\n",
       "    </tr>\n",
       "    <tr>\n",
       "      <th>4</th>\n",
       "      <td>1.700423e+09</td>\n",
       "      <td>sCPU</td>\n",
       "      <td>70</td>\n",
       "      <td>1400000</td>\n",
       "      <td>bCPU</td>\n",
       "      <td>0</td>\n",
       "      <td>2000000</td>\n",
       "      <td>Mem</td>\n",
       "      <td>3</td>\n",
       "      <td>825000000</td>\n",
       "      <td>GPU</td>\n",
       "      <td>0</td>\n",
       "      <td>600000000</td>\n",
       "    </tr>\n",
       "  </tbody>\n",
       "</table>\n",
       "</div>"
      ],
      "text/plain": [
       "           Time  sCPU  cCost    sFreq  bCPU  bUtil    bFreq  Mem  mCost  \\\n",
       "0  1.700423e+09  sCPU      0  1400000  bCPU      0  2000000  Mem      0   \n",
       "1  1.700423e+09  sCPU     30  1400000  bCPU      0  2000000  Mem      1   \n",
       "2  1.700423e+09  sCPU     32  1400000  bCPU      0  2000000  Mem      0   \n",
       "3  1.700423e+09  sCPU     25  1400000  bCPU      0  2000000  Mem      1   \n",
       "4  1.700423e+09  sCPU     70  1400000  bCPU      0  2000000  Mem      3   \n",
       "\n",
       "       mFreq  GPU  gCost      gFreq  \n",
       "0  825000000  GPU      0  600000000  \n",
       "1  825000000  GPU      0  600000000  \n",
       "2  825000000  GPU      0  600000000  \n",
       "3  825000000  GPU      0  600000000  \n",
       "4  825000000  GPU      0  600000000  "
      ]
     },
     "execution_count": 4,
     "metadata": {},
     "output_type": "execute_result"
    }
   ],
   "source": [
    "utilData.head()"
   ]
  },
  {
   "cell_type": "markdown",
   "id": "327bda2a-c972-473e-893b-cfe2c6602eb0",
   "metadata": {},
   "source": [
    "## The code for creating a fuzzy values for the other aspects of the code --\n",
    "1. Maybe use the history list to create a clustering of the values --\n",
    "2. Add the two different values and then group them together."
   ]
  },
  {
   "cell_type": "code",
   "execution_count": 5,
   "id": "4d4b972a-daa3-4275-bdd0-2f56b8e5731f",
   "metadata": {},
   "outputs": [
    {
     "data": {
      "text/plain": [
       "<Axes: >"
      ]
     },
     "execution_count": 5,
     "metadata": {},
     "output_type": "execute_result"
    },
    {
     "data": {
      "image/png": "[encoded data removed]",
      "text/plain": [
       "<Figure size 640x480 with 1 Axes>"
      ]
     },
     "metadata": {},
     "output_type": "display_data"
    }
   ],
   "source": [
    "utilData[['gCost']].plot()"
   ]
  },
  {
   "cell_type": "code",
   "execution_count": 6,
   "id": "d1fdf25a-50c2-4bdb-8d05-f6071a224032",
   "metadata": {},
   "outputs": [],
   "source": [
    "dCPU = utilData.cCost.to_numpy()\n",
    "dMem = utilData.mCost.to_numpy()\n",
    "dGPU = utilData.gCost.to_numpy()"
   ]
  },
  {
   "cell_type": "code",
   "execution_count": 7,
   "id": "4e6734e0-77f4-4aeb-be54-3a565ce74b7d",
   "metadata": {},
   "outputs": [],
   "source": [
    "fuzzyData = utilData[['mCost','gCost']].to_numpy()"
   ]
  },
  {
   "cell_type": "code",
   "execution_count": 8,
   "id": "f68498bd-3ac3-4beb-8232-53c09fa47f08",
   "metadata": {},
   "outputs": [],
   "source": [
    "fuzzyData_test = fuzzyData[:1000]"
   ]
  },
  {
   "cell_type": "code",
   "execution_count": 9,
   "id": "993379b3-84b4-472c-ad07-102f0498beda",
   "metadata": {},
   "outputs": [
    {
     "data": {
      "text/plain": [
       "100"
      ]
     },
     "execution_count": 9,
     "metadata": {},
     "output_type": "execute_result"
    }
   ],
   "source": [
    "max(dCPU)"
   ]
  },
  {
   "cell_type": "code",
   "execution_count": 10,
   "id": "9d5720e0-381d-448f-aa3d-177c8bf647b8",
   "metadata": {},
   "outputs": [],
   "source": [
    "import skfuzzy as fuzz"
   ]
  },
  {
   "cell_type": "code",
   "execution_count": null,
   "id": "6980a943-7a61-4eb3-b82c-affe8f35e50e",
   "metadata": {},
   "outputs": [],
   "source": []
  },
  {
   "cell_type": "code",
   "execution_count": 11,
   "id": "da11d748-f774-447f-aa46-f98cab0b7357",
   "metadata": {},
   "outputs": [],
   "source": [
    "n_cluster = 5"
   ]
  },
  {
   "cell_type": "code",
   "execution_count": 12,
   "id": "ca5f9e85-48e9-4373-934d-b284f2a7ff1a",
   "metadata": {},
   "outputs": [],
   "source": [
    "cntr, u, u0, d, jm, p, fpc = fuzz.cluster.cmeans(fuzzyData_test.T, n_cluster, 2, error=0.005, maxiter=1000, init=None)"
   ]
  },
  {
   "cell_type": "code",
   "execution_count": 13,
   "id": "ac7068f9-6953-4086-9e9b-e60231eb00bd",
   "metadata": {},
   "outputs": [
    {
     "data": {
      "text/plain": [
       "array([[ 9.09450041, 33.180549  ],\n",
       "       [ 9.87592298,  0.47174211],\n",
       "       [ 8.14614456, 99.0965664 ],\n",
       "       [ 8.46149846, 61.79748995],\n",
       "       [ 8.84073939, 79.56813416]])"
      ]
     },
     "execution_count": 13,
     "metadata": {},
     "output_type": "execute_result"
    }
   ],
   "source": [
    "cntr"
   ]
  },
  {
   "cell_type": "code",
   "execution_count": 14,
   "id": "f562ac89-bafd-45f2-8ef0-463d9235b651",
   "metadata": {},
   "outputs": [
    {
     "data": {
      "text/plain": [
       "(1497, 2)"
      ]
     },
     "execution_count": 14,
     "metadata": {},
     "output_type": "execute_result"
    }
   ],
   "source": [
    "fuzzyData.shape"
   ]
  },
  {
   "cell_type": "code",
   "execution_count": 15,
   "id": "144d5f07-4012-4f0b-b2ea-aed5c865dc36",
   "metadata": {},
   "outputs": [
    {
     "data": {
      "text/plain": [
       "(5, 1000)"
      ]
     },
     "execution_count": 15,
     "metadata": {},
     "output_type": "execute_result"
    }
   ],
   "source": [
    "u.shape"
   ]
  },
  {
   "cell_type": "code",
   "execution_count": 16,
   "id": "9aac1f2c-447d-4764-9a18-0e49bf3389aa",
   "metadata": {},
   "outputs": [],
   "source": [
    "ut,u0t,dt,jmt,pt,fpct = fuzz.cluster.cmeans_predict(fuzzyData[1000:1001].T,cntr,2,error=0.005,maxiter=1000,init=None,seed=0)"
   ]
  },
  {
   "cell_type": "code",
   "execution_count": 17,
   "id": "8215bf26-6e3b-4f16-a603-ff540bf1e0dd",
   "metadata": {},
   "outputs": [
    {
     "data": {
      "text/plain": [
       "array([[0.83668656],\n",
       "       [0.09296056],\n",
       "       [0.01019839],\n",
       "       [0.04134817],\n",
       "       [0.01880632]])"
      ]
     },
     "execution_count": 17,
     "metadata": {},
     "output_type": "execute_result"
    }
   ],
   "source": [
    "ut"
   ]
  },
  {
   "cell_type": "code",
   "execution_count": 18,
   "id": "04ce9911-67dd-425e-a364-2866aef0477f",
   "metadata": {},
   "outputs": [],
   "source": [
    "import statsmodels.api as sm"
   ]
  },
  {
   "cell_type": "code",
   "execution_count": 19,
   "id": "f851c1fa-56e0-49ed-92ea-3dba83b02cd8",
   "metadata": {},
   "outputs": [
    {
     "data": {
      "text/plain": [
       "(1000, 3)"
      ]
     },
     "execution_count": 19,
     "metadata": {},
     "output_type": "execute_result"
    }
   ],
   "source": [
    "X_train = sm.add_constant(fuzzyData_test)\n",
    "X_train.shape"
   ]
  },
  {
   "cell_type": "code",
   "execution_count": 20,
   "id": "214d66f6-2b43-45ba-800f-f539363c3846",
   "metadata": {},
   "outputs": [],
   "source": [
    "model0 = sm.WLS(dCPU[1:1001],X_train,weights=u[0])\n",
    "model1 = sm.WLS(dCPU[1:1001],X_train,weights=u[1])\n",
    "model2 = sm.WLS(dCPU[1:1001],X_train,weights=u[2])\n",
    "model3 = sm.WLS(dCPU[1:1001],X_train,weights=u[3])\n",
    "model4 = sm.WLS(dCPU[1:1001],X_train,weights=u[4])"
   ]
  },
  {
   "cell_type": "code",
   "execution_count": 21,
   "id": "809e7a96-d2ed-4020-9bf1-71f384dbeb42",
   "metadata": {},
   "outputs": [],
   "source": [
    "result0 = model0.fit()\n",
    "result1 = model1.fit()\n",
    "result2 = model2.fit()\n",
    "result3 = model3.fit()\n",
    "result4 = model4.fit()"
   ]
  },
  {
   "cell_type": "code",
   "execution_count": 22,
   "id": "9110daff-ba8a-4e1c-a735-b7408da7dc78",
   "metadata": {},
   "outputs": [
    {
     "data": {
      "text/plain": [
       "36"
      ]
     },
     "execution_count": 22,
     "metadata": {},
     "output_type": "execute_result"
    }
   ],
   "source": [
    "dCPU[1001]"
   ]
  },
  {
   "cell_type": "code",
   "execution_count": 23,
   "id": "b47bbcb5-345c-4443-ac15-29539a4d7cf3",
   "metadata": {},
   "outputs": [
    {
     "data": {
      "text/plain": [
       "array([ 9, 25])"
      ]
     },
     "execution_count": 23,
     "metadata": {},
     "output_type": "execute_result"
    }
   ],
   "source": [
    "fuzzyData[1000]"
   ]
  },
  {
   "cell_type": "code",
   "execution_count": 24,
   "id": "27d7962b-b510-45ea-90b3-c5887028e884",
   "metadata": {},
   "outputs": [],
   "source": [
    "val = [0,0,0,0,0]"
   ]
  },
  {
   "cell_type": "code",
   "execution_count": 25,
   "id": "2370d3b9-f7f9-4472-aae8-3784f6804238",
   "metadata": {},
   "outputs": [],
   "source": [
    "val[0]=result0.get_prediction([1,9,25]).predicted_mean"
   ]
  },
  {
   "cell_type": "code",
   "execution_count": 26,
   "id": "0cf106b9-6301-4c92-b750-6e03aa41577a",
   "metadata": {},
   "outputs": [],
   "source": [
    "val[1] = result1.get_prediction([1,9,25]).predicted_mean"
   ]
  },
  {
   "cell_type": "code",
   "execution_count": 27,
   "id": "1143546f-0050-40c7-818a-fea2a02817cb",
   "metadata": {},
   "outputs": [],
   "source": [
    "val[2] = result2.get_prediction([1,9,25]).predicted_mean"
   ]
  },
  {
   "cell_type": "code",
   "execution_count": 28,
   "id": "9e8ad7aa-2df6-4dab-9c3c-df68c6fd0aea",
   "metadata": {},
   "outputs": [],
   "source": [
    "val[3] = result3.get_prediction([1,9,25]).predicted_mean"
   ]
  },
  {
   "cell_type": "code",
   "execution_count": 29,
   "id": "0de9b38a-8273-4584-ad0f-d2502e4be9a4",
   "metadata": {},
   "outputs": [],
   "source": [
    "val[4]= result4.get_prediction([1,9,25]).predicted_mean"
   ]
  },
  {
   "cell_type": "code",
   "execution_count": 30,
   "id": "ef85243a-cdba-45ca-a654-13d728807b9d",
   "metadata": {},
   "outputs": [],
   "source": [
    "Out = [val[i]*ut[i] for i in range(5)]"
   ]
  },
  {
   "cell_type": "code",
   "execution_count": 31,
   "id": "6f2b5516-dac2-449c-94e6-2871d2f62cfa",
   "metadata": {},
   "outputs": [
    {
     "data": {
      "text/plain": [
       "array([43.22349459])"
      ]
     },
     "execution_count": 31,
     "metadata": {},
     "output_type": "execute_result"
    }
   ],
   "source": [
    "sum(Out)"
   ]
  },
  {
   "cell_type": "markdown",
   "id": "bc855d5e-271e-4846-8528-42b68005b94f",
   "metadata": {},
   "source": [
    "## Get started with the coding part of fuzzy logic"
   ]
  },
  {
   "cell_type": "code",
   "execution_count": 160,
   "id": "120eab09-0b13-49d4-b1b1-5cae3206d88e",
   "metadata": {},
   "outputs": [],
   "source": [
    "# Get the training of the clusters and the model values\n",
    "import skfuzzy as fuzz\n",
    "import statsmodels.api as sm\n",
    "import numpy as np\n",
    "import pandas as pd\n",
    "#------ Cluster related code -------\n",
    "\n",
    "def train_Cluster(data, n_cluster = 5):\n",
    "    print(\"The stats of the training data: features {} and size {}\".format(len(data[0]), len(data)))\n",
    "    cntr, u, u0, d, jm, p, fpc = fuzz.cluster.cmeans(data.T, n_cluster, 2, error=0.005, maxiter=1000, init=None, seed = 0)\n",
    "    print(\"The centroid values are \\n {}\".format(cntr))\n",
    "    return cntr,u\n",
    "\n",
    "def getCluster(data, cntr):\n",
    "    print(\"The stats of the training data: shape\".format(data.shape))\n",
    "    ut,u0t,dt,jmt,pt,fpct = fuzz.cluster.cmeans_predict(data.T,cntr,2,error=0.005,maxiter=1000,init=None,seed=0)\n",
    "    return ut\n",
    "\n",
    "#------- Estimation related code ---------------\n",
    "def get_shiftedData(data,shiftP=1):\n",
    "    if shiftP < 1:\n",
    "        print('Error!! The shift should be atleast one')\n",
    "        return None\n",
    "    df_temp = pd.DataFrame()\n",
    "    df_temp['endog'] = data\n",
    "    \n",
    "    for i in range(1,shiftP+1):\n",
    "        df_temp['endog_%d'% i] = df_temp['endog'].shift(i)\n",
    "\n",
    "    df_out = df_temp.dropna()\n",
    "    shiftedData = df_out.iloc[:,1:shiftP+1].values.reshape(-1,shiftP)\n",
    "    return shiftedData\n",
    "    \n",
    "    \n",
    "def train_AR(yData, xData, shiftP=3, weight=None):\n",
    "    if len(yData) < 2*shiftP :\n",
    "        print(\"Cannot train on small corupus\")\n",
    "        return None\n",
    "    elif len(yData) != len(xData):\n",
    "        print(\"Incorrect format of x and y values\")\n",
    "        return None\n",
    "    #Now we train\n",
    "    yShift = get_shiftedData(yData,shiftP)\n",
    "    xShift = np.array(xData[shiftP-1:-1]) # We need to ensure that we are using the historical value while predicting the yVal\n",
    "    newX = np.hstack((yShift,xShift))\n",
    "    if weight is None:\n",
    "        weight = np.ones(len(yData))\n",
    "    weightShift = weight[shiftP:]\n",
    "    #----- curate the data -----\n",
    "    new_x = sm.add_constant(newX)\n",
    "    ytrain = yData[shiftP:]\n",
    "    model = sm.WLS(ytrain,new_x,weights=weightShift)\n",
    "    result = model.fit()\n",
    "    return result\n",
    "\n",
    "\n",
    "\n",
    "\n",
    "def test_AR(model, yData, xData):\n",
    "    xRun  = sm.add_constant(xData) # Adding the constant\n",
    "    y_pred = model.get_prediction(xRun).predicted_mean\n",
    "    y_act =  yData\n",
    "    df_plot = pd.DataFrame()\n",
    "    df_plot['Actual'] = yData\n",
    "    df_plot['Predicted'] = y_pred\n",
    "    df_plot[['Actual','Predicted']].plot()\n",
    "    return\n",
    "\n",
    "    "
   ]
  },
  {
   "cell_type": "markdown",
   "id": "aa96ddc9-34d3-49ce-a593-c31d65bb352e",
   "metadata": {},
   "source": [
    "# Running the code using data modifications --not functional "
   ]
  },
  {
   "cell_type": "code",
   "execution_count": 304,
   "id": "62dd755e-7bc2-4b8b-85d3-4a83ba0f0a1d",
   "metadata": {},
   "outputs": [],
   "source": [
    "# Get the training of the clusters and the model values\n",
    "import skfuzzy as fuzz\n",
    "import statsmodels.api as sm\n",
    "import numpy as np\n",
    "import pandas as pd\n",
    "#------ Cluster related code -------\n",
    "\n",
    "def train_Cluster(data, n_cluster = 5):\n",
    "    # print(\"The stats of the training data: features {} and size {}\".format(len(data[0]), len(data)))\n",
    "    cntr, u, u0, d, jm, p, fpc = fuzz.cluster.cmeans(data.T, n_cluster, 2, error=0.005, maxiter=1000, init=None, seed = 0)\n",
    "    # print(\"The centroid values are \\n {}\".format(cntr))\n",
    "    return cntr,u\n",
    "\n",
    "def getCluster(data, cntr):\n",
    "    # print(\"The stats of the training data: shape\".format(data.shape))\n",
    "    ut,u0t,dt,jmt,pt,fpct = fuzz.cluster.cmeans_predict(data.T,cntr,2,error=0.005,maxiter=1000,init=None,seed=0)\n",
    "    return ut\n",
    "\n",
    "\n",
    "def simple_train(yData, xData, weight=None):\n",
    "    if weight is None:\n",
    "        weight = np.ones(len(yData))\n",
    "\n",
    "    new_x = sm.add_constant(xData)\n",
    "    model = sm.WLS(yData,new_x,weights=weight)\n",
    "    result = model.fit()\n",
    "    return result\n",
    "\n",
    "def simple_test(model , xData, yActual):\n",
    "    newX = sm.add_constant(xData)\n",
    "    y_pred = model.get_prediction(newX).predicted_mean\n",
    "    # df_plot = pd.DataFrame()\n",
    "    # df_plot['Actual'] = yActual\n",
    "    # df_plot['Predicted'] = y_pred\n",
    "    # df_plot[['Actual','Predicted']].plot()\n",
    "    return y_pred\n",
    "\n",
    "\n",
    "from sklearn.metrics import mean_squared_error\n",
    "\n",
    "# rms = mean_squared_error(y_actual, y_predicted, squared=False)\n",
    "def rmse(predictions, targets):\n",
    "    return mean_squared_error(targets, predictions, squared=False)"
   ]
  },
  {
   "cell_type": "code",
   "execution_count": 305,
   "id": "d541d920-f5ee-4444-a660-ce590bd5e809",
   "metadata": {},
   "outputs": [],
   "source": [
    "## Some global variable setting\n",
    "shiftAR = 8\n",
    "shiftARX = 3\n",
    "trainIDX = 200\n",
    "testIDX = 200\n",
    "N_CLUST = 5\n",
    "cFreq = 'sFreq'\n",
    "mFreq = 'mFreq'\n",
    "gFreq = 'gFreq'\n",
    "\n",
    "endog = 'gCost'\n",
    "exog = 'cCost'\n",
    "exog1 = 'mCost'\n",
    "rFreq = gFreq\n",
    "\n",
    "### Test values IDX\n",
    "TestIDX = 100 # How many steps to run\n",
    "## Is there any other things.... to do\n",
    "freq_dict = {}\n",
    "freq_dict['gFreq'] = [177000000,266000000,350000000,420000000,480000000,600000000]\n",
    "freq_dict['mFreq'] = [165000000,206000000,275000000,413000000,543000000,633000000,728000000,825000000]#,933000000]\n",
    "freq_dict['sFreq'] = [200000,300000,400000,500000,600000,700000,800000,900000,1000000,1100000,1200000,1300000,1400000]\n"
   ]
  },
  {
   "cell_type": "code",
   "execution_count": 306,
   "id": "26a10bf2-4538-41ce-8cd1-d4a939e363a9",
   "metadata": {},
   "outputs": [
    {
     "name": "stdout",
     "output_type": "stream",
     "text": [
      "(331, 13)\n"
     ]
    },
    {
     "data": {
      "text/html": [
       "<div>\n",
       "<style scoped>\n",
       "    .dataframe tbody tr th:only-of-type {\n",
       "        vertical-align: middle;\n",
       "    }\n",
       "\n",
       "    .dataframe tbody tr th {\n",
       "        vertical-align: top;\n",
       "    }\n",
       "\n",
       "    .dataframe thead th {\n",
       "        text-align: right;\n",
       "    }\n",
       "</style>\n",
       "<table border=\"1\" class=\"dataframe\">\n",
       "  <thead>\n",
       "    <tr style=\"text-align: right;\">\n",
       "      <th></th>\n",
       "      <th>Time</th>\n",
       "      <th>sCPU</th>\n",
       "      <th>cCost</th>\n",
       "      <th>sFreq</th>\n",
       "      <th>bCPU</th>\n",
       "      <th>bUtil</th>\n",
       "      <th>bFreq</th>\n",
       "      <th>Mem</th>\n",
       "      <th>mCost</th>\n",
       "      <th>mFreq</th>\n",
       "      <th>GPU</th>\n",
       "      <th>gCost</th>\n",
       "      <th>gFreq</th>\n",
       "    </tr>\n",
       "  </thead>\n",
       "  <tbody>\n",
       "    <tr>\n",
       "      <th>0</th>\n",
       "      <td>1.700326e+09</td>\n",
       "      <td>sCPU</td>\n",
       "      <td>14</td>\n",
       "      <td>1400000</td>\n",
       "      <td>bCPU</td>\n",
       "      <td>0</td>\n",
       "      <td>2000000</td>\n",
       "      <td>Mem</td>\n",
       "      <td>15</td>\n",
       "      <td>825000000</td>\n",
       "      <td>GPU</td>\n",
       "      <td>0</td>\n",
       "      <td>600000000</td>\n",
       "    </tr>\n",
       "    <tr>\n",
       "      <th>1</th>\n",
       "      <td>1.700326e+09</td>\n",
       "      <td>sCPU</td>\n",
       "      <td>5</td>\n",
       "      <td>1400000</td>\n",
       "      <td>bCPU</td>\n",
       "      <td>0</td>\n",
       "      <td>2000000</td>\n",
       "      <td>Mem</td>\n",
       "      <td>15</td>\n",
       "      <td>825000000</td>\n",
       "      <td>GPU</td>\n",
       "      <td>0</td>\n",
       "      <td>600000000</td>\n",
       "    </tr>\n",
       "    <tr>\n",
       "      <th>2</th>\n",
       "      <td>1.700326e+09</td>\n",
       "      <td>sCPU</td>\n",
       "      <td>15</td>\n",
       "      <td>1400000</td>\n",
       "      <td>bCPU</td>\n",
       "      <td>0</td>\n",
       "      <td>2000000</td>\n",
       "      <td>Mem</td>\n",
       "      <td>16</td>\n",
       "      <td>825000000</td>\n",
       "      <td>GPU</td>\n",
       "      <td>0</td>\n",
       "      <td>600000000</td>\n",
       "    </tr>\n",
       "    <tr>\n",
       "      <th>3</th>\n",
       "      <td>1.700326e+09</td>\n",
       "      <td>sCPU</td>\n",
       "      <td>3</td>\n",
       "      <td>1400000</td>\n",
       "      <td>bCPU</td>\n",
       "      <td>0</td>\n",
       "      <td>2000000</td>\n",
       "      <td>Mem</td>\n",
       "      <td>15</td>\n",
       "      <td>825000000</td>\n",
       "      <td>GPU</td>\n",
       "      <td>0</td>\n",
       "      <td>600000000</td>\n",
       "    </tr>\n",
       "    <tr>\n",
       "      <th>4</th>\n",
       "      <td>1.700326e+09</td>\n",
       "      <td>sCPU</td>\n",
       "      <td>9</td>\n",
       "      <td>1400000</td>\n",
       "      <td>bCPU</td>\n",
       "      <td>0</td>\n",
       "      <td>2000000</td>\n",
       "      <td>Mem</td>\n",
       "      <td>16</td>\n",
       "      <td>825000000</td>\n",
       "      <td>GPU</td>\n",
       "      <td>0</td>\n",
       "      <td>600000000</td>\n",
       "    </tr>\n",
       "  </tbody>\n",
       "</table>\n",
       "</div>"
      ],
      "text/plain": [
       "           Time  sCPU  cCost    sFreq  bCPU  bUtil    bFreq  Mem  mCost  \\\n",
       "0  1.700326e+09  sCPU     14  1400000  bCPU      0  2000000  Mem     15   \n",
       "1  1.700326e+09  sCPU      5  1400000  bCPU      0  2000000  Mem     15   \n",
       "2  1.700326e+09  sCPU     15  1400000  bCPU      0  2000000  Mem     16   \n",
       "3  1.700326e+09  sCPU      3  1400000  bCPU      0  2000000  Mem     15   \n",
       "4  1.700326e+09  sCPU      9  1400000  bCPU      0  2000000  Mem     16   \n",
       "\n",
       "       mFreq  GPU  gCost      gFreq  \n",
       "0  825000000  GPU      0  600000000  \n",
       "1  825000000  GPU      0  600000000  \n",
       "2  825000000  GPU      0  600000000  \n",
       "3  825000000  GPU      0  600000000  \n",
       "4  825000000  GPU      0  600000000  "
      ]
     },
     "execution_count": 306,
     "metadata": {},
     "output_type": "execute_result"
    }
   ],
   "source": [
    "## Getting the data ready for test train split and bucnch of experiments\n",
    "# complete_data = pd.read_csv('UtilTRNS.csv')\n",
    "complete_data = pd.read_csv('UtilCopy.csv')\n",
    "# complete_data = pd.read_csv('./UtilTestFinal')\n",
    "print(complete_data.shape)\n",
    "complete_data.head()\n"
   ]
  },
  {
   "cell_type": "code",
   "execution_count": 307,
   "id": "701efcbc-4339-4c8b-9dbc-d120c5063542",
   "metadata": {},
   "outputs": [],
   "source": [
    "# # For utilTestFinal\n",
    "# complete_data['cCost'] =  complete_data['bUtil']*complete_data['bFreq']/1400000\n",
    "# complete_data['mCost'] = complete_data['mUtil']*complete_data['mFreq']/825000000\n",
    "# print(max(complete_data['mCost']))\n",
    "# complete_data['gCost'] = 0\n",
    "# complete_data['gFreq'] = 600000000"
   ]
  },
  {
   "cell_type": "code",
   "execution_count": 308,
   "id": "223d8d4b-9dbd-4d93-a047-fb5a6353d293",
   "metadata": {},
   "outputs": [
    {
     "name": "stdout",
     "output_type": "stream",
     "text": [
      "Testing the cost of:  gCost -- RMSE 3.8929296630448653\n"
     ]
    },
    {
     "data": {
      "text/plain": [
       "<Axes: >"
      ]
     },
     "execution_count": 308,
     "metadata": {},
     "output_type": "execute_result"
    },
    {
     "data": {
      "image/png": "[encoded data removed]",
      "text/plain": [
       "<Figure size 640x480 with 1 Axes>"
      ]
     },
     "metadata": {},
     "output_type": "display_data"
    }
   ],
   "source": [
    "## Getting only the relevant columns\n",
    "data_df = pd.DataFrame()\n",
    "data_df = complete_data[[endog,exog,exog1]]\n",
    "freq_df = pd.DataFrame()\n",
    "freq_df = complete_data[[endog,exog,exog1,cFreq,mFreq,gFreq]]\n",
    "\n",
    "# data_df.head()\n",
    "# Creating Data for AR\n",
    "for i in range(1,shiftAR+1):\n",
    "    data_df['%s_%d'%(endog,i)] = data_df[endog].shift(i)\n",
    "    freq_df['%s_%d'%(endog,i)] = freq_df[endog].shift(i)\n",
    "data_df[exog] = data_df[exog].shift(1)\n",
    "freq_df[exog] = freq_df[exog].shift(1)\n",
    "for i in range(1,shiftARX+1):\n",
    "    data_df['%s_%d'%(exog,i)] = data_df[exog].shift(i+1)   \n",
    "    freq_df['%s_%d'%(exog,i)] = freq_df[exog].shift(i+1)   \n",
    "data_df[exog1] = data_df[exog1].shift(1)\n",
    "freq_df[exog1] = freq_df[exog1].shift(1)\n",
    "for i in range(1,shiftARX+1):\n",
    "    data_df['%s_%d'%(exog1,i)] = data_df[exog1].shift(i+1) \n",
    "    freq_df['%s_%d'%(exog1,i)] = freq_df[exog1].shift(i+1) \n",
    "data_df = data_df.dropna() # Dropping NA\n",
    "freq_df = freq_df.dropna() # Getting the Freq values without the NA\n",
    "# Train Test Divide\n",
    "train_df = data_df.iloc[:trainIDX,:]\n",
    "test_df = data_df.iloc[testIDX:,:]\n",
    "\n",
    "test_freq_df = freq_df.iloc[testIDX:,:]\n",
    "\n",
    "y_train = train_df.iloc[:,0].to_numpy()\n",
    "x_train = train_df.iloc[:,1:].to_numpy()\n",
    "y_test = test_df.iloc[:,0].to_numpy()\n",
    "x_test = test_df.iloc[:,1:].to_numpy()\n",
    "####### Trainign the data\n",
    "cluster_center,prob = train_Cluster(x_train[:,:],n_cluster = N_CLUST)  #Cluster Indices\n",
    "\n",
    "## Train the model\n",
    "model = []\n",
    "for i in range(N_CLUST):\n",
    "    out_model = simple_train(y_train,x_train,weight = prob[i,:])\n",
    "    model.append(out_model)\n",
    "\n",
    "######## Testing the results\n",
    "\n",
    "yPred = [ 0 for i in range(N_CLUST)]\n",
    "probPred = getCluster(x_test[:TestIDX], cluster_center)\n",
    "\n",
    "## Test the values\n",
    "for i in range(N_CLUST):\n",
    "    y_t = simple_test(model[i],x_test[:TestIDX], y_test[:TestIDX])\n",
    "    yPred[i] = np.array(probPred[i,:])*np.array(y_t)\n",
    "\n",
    "y_target = sum(yPred)\n",
    "y_out = y_test[:TestIDX]\n",
    "print(\"Testing the cost of: \", endog, \"-- RMSE\", rmse(y_out,y_target))\n",
    "# Plot the results\n",
    "df_plot = pd.DataFrame()\n",
    "df_plot['Actual'] = y_out\n",
    "df_plot['Predicted'] = y_target\n",
    "df_plot[['Actual','Predicted']].plot()\n",
    "\n",
    "#### Done"
   ]
  },
  {
   "cell_type": "code",
   "execution_count": 309,
   "id": "b3874974-f89d-42d4-bb0f-ab9b3f3fbf70",
   "metadata": {},
   "outputs": [
    {
     "data": {
      "text/html": [
       "<div>\n",
       "<style scoped>\n",
       "    .dataframe tbody tr th:only-of-type {\n",
       "        vertical-align: middle;\n",
       "    }\n",
       "\n",
       "    .dataframe tbody tr th {\n",
       "        vertical-align: top;\n",
       "    }\n",
       "\n",
       "    .dataframe thead th {\n",
       "        text-align: right;\n",
       "    }\n",
       "</style>\n",
       "<table border=\"1\" class=\"dataframe\">\n",
       "  <thead>\n",
       "    <tr style=\"text-align: right;\">\n",
       "      <th></th>\n",
       "      <th>sFreq</th>\n",
       "      <th>mFreq</th>\n",
       "      <th>gFreq</th>\n",
       "    </tr>\n",
       "  </thead>\n",
       "  <tbody>\n",
       "    <tr>\n",
       "      <th>208</th>\n",
       "      <td>1400000</td>\n",
       "      <td>825000000</td>\n",
       "      <td>600000000</td>\n",
       "    </tr>\n",
       "    <tr>\n",
       "      <th>209</th>\n",
       "      <td>1400000</td>\n",
       "      <td>825000000</td>\n",
       "      <td>600000000</td>\n",
       "    </tr>\n",
       "    <tr>\n",
       "      <th>210</th>\n",
       "      <td>1400000</td>\n",
       "      <td>825000000</td>\n",
       "      <td>600000000</td>\n",
       "    </tr>\n",
       "    <tr>\n",
       "      <th>211</th>\n",
       "      <td>1400000</td>\n",
       "      <td>825000000</td>\n",
       "      <td>600000000</td>\n",
       "    </tr>\n",
       "    <tr>\n",
       "      <th>212</th>\n",
       "      <td>1400000</td>\n",
       "      <td>825000000</td>\n",
       "      <td>600000000</td>\n",
       "    </tr>\n",
       "    <tr>\n",
       "      <th>...</th>\n",
       "      <td>...</td>\n",
       "      <td>...</td>\n",
       "      <td>...</td>\n",
       "    </tr>\n",
       "    <tr>\n",
       "      <th>326</th>\n",
       "      <td>1400000</td>\n",
       "      <td>825000000</td>\n",
       "      <td>600000000</td>\n",
       "    </tr>\n",
       "    <tr>\n",
       "      <th>327</th>\n",
       "      <td>1400000</td>\n",
       "      <td>825000000</td>\n",
       "      <td>600000000</td>\n",
       "    </tr>\n",
       "    <tr>\n",
       "      <th>328</th>\n",
       "      <td>1400000</td>\n",
       "      <td>825000000</td>\n",
       "      <td>600000000</td>\n",
       "    </tr>\n",
       "    <tr>\n",
       "      <th>329</th>\n",
       "      <td>1400000</td>\n",
       "      <td>825000000</td>\n",
       "      <td>600000000</td>\n",
       "    </tr>\n",
       "    <tr>\n",
       "      <th>330</th>\n",
       "      <td>1400000</td>\n",
       "      <td>825000000</td>\n",
       "      <td>600000000</td>\n",
       "    </tr>\n",
       "  </tbody>\n",
       "</table>\n",
       "<p>123 rows × 3 columns</p>\n",
       "</div>"
      ],
      "text/plain": [
       "       sFreq      mFreq      gFreq\n",
       "208  1400000  825000000  600000000\n",
       "209  1400000  825000000  600000000\n",
       "210  1400000  825000000  600000000\n",
       "211  1400000  825000000  600000000\n",
       "212  1400000  825000000  600000000\n",
       "..       ...        ...        ...\n",
       "326  1400000  825000000  600000000\n",
       "327  1400000  825000000  600000000\n",
       "328  1400000  825000000  600000000\n",
       "329  1400000  825000000  600000000\n",
       "330  1400000  825000000  600000000\n",
       "\n",
       "[123 rows x 3 columns]"
      ]
     },
     "execution_count": 309,
     "metadata": {},
     "output_type": "execute_result"
    }
   ],
   "source": [
    "test_freq_df[[cFreq,mFreq,gFreq]] # This is how you get the frequency of the expected value of the test data"
   ]
  },
  {
   "cell_type": "code",
   "execution_count": 310,
   "id": "6b7a3cf7-93dc-4edc-80a7-90424e4aba13",
   "metadata": {},
   "outputs": [],
   "source": [
    "Y_pred = y_target\n",
    "Y_act = y_out\n",
    "FreqOut = test_freq_df[rFreq].iloc[:TestIDX].to_numpy()\n"
   ]
  },
  {
   "cell_type": "markdown",
   "id": "a761970c-bf6e-4e83-9be7-645f503a65f1",
   "metadata": {},
   "source": [
    "## Get the appropriate frequency of the resources -- and fractional energy savings."
   ]
  },
  {
   "cell_type": "code",
   "execution_count": 311,
   "id": "8fce0314-f0e7-493f-a503-8b92a3097cd1",
   "metadata": {},
   "outputs": [
    {
     "name": "stdout",
     "output_type": "stream",
     "text": [
      "Number of prediction that will cause stalling in performance of  gCost  due to > 100 Util demand:  6\n"
     ]
    }
   ],
   "source": [
    "\n",
    "pred_freq = []\n",
    "act_freq = []\n",
    "effective_y = []\n",
    "for idx in range(len(Y_pred)):\n",
    "    act_freq.append(FreqOut[idx])\n",
    "    for v in freq_dict[rFreq]:\n",
    "        val = Y_pred[idx]*max(freq_dict[rFreq])/v\n",
    "        if val <= 100 or v == max(freq_dict[rFreq]):\n",
    "            if val > 100 and v == max(freq_dict[rFreq]):\n",
    "                pred_freq.append(v*val/100)\n",
    "                effective_y.append(Y_act[idx]*max(freq_dict[rFreq])/v)\n",
    "            else:\n",
    "                pred_freq.append(v)\n",
    "                effective_y.append(Y_act[idx]*max(freq_dict[rFreq])/v)\n",
    "\n",
    "            break\n",
    "\n",
    "            \n",
    "print(\"Number of prediction that will cause stalling in performance of \",endog,\" due to > 100 Util demand: \",sum( i > 100 for i in effective_y ))\n"
   ]
  },
  {
   "cell_type": "code",
   "execution_count": 312,
   "id": "3723396a-9974-49e9-8e53-c3deedaff121",
   "metadata": {},
   "outputs": [
    {
     "data": {
      "image/png": "[encoded data removed]",
      "text/plain": [
       "<Figure size 640x480 with 1 Axes>"
      ]
     },
     "metadata": {},
     "output_type": "display_data"
    }
   ],
   "source": [
    "df_freq = pd.DataFrame()\n",
    "\n",
    "df_freq['PredictedFreq'] = pred_freq\n",
    "df_freq['ActualFreq'] = act_freq\n",
    "# df_freq['MaxFreq'] = max(freq_dict[rFreq])\n",
    "df_freq['EffUtil'] = effective_y\n",
    "df_freq['ActUtil'] = Y_act\n",
    "# df_freq['MaxPoss'] = 100\n",
    "ax = df_freq[['PredictedFreq','ActualFreq']].plot()\n",
    "\n",
    "\n",
    "def highlight(indices,ax):\n",
    "    i=0\n",
    "    while i<len(indices):\n",
    "        ax.axvspan(indices[i]-0.5, indices[i]+0.5, facecolor='red', edgecolor='none', alpha=.2)\n",
    "        i+=1\n",
    "\n",
    "highlight(df_freq[df_freq['EffUtil'] > 100].index, ax)"
   ]
  },
  {
   "cell_type": "code",
   "execution_count": null,
   "id": "9b8b3908-2468-4f9b-9264-7cb9b5666deb",
   "metadata": {},
   "outputs": [],
   "source": []
  },
  {
   "cell_type": "code",
   "execution_count": null,
   "id": "aadc4282-6dda-4f7b-be0f-db7c22b9c554",
   "metadata": {},
   "outputs": [],
   "source": []
  }
 ],
 "metadata": {
  "kernelspec": {
   "display_name": "Python 3 (ipykernel)",
   "language": "python",
   "name": "python3"
  },
  "language_info": {
   "codemirror_mode": {
    "name": "ipython",
    "version": 3
   },
   "file_extension": ".py",
   "mimetype": "text/x-python",
   "name": "python",
   "nbconvert_exporter": "python",
   "pygments_lexer": "ipython3",
   "version": "3.10.12"
  }
 },
 "nbformat": 4,
 "nbformat_minor": 5
}
