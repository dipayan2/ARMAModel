{
 "cells": [
  {
   "cell_type": "code",
   "execution_count": 1,
   "metadata": {},
   "outputs": [],
   "source": [
    "import matplotlib.pyplot as plt\n",
    "import numpy as np\n",
    "import pandas as pd\n",
    "import statsmodels.api as sm\n",
    "from scipy import stats\n",
    "# from statsmodels.tsa.arima.model import ARIMA\n",
    "from statsmodels.tsa.arima.model import ARIMA\n",
    "from statsmodels.graphics.tsaplots import plot_predict"
   ]
  },
  {
   "cell_type": "code",
   "execution_count": 2,
   "metadata": {},
   "outputs": [],
   "source": [
    "from sklearn.model_selection import train_test_split"
   ]
  },
  {
   "cell_type": "code",
   "execution_count": 3,
   "metadata": {},
   "outputs": [],
   "source": [
    "plt.rcParams['figure.figsize'] = (10, 5)\n",
    "plt.style.use('fivethirtyeight')"
   ]
  },
  {
   "cell_type": "markdown",
   "metadata": {},
   "source": [
    "# Code for data extraction\n",
    "1. In this section we will load the raw data and extract utilization and frequency value"
   ]
  },
  {
   "cell_type": "code",
   "execution_count": 4,
   "metadata": {},
   "outputs": [
    {
     "data": {
      "text/plain": [
       "(2674, 6)"
      ]
     },
     "execution_count": 4,
     "metadata": {},
     "output_type": "execute_result"
    }
   ],
   "source": [
    "utilData = pd.read_csv('./Util_Run1.csv')\n",
    "utilData.shape"
   ]
  },
  {
   "cell_type": "code",
   "execution_count": 5,
   "metadata": {},
   "outputs": [
    {
     "data": {
      "text/html": [
       "<div>\n",
       "<style scoped>\n",
       "    .dataframe tbody tr th:only-of-type {\n",
       "        vertical-align: middle;\n",
       "    }\n",
       "\n",
       "    .dataframe tbody tr th {\n",
       "        vertical-align: top;\n",
       "    }\n",
       "\n",
       "    .dataframe thead th {\n",
       "        text-align: right;\n",
       "    }\n",
       "</style>\n",
       "<table border=\"1\" class=\"dataframe\">\n",
       "  <thead>\n",
       "    <tr style=\"text-align: right;\">\n",
       "      <th></th>\n",
       "      <th>memUse</th>\n",
       "      <th>memTot</th>\n",
       "      <th>memfreq</th>\n",
       "      <th>cpuid</th>\n",
       "      <th>cpuload</th>\n",
       "      <th>cpufreq</th>\n",
       "    </tr>\n",
       "  </thead>\n",
       "  <tbody>\n",
       "    <tr>\n",
       "      <th>0</th>\n",
       "      <td>604872</td>\n",
       "      <td>4612865</td>\n",
       "      <td>165000000</td>\n",
       "      <td>0</td>\n",
       "      <td>31</td>\n",
       "      <td>600000</td>\n",
       "    </tr>\n",
       "    <tr>\n",
       "      <th>1</th>\n",
       "      <td>675</td>\n",
       "      <td>28712</td>\n",
       "      <td>275000000</td>\n",
       "      <td>0</td>\n",
       "      <td>4</td>\n",
       "      <td>200000</td>\n",
       "    </tr>\n",
       "    <tr>\n",
       "      <th>2</th>\n",
       "      <td>1191888</td>\n",
       "      <td>12624777</td>\n",
       "      <td>413000000</td>\n",
       "      <td>0</td>\n",
       "      <td>8</td>\n",
       "      <td>200000</td>\n",
       "    </tr>\n",
       "    <tr>\n",
       "      <th>3</th>\n",
       "      <td>773492</td>\n",
       "      <td>8196989</td>\n",
       "      <td>275000000</td>\n",
       "      <td>0</td>\n",
       "      <td>9</td>\n",
       "      <td>300000</td>\n",
       "    </tr>\n",
       "    <tr>\n",
       "      <th>4</th>\n",
       "      <td>1144</td>\n",
       "      <td>57890</td>\n",
       "      <td>206000000</td>\n",
       "      <td>0</td>\n",
       "      <td>7</td>\n",
       "      <td>300000</td>\n",
       "    </tr>\n",
       "  </tbody>\n",
       "</table>\n",
       "</div>"
      ],
      "text/plain": [
       "    memUse    memTot    memfreq  cpuid  cpuload  cpufreq\n",
       "0   604872   4612865  165000000      0       31   600000\n",
       "1      675     28712  275000000      0        4   200000\n",
       "2  1191888  12624777  413000000      0        8   200000\n",
       "3   773492   8196989  275000000      0        9   300000\n",
       "4     1144     57890  206000000      0        7   300000"
      ]
     },
     "execution_count": 5,
     "metadata": {},
     "output_type": "execute_result"
    }
   ],
   "source": [
    "utilData.head()"
   ]
  },
  {
   "cell_type": "code",
   "execution_count": 94,
   "metadata": {},
   "outputs": [],
   "source": [
    "utilData['memLoad'] = utilData['memUse']*100/utilData['memTot']\n",
    "utilData['memScore'] = utilData['memLoad']*utilData['memfreq']/825000000\n",
    "utilData['memF'] = utilData['memfreq']*100/825000000"
   ]
  },
  {
   "cell_type": "code",
   "execution_count": 95,
   "metadata": {},
   "outputs": [],
   "source": [
    "utilData['cpuScore'] = utilData['cpuload']*utilData['cpufreq']/1400000\n",
    "utilData['cpuF'] = utilData['cpufreq']*100/1000000"
   ]
  },
  {
   "cell_type": "code",
   "execution_count": 96,
   "metadata": {},
   "outputs": [
    {
     "data": {
      "text/html": [
       "<div>\n",
       "<style scoped>\n",
       "    .dataframe tbody tr th:only-of-type {\n",
       "        vertical-align: middle;\n",
       "    }\n",
       "\n",
       "    .dataframe tbody tr th {\n",
       "        vertical-align: top;\n",
       "    }\n",
       "\n",
       "    .dataframe thead th {\n",
       "        text-align: right;\n",
       "    }\n",
       "</style>\n",
       "<table border=\"1\" class=\"dataframe\">\n",
       "  <thead>\n",
       "    <tr style=\"text-align: right;\">\n",
       "      <th></th>\n",
       "      <th>memUse</th>\n",
       "      <th>memTot</th>\n",
       "      <th>memfreq</th>\n",
       "      <th>cpuid</th>\n",
       "      <th>cpuload</th>\n",
       "      <th>cpufreq</th>\n",
       "      <th>memLoad</th>\n",
       "      <th>memScore</th>\n",
       "      <th>memF</th>\n",
       "      <th>cpuScore</th>\n",
       "      <th>cpuF</th>\n",
       "    </tr>\n",
       "  </thead>\n",
       "  <tbody>\n",
       "    <tr>\n",
       "      <th>0</th>\n",
       "      <td>604872</td>\n",
       "      <td>4612865</td>\n",
       "      <td>165000000</td>\n",
       "      <td>0</td>\n",
       "      <td>31</td>\n",
       "      <td>600000</td>\n",
       "      <td>13.112718</td>\n",
       "      <td>2.622544</td>\n",
       "      <td>20.000000</td>\n",
       "      <td>13.285714</td>\n",
       "      <td>60.0</td>\n",
       "    </tr>\n",
       "    <tr>\n",
       "      <th>1</th>\n",
       "      <td>675</td>\n",
       "      <td>28712</td>\n",
       "      <td>275000000</td>\n",
       "      <td>0</td>\n",
       "      <td>4</td>\n",
       "      <td>200000</td>\n",
       "      <td>2.350933</td>\n",
       "      <td>0.783644</td>\n",
       "      <td>33.333333</td>\n",
       "      <td>0.571429</td>\n",
       "      <td>20.0</td>\n",
       "    </tr>\n",
       "    <tr>\n",
       "      <th>2</th>\n",
       "      <td>1191888</td>\n",
       "      <td>12624777</td>\n",
       "      <td>413000000</td>\n",
       "      <td>0</td>\n",
       "      <td>8</td>\n",
       "      <td>200000</td>\n",
       "      <td>9.440864</td>\n",
       "      <td>4.726154</td>\n",
       "      <td>50.060606</td>\n",
       "      <td>1.142857</td>\n",
       "      <td>20.0</td>\n",
       "    </tr>\n",
       "    <tr>\n",
       "      <th>3</th>\n",
       "      <td>773492</td>\n",
       "      <td>8196989</td>\n",
       "      <td>275000000</td>\n",
       "      <td>0</td>\n",
       "      <td>9</td>\n",
       "      <td>300000</td>\n",
       "      <td>9.436294</td>\n",
       "      <td>3.145431</td>\n",
       "      <td>33.333333</td>\n",
       "      <td>1.928571</td>\n",
       "      <td>30.0</td>\n",
       "    </tr>\n",
       "    <tr>\n",
       "      <th>4</th>\n",
       "      <td>1144</td>\n",
       "      <td>57890</td>\n",
       "      <td>206000000</td>\n",
       "      <td>0</td>\n",
       "      <td>7</td>\n",
       "      <td>300000</td>\n",
       "      <td>1.976162</td>\n",
       "      <td>0.493442</td>\n",
       "      <td>24.969697</td>\n",
       "      <td>1.500000</td>\n",
       "      <td>30.0</td>\n",
       "    </tr>\n",
       "  </tbody>\n",
       "</table>\n",
       "</div>"
      ],
      "text/plain": [
       "    memUse    memTot    memfreq  cpuid  cpuload  cpufreq    memLoad  memScore  \\\n",
       "0   604872   4612865  165000000      0       31   600000  13.112718  2.622544   \n",
       "1      675     28712  275000000      0        4   200000   2.350933  0.783644   \n",
       "2  1191888  12624777  413000000      0        8   200000   9.440864  4.726154   \n",
       "3   773492   8196989  275000000      0        9   300000   9.436294  3.145431   \n",
       "4     1144     57890  206000000      0        7   300000   1.976162  0.493442   \n",
       "\n",
       "        memF   cpuScore  cpuF  \n",
       "0  20.000000  13.285714  60.0  \n",
       "1  33.333333   0.571429  20.0  \n",
       "2  50.060606   1.142857  20.0  \n",
       "3  33.333333   1.928571  30.0  \n",
       "4  24.969697   1.500000  30.0  "
      ]
     },
     "execution_count": 96,
     "metadata": {},
     "output_type": "execute_result"
    }
   ],
   "source": [
    "utilData.head()"
   ]
  },
  {
   "cell_type": "code",
   "execution_count": 97,
   "metadata": {},
   "outputs": [],
   "source": [
    "tot_train = utilData.iloc[0:2136]\n"
   ]
  },
  {
   "cell_type": "code",
   "execution_count": 98,
   "metadata": {},
   "outputs": [
    {
     "name": "stdout",
     "output_type": "stream",
     "text": [
      "      memUse   memTot    memfreq  cpuid  cpuload  cpufreq    memLoad  \\\n",
      "529    41341   464426  825000000      0       50   800000   8.901526   \n",
      "530    41341   464426  825000000      0       33   600000   8.901526   \n",
      "531    41341   464426  825000000      0       30   600000   8.901526   \n",
      "532    41341   464426  825000000      0       29   500000   8.901526   \n",
      "533  2457799  3939455  825000000      0       40   700000  62.389315   \n",
      "\n",
      "      memScore   memF   cpuScore  cpuF  \n",
      "529   8.901526  100.0  28.571429  80.0  \n",
      "530   8.901526  100.0  14.142857  60.0  \n",
      "531   8.901526  100.0  12.857143  60.0  \n",
      "532   8.901526  100.0  10.357143  50.0  \n",
      "533  62.389315  100.0  20.000000  70.0  \n"
     ]
    },
    {
     "data": {
      "text/plain": [
       "(538, 11)"
      ]
     },
     "execution_count": 98,
     "metadata": {},
     "output_type": "execute_result"
    }
   ],
   "source": [
    "train_1 = utilData.iloc[0:534]\n",
    "train_2 = utilData.iloc[534:1068]\n",
    "train_3 = utilData.iloc[1068:1602]\n",
    "train_4 = utilData.iloc[1602:2136]\n",
    "test_data = utilData.iloc[2136:]\n",
    "print(train_1.tail())\n",
    "test_data.shape"
   ]
  },
  {
   "cell_type": "markdown",
   "metadata": {},
   "source": [
    "# Modeling \n",
    "In this section we will model the data and test its accuracy"
   ]
  },
  {
   "cell_type": "code",
   "execution_count": 104,
   "metadata": {},
   "outputs": [
    {
     "name": "stdout",
     "output_type": "stream",
     "text": [
      "                               SARIMAX Results                                \n",
      "==============================================================================\n",
      "Dep. Variable:               cpuScore   No. Observations:                 2136\n",
      "Model:                 ARIMA(4, 0, 0)   Log Likelihood               -6618.186\n",
      "Date:                Mon, 05 Jun 2023   AIC                          13250.372\n",
      "Time:                        19:25:13   BIC                          13290.039\n",
      "Sample:                             0   HQIC                         13264.889\n",
      "                               - 2136                                         \n",
      "Covariance Type:                  opg                                         \n",
      "==============================================================================\n",
      "                 coef    std err          z      P>|z|      [0.025      0.975]\n",
      "------------------------------------------------------------------------------\n",
      "const        -19.5132      0.973    -20.046      0.000     -21.421     -17.605\n",
      "cpuF           0.7107      0.003    216.962      0.000       0.704       0.717\n",
      "ar.L1          0.5521      0.013     43.250      0.000       0.527       0.577\n",
      "ar.L2          0.2384      0.018     12.886      0.000       0.202       0.275\n",
      "ar.L3          0.0370      0.025      1.503      0.133      -0.011       0.085\n",
      "ar.L4          0.0324      0.021      1.577      0.115      -0.008       0.073\n",
      "sigma2        28.7428      0.452     63.559      0.000      27.856      29.629\n",
      "===================================================================================\n",
      "Ljung-Box (L1) (Q):                   0.00   Jarque-Bera (JB):              5774.97\n",
      "Prob(Q):                              0.98   Prob(JB):                         0.00\n",
      "Heteroskedasticity (H):               1.41   Skew:                            -0.89\n",
      "Prob(H) (two-sided):                  0.00   Kurtosis:                        10.86\n",
      "===================================================================================\n",
      "\n",
      "Warnings:\n",
      "[1] Covariance matrix calculated using the outer product of gradients (complex-step).\n"
     ]
    }
   ],
   "source": [
    "model = ARIMA(tot_train['cpuScore'], order=(4,0,0), exog=tot_train[['cpuF']])\n",
    "result = model.fit()\n",
    "print(result.summary())"
   ]
  },
  {
   "cell_type": "code",
   "execution_count": 12,
   "metadata": {},
   "outputs": [
    {
     "name": "stderr",
     "output_type": "stream",
     "text": [
      "/Users/dmukherjee/anaconda3/lib/python3.8/site-packages/statsmodels/base/model.py:604: ConvergenceWarning: Maximum Likelihood optimization failed to converge. Check mle_retvals\n",
      "  warnings.warn(\"Maximum Likelihood optimization failed to \"\n"
     ]
    },
    {
     "name": "stdout",
     "output_type": "stream",
     "text": [
      "                               SARIMAX Results                                \n",
      "==============================================================================\n",
      "Dep. Variable:                   cpuF   No. Observations:                  534\n",
      "Model:                ARIMA(2, 0, 20)   Log Likelihood                 785.665\n",
      "Date:                Mon, 05 Jun 2023   AIC                          -1521.329\n",
      "Time:                        19:16:29   BIC                          -1414.319\n",
      "Sample:                             0   HQIC                         -1479.457\n",
      "                                - 534                                         \n",
      "Covariance Type:                  opg                                         \n",
      "==============================================================================\n",
      "                 coef    std err          z      P>|z|      [0.025      0.975]\n",
      "------------------------------------------------------------------------------\n",
      "const          0.2972      0.010     29.950      0.000       0.278       0.317\n",
      "cpuScore       0.0127      0.000     58.375      0.000       0.012       0.013\n",
      "ar.L1          0.1603      2.296      0.070      0.944      -4.340       4.661\n",
      "ar.L2          0.5361      1.805      0.297      0.766      -3.002       4.074\n",
      "ma.L1          0.1714      2.298      0.075      0.941      -4.332       4.675\n",
      "ma.L2         -0.3088      1.587     -0.195      0.846      -3.419       2.801\n",
      "ma.L3         -0.0211      0.633     -0.033      0.973      -1.262       1.220\n",
      "ma.L4          0.0280      0.493      0.057      0.955      -0.938       0.994\n",
      "ma.L5         -0.0187      0.445     -0.042      0.966      -0.891       0.854\n",
      "ma.L6         -0.0078      0.347     -0.022      0.982      -0.687       0.672\n",
      "ma.L7          0.0349      0.269      0.129      0.897      -0.493       0.563\n",
      "ma.L8         -0.0090      0.265     -0.034      0.973      -0.528       0.510\n",
      "ma.L9          0.0177      0.207      0.085      0.932      -0.388       0.424\n",
      "ma.L10         0.0379      0.202      0.187      0.851      -0.359       0.435\n",
      "ma.L11        -0.0054      0.213     -0.026      0.980      -0.422       0.411\n",
      "ma.L12         0.0288      0.169      0.171      0.864      -0.302       0.360\n",
      "ma.L13        -0.0070      0.191     -0.036      0.971      -0.381       0.367\n",
      "ma.L14        -0.0780      0.155     -0.503      0.615      -0.382       0.226\n",
      "ma.L15        -0.0587      0.116     -0.507      0.612      -0.286       0.168\n",
      "ma.L16         0.0351      0.096      0.367      0.714      -0.152       0.223\n",
      "ma.L17         0.0261      0.106      0.247      0.805      -0.181       0.233\n",
      "ma.L18         0.0639      0.055      1.157      0.247      -0.044       0.172\n",
      "ma.L19        -0.0112      0.188     -0.059      0.953      -0.380       0.358\n",
      "ma.L20        -0.0209      0.151     -0.139      0.890      -0.316       0.274\n",
      "sigma2         0.0031      0.000     17.212      0.000       0.003       0.003\n",
      "===================================================================================\n",
      "Ljung-Box (L1) (Q):                   0.01   Jarque-Bera (JB):               173.37\n",
      "Prob(Q):                              0.94   Prob(JB):                         0.00\n",
      "Heteroskedasticity (H):               0.93   Skew:                             0.99\n",
      "Prob(H) (two-sided):                  0.65   Kurtosis:                         4.98\n",
      "===================================================================================\n",
      "\n",
      "Warnings:\n",
      "[1] Covariance matrix calculated using the outer product of gradients (complex-step).\n"
     ]
    }
   ],
   "source": [
    "model1 = ARIMA(train_1['cpuF'], order=(2,0,20), exog=train_1['cpuScore'])\n",
    "result1 = model1.fit()\n",
    "print(result1.summary())"
   ]
  },
  {
   "cell_type": "code",
   "execution_count": 13,
   "metadata": {},
   "outputs": [
    {
     "name": "stdout",
     "output_type": "stream",
     "text": [
      "                               SARIMAX Results                                \n",
      "==============================================================================\n",
      "Dep. Variable:                   cpuF   No. Observations:                  534\n",
      "Model:                 ARIMA(4, 0, 1)   Log Likelihood                 860.151\n",
      "Date:                Mon, 05 Jun 2023   AIC                          -1704.303\n",
      "Time:                        19:16:29   BIC                          -1670.059\n",
      "Sample:                             0   HQIC                         -1690.904\n",
      "                                - 534                                         \n",
      "Covariance Type:                  opg                                         \n",
      "==============================================================================\n",
      "                 coef    std err          z      P>|z|      [0.025      0.975]\n",
      "------------------------------------------------------------------------------\n",
      "const          0.5025      0.004    116.898      0.000       0.494       0.511\n",
      "cpuScore       0.0093      0.000     88.776      0.000       0.009       0.010\n",
      "ar.L1          0.1101      0.775      0.142      0.887      -1.409       1.629\n",
      "ar.L2          0.1257      0.156      0.808      0.419      -0.179       0.431\n",
      "ar.L3          0.0586      0.101      0.580      0.562      -0.140       0.257\n",
      "ar.L4          0.0650      0.064      1.019      0.308      -0.060       0.190\n",
      "ma.L1          0.0775      0.774      0.100      0.920      -1.439       1.594\n",
      "sigma2         0.0023   7.88e-05     29.030      0.000       0.002       0.002\n",
      "===================================================================================\n",
      "Ljung-Box (L1) (Q):                   0.03   Jarque-Bera (JB):               766.20\n",
      "Prob(Q):                              0.87   Prob(JB):                         0.00\n",
      "Heteroskedasticity (H):               0.70   Skew:                             0.69\n",
      "Prob(H) (two-sided):                  0.02   Kurtosis:                         8.70\n",
      "===================================================================================\n",
      "\n",
      "Warnings:\n",
      "[1] Covariance matrix calculated using the outer product of gradients (complex-step).\n"
     ]
    }
   ],
   "source": [
    "model2 = ARIMA(train_2['cpuF'], order=(4,0,1), exog=train_2['cpuScore'])\n",
    "result2 = model2.fit()\n",
    "print(result2.summary())"
   ]
  },
  {
   "cell_type": "code",
   "execution_count": 14,
   "metadata": {},
   "outputs": [
    {
     "name": "stdout",
     "output_type": "stream",
     "text": [
      "                               SARIMAX Results                                \n",
      "==============================================================================\n",
      "Dep. Variable:                   cpuF   No. Observations:                  534\n",
      "Model:                 ARIMA(4, 0, 1)   Log Likelihood                 665.241\n",
      "Date:                Mon, 05 Jun 2023   AIC                          -1314.481\n",
      "Time:                        19:16:30   BIC                          -1280.238\n",
      "Sample:                             0   HQIC                         -1301.082\n",
      "                                - 534                                         \n",
      "Covariance Type:                  opg                                         \n",
      "==============================================================================\n",
      "                 coef    std err          z      P>|z|      [0.025      0.975]\n",
      "------------------------------------------------------------------------------\n",
      "const          0.3416      0.014     24.330      0.000       0.314       0.369\n",
      "cpuScore       0.0110      0.000     44.034      0.000       0.011       0.012\n",
      "ar.L1          0.5962      0.224      2.656      0.008       0.156       1.036\n",
      "ar.L2          0.1944      0.059      3.296      0.001       0.079       0.310\n",
      "ar.L3         -0.0586      0.082     -0.717      0.473      -0.219       0.101\n",
      "ar.L4          0.1017      0.047      2.149      0.032       0.009       0.195\n",
      "ma.L1         -0.3719      0.231     -1.611      0.107      -0.824       0.080\n",
      "sigma2         0.0049      0.000     36.214      0.000       0.005       0.005\n",
      "===================================================================================\n",
      "Ljung-Box (L1) (Q):                   1.20   Jarque-Bera (JB):              9382.90\n",
      "Prob(Q):                              0.27   Prob(JB):                         0.00\n",
      "Heteroskedasticity (H):               2.76   Skew:                             2.65\n",
      "Prob(H) (two-sided):                  0.00   Kurtosis:                        22.84\n",
      "===================================================================================\n",
      "\n",
      "Warnings:\n",
      "[1] Covariance matrix calculated using the outer product of gradients (complex-step).\n"
     ]
    },
    {
     "name": "stderr",
     "output_type": "stream",
     "text": [
      "/Users/dmukherjee/anaconda3/lib/python3.8/site-packages/statsmodels/base/model.py:604: ConvergenceWarning: Maximum Likelihood optimization failed to converge. Check mle_retvals\n",
      "  warnings.warn(\"Maximum Likelihood optimization failed to \"\n"
     ]
    }
   ],
   "source": [
    "model3 = ARIMA(train_3['cpuF'], order=(4,0,1), exog=train_3['cpuScore'])\n",
    "result3 = model3.fit()\n",
    "print(result3.summary())"
   ]
  },
  {
   "cell_type": "code",
   "execution_count": 15,
   "metadata": {},
   "outputs": [
    {
     "name": "stdout",
     "output_type": "stream",
     "text": [
      "                               SARIMAX Results                                \n",
      "==============================================================================\n",
      "Dep. Variable:                   cpuF   No. Observations:                  534\n",
      "Model:                 ARIMA(4, 0, 1)   Log Likelihood                 644.420\n",
      "Date:                Mon, 05 Jun 2023   AIC                          -1272.840\n",
      "Time:                        19:16:30   BIC                          -1238.597\n",
      "Sample:                             0   HQIC                         -1259.441\n",
      "                                - 534                                         \n",
      "Covariance Type:                  opg                                         \n",
      "==============================================================================\n",
      "                 coef    std err          z      P>|z|      [0.025      0.975]\n",
      "------------------------------------------------------------------------------\n",
      "const          0.3036      0.008     37.465      0.000       0.288       0.320\n",
      "cpuScore       0.0114      0.000     50.251      0.000       0.011       0.012\n",
      "ar.L1          0.1254      0.600      0.209      0.834      -1.050       1.301\n",
      "ar.L2          0.1365      0.133      1.030      0.303      -0.123       0.396\n",
      "ar.L3          0.0460      0.082      0.558      0.577      -0.116       0.208\n",
      "ar.L4          0.0848      0.048      1.775      0.076      -0.009       0.179\n",
      "ma.L1          0.0884      0.606      0.146      0.884      -1.100       1.277\n",
      "sigma2         0.0052      0.000     29.002      0.000       0.005       0.006\n",
      "===================================================================================\n",
      "Ljung-Box (L1) (Q):                   0.12   Jarque-Bera (JB):              2645.97\n",
      "Prob(Q):                              0.73   Prob(JB):                         0.00\n",
      "Heteroskedasticity (H):               0.62   Skew:                             1.93\n",
      "Prob(H) (two-sided):                  0.00   Kurtosis:                        13.20\n",
      "===================================================================================\n",
      "\n",
      "Warnings:\n",
      "[1] Covariance matrix calculated using the outer product of gradients (complex-step).\n"
     ]
    }
   ],
   "source": [
    "model4 = ARIMA(train_4['cpuF'], order=(4,0,1), exog=train_4['cpuScore'])\n",
    "result4 = model4.fit()\n",
    "print(result4.summary())"
   ]
  },
  {
   "cell_type": "markdown",
   "metadata": {},
   "source": [
    "## Testing Accuracy\n",
    "We will run both the models to test its accuracy"
   ]
  },
  {
   "cell_type": "code",
   "execution_count": 16,
   "metadata": {},
   "outputs": [],
   "source": [
    "# This is to test the accuracy of prediction\n",
    "from sklearn import metrics"
   ]
  },
  {
   "cell_type": "code",
   "execution_count": 17,
   "metadata": {},
   "outputs": [],
   "source": [
    "# forecast = result.forecast(steps=538,exog=test_data['cpuScore'])\n",
    "# forecast = forecast.to_numpy()"
   ]
  },
  {
   "cell_type": "code",
   "execution_count": 18,
   "metadata": {},
   "outputs": [],
   "source": [
    "forecast1 = result1.forecast(steps=538,exog=test_data['cpuScore'])\n",
    "forecast1 = forecast1.to_numpy()"
   ]
  },
  {
   "cell_type": "code",
   "execution_count": 19,
   "metadata": {},
   "outputs": [],
   "source": [
    "forecast2 = result2.forecast(steps=538,exog=test_data['cpuScore'])\n",
    "forecast2 = forecast2.to_numpy()"
   ]
  },
  {
   "cell_type": "code",
   "execution_count": 20,
   "metadata": {},
   "outputs": [],
   "source": [
    "forecast3 = result3.forecast(steps=538,exog=test_data['cpuScore'])\n",
    "forecast3 = forecast3.to_numpy()"
   ]
  },
  {
   "cell_type": "code",
   "execution_count": 21,
   "metadata": {},
   "outputs": [],
   "source": [
    "forecast4 = result4.forecast(steps=538,exog=test_data['cpuScore'])\n",
    "forecast4 = forecast4.to_numpy()"
   ]
  },
  {
   "cell_type": "code",
   "execution_count": 22,
   "metadata": {},
   "outputs": [],
   "source": [
    "y_true = test_data['cpuF'].to_numpy()"
   ]
  },
  {
   "cell_type": "code",
   "execution_count": 23,
   "metadata": {},
   "outputs": [],
   "source": [
    "# print('RMSE', np.sqrt(metrics.mean_squared_error(y_true,forecast)))"
   ]
  },
  {
   "cell_type": "code",
   "execution_count": 24,
   "metadata": {},
   "outputs": [
    {
     "name": "stdout",
     "output_type": "stream",
     "text": [
      "RMSE_1 0.10106615608361053\n"
     ]
    }
   ],
   "source": [
    "print('RMSE_1', np.sqrt(metrics.mean_squared_error(y_true,forecast1)))"
   ]
  },
  {
   "cell_type": "code",
   "execution_count": 25,
   "metadata": {},
   "outputs": [
    {
     "name": "stdout",
     "output_type": "stream",
     "text": [
      "RMSE_2 0.1873175701746549\n"
     ]
    }
   ],
   "source": [
    "print('RMSE_2', np.sqrt(metrics.mean_squared_error(y_true,forecast2)))"
   ]
  },
  {
   "cell_type": "code",
   "execution_count": 26,
   "metadata": {},
   "outputs": [
    {
     "name": "stdout",
     "output_type": "stream",
     "text": [
      "RMSE_3 0.08081714819293216\n"
     ]
    }
   ],
   "source": [
    "print('RMSE_3', np.sqrt(metrics.mean_squared_error(y_true,forecast3)))"
   ]
  },
  {
   "cell_type": "code",
   "execution_count": 27,
   "metadata": {},
   "outputs": [
    {
     "name": "stdout",
     "output_type": "stream",
     "text": [
      "RMSE_4 0.06824123068026516\n"
     ]
    }
   ],
   "source": [
    "print('RMSE_4', np.sqrt(metrics.mean_squared_error(y_true,forecast4)))"
   ]
  },
  {
   "cell_type": "markdown",
   "metadata": {},
   "source": [
    "# Splitting the time series\n",
    "1. We will split the time series in fragments of 25 entries and then create 4 different entries and merge to train the data"
   ]
  },
  {
   "cell_type": "code",
   "execution_count": 28,
   "metadata": {},
   "outputs": [
    {
     "data": {
      "text/plain": [
       "(474, 11)"
      ]
     },
     "execution_count": 28,
     "metadata": {},
     "output_type": "execute_result"
    }
   ],
   "source": [
    "strain_1 = utilData.iloc[0:25]\n",
    "strain_2 = utilData.iloc[25:50]\n",
    "strain_3 = utilData.iloc[50:75]\n",
    "strain_4 = utilData.iloc[75:100]\n",
    "stest_data = utilData.iloc[2200:]\n",
    "stest_data.shape"
   ]
  },
  {
   "cell_type": "code",
   "execution_count": 29,
   "metadata": {},
   "outputs": [
    {
     "data": {
      "text/html": [
       "<div>\n",
       "<style scoped>\n",
       "    .dataframe tbody tr th:only-of-type {\n",
       "        vertical-align: middle;\n",
       "    }\n",
       "\n",
       "    .dataframe tbody tr th {\n",
       "        vertical-align: top;\n",
       "    }\n",
       "\n",
       "    .dataframe thead th {\n",
       "        text-align: right;\n",
       "    }\n",
       "</style>\n",
       "<table border=\"1\" class=\"dataframe\">\n",
       "  <thead>\n",
       "    <tr style=\"text-align: right;\">\n",
       "      <th></th>\n",
       "      <th>memUse</th>\n",
       "      <th>memTot</th>\n",
       "      <th>memfreq</th>\n",
       "      <th>cpuid</th>\n",
       "      <th>cpuload</th>\n",
       "      <th>cpufreq</th>\n",
       "      <th>memLoad</th>\n",
       "      <th>memScore</th>\n",
       "      <th>memF</th>\n",
       "      <th>cpuScore</th>\n",
       "      <th>cpuF</th>\n",
       "    </tr>\n",
       "  </thead>\n",
       "  <tbody>\n",
       "    <tr>\n",
       "      <th>20</th>\n",
       "      <td>731460</td>\n",
       "      <td>7728405</td>\n",
       "      <td>275000000</td>\n",
       "      <td>0</td>\n",
       "      <td>11</td>\n",
       "      <td>300000</td>\n",
       "      <td>0.094646</td>\n",
       "      <td>0.031549</td>\n",
       "      <td>0.333333</td>\n",
       "      <td>2.357143</td>\n",
       "      <td>0.3</td>\n",
       "    </tr>\n",
       "    <tr>\n",
       "      <th>21</th>\n",
       "      <td>731460</td>\n",
       "      <td>7728405</td>\n",
       "      <td>275000000</td>\n",
       "      <td>0</td>\n",
       "      <td>10</td>\n",
       "      <td>300000</td>\n",
       "      <td>0.094646</td>\n",
       "      <td>0.031549</td>\n",
       "      <td>0.333333</td>\n",
       "      <td>2.142857</td>\n",
       "      <td>0.3</td>\n",
       "    </tr>\n",
       "    <tr>\n",
       "      <th>22</th>\n",
       "      <td>731460</td>\n",
       "      <td>7728405</td>\n",
       "      <td>275000000</td>\n",
       "      <td>0</td>\n",
       "      <td>12</td>\n",
       "      <td>300000</td>\n",
       "      <td>0.094646</td>\n",
       "      <td>0.031549</td>\n",
       "      <td>0.333333</td>\n",
       "      <td>2.571429</td>\n",
       "      <td>0.3</td>\n",
       "    </tr>\n",
       "    <tr>\n",
       "      <th>23</th>\n",
       "      <td>731460</td>\n",
       "      <td>7728405</td>\n",
       "      <td>275000000</td>\n",
       "      <td>0</td>\n",
       "      <td>11</td>\n",
       "      <td>300000</td>\n",
       "      <td>0.094646</td>\n",
       "      <td>0.031549</td>\n",
       "      <td>0.333333</td>\n",
       "      <td>2.357143</td>\n",
       "      <td>0.3</td>\n",
       "    </tr>\n",
       "    <tr>\n",
       "      <th>24</th>\n",
       "      <td>731460</td>\n",
       "      <td>7728405</td>\n",
       "      <td>275000000</td>\n",
       "      <td>0</td>\n",
       "      <td>9</td>\n",
       "      <td>300000</td>\n",
       "      <td>0.094646</td>\n",
       "      <td>0.031549</td>\n",
       "      <td>0.333333</td>\n",
       "      <td>1.928571</td>\n",
       "      <td>0.3</td>\n",
       "    </tr>\n",
       "  </tbody>\n",
       "</table>\n",
       "</div>"
      ],
      "text/plain": [
       "    memUse   memTot    memfreq  cpuid  cpuload  cpufreq   memLoad  memScore  \\\n",
       "20  731460  7728405  275000000      0       11   300000  0.094646  0.031549   \n",
       "21  731460  7728405  275000000      0       10   300000  0.094646  0.031549   \n",
       "22  731460  7728405  275000000      0       12   300000  0.094646  0.031549   \n",
       "23  731460  7728405  275000000      0       11   300000  0.094646  0.031549   \n",
       "24  731460  7728405  275000000      0        9   300000  0.094646  0.031549   \n",
       "\n",
       "        memF  cpuScore  cpuF  \n",
       "20  0.333333  2.357143   0.3  \n",
       "21  0.333333  2.142857   0.3  \n",
       "22  0.333333  2.571429   0.3  \n",
       "23  0.333333  2.357143   0.3  \n",
       "24  0.333333  1.928571   0.3  "
      ]
     },
     "execution_count": 29,
     "metadata": {},
     "output_type": "execute_result"
    }
   ],
   "source": [
    "strain_1.tail()"
   ]
  },
  {
   "cell_type": "code",
   "execution_count": 30,
   "metadata": {},
   "outputs": [],
   "source": [
    "# We create our data here\n",
    "for i in range(100,2136,100):\n",
    "    i_1,i_2,i_3,i_4 = i,i+25,i+50,i+75\n",
    "    i_end = i+100\n",
    "    strain_1 = strain_1.append(utilData.iloc[i_1:i_2],ignore_index=True)\n",
    "    strain_2 = strain_2.append(utilData.iloc[i_2:i_3],ignore_index=True)\n",
    "    strain_3 = strain_3.append(utilData.iloc[i_3:i_4],ignore_index=True)\n",
    "    strain_4 = strain_4.append(utilData.iloc[i_4:i_end],ignore_index=True)"
   ]
  },
  {
   "cell_type": "code",
   "execution_count": 31,
   "metadata": {},
   "outputs": [
    {
     "data": {
      "text/plain": [
       "(550, 11)"
      ]
     },
     "execution_count": 31,
     "metadata": {},
     "output_type": "execute_result"
    }
   ],
   "source": [
    "strain_4.shape"
   ]
  },
  {
   "cell_type": "markdown",
   "metadata": {},
   "source": [
    "## Modeling the split time series\n",
    "We are using the newly generated split dataset to train and verify its acuracy"
   ]
  },
  {
   "cell_type": "code",
   "execution_count": 32,
   "metadata": {},
   "outputs": [
    {
     "name": "stdout",
     "output_type": "stream",
     "text": [
      "                               SARIMAX Results                                \n",
      "==============================================================================\n",
      "Dep. Variable:               cpuScore   No. Observations:                  550\n",
      "Model:                 ARIMA(4, 0, 1)   Log Likelihood               -1692.357\n",
      "Date:                Mon, 05 Jun 2023   AIC                           3400.714\n",
      "Time:                        19:16:31   BIC                           3435.193\n",
      "Sample:                             0   HQIC                          3414.188\n",
      "                                - 550                                         \n",
      "Covariance Type:                  opg                                         \n",
      "==============================================================================\n",
      "                 coef    std err          z      P>|z|      [0.025      0.975]\n",
      "------------------------------------------------------------------------------\n",
      "const        -23.3909      1.503    -15.561      0.000     -26.337     -20.445\n",
      "cpuF          78.3264      0.775    101.041      0.000      76.807      79.846\n",
      "ar.L1         -0.2543      0.316     -0.805      0.421      -0.874       0.365\n",
      "ar.L2          0.5335      0.162      3.287      0.001       0.215       0.852\n",
      "ar.L3          0.2560      0.077      3.331      0.001       0.105       0.407\n",
      "ar.L4          0.1573      0.050      3.146      0.002       0.059       0.255\n",
      "ma.L1          0.7449      0.318      2.343      0.019       0.122       1.368\n",
      "sigma2        27.5081      1.155     23.820      0.000      25.245      29.771\n",
      "===================================================================================\n",
      "Ljung-Box (L1) (Q):                   0.00   Jarque-Bera (JB):               392.87\n",
      "Prob(Q):                              0.96   Prob(JB):                         0.00\n",
      "Heteroskedasticity (H):               1.70   Skew:                            -0.44\n",
      "Prob(H) (two-sided):                  0.00   Kurtosis:                         7.04\n",
      "===================================================================================\n",
      "\n",
      "Warnings:\n",
      "[1] Covariance matrix calculated using the outer product of gradients (complex-step).\n"
     ]
    }
   ],
   "source": [
    "smodel1 = ARIMA(strain_1['cpuScore'], order=(4,0,1), exog=strain_1['cpuF'])\n",
    "sresult1 = smodel1.fit()\n",
    "print(sresult1.summary())"
   ]
  },
  {
   "cell_type": "code",
   "execution_count": 33,
   "metadata": {},
   "outputs": [
    {
     "name": "stdout",
     "output_type": "stream",
     "text": [
      "                               SARIMAX Results                                \n",
      "==============================================================================\n",
      "Dep. Variable:                   cpuF   No. Observations:                  550\n",
      "Model:                 ARIMA(4, 0, 1)   Log Likelihood                 801.654\n",
      "Date:                Mon, 05 Jun 2023   AIC                          -1587.307\n",
      "Time:                        19:16:31   BIC                          -1552.828\n",
      "Sample:                             0   HQIC                         -1573.833\n",
      "                                - 550                                         \n",
      "Covariance Type:                  opg                                         \n",
      "==============================================================================\n",
      "                 coef    std err          z      P>|z|      [0.025      0.975]\n",
      "------------------------------------------------------------------------------\n",
      "const          0.3390      0.018     19.002      0.000       0.304       0.374\n",
      "cpuScore       0.0113      0.000     65.773      0.000       0.011       0.012\n",
      "ar.L1          0.3236      0.642      0.504      0.614      -0.936       1.583\n",
      "ar.L2          0.2614      0.305      0.856      0.392      -0.337       0.860\n",
      "ar.L3          0.1478      0.141      1.048      0.295      -0.129       0.424\n",
      "ar.L4          0.0877      0.107      0.820      0.412      -0.122       0.297\n",
      "ma.L1          0.1376      0.645      0.213      0.831      -1.126       1.401\n",
      "sigma2         0.0032      0.000     23.836      0.000       0.003       0.003\n",
      "===================================================================================\n",
      "Ljung-Box (L1) (Q):                   0.00   Jarque-Bera (JB):               338.73\n",
      "Prob(Q):                              1.00   Prob(JB):                         0.00\n",
      "Heteroskedasticity (H):               1.06   Skew:                             0.94\n",
      "Prob(H) (two-sided):                  0.69   Kurtosis:                         6.35\n",
      "===================================================================================\n",
      "\n",
      "Warnings:\n",
      "[1] Covariance matrix calculated using the outer product of gradients (complex-step).\n"
     ]
    }
   ],
   "source": [
    "smodel2 = ARIMA(strain_2['cpuF'], order=(4,0,1), exog=strain_2['cpuScore'])\n",
    "sresult2 = smodel2.fit()\n",
    "print(sresult2.summary())"
   ]
  },
  {
   "cell_type": "code",
   "execution_count": 34,
   "metadata": {},
   "outputs": [
    {
     "name": "stdout",
     "output_type": "stream",
     "text": [
      "                               SARIMAX Results                                \n",
      "==============================================================================\n",
      "Dep. Variable:                   cpuF   No. Observations:                  550\n",
      "Model:                 ARIMA(4, 0, 1)   Log Likelihood                 649.728\n",
      "Date:                Mon, 05 Jun 2023   AIC                          -1283.456\n",
      "Time:                        19:16:31   BIC                          -1248.976\n",
      "Sample:                             0   HQIC                         -1269.982\n",
      "                                - 550                                         \n",
      "Covariance Type:                  opg                                         \n",
      "==============================================================================\n",
      "                 coef    std err          z      P>|z|      [0.025      0.975]\n",
      "------------------------------------------------------------------------------\n",
      "const          0.3435      0.014     24.471      0.000       0.316       0.371\n",
      "cpuScore       0.0111      0.000     47.721      0.000       0.011       0.012\n",
      "ar.L1          0.4360      0.271      1.608      0.108      -0.096       0.968\n",
      "ar.L2          0.2160      0.079      2.748      0.006       0.062       0.370\n",
      "ar.L3         -0.0077      0.093     -0.083      0.934      -0.191       0.175\n",
      "ar.L4          0.1226      0.044      2.795      0.005       0.037       0.209\n",
      "ma.L1         -0.1981      0.273     -0.726      0.468      -0.732       0.336\n",
      "sigma2         0.0055      0.000     33.034      0.000       0.005       0.006\n",
      "===================================================================================\n",
      "Ljung-Box (L1) (Q):                   0.00   Jarque-Bera (JB):              7815.60\n",
      "Prob(Q):                              0.96   Prob(JB):                         0.00\n",
      "Heteroskedasticity (H):               1.56   Skew:                             2.52\n",
      "Prob(H) (two-sided):                  0.00   Kurtosis:                        20.77\n",
      "===================================================================================\n",
      "\n",
      "Warnings:\n",
      "[1] Covariance matrix calculated using the outer product of gradients (complex-step).\n"
     ]
    },
    {
     "name": "stderr",
     "output_type": "stream",
     "text": [
      "/Users/dmukherjee/anaconda3/lib/python3.8/site-packages/statsmodels/base/model.py:604: ConvergenceWarning: Maximum Likelihood optimization failed to converge. Check mle_retvals\n",
      "  warnings.warn(\"Maximum Likelihood optimization failed to \"\n"
     ]
    }
   ],
   "source": [
    "smodel3 = ARIMA(strain_3['cpuF'], order=(4,0,1), exog=strain_3['cpuScore'])\n",
    "sresult3 = smodel3.fit()\n",
    "print(sresult3.summary())"
   ]
  },
  {
   "cell_type": "code",
   "execution_count": 35,
   "metadata": {},
   "outputs": [
    {
     "name": "stdout",
     "output_type": "stream",
     "text": [
      "                               SARIMAX Results                                \n",
      "==============================================================================\n",
      "Dep. Variable:                   cpuF   No. Observations:                  550\n",
      "Model:                 ARIMA(4, 0, 1)   Log Likelihood                 704.920\n",
      "Date:                Mon, 05 Jun 2023   AIC                          -1393.840\n",
      "Time:                        19:16:32   BIC                          -1359.361\n",
      "Sample:                             0   HQIC                         -1380.366\n",
      "                                - 550                                         \n",
      "Covariance Type:                  opg                                         \n",
      "==============================================================================\n",
      "                 coef    std err          z      P>|z|      [0.025      0.975]\n",
      "------------------------------------------------------------------------------\n",
      "const          0.3499      0.016     22.126      0.000       0.319       0.381\n",
      "cpuScore       0.0110      0.000     41.953      0.000       0.011       0.012\n",
      "ar.L1          0.2693      0.227      1.189      0.234      -0.175       0.713\n",
      "ar.L2          0.2260      0.097      2.327      0.020       0.036       0.416\n",
      "ar.L3          0.0612      0.060      1.025      0.305      -0.056       0.178\n",
      "ar.L4          0.2004      0.043      4.637      0.000       0.116       0.285\n",
      "ma.L1          0.1440      0.231      0.623      0.533      -0.309       0.597\n",
      "sigma2         0.0045      0.000     24.371      0.000       0.004       0.005\n",
      "===================================================================================\n",
      "Ljung-Box (L1) (Q):                   0.00   Jarque-Bera (JB):               940.57\n",
      "Prob(Q):                              0.97   Prob(JB):                         0.00\n",
      "Heteroskedasticity (H):               1.69   Skew:                             0.94\n",
      "Prob(H) (two-sided):                  0.00   Kurtosis:                         9.12\n",
      "===================================================================================\n",
      "\n",
      "Warnings:\n",
      "[1] Covariance matrix calculated using the outer product of gradients (complex-step).\n"
     ]
    }
   ],
   "source": [
    "smodel4 = ARIMA(strain_4['cpuF'], order=(4,0,1), exog=strain_4['cpuScore'])\n",
    "sresult4 = smodel4.fit()\n",
    "print(sresult4.summary())"
   ]
  },
  {
   "cell_type": "markdown",
   "metadata": {},
   "source": [
    "## Prediction Phase for split\n",
    "We are calculating the RMSE of the models"
   ]
  },
  {
   "cell_type": "code",
   "execution_count": 36,
   "metadata": {},
   "outputs": [],
   "source": [
    "sforecast1 = sresult1.forecast(steps=474,exog=stest_data['cpuScore'])\n",
    "sforecast1 = sforecast1.to_numpy()"
   ]
  },
  {
   "cell_type": "code",
   "execution_count": 37,
   "metadata": {},
   "outputs": [],
   "source": [
    "sy_true = stest_data['cpuF'].to_numpy()"
   ]
  },
  {
   "cell_type": "code",
   "execution_count": 38,
   "metadata": {},
   "outputs": [
    {
     "name": "stdout",
     "output_type": "stream",
     "text": [
      "RMSE_1 3470.428626741288\n"
     ]
    }
   ],
   "source": [
    "print('RMSE_1', np.sqrt(metrics.mean_squared_error(sy_true,sforecast1)))"
   ]
  },
  {
   "cell_type": "code",
   "execution_count": 39,
   "metadata": {},
   "outputs": [],
   "source": [
    "sforecast2 = sresult2.forecast(steps=474,exog=stest_data['cpuScore'])\n",
    "sforecast2 = sforecast2.to_numpy()"
   ]
  },
  {
   "cell_type": "code",
   "execution_count": 40,
   "metadata": {},
   "outputs": [
    {
     "name": "stdout",
     "output_type": "stream",
     "text": [
      "RMSE_2 0.08482416872044561\n"
     ]
    }
   ],
   "source": [
    "print('RMSE_2', np.sqrt(metrics.mean_squared_error(sy_true,sforecast2)))"
   ]
  },
  {
   "cell_type": "code",
   "execution_count": 41,
   "metadata": {},
   "outputs": [],
   "source": [
    "sforecast3 = sresult3.forecast(steps=474,exog=stest_data['cpuScore'])\n",
    "sforecast3 = sforecast3.to_numpy()"
   ]
  },
  {
   "cell_type": "code",
   "execution_count": 42,
   "metadata": {},
   "outputs": [
    {
     "name": "stdout",
     "output_type": "stream",
     "text": [
      "RMSE_3 0.08577912337072036\n"
     ]
    }
   ],
   "source": [
    "print('RMSE_3', np.sqrt(metrics.mean_squared_error(sy_true,sforecast3)))"
   ]
  },
  {
   "cell_type": "code",
   "execution_count": 43,
   "metadata": {},
   "outputs": [],
   "source": [
    "sforecast4 = sresult4.forecast(steps=474,exog=stest_data['cpuScore'])\n",
    "sforecast4 = sforecast4.to_numpy()"
   ]
  },
  {
   "cell_type": "code",
   "execution_count": 44,
   "metadata": {},
   "outputs": [
    {
     "name": "stdout",
     "output_type": "stream",
     "text": [
      "RMSE_4 0.08907612094315911\n"
     ]
    }
   ],
   "source": [
    "print('RMSE_4', np.sqrt(metrics.mean_squared_error(sy_true,sforecast4)))"
   ]
  },
  {
   "cell_type": "markdown",
   "metadata": {},
   "source": [
    "### Note; the results are better for smaller prediction interval. \n",
    "Does it mean we need to retrain every small interval. (We did 100 v. 474)\n",
    "That is not an effective prediction model"
   ]
  },
  {
   "cell_type": "markdown",
   "metadata": {},
   "source": [
    "# Grouping the data by a column\n",
    "We will now model for each state of the cpufrequency"
   ]
  },
  {
   "cell_type": "code",
   "execution_count": 45,
   "metadata": {},
   "outputs": [
    {
     "data": {
      "text/plain": [
       "array([0.6, 0.2, 0.3, 0.4, 0.5, 1.2, 0.7, 0.8, 1.4, 1.3, 1. , 0.9, 1.1])"
      ]
     },
     "execution_count": 45,
     "metadata": {},
     "output_type": "execute_result"
    }
   ],
   "source": [
    "#Get the unique cpuF values\n",
    "cpuFArr = tot_train['cpuF'].unique()\n",
    "cpuFArr"
   ]
  },
  {
   "cell_type": "code",
   "execution_count": 46,
   "metadata": {},
   "outputs": [
    {
     "data": {
      "text/plain": [
       "[165000000, 206000000, 275000000, 413000000, 543000000, 825000000]"
      ]
     },
     "execution_count": 46,
     "metadata": {},
     "output_type": "execute_result"
    }
   ],
   "source": [
    "sorted(utilData['memfreq'].unique())"
   ]
  },
  {
   "cell_type": "code",
   "execution_count": 47,
   "metadata": {},
   "outputs": [],
   "source": [
    "gtrain = tot_train.groupby(['cpuF'])"
   ]
  },
  {
   "cell_type": "code",
   "execution_count": 48,
   "metadata": {},
   "outputs": [
    {
     "data": {
      "text/html": [
       "<div>\n",
       "<style scoped>\n",
       "    .dataframe tbody tr th:only-of-type {\n",
       "        vertical-align: middle;\n",
       "    }\n",
       "\n",
       "    .dataframe tbody tr th {\n",
       "        vertical-align: top;\n",
       "    }\n",
       "\n",
       "    .dataframe thead th {\n",
       "        text-align: right;\n",
       "    }\n",
       "</style>\n",
       "<table border=\"1\" class=\"dataframe\">\n",
       "  <thead>\n",
       "    <tr style=\"text-align: right;\">\n",
       "      <th></th>\n",
       "      <th>memUse</th>\n",
       "      <th>memTot</th>\n",
       "      <th>memfreq</th>\n",
       "      <th>cpuid</th>\n",
       "      <th>cpuload</th>\n",
       "      <th>cpufreq</th>\n",
       "      <th>memLoad</th>\n",
       "      <th>memScore</th>\n",
       "      <th>memF</th>\n",
       "      <th>cpuScore</th>\n",
       "      <th>cpuF</th>\n",
       "    </tr>\n",
       "  </thead>\n",
       "  <tbody>\n",
       "    <tr>\n",
       "      <th>0</th>\n",
       "      <td>604872</td>\n",
       "      <td>4612865</td>\n",
       "      <td>165000000</td>\n",
       "      <td>0</td>\n",
       "      <td>31</td>\n",
       "      <td>600000</td>\n",
       "      <td>0.131127</td>\n",
       "      <td>0.026225</td>\n",
       "      <td>0.200000</td>\n",
       "      <td>13.285714</td>\n",
       "      <td>0.6</td>\n",
       "    </tr>\n",
       "    <tr>\n",
       "      <th>12</th>\n",
       "      <td>3742</td>\n",
       "      <td>166275</td>\n",
       "      <td>275000000</td>\n",
       "      <td>0</td>\n",
       "      <td>31</td>\n",
       "      <td>600000</td>\n",
       "      <td>0.022505</td>\n",
       "      <td>0.007502</td>\n",
       "      <td>0.333333</td>\n",
       "      <td>13.285714</td>\n",
       "      <td>0.6</td>\n",
       "    </tr>\n",
       "    <tr>\n",
       "      <th>13</th>\n",
       "      <td>3742</td>\n",
       "      <td>166275</td>\n",
       "      <td>275000000</td>\n",
       "      <td>0</td>\n",
       "      <td>40</td>\n",
       "      <td>600000</td>\n",
       "      <td>0.022505</td>\n",
       "      <td>0.007502</td>\n",
       "      <td>0.333333</td>\n",
       "      <td>17.142857</td>\n",
       "      <td>0.6</td>\n",
       "    </tr>\n",
       "    <tr>\n",
       "      <th>32</th>\n",
       "      <td>709011</td>\n",
       "      <td>7717381</td>\n",
       "      <td>275000000</td>\n",
       "      <td>0</td>\n",
       "      <td>13</td>\n",
       "      <td>600000</td>\n",
       "      <td>0.091872</td>\n",
       "      <td>0.030624</td>\n",
       "      <td>0.333333</td>\n",
       "      <td>5.571429</td>\n",
       "      <td>0.6</td>\n",
       "    </tr>\n",
       "    <tr>\n",
       "      <th>60</th>\n",
       "      <td>1228</td>\n",
       "      <td>46513</td>\n",
       "      <td>275000000</td>\n",
       "      <td>0</td>\n",
       "      <td>30</td>\n",
       "      <td>600000</td>\n",
       "      <td>0.026401</td>\n",
       "      <td>0.008800</td>\n",
       "      <td>0.333333</td>\n",
       "      <td>12.857143</td>\n",
       "      <td>0.6</td>\n",
       "    </tr>\n",
       "    <tr>\n",
       "      <th>...</th>\n",
       "      <td>...</td>\n",
       "      <td>...</td>\n",
       "      <td>...</td>\n",
       "      <td>...</td>\n",
       "      <td>...</td>\n",
       "      <td>...</td>\n",
       "      <td>...</td>\n",
       "      <td>...</td>\n",
       "      <td>...</td>\n",
       "      <td>...</td>\n",
       "      <td>...</td>\n",
       "    </tr>\n",
       "    <tr>\n",
       "      <th>1934</th>\n",
       "      <td>7212</td>\n",
       "      <td>180508</td>\n",
       "      <td>825000000</td>\n",
       "      <td>0</td>\n",
       "      <td>32</td>\n",
       "      <td>600000</td>\n",
       "      <td>0.039954</td>\n",
       "      <td>0.039954</td>\n",
       "      <td>1.000000</td>\n",
       "      <td>13.714286</td>\n",
       "      <td>0.6</td>\n",
       "    </tr>\n",
       "    <tr>\n",
       "      <th>1948</th>\n",
       "      <td>845096</td>\n",
       "      <td>15828949</td>\n",
       "      <td>543000000</td>\n",
       "      <td>0</td>\n",
       "      <td>31</td>\n",
       "      <td>600000</td>\n",
       "      <td>0.053389</td>\n",
       "      <td>0.035140</td>\n",
       "      <td>0.658182</td>\n",
       "      <td>13.285714</td>\n",
       "      <td>0.6</td>\n",
       "    </tr>\n",
       "    <tr>\n",
       "      <th>1955</th>\n",
       "      <td>912556</td>\n",
       "      <td>14908785</td>\n",
       "      <td>413000000</td>\n",
       "      <td>0</td>\n",
       "      <td>36</td>\n",
       "      <td>600000</td>\n",
       "      <td>0.061209</td>\n",
       "      <td>0.030642</td>\n",
       "      <td>0.500606</td>\n",
       "      <td>15.428571</td>\n",
       "      <td>0.6</td>\n",
       "    </tr>\n",
       "    <tr>\n",
       "      <th>1977</th>\n",
       "      <td>37665</td>\n",
       "      <td>206049</td>\n",
       "      <td>543000000</td>\n",
       "      <td>0</td>\n",
       "      <td>47</td>\n",
       "      <td>600000</td>\n",
       "      <td>0.182796</td>\n",
       "      <td>0.120313</td>\n",
       "      <td>0.658182</td>\n",
       "      <td>20.142857</td>\n",
       "      <td>0.6</td>\n",
       "    </tr>\n",
       "    <tr>\n",
       "      <th>2034</th>\n",
       "      <td>749</td>\n",
       "      <td>21505</td>\n",
       "      <td>413000000</td>\n",
       "      <td>0</td>\n",
       "      <td>43</td>\n",
       "      <td>600000</td>\n",
       "      <td>0.034829</td>\n",
       "      <td>0.017436</td>\n",
       "      <td>0.500606</td>\n",
       "      <td>18.428571</td>\n",
       "      <td>0.6</td>\n",
       "    </tr>\n",
       "  </tbody>\n",
       "</table>\n",
       "<p>198 rows × 11 columns</p>\n",
       "</div>"
      ],
      "text/plain": [
       "      memUse    memTot    memfreq  cpuid  cpuload  cpufreq   memLoad  \\\n",
       "0     604872   4612865  165000000      0       31   600000  0.131127   \n",
       "12      3742    166275  275000000      0       31   600000  0.022505   \n",
       "13      3742    166275  275000000      0       40   600000  0.022505   \n",
       "32    709011   7717381  275000000      0       13   600000  0.091872   \n",
       "60      1228     46513  275000000      0       30   600000  0.026401   \n",
       "...      ...       ...        ...    ...      ...      ...       ...   \n",
       "1934    7212    180508  825000000      0       32   600000  0.039954   \n",
       "1948  845096  15828949  543000000      0       31   600000  0.053389   \n",
       "1955  912556  14908785  413000000      0       36   600000  0.061209   \n",
       "1977   37665    206049  543000000      0       47   600000  0.182796   \n",
       "2034     749     21505  413000000      0       43   600000  0.034829   \n",
       "\n",
       "      memScore      memF   cpuScore  cpuF  \n",
       "0     0.026225  0.200000  13.285714   0.6  \n",
       "12    0.007502  0.333333  13.285714   0.6  \n",
       "13    0.007502  0.333333  17.142857   0.6  \n",
       "32    0.030624  0.333333   5.571429   0.6  \n",
       "60    0.008800  0.333333  12.857143   0.6  \n",
       "...        ...       ...        ...   ...  \n",
       "1934  0.039954  1.000000  13.714286   0.6  \n",
       "1948  0.035140  0.658182  13.285714   0.6  \n",
       "1955  0.030642  0.500606  15.428571   0.6  \n",
       "1977  0.120313  0.658182  20.142857   0.6  \n",
       "2034  0.017436  0.500606  18.428571   0.6  \n",
       "\n",
       "[198 rows x 11 columns]"
      ]
     },
     "execution_count": 48,
     "metadata": {},
     "output_type": "execute_result"
    }
   ],
   "source": [
    "gtrain.get_group(0.6)"
   ]
  },
  {
   "cell_type": "code",
   "execution_count": 49,
   "metadata": {},
   "outputs": [],
   "source": [
    "mapTrain = {}\n",
    "for  val in cpuFArr:\n",
    "    mapTrain[val] = gtrain.get_group(val)"
   ]
  },
  {
   "cell_type": "code",
   "execution_count": 50,
   "metadata": {},
   "outputs": [
    {
     "name": "stdout",
     "output_type": "stream",
     "text": [
      "\n",
      "\n",
      "Val 0.6\n",
      "                               SARIMAX Results                                \n",
      "==============================================================================\n",
      "Dep. Variable:                cpuload   No. Observations:                  198\n",
      "Model:                 ARIMA(1, 0, 1)   Log Likelihood                -620.984\n",
      "Date:                Mon, 05 Jun 2023   AIC                           1249.968\n",
      "Time:                        19:16:32   BIC                           1263.121\n",
      "Sample:                             0   HQIC                          1255.292\n",
      "                                - 198                                         \n",
      "Covariance Type:                  opg                                         \n",
      "==============================================================================\n",
      "                 coef    std err          z      P>|z|      [0.025      0.975]\n",
      "------------------------------------------------------------------------------\n",
      "const         32.9655      0.808     40.778      0.000      31.381      34.550\n",
      "ar.L1          0.7387      0.150      4.939      0.000       0.446       1.032\n",
      "ma.L1         -0.5437      0.179     -3.031      0.002      -0.895      -0.192\n",
      "sigma2        31.0042      1.596     19.429      0.000      27.877      34.132\n",
      "===================================================================================\n",
      "Ljung-Box (L1) (Q):                   0.02   Jarque-Bera (JB):               414.27\n",
      "Prob(Q):                              0.90   Prob(JB):                         0.00\n",
      "Heteroskedasticity (H):               1.67   Skew:                            -0.96\n",
      "Prob(H) (two-sided):                  0.04   Kurtosis:                         9.82\n",
      "===================================================================================\n",
      "\n",
      "Warnings:\n",
      "[1] Covariance matrix calculated using the outer product of gradients (complex-step).\n",
      "\n",
      "\n",
      "Val 0.2\n",
      "                               SARIMAX Results                                \n",
      "==============================================================================\n",
      "Dep. Variable:                cpuload   No. Observations:                   85\n",
      "Model:                 ARIMA(1, 0, 1)   Log Likelihood                -209.506\n",
      "Date:                Mon, 05 Jun 2023   AIC                            427.013\n",
      "Time:                        19:16:32   BIC                            436.784\n",
      "Sample:                             0   HQIC                           430.943\n",
      "                                 - 85                                         \n",
      "Covariance Type:                  opg                                         \n",
      "==============================================================================\n",
      "                 coef    std err          z      P>|z|      [0.025      0.975]\n",
      "------------------------------------------------------------------------------\n",
      "const          5.5080      0.711      7.745      0.000       4.114       6.902\n",
      "ar.L1          0.9811      0.229      4.283      0.000       0.532       1.430\n",
      "ma.L1         -0.9999     13.897     -0.072      0.943     -28.237      26.237\n",
      "sigma2         8.0431    110.320      0.073      0.942    -208.180     224.266\n",
      "===================================================================================\n",
      "Ljung-Box (L1) (Q):                   0.42   Jarque-Bera (JB):               419.28\n",
      "Prob(Q):                              0.52   Prob(JB):                         0.00\n",
      "Heteroskedasticity (H):               2.09   Skew:                             2.61\n",
      "Prob(H) (two-sided):                  0.06   Kurtosis:                        12.55\n",
      "===================================================================================\n",
      "\n",
      "Warnings:\n",
      "[1] Covariance matrix calculated using the outer product of gradients (complex-step).\n",
      "\n",
      "\n",
      "Val 0.3\n"
     ]
    },
    {
     "name": "stderr",
     "output_type": "stream",
     "text": [
      "/Users/dmukherjee/anaconda3/lib/python3.8/site-packages/statsmodels/tsa/base/tsa_model.py:471: ValueWarning: An unsupported index was provided and will be ignored when e.g. forecasting.\n",
      "  self._init_dates(dates, freq)\n",
      "/Users/dmukherjee/anaconda3/lib/python3.8/site-packages/statsmodels/tsa/base/tsa_model.py:471: ValueWarning: An unsupported index was provided and will be ignored when e.g. forecasting.\n",
      "  self._init_dates(dates, freq)\n",
      "/Users/dmukherjee/anaconda3/lib/python3.8/site-packages/statsmodels/tsa/base/tsa_model.py:471: ValueWarning: An unsupported index was provided and will be ignored when e.g. forecasting.\n",
      "  self._init_dates(dates, freq)\n",
      "/Users/dmukherjee/anaconda3/lib/python3.8/site-packages/statsmodels/tsa/base/tsa_model.py:471: ValueWarning: An unsupported index was provided and will be ignored when e.g. forecasting.\n",
      "  self._init_dates(dates, freq)\n",
      "/Users/dmukherjee/anaconda3/lib/python3.8/site-packages/statsmodels/tsa/base/tsa_model.py:471: ValueWarning: An unsupported index was provided and will be ignored when e.g. forecasting.\n",
      "  self._init_dates(dates, freq)\n",
      "/Users/dmukherjee/anaconda3/lib/python3.8/site-packages/statsmodels/tsa/base/tsa_model.py:471: ValueWarning: An unsupported index was provided and will be ignored when e.g. forecasting.\n",
      "  self._init_dates(dates, freq)\n",
      "/Users/dmukherjee/anaconda3/lib/python3.8/site-packages/statsmodels/tsa/statespace/sarimax.py:966: UserWarning: Non-stationary starting autoregressive parameters found. Using zeros as starting parameters.\n",
      "  warn('Non-stationary starting autoregressive parameters'\n",
      "/Users/dmukherjee/anaconda3/lib/python3.8/site-packages/statsmodels/tsa/base/tsa_model.py:471: ValueWarning: An unsupported index was provided and will be ignored when e.g. forecasting.\n",
      "  self._init_dates(dates, freq)\n",
      "/Users/dmukherjee/anaconda3/lib/python3.8/site-packages/statsmodels/tsa/base/tsa_model.py:471: ValueWarning: An unsupported index was provided and will be ignored when e.g. forecasting.\n",
      "  self._init_dates(dates, freq)\n",
      "/Users/dmukherjee/anaconda3/lib/python3.8/site-packages/statsmodels/tsa/base/tsa_model.py:471: ValueWarning: An unsupported index was provided and will be ignored when e.g. forecasting.\n",
      "  self._init_dates(dates, freq)\n"
     ]
    },
    {
     "name": "stdout",
     "output_type": "stream",
     "text": [
      "                               SARIMAX Results                                \n",
      "==============================================================================\n",
      "Dep. Variable:                cpuload   No. Observations:                  823\n",
      "Model:                 ARIMA(1, 0, 1)   Log Likelihood               -1973.630\n",
      "Date:                Mon, 05 Jun 2023   AIC                           3955.261\n",
      "Time:                        19:16:32   BIC                           3974.113\n",
      "Sample:                             0   HQIC                          3962.493\n",
      "                                - 823                                         \n",
      "Covariance Type:                  opg                                         \n",
      "==============================================================================\n",
      "                 coef    std err          z      P>|z|      [0.025      0.975]\n",
      "------------------------------------------------------------------------------\n",
      "const          9.5444      0.520     18.346      0.000       8.525      10.564\n",
      "ar.L1          0.9524      0.017     55.387      0.000       0.919       0.986\n",
      "ma.L1         -0.7706      0.028    -27.301      0.000      -0.826      -0.715\n",
      "sigma2         7.0820      0.175     40.427      0.000       6.739       7.425\n",
      "===================================================================================\n",
      "Ljung-Box (L1) (Q):                   0.28   Jarque-Bera (JB):              3391.76\n",
      "Prob(Q):                              0.60   Prob(JB):                         0.00\n",
      "Heteroskedasticity (H):               1.29   Skew:                             1.78\n",
      "Prob(H) (two-sided):                  0.03   Kurtosis:                        12.29\n",
      "===================================================================================\n",
      "\n",
      "Warnings:\n",
      "[1] Covariance matrix calculated using the outer product of gradients (complex-step).\n",
      "\n",
      "\n",
      "Val 0.4\n",
      "                               SARIMAX Results                                \n",
      "==============================================================================\n",
      "Dep. Variable:                cpuload   No. Observations:                  210\n",
      "Model:                 ARIMA(1, 0, 1)   Log Likelihood                -635.945\n",
      "Date:                Mon, 05 Jun 2023   AIC                           1279.889\n",
      "Time:                        19:16:32   BIC                           1293.278\n",
      "Sample:                             0   HQIC                          1285.302\n",
      "                                - 210                                         \n",
      "Covariance Type:                  opg                                         \n",
      "==============================================================================\n",
      "                 coef    std err          z      P>|z|      [0.025      0.975]\n",
      "------------------------------------------------------------------------------\n",
      "const         13.9793      1.490      9.380      0.000      11.058      16.900\n",
      "ar.L1          0.9608      0.051     18.750      0.000       0.860       1.061\n",
      "ma.L1         -0.8763      0.079    -11.070      0.000      -1.031      -0.721\n",
      "sigma2        24.9568      1.249     19.983      0.000      22.509      27.405\n",
      "===================================================================================\n",
      "Ljung-Box (L1) (Q):                   0.19   Jarque-Bera (JB):              3095.28\n",
      "Prob(Q):                              0.66   Prob(JB):                         0.00\n",
      "Heteroskedasticity (H):               1.32   Skew:                             3.16\n",
      "Prob(H) (two-sided):                  0.25   Kurtosis:                        20.71\n",
      "===================================================================================\n",
      "\n",
      "Warnings:\n",
      "[1] Covariance matrix calculated using the outer product of gradients (complex-step).\n",
      "\n",
      "\n",
      "Val 0.5\n",
      "                               SARIMAX Results                                \n",
      "==============================================================================\n",
      "Dep. Variable:                cpuload   No. Observations:                  110\n",
      "Model:                 ARIMA(1, 0, 1)   Log Likelihood                -364.024\n",
      "Date:                Mon, 05 Jun 2023   AIC                            736.048\n",
      "Time:                        19:16:32   BIC                            746.850\n",
      "Sample:                             0   HQIC                           740.429\n",
      "                                - 110                                         \n",
      "Covariance Type:                  opg                                         \n",
      "==============================================================================\n",
      "                 coef    std err          z      P>|z|      [0.025      0.975]\n",
      "------------------------------------------------------------------------------\n",
      "const         24.2449      1.191     20.361      0.000      21.911      26.579\n",
      "ar.L1          0.8438      0.143      5.900      0.000       0.563       1.124\n",
      "ma.L1         -0.7011      0.186     -3.761      0.000      -1.066      -0.336\n",
      "sigma2        43.7951      3.660     11.965      0.000      36.621      50.969\n",
      "===================================================================================\n",
      "Ljung-Box (L1) (Q):                   0.10   Jarque-Bera (JB):                57.94\n",
      "Prob(Q):                              0.75   Prob(JB):                         0.00\n",
      "Heteroskedasticity (H):               0.64   Skew:                             0.13\n",
      "Prob(H) (two-sided):                  0.18   Kurtosis:                         6.55\n",
      "===================================================================================\n",
      "\n",
      "Warnings:\n",
      "[1] Covariance matrix calculated using the outer product of gradients (complex-step).\n",
      "\n",
      "\n",
      "Val 1.2\n",
      "                               SARIMAX Results                                \n",
      "==============================================================================\n",
      "Dep. Variable:                cpuload   No. Observations:                   41\n",
      "Model:                 ARIMA(1, 0, 1)   Log Likelihood                 -99.584\n",
      "Date:                Mon, 05 Jun 2023   AIC                            207.168\n",
      "Time:                        19:16:32   BIC                            214.023\n",
      "Sample:                             0   HQIC                           209.664\n",
      "                                 - 41                                         \n",
      "Covariance Type:                  opg                                         \n",
      "==============================================================================\n",
      "                 coef    std err          z      P>|z|      [0.025      0.975]\n",
      "------------------------------------------------------------------------------\n",
      "const         82.5452      0.596    138.570      0.000      81.378      83.713\n",
      "ar.L1          0.6880      1.930      0.356      0.722      -3.096       4.472\n",
      "ma.L1         -0.6335      1.990     -0.318      0.750      -4.533       3.266\n",
      "sigma2         7.5357      1.880      4.007      0.000       3.850      11.221\n",
      "===================================================================================\n",
      "Ljung-Box (L1) (Q):                   0.08   Jarque-Bera (JB):                 1.31\n",
      "Prob(Q):                              0.78   Prob(JB):                         0.52\n",
      "Heteroskedasticity (H):               0.74   Skew:                            -0.42\n",
      "Prob(H) (two-sided):                  0.57   Kurtosis:                         2.77\n",
      "===================================================================================\n",
      "\n",
      "Warnings:\n",
      "[1] Covariance matrix calculated using the outer product of gradients (complex-step).\n",
      "\n",
      "\n",
      "Val 0.7\n",
      "                               SARIMAX Results                                \n",
      "==============================================================================\n",
      "Dep. Variable:                cpuload   No. Observations:                  129\n",
      "Model:                 ARIMA(1, 0, 1)   Log Likelihood                -414.198\n",
      "Date:                Mon, 05 Jun 2023   AIC                            836.397\n",
      "Time:                        19:16:32   BIC                            847.836\n",
      "Sample:                             0   HQIC                           841.045\n",
      "                                - 129                                         \n",
      "Covariance Type:                  opg                                         \n",
      "==============================================================================\n",
      "                 coef    std err          z      P>|z|      [0.025      0.975]\n",
      "------------------------------------------------------------------------------\n",
      "const         40.8845      0.595     68.661      0.000      39.717      42.052\n",
      "ar.L1         -0.9514      0.338     -2.812      0.005      -1.615      -0.288\n",
      "ma.L1          0.9425      0.367      2.570      0.010       0.224       1.661\n",
      "sigma2        36.0089      2.266     15.888      0.000      31.567      40.451\n",
      "===================================================================================\n",
      "Ljung-Box (L1) (Q):                   0.04   Jarque-Bera (JB):               414.82\n",
      "Prob(Q):                              0.84   Prob(JB):                         0.00\n",
      "Heteroskedasticity (H):               2.10   Skew:                            -0.74\n",
      "Prob(H) (two-sided):                  0.02   Kurtosis:                        11.66\n",
      "===================================================================================\n",
      "\n",
      "Warnings:\n",
      "[1] Covariance matrix calculated using the outer product of gradients (complex-step).\n",
      "\n",
      "\n",
      "Val 0.8\n",
      "                               SARIMAX Results                                \n",
      "==============================================================================\n",
      "Dep. Variable:                cpuload   No. Observations:                   96\n",
      "Model:                 ARIMA(1, 0, 1)   Log Likelihood                -323.785\n",
      "Date:                Mon, 05 Jun 2023   AIC                            655.571\n",
      "Time:                        19:16:32   BIC                            665.828\n",
      "Sample:                             0   HQIC                           659.717\n",
      "                                 - 96                                         \n",
      "Covariance Type:                  opg                                         \n",
      "==============================================================================\n",
      "                 coef    std err          z      P>|z|      [0.025      0.975]\n",
      "------------------------------------------------------------------------------\n",
      "const         48.3660      1.245     38.864      0.000      45.927      50.805\n",
      "ar.L1          0.0013      1.788      0.001      0.999      -3.504       3.507\n",
      "ma.L1         -0.1418      1.770     -0.080      0.936      -3.612       3.328\n",
      "sigma2        49.7716      4.100     12.139      0.000      41.736      57.808\n",
      "===================================================================================\n",
      "Ljung-Box (L1) (Q):                   0.00   Jarque-Bera (JB):              2713.18\n",
      "Prob(Q):                              0.99   Prob(JB):                         0.00\n",
      "Heteroskedasticity (H):               8.25   Skew:                            -4.40\n",
      "Prob(H) (two-sided):                  0.00   Kurtosis:                        27.51\n",
      "===================================================================================\n",
      "\n",
      "Warnings:\n",
      "[1] Covariance matrix calculated using the outer product of gradients (complex-step).\n",
      "\n",
      "\n",
      "Val 1.4\n"
     ]
    },
    {
     "name": "stderr",
     "output_type": "stream",
     "text": [
      "/Users/dmukherjee/anaconda3/lib/python3.8/site-packages/statsmodels/tsa/base/tsa_model.py:471: ValueWarning: An unsupported index was provided and will be ignored when e.g. forecasting.\n",
      "  self._init_dates(dates, freq)\n",
      "/Users/dmukherjee/anaconda3/lib/python3.8/site-packages/statsmodels/tsa/base/tsa_model.py:471: ValueWarning: An unsupported index was provided and will be ignored when e.g. forecasting.\n",
      "  self._init_dates(dates, freq)\n",
      "/Users/dmukherjee/anaconda3/lib/python3.8/site-packages/statsmodels/tsa/base/tsa_model.py:471: ValueWarning: An unsupported index was provided and will be ignored when e.g. forecasting.\n",
      "  self._init_dates(dates, freq)\n",
      "/Users/dmukherjee/anaconda3/lib/python3.8/site-packages/statsmodels/tsa/statespace/sarimax.py:966: UserWarning: Non-stationary starting autoregressive parameters found. Using zeros as starting parameters.\n",
      "  warn('Non-stationary starting autoregressive parameters'\n",
      "/Users/dmukherjee/anaconda3/lib/python3.8/site-packages/statsmodels/tsa/statespace/sarimax.py:978: UserWarning: Non-invertible starting MA parameters found. Using zeros as starting parameters.\n",
      "  warn('Non-invertible starting MA parameters found.'\n",
      "/Users/dmukherjee/anaconda3/lib/python3.8/site-packages/statsmodels/tsa/base/tsa_model.py:471: ValueWarning: An unsupported index was provided and will be ignored when e.g. forecasting.\n",
      "  self._init_dates(dates, freq)\n",
      "/Users/dmukherjee/anaconda3/lib/python3.8/site-packages/statsmodels/tsa/base/tsa_model.py:471: ValueWarning: An unsupported index was provided and will be ignored when e.g. forecasting.\n",
      "  self._init_dates(dates, freq)\n",
      "/Users/dmukherjee/anaconda3/lib/python3.8/site-packages/statsmodels/tsa/base/tsa_model.py:471: ValueWarning: An unsupported index was provided and will be ignored when e.g. forecasting.\n",
      "  self._init_dates(dates, freq)\n",
      "/Users/dmukherjee/anaconda3/lib/python3.8/site-packages/statsmodels/tsa/base/tsa_model.py:471: ValueWarning: An unsupported index was provided and will be ignored when e.g. forecasting.\n",
      "  self._init_dates(dates, freq)\n",
      "/Users/dmukherjee/anaconda3/lib/python3.8/site-packages/statsmodels/tsa/base/tsa_model.py:471: ValueWarning: An unsupported index was provided and will be ignored when e.g. forecasting.\n",
      "  self._init_dates(dates, freq)\n",
      "/Users/dmukherjee/anaconda3/lib/python3.8/site-packages/statsmodels/tsa/base/tsa_model.py:471: ValueWarning: An unsupported index was provided and will be ignored when e.g. forecasting.\n",
      "  self._init_dates(dates, freq)\n",
      "/Users/dmukherjee/anaconda3/lib/python3.8/site-packages/statsmodels/tsa/statespace/sarimax.py:966: UserWarning: Non-stationary starting autoregressive parameters found. Using zeros as starting parameters.\n",
      "  warn('Non-stationary starting autoregressive parameters'\n",
      "/Users/dmukherjee/anaconda3/lib/python3.8/site-packages/statsmodels/tsa/statespace/sarimax.py:978: UserWarning: Non-invertible starting MA parameters found. Using zeros as starting parameters.\n",
      "  warn('Non-invertible starting MA parameters found.'\n",
      "/Users/dmukherjee/anaconda3/lib/python3.8/site-packages/statsmodels/tsa/base/tsa_model.py:471: ValueWarning: An unsupported index was provided and will be ignored when e.g. forecasting.\n",
      "  self._init_dates(dates, freq)\n",
      "/Users/dmukherjee/anaconda3/lib/python3.8/site-packages/statsmodels/tsa/base/tsa_model.py:471: ValueWarning: An unsupported index was provided and will be ignored when e.g. forecasting.\n",
      "  self._init_dates(dates, freq)\n",
      "/Users/dmukherjee/anaconda3/lib/python3.8/site-packages/statsmodels/tsa/base/tsa_model.py:471: ValueWarning: An unsupported index was provided and will be ignored when e.g. forecasting.\n",
      "  self._init_dates(dates, freq)\n",
      "/Users/dmukherjee/anaconda3/lib/python3.8/site-packages/statsmodels/tsa/base/tsa_model.py:471: ValueWarning: An unsupported index was provided and will be ignored when e.g. forecasting.\n",
      "  self._init_dates(dates, freq)\n",
      "/Users/dmukherjee/anaconda3/lib/python3.8/site-packages/statsmodels/tsa/base/tsa_model.py:471: ValueWarning: An unsupported index was provided and will be ignored when e.g. forecasting.\n",
      "  self._init_dates(dates, freq)\n",
      "/Users/dmukherjee/anaconda3/lib/python3.8/site-packages/statsmodels/tsa/base/tsa_model.py:471: ValueWarning: An unsupported index was provided and will be ignored when e.g. forecasting.\n",
      "  self._init_dates(dates, freq)\n",
      "/Users/dmukherjee/anaconda3/lib/python3.8/site-packages/statsmodels/tsa/base/tsa_model.py:471: ValueWarning: An unsupported index was provided and will be ignored when e.g. forecasting.\n",
      "  self._init_dates(dates, freq)\n",
      "/Users/dmukherjee/anaconda3/lib/python3.8/site-packages/statsmodels/tsa/base/tsa_model.py:471: ValueWarning: An unsupported index was provided and will be ignored when e.g. forecasting.\n",
      "  self._init_dates(dates, freq)\n",
      "/Users/dmukherjee/anaconda3/lib/python3.8/site-packages/statsmodels/tsa/base/tsa_model.py:471: ValueWarning: An unsupported index was provided and will be ignored when e.g. forecasting.\n",
      "  self._init_dates(dates, freq)\n",
      "/Users/dmukherjee/anaconda3/lib/python3.8/site-packages/statsmodels/tsa/statespace/sarimax.py:966: UserWarning: Non-stationary starting autoregressive parameters found. Using zeros as starting parameters.\n",
      "  warn('Non-stationary starting autoregressive parameters'\n",
      "/Users/dmukherjee/anaconda3/lib/python3.8/site-packages/statsmodels/tsa/statespace/sarimax.py:978: UserWarning: Non-invertible starting MA parameters found. Using zeros as starting parameters.\n",
      "  warn('Non-invertible starting MA parameters found.'\n"
     ]
    },
    {
     "name": "stdout",
     "output_type": "stream",
     "text": [
      "                               SARIMAX Results                                \n",
      "==============================================================================\n",
      "Dep. Variable:                cpuload   No. Observations:                  243\n",
      "Model:                 ARIMA(1, 0, 1)   Log Likelihood                -103.321\n",
      "Date:                Mon, 05 Jun 2023   AIC                            214.641\n",
      "Time:                        19:16:32   BIC                            228.614\n",
      "Sample:                             0   HQIC                           220.269\n",
      "                                - 243                                         \n",
      "Covariance Type:                  opg                                         \n",
      "==============================================================================\n",
      "                 coef    std err          z      P>|z|      [0.025      0.975]\n",
      "------------------------------------------------------------------------------\n",
      "const         99.9524      0.133    750.907      0.000      99.692     100.213\n",
      "ar.L1          0.8849      1.990      0.445      0.657      -3.015       4.785\n",
      "ma.L1         -0.9125      1.596     -0.572      0.568      -4.041       2.216\n",
      "sigma2         0.1370      0.019      7.050      0.000       0.099       0.175\n",
      "===================================================================================\n",
      "Ljung-Box (L1) (Q):                   0.02   Jarque-Bera (JB):             56158.37\n",
      "Prob(Q):                              0.88   Prob(JB):                         0.00\n",
      "Heteroskedasticity (H):               0.69   Skew:                            -8.28\n",
      "Prob(H) (two-sided):                  0.10   Kurtosis:                        75.61\n",
      "===================================================================================\n",
      "\n",
      "Warnings:\n",
      "[1] Covariance matrix calculated using the outer product of gradients (complex-step).\n",
      "\n",
      "\n",
      "Val 1.3\n",
      "                               SARIMAX Results                                \n",
      "==============================================================================\n",
      "Dep. Variable:                cpuload   No. Observations:                   57\n",
      "Model:                 ARIMA(1, 0, 1)   Log Likelihood                -121.599\n",
      "Date:                Mon, 05 Jun 2023   AIC                            251.198\n",
      "Time:                        19:16:32   BIC                            259.370\n",
      "Sample:                             0   HQIC                           254.374\n",
      "                                 - 57                                         \n",
      "Covariance Type:                  opg                                         \n",
      "==============================================================================\n",
      "                 coef    std err          z      P>|z|      [0.025      0.975]\n",
      "------------------------------------------------------------------------------\n",
      "const         90.8475      0.367    247.262      0.000      90.127      91.568\n",
      "ar.L1         -0.4202      0.931     -0.451      0.652      -2.245       1.404\n",
      "ma.L1          0.5615      0.900      0.624      0.533      -1.203       2.326\n",
      "sigma2         4.1709      0.521      8.002      0.000       3.149       5.192\n",
      "===================================================================================\n",
      "Ljung-Box (L1) (Q):                   0.05   Jarque-Bera (JB):                80.56\n",
      "Prob(Q):                              0.83   Prob(JB):                         0.00\n",
      "Heteroskedasticity (H):               3.50   Skew:                             1.54\n",
      "Prob(H) (two-sided):                  0.01   Kurtosis:                         7.94\n",
      "===================================================================================\n",
      "\n",
      "Warnings:\n",
      "[1] Covariance matrix calculated using the outer product of gradients (complex-step).\n",
      "\n",
      "\n",
      "Val 1.0\n",
      "                               SARIMAX Results                                \n",
      "==============================================================================\n",
      "Dep. Variable:                cpuload   No. Observations:                   49\n",
      "Model:                 ARIMA(1, 0, 1)   Log Likelihood                -162.158\n",
      "Date:                Mon, 05 Jun 2023   AIC                            332.315\n",
      "Time:                        19:16:32   BIC                            339.882\n",
      "Sample:                             0   HQIC                           335.186\n",
      "                                 - 49                                         \n",
      "Covariance Type:                  opg                                         \n",
      "==============================================================================\n",
      "                 coef    std err          z      P>|z|      [0.025      0.975]\n",
      "------------------------------------------------------------------------------\n",
      "const         64.9975      2.305     28.195      0.000      60.479      69.516\n",
      "ar.L1          0.7542      1.725      0.437      0.662      -2.626       4.134\n",
      "ma.L1         -0.6984      1.869     -0.374      0.709      -4.361       2.964\n",
      "sigma2        43.8388      6.800      6.447      0.000      30.511      57.166\n",
      "===================================================================================\n",
      "Ljung-Box (L1) (Q):                   0.01   Jarque-Bera (JB):               383.14\n",
      "Prob(Q):                              0.93   Prob(JB):                         0.00\n",
      "Heteroskedasticity (H):               4.67   Skew:                            -2.87\n",
      "Prob(H) (two-sided):                  0.00   Kurtosis:                        15.43\n",
      "===================================================================================\n",
      "\n",
      "Warnings:\n",
      "[1] Covariance matrix calculated using the outer product of gradients (complex-step).\n",
      "\n",
      "\n",
      "Val 0.9\n",
      "                               SARIMAX Results                                \n",
      "==============================================================================\n",
      "Dep. Variable:                cpuload   No. Observations:                   61\n",
      "Model:                 ARIMA(1, 0, 1)   Log Likelihood                -214.585\n",
      "Date:                Mon, 05 Jun 2023   AIC                            437.170\n",
      "Time:                        19:16:32   BIC                            445.613\n",
      "Sample:                             0   HQIC                           440.479\n",
      "                                 - 61                                         \n",
      "Covariance Type:                  opg                                         \n",
      "==============================================================================\n",
      "                 coef    std err          z      P>|z|      [0.025      0.975]\n",
      "------------------------------------------------------------------------------\n",
      "const         57.1733      1.210     47.246      0.000      54.802      59.545\n",
      "ar.L1         -0.0462      1.494     -0.031      0.975      -2.975       2.883\n",
      "ma.L1         -0.2153      1.465     -0.147      0.883      -3.087       2.656\n",
      "sigma2        66.4571      7.091      9.372      0.000      52.559      80.355\n",
      "===================================================================================\n",
      "Ljung-Box (L1) (Q):                   0.00   Jarque-Bera (JB):               350.20\n",
      "Prob(Q):                              0.97   Prob(JB):                         0.00\n",
      "Heteroskedasticity (H):               0.71   Skew:                            -2.50\n",
      "Prob(H) (two-sided):                  0.44   Kurtosis:                        13.62\n",
      "===================================================================================\n",
      "\n",
      "Warnings:\n",
      "[1] Covariance matrix calculated using the outer product of gradients (complex-step).\n",
      "\n",
      "\n",
      "Val 1.1\n",
      "                               SARIMAX Results                                \n",
      "==============================================================================\n",
      "Dep. Variable:                cpuload   No. Observations:                   34\n",
      "Model:                 ARIMA(1, 0, 1)   Log Likelihood                -134.798\n",
      "Date:                Mon, 05 Jun 2023   AIC                            277.595\n",
      "Time:                        19:16:33   BIC                            283.700\n",
      "Sample:                             0   HQIC                           279.677\n",
      "                                 - 34                                         \n",
      "Covariance Type:                  opg                                         \n",
      "==============================================================================\n",
      "                 coef    std err          z      P>|z|      [0.025      0.975]\n",
      "------------------------------------------------------------------------------\n",
      "const         73.7007      8.448      8.724      0.000      57.143      90.258\n",
      "ar.L1         -0.2678      1.050     -0.255      0.799      -2.327       1.791\n",
      "ma.L1          0.7383      1.003      0.736      0.461      -1.227       2.703\n",
      "sigma2       160.6121     43.576      3.686      0.000      75.204     246.020\n",
      "===================================================================================\n",
      "Ljung-Box (L1) (Q):                   0.01   Jarque-Bera (JB):               699.82\n",
      "Prob(Q):                              0.91   Prob(JB):                         0.00\n",
      "Heteroskedasticity (H):              12.84   Skew:                            -4.36\n",
      "Prob(H) (two-sided):                  0.00   Kurtosis:                        23.44\n",
      "===================================================================================\n",
      "\n",
      "Warnings:\n",
      "[1] Covariance matrix calculated using the outer product of gradients (complex-step).\n"
     ]
    },
    {
     "name": "stderr",
     "output_type": "stream",
     "text": [
      "/Users/dmukherjee/anaconda3/lib/python3.8/site-packages/statsmodels/tsa/base/tsa_model.py:471: ValueWarning: An unsupported index was provided and will be ignored when e.g. forecasting.\n",
      "  self._init_dates(dates, freq)\n",
      "/Users/dmukherjee/anaconda3/lib/python3.8/site-packages/statsmodels/tsa/base/tsa_model.py:471: ValueWarning: An unsupported index was provided and will be ignored when e.g. forecasting.\n",
      "  self._init_dates(dates, freq)\n",
      "/Users/dmukherjee/anaconda3/lib/python3.8/site-packages/statsmodels/tsa/base/tsa_model.py:471: ValueWarning: An unsupported index was provided and will be ignored when e.g. forecasting.\n",
      "  self._init_dates(dates, freq)\n",
      "/Users/dmukherjee/anaconda3/lib/python3.8/site-packages/statsmodels/tsa/base/tsa_model.py:471: ValueWarning: An unsupported index was provided and will be ignored when e.g. forecasting.\n",
      "  self._init_dates(dates, freq)\n",
      "/Users/dmukherjee/anaconda3/lib/python3.8/site-packages/statsmodels/tsa/base/tsa_model.py:471: ValueWarning: An unsupported index was provided and will be ignored when e.g. forecasting.\n",
      "  self._init_dates(dates, freq)\n",
      "/Users/dmukherjee/anaconda3/lib/python3.8/site-packages/statsmodels/tsa/base/tsa_model.py:471: ValueWarning: An unsupported index was provided and will be ignored when e.g. forecasting.\n",
      "  self._init_dates(dates, freq)\n",
      "/Users/dmukherjee/anaconda3/lib/python3.8/site-packages/statsmodels/tsa/base/tsa_model.py:471: ValueWarning: An unsupported index was provided and will be ignored when e.g. forecasting.\n",
      "  self._init_dates(dates, freq)\n",
      "/Users/dmukherjee/anaconda3/lib/python3.8/site-packages/statsmodels/tsa/base/tsa_model.py:471: ValueWarning: An unsupported index was provided and will be ignored when e.g. forecasting.\n",
      "  self._init_dates(dates, freq)\n",
      "/Users/dmukherjee/anaconda3/lib/python3.8/site-packages/statsmodels/tsa/base/tsa_model.py:471: ValueWarning: An unsupported index was provided and will be ignored when e.g. forecasting.\n",
      "  self._init_dates(dates, freq)\n",
      "/Users/dmukherjee/anaconda3/lib/python3.8/site-packages/statsmodels/tsa/base/tsa_model.py:471: ValueWarning: An unsupported index was provided and will be ignored when e.g. forecasting.\n",
      "  self._init_dates(dates, freq)\n",
      "/Users/dmukherjee/anaconda3/lib/python3.8/site-packages/statsmodels/tsa/base/tsa_model.py:471: ValueWarning: An unsupported index was provided and will be ignored when e.g. forecasting.\n",
      "  self._init_dates(dates, freq)\n",
      "/Users/dmukherjee/anaconda3/lib/python3.8/site-packages/statsmodels/tsa/base/tsa_model.py:471: ValueWarning: An unsupported index was provided and will be ignored when e.g. forecasting.\n",
      "  self._init_dates(dates, freq)\n"
     ]
    }
   ],
   "source": [
    "gresult ={}\n",
    "for val in cpuFArr:\n",
    "    print(\"\\n\\nVal\",val)\n",
    "    gmodel = ARIMA(mapTrain[val]['cpuload'], order=(1,0,1))\n",
    "    gresult[val] = gmodel.fit()\n",
    "    print(gresult[val].summary())"
   ]
  },
  {
   "cell_type": "markdown",
   "metadata": {},
   "source": [
    "### The results are very confusing\n",
    "What should serve as the endogenous and exogenous variable for this model?"
   ]
  },
  {
   "cell_type": "markdown",
   "metadata": {},
   "source": [
    "# Plotting the data\n",
    "Understand how does the state looks like with the change\n"
   ]
  },
  {
   "cell_type": "code",
   "execution_count": 51,
   "metadata": {},
   "outputs": [
    {
     "data": {
      "text/plain": [
       "<matplotlib.axes._subplots.AxesSubplot at 0x7fac43b6a0a0>"
      ]
     },
     "execution_count": 51,
     "metadata": {},
     "output_type": "execute_result"
    },
    {
     "data": {
      "image/png": "[encoded data removed]",
      "text/plain": [
       "<Figure size 720x360 with 1 Axes>"
      ]
     },
     "metadata": {},
     "output_type": "display_data"
    }
   ],
   "source": [
    "utilData.plot(y='cpuload')"
   ]
  },
  {
   "cell_type": "code",
   "execution_count": 52,
   "metadata": {},
   "outputs": [
    {
     "data": {
      "text/plain": [
       "<matplotlib.axes._subplots.AxesSubplot at 0x7fac30ab1310>"
      ]
     },
     "execution_count": 52,
     "metadata": {},
     "output_type": "execute_result"
    },
    {
     "data": {
      "image/png": "[encoded data removed]",
      "text/plain": [
       "<Figure size 720x360 with 1 Axes>"
      ]
     },
     "metadata": {},
     "output_type": "display_data"
    }
   ],
   "source": [
    "utilData.plot(y='memLoad')"
   ]
  },
  {
   "cell_type": "code",
   "execution_count": 53,
   "metadata": {},
   "outputs": [],
   "source": [
    "x_axis= utilData.index.values.tolist()"
   ]
  },
  {
   "cell_type": "code",
   "execution_count": 54,
   "metadata": {},
   "outputs": [
    {
     "data": {
      "text/plain": [
       "[<matplotlib.lines.Line2D at 0x7fac43e2a070>]"
      ]
     },
     "execution_count": 54,
     "metadata": {},
     "output_type": "execute_result"
    },
    {
     "data": {
      "text/plain": [
       "<Figure size 3600x144 with 0 Axes>"
      ]
     },
     "metadata": {},
     "output_type": "display_data"
    },
    {
     "data": {
      "image/png": "[encoded data removed]",
      "text/plain": [
       "<Figure size 720x360 with 2 Axes>"
      ]
     },
     "metadata": {},
     "output_type": "display_data"
    }
   ],
   "source": [
    "plt.figure(figsize=(50,2))\n",
    "fig, ax1 = plt.subplots()\n",
    "\n",
    "x = utilData.index.values.tolist()\n",
    "y1 = utilData['cpuScore']\n",
    "y2 = utilData['memLoad']\n",
    "\n",
    "ax2 = ax1.twinx()\n",
    "\n",
    "ax1.plot(x, y1, 'go')\n",
    "ax2.plot(x, y2, 'bo')"
   ]
  },
  {
   "cell_type": "code",
   "execution_count": 55,
   "metadata": {},
   "outputs": [],
   "source": [
    "# Empty space for plotting more"
   ]
  },
  {
   "cell_type": "markdown",
   "metadata": {},
   "source": [
    "# Characterizing state and load behaviour\n",
    "How does cpuload, memload, and their frequencies fare"
   ]
  },
  {
   "cell_type": "code",
   "execution_count": 56,
   "metadata": {},
   "outputs": [],
   "source": [
    "def diffCorr(x,y):\n",
    "    print(\"Pearson\",stats.pearsonr(x,y))\n",
    "    print(\"Spearman\",stats.spearmanr(x,y))"
   ]
  },
  {
   "cell_type": "code",
   "execution_count": 57,
   "metadata": {},
   "outputs": [
    {
     "name": "stdout",
     "output_type": "stream",
     "text": [
      "Pearson (0.3836347504363803, 1.7063228385824234e-94)\n",
      "Spearman SpearmanrResult(correlation=0.47070653722998695, pvalue=1.5434514304878583e-147)\n"
     ]
    }
   ],
   "source": [
    "x1 = utilData['cpuF'].to_numpy()\n",
    "x2 = utilData['memfreq'].to_numpy()\n",
    "diffCorr(x1,x2)"
   ]
  },
  {
   "cell_type": "code",
   "execution_count": 58,
   "metadata": {},
   "outputs": [
    {
     "name": "stdout",
     "output_type": "stream",
     "text": [
      "Pearson (0.16319251172460275, 2.0338312191249533e-17)\n",
      "Spearman SpearmanrResult(correlation=0.27231234018077843, pvalue=1.1147530764989117e-46)\n"
     ]
    }
   ],
   "source": [
    "x1 = utilData['memLoad'].to_numpy()\n",
    "x2 = utilData['cpuload'].to_numpy()\n",
    "diffCorr(x1,x2)"
   ]
  },
  {
   "cell_type": "code",
   "execution_count": 59,
   "metadata": {},
   "outputs": [
    {
     "name": "stdout",
     "output_type": "stream",
     "text": [
      "Pearson (0.9767547511328467, 0.0)\n",
      "Spearman SpearmanrResult(correlation=0.9563341295204049, pvalue=0.0)\n"
     ]
    }
   ],
   "source": [
    "x1 = utilData['cpuF'].to_numpy()\n",
    "x2 = utilData['cpuScore'].to_numpy()\n",
    "diffCorr(x1,x2)"
   ]
  },
  {
   "cell_type": "code",
   "execution_count": 60,
   "metadata": {},
   "outputs": [
    {
     "name": "stdout",
     "output_type": "stream",
     "text": [
      "Pearson (0.6229270915789485, 2.867526676183596e-287)\n",
      "Spearman SpearmanrResult(correlation=0.5987098763658174, pvalue=7.37488228744494e-260)\n"
     ]
    }
   ],
   "source": [
    "x1 = utilData['memfreq'].to_numpy()\n",
    "x2 = utilData['memLoad'].to_numpy()\n",
    "diffCorr(x1,x2)"
   ]
  },
  {
   "cell_type": "code",
   "execution_count": 61,
   "metadata": {},
   "outputs": [
    {
     "name": "stdout",
     "output_type": "stream",
     "text": [
      "Pearson (0.16660193575121196, 4.255277434031809e-18)\n",
      "Spearman SpearmanrResult(correlation=0.3111704705195926, pvalue=4.017215464125179e-61)\n"
     ]
    }
   ],
   "source": [
    "x1 = utilData['cpuF'].to_numpy()\n",
    "x2 = utilData['memLoad'].to_numpy()\n",
    "diffCorr(x1,x2)"
   ]
  },
  {
   "cell_type": "code",
   "execution_count": 62,
   "metadata": {},
   "outputs": [
    {
     "name": "stdout",
     "output_type": "stream",
     "text": [
      "Pearson (0.28102522714424977, 1.0101016102936825e-49)\n",
      "Spearman SpearmanrResult(correlation=0.44547340370761845, pvalue=1.5588595621015236e-130)\n"
     ]
    }
   ],
   "source": [
    "x1 = utilData['memfreq'].to_numpy()\n",
    "x2 = utilData['cpuScore'].to_numpy()\n",
    "diffCorr(x1,x2)"
   ]
  },
  {
   "cell_type": "markdown",
   "metadata": {},
   "source": [
    "### Note: Memory has more cross resource predictive power but cpu is better at its own prediction\n",
    "We will utilize these values and try run a linear model to check how the coefficients look for a multi-dimensional ARMA model and a linear/other regression model"
   ]
  },
  {
   "cell_type": "code",
   "execution_count": 63,
   "metadata": {},
   "outputs": [],
   "source": [
    "#Empty space for code"
   ]
  },
  {
   "cell_type": "markdown",
   "metadata": {},
   "source": [
    "# Plotting PACF and ACF\n",
    "We need to find out the level of autocorrelation in the values"
   ]
  },
  {
   "cell_type": "code",
   "execution_count": 64,
   "metadata": {},
   "outputs": [],
   "source": [
    "from statsmodels.graphics.tsaplots import plot_pacf, plot_acf"
   ]
  },
  {
   "cell_type": "code",
   "execution_count": 65,
   "metadata": {},
   "outputs": [
    {
     "data": {
      "image/png": "[encoded data removed]",
      "text/plain": [
       "<Figure size 720x360 with 1 Axes>"
      ]
     },
     "metadata": {},
     "output_type": "display_data"
    }
   ],
   "source": [
    "plot_pacf(tot_train['cpuF'], lags=80, alpha=0.05,method='ols');"
   ]
  },
  {
   "cell_type": "code",
   "execution_count": 66,
   "metadata": {},
   "outputs": [
    {
     "data": {
      "image/png": "[encoded data removed]",
      "text/plain": [
       "<Figure size 720x360 with 1 Axes>"
      ]
     },
     "metadata": {},
     "output_type": "display_data"
    }
   ],
   "source": [
    "plot_acf(tot_train['cpuload'], lags=87, alpha=0.05);"
   ]
  },
  {
   "cell_type": "code",
   "execution_count": 67,
   "metadata": {},
   "outputs": [
    {
     "data": {
      "image/png": "[encoded data removed]",
      "text/plain": [
       "<Figure size 720x360 with 1 Axes>"
      ]
     },
     "metadata": {},
     "output_type": "display_data"
    }
   ],
   "source": [
    "plot_pacf(tot_train['memScore'], lags=80, alpha=0.05,method='ols');"
   ]
  },
  {
   "cell_type": "code",
   "execution_count": 68,
   "metadata": {},
   "outputs": [
    {
     "data": {
      "image/png": "[encoded data removed]",
      "text/plain": [
       "<Figure size 720x360 with 1 Axes>"
      ]
     },
     "metadata": {},
     "output_type": "display_data"
    }
   ],
   "source": [
    "plot_acf(tot_train['memScore'], lags=200, alpha=0.05);"
   ]
  },
  {
   "cell_type": "code",
   "execution_count": null,
   "metadata": {},
   "outputs": [],
   "source": []
  }
 ],
 "metadata": {
  "kernelspec": {
   "display_name": "Python 3",
   "language": "python",
   "name": "python3"
  },
  "language_info": {
   "codemirror_mode": {
    "name": "ipython",
    "version": 3
   },
   "file_extension": ".py",
   "mimetype": "text/x-python",
   "name": "python",
   "nbconvert_exporter": "python",
   "pygments_lexer": "ipython3",
   "version": "3.8.3"
  }
 },
 "nbformat": 4,
 "nbformat_minor": 4
}
