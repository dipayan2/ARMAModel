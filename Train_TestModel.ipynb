{
 "cells": [
  {
   "cell_type": "code",
   "execution_count": 77,
   "metadata": {},
   "outputs": [],
   "source": [
    "import matplotlib.pyplot as plt\n",
    "import numpy as np\n",
    "import pandas as pd\n",
    "import statsmodels.api as sm\n",
    "from scipy import stats\n",
    "# from statsmodels.tsa.arima.model import ARIMA\n",
    "from statsmodels.tsa.arima.model import ARIMA\n",
    "from statsmodels.graphics.tsaplots import plot_predict"
   ]
  },
  {
   "cell_type": "code",
   "execution_count": 78,
   "metadata": {},
   "outputs": [],
   "source": [
    "from sklearn.model_selection import train_test_split"
   ]
  },
  {
   "cell_type": "code",
   "execution_count": 79,
   "metadata": {},
   "outputs": [],
   "source": [
    "plt.rcParams['figure.figsize'] = (10, 5)\n",
    "plt.style.use('fivethirtyeight')"
   ]
  },
  {
   "cell_type": "markdown",
   "metadata": {},
   "source": [
    "# Code for data extraction\n",
    "1. In this section we will load the raw data and extract utilization and frequency value"
   ]
  },
  {
   "cell_type": "code",
   "execution_count": 80,
   "metadata": {},
   "outputs": [
    {
     "data": {
      "text/plain": [
       "(2674, 6)"
      ]
     },
     "execution_count": 80,
     "metadata": {},
     "output_type": "execute_result"
    }
   ],
   "source": [
    "utilData = pd.read_csv('./Util_Run1.csv')\n",
    "utilData.shape"
   ]
  },
  {
   "cell_type": "code",
   "execution_count": 81,
   "metadata": {},
   "outputs": [
    {
     "data": {
      "text/html": [
       "<div>\n",
       "<style scoped>\n",
       "    .dataframe tbody tr th:only-of-type {\n",
       "        vertical-align: middle;\n",
       "    }\n",
       "\n",
       "    .dataframe tbody tr th {\n",
       "        vertical-align: top;\n",
       "    }\n",
       "\n",
       "    .dataframe thead th {\n",
       "        text-align: right;\n",
       "    }\n",
       "</style>\n",
       "<table border=\"1\" class=\"dataframe\">\n",
       "  <thead>\n",
       "    <tr style=\"text-align: right;\">\n",
       "      <th></th>\n",
       "      <th>memUse</th>\n",
       "      <th>memTot</th>\n",
       "      <th>memfreq</th>\n",
       "      <th>cpuid</th>\n",
       "      <th>cpuload</th>\n",
       "      <th>cpufreq</th>\n",
       "    </tr>\n",
       "  </thead>\n",
       "  <tbody>\n",
       "    <tr>\n",
       "      <th>0</th>\n",
       "      <td>604872</td>\n",
       "      <td>4612865</td>\n",
       "      <td>165000000</td>\n",
       "      <td>0</td>\n",
       "      <td>31</td>\n",
       "      <td>600000</td>\n",
       "    </tr>\n",
       "    <tr>\n",
       "      <th>1</th>\n",
       "      <td>675</td>\n",
       "      <td>28712</td>\n",
       "      <td>275000000</td>\n",
       "      <td>0</td>\n",
       "      <td>4</td>\n",
       "      <td>200000</td>\n",
       "    </tr>\n",
       "    <tr>\n",
       "      <th>2</th>\n",
       "      <td>1191888</td>\n",
       "      <td>12624777</td>\n",
       "      <td>413000000</td>\n",
       "      <td>0</td>\n",
       "      <td>8</td>\n",
       "      <td>200000</td>\n",
       "    </tr>\n",
       "    <tr>\n",
       "      <th>3</th>\n",
       "      <td>773492</td>\n",
       "      <td>8196989</td>\n",
       "      <td>275000000</td>\n",
       "      <td>0</td>\n",
       "      <td>9</td>\n",
       "      <td>300000</td>\n",
       "    </tr>\n",
       "    <tr>\n",
       "      <th>4</th>\n",
       "      <td>1144</td>\n",
       "      <td>57890</td>\n",
       "      <td>206000000</td>\n",
       "      <td>0</td>\n",
       "      <td>7</td>\n",
       "      <td>300000</td>\n",
       "    </tr>\n",
       "  </tbody>\n",
       "</table>\n",
       "</div>"
      ],
      "text/plain": [
       "    memUse    memTot    memfreq  cpuid  cpuload  cpufreq\n",
       "0   604872   4612865  165000000      0       31   600000\n",
       "1      675     28712  275000000      0        4   200000\n",
       "2  1191888  12624777  413000000      0        8   200000\n",
       "3   773492   8196989  275000000      0        9   300000\n",
       "4     1144     57890  206000000      0        7   300000"
      ]
     },
     "execution_count": 81,
     "metadata": {},
     "output_type": "execute_result"
    }
   ],
   "source": [
    "utilData.head()"
   ]
  },
  {
   "cell_type": "code",
   "execution_count": 82,
   "metadata": {},
   "outputs": [],
   "source": [
    "utilData['memLoad'] = utilData['memUse']/utilData['memTot']"
   ]
  },
  {
   "cell_type": "code",
   "execution_count": 83,
   "metadata": {},
   "outputs": [],
   "source": [
    "utilData['cpuScore'] = utilData['cpuload']*utilData['cpufreq']/1400000\n",
    "utilData['cpuF'] = utilData['cpufreq']/1000000"
   ]
  },
  {
   "cell_type": "code",
   "execution_count": 84,
   "metadata": {},
   "outputs": [
    {
     "data": {
      "text/html": [
       "<div>\n",
       "<style scoped>\n",
       "    .dataframe tbody tr th:only-of-type {\n",
       "        vertical-align: middle;\n",
       "    }\n",
       "\n",
       "    .dataframe tbody tr th {\n",
       "        vertical-align: top;\n",
       "    }\n",
       "\n",
       "    .dataframe thead th {\n",
       "        text-align: right;\n",
       "    }\n",
       "</style>\n",
       "<table border=\"1\" class=\"dataframe\">\n",
       "  <thead>\n",
       "    <tr style=\"text-align: right;\">\n",
       "      <th></th>\n",
       "      <th>memUse</th>\n",
       "      <th>memTot</th>\n",
       "      <th>memfreq</th>\n",
       "      <th>cpuid</th>\n",
       "      <th>cpuload</th>\n",
       "      <th>cpufreq</th>\n",
       "      <th>memLoad</th>\n",
       "      <th>cpuScore</th>\n",
       "      <th>cpuF</th>\n",
       "    </tr>\n",
       "  </thead>\n",
       "  <tbody>\n",
       "    <tr>\n",
       "      <th>0</th>\n",
       "      <td>604872</td>\n",
       "      <td>4612865</td>\n",
       "      <td>165000000</td>\n",
       "      <td>0</td>\n",
       "      <td>31</td>\n",
       "      <td>600000</td>\n",
       "      <td>0.131127</td>\n",
       "      <td>13.285714</td>\n",
       "      <td>0.6</td>\n",
       "    </tr>\n",
       "    <tr>\n",
       "      <th>1</th>\n",
       "      <td>675</td>\n",
       "      <td>28712</td>\n",
       "      <td>275000000</td>\n",
       "      <td>0</td>\n",
       "      <td>4</td>\n",
       "      <td>200000</td>\n",
       "      <td>0.023509</td>\n",
       "      <td>0.571429</td>\n",
       "      <td>0.2</td>\n",
       "    </tr>\n",
       "    <tr>\n",
       "      <th>2</th>\n",
       "      <td>1191888</td>\n",
       "      <td>12624777</td>\n",
       "      <td>413000000</td>\n",
       "      <td>0</td>\n",
       "      <td>8</td>\n",
       "      <td>200000</td>\n",
       "      <td>0.094409</td>\n",
       "      <td>1.142857</td>\n",
       "      <td>0.2</td>\n",
       "    </tr>\n",
       "    <tr>\n",
       "      <th>3</th>\n",
       "      <td>773492</td>\n",
       "      <td>8196989</td>\n",
       "      <td>275000000</td>\n",
       "      <td>0</td>\n",
       "      <td>9</td>\n",
       "      <td>300000</td>\n",
       "      <td>0.094363</td>\n",
       "      <td>1.928571</td>\n",
       "      <td>0.3</td>\n",
       "    </tr>\n",
       "    <tr>\n",
       "      <th>4</th>\n",
       "      <td>1144</td>\n",
       "      <td>57890</td>\n",
       "      <td>206000000</td>\n",
       "      <td>0</td>\n",
       "      <td>7</td>\n",
       "      <td>300000</td>\n",
       "      <td>0.019762</td>\n",
       "      <td>1.500000</td>\n",
       "      <td>0.3</td>\n",
       "    </tr>\n",
       "  </tbody>\n",
       "</table>\n",
       "</div>"
      ],
      "text/plain": [
       "    memUse    memTot    memfreq  cpuid  cpuload  cpufreq   memLoad   cpuScore  \\\n",
       "0   604872   4612865  165000000      0       31   600000  0.131127  13.285714   \n",
       "1      675     28712  275000000      0        4   200000  0.023509   0.571429   \n",
       "2  1191888  12624777  413000000      0        8   200000  0.094409   1.142857   \n",
       "3   773492   8196989  275000000      0        9   300000  0.094363   1.928571   \n",
       "4     1144     57890  206000000      0        7   300000  0.019762   1.500000   \n",
       "\n",
       "   cpuF  \n",
       "0   0.6  \n",
       "1   0.2  \n",
       "2   0.2  \n",
       "3   0.3  \n",
       "4   0.3  "
      ]
     },
     "execution_count": 84,
     "metadata": {},
     "output_type": "execute_result"
    }
   ],
   "source": [
    "utilData.head()"
   ]
  },
  {
   "cell_type": "code",
   "execution_count": 85,
   "metadata": {},
   "outputs": [],
   "source": [
    "tot_train = utilData.iloc[0:2136]\n"
   ]
  },
  {
   "cell_type": "code",
   "execution_count": 86,
   "metadata": {},
   "outputs": [
    {
     "name": "stdout",
     "output_type": "stream",
     "text": [
      "      memUse   memTot    memfreq  cpuid  cpuload  cpufreq   memLoad  \\\n",
      "529    41341   464426  825000000      0       50   800000  0.089015   \n",
      "530    41341   464426  825000000      0       33   600000  0.089015   \n",
      "531    41341   464426  825000000      0       30   600000  0.089015   \n",
      "532    41341   464426  825000000      0       29   500000  0.089015   \n",
      "533  2457799  3939455  825000000      0       40   700000  0.623893   \n",
      "\n",
      "      cpuScore  cpuF  \n",
      "529  28.571429   0.8  \n",
      "530  14.142857   0.6  \n",
      "531  12.857143   0.6  \n",
      "532  10.357143   0.5  \n",
      "533  20.000000   0.7  \n"
     ]
    },
    {
     "data": {
      "text/plain": [
       "(538, 9)"
      ]
     },
     "execution_count": 86,
     "metadata": {},
     "output_type": "execute_result"
    }
   ],
   "source": [
    "train_1 = utilData.iloc[0:534]\n",
    "train_2 = utilData.iloc[534:1068]\n",
    "train_3 = utilData.iloc[1068:1602]\n",
    "train_4 = utilData.iloc[1602:2136]\n",
    "test_data = utilData.iloc[2136:]\n",
    "print(train_1.tail())\n",
    "test_data.shape"
   ]
  },
  {
   "cell_type": "markdown",
   "metadata": {},
   "source": [
    "# Modeling \n",
    "In this section we will model the data and test its accuracy"
   ]
  },
  {
   "cell_type": "code",
   "execution_count": 119,
   "metadata": {},
   "outputs": [
    {
     "name": "stdout",
     "output_type": "stream",
     "text": [
      "                               SARIMAX Results                                \n",
      "==============================================================================\n",
      "Dep. Variable:                   cpuF   No. Observations:                 2136\n",
      "Model:                 ARIMA(4, 0, 1)   Log Likelihood                2774.198\n",
      "Date:                Fri, 02 Jun 2023   AIC                          -5532.396\n",
      "Time:                        13:31:14   BIC                          -5487.062\n",
      "Sample:                             0   HQIC                         -5515.806\n",
      "                               - 2136                                         \n",
      "Covariance Type:                  opg                                         \n",
      "==============================================================================\n",
      "                 coef    std err          z      P>|z|      [0.025      0.975]\n",
      "------------------------------------------------------------------------------\n",
      "const          0.3475      0.008     41.775      0.000       0.331       0.364\n",
      "cpuScore       0.0110      0.000    101.172      0.000       0.011       0.011\n",
      "ar.L1          0.2568      0.148      1.730      0.084      -0.034       0.548\n",
      "ar.L2          0.2681      0.055      4.883      0.000       0.160       0.376\n",
      "ar.L3          0.1208      0.044      2.776      0.006       0.036       0.206\n",
      "ar.L4          0.1382      0.026      5.404      0.000       0.088       0.188\n",
      "ma.L1          0.0943      0.150      0.631      0.528      -0.199       0.387\n",
      "sigma2         0.0044   6.48e-05     67.209      0.000       0.004       0.004\n",
      "===================================================================================\n",
      "Ljung-Box (L1) (Q):                   0.03   Jarque-Bera (JB):             12314.08\n",
      "Prob(Q):                              0.86   Prob(JB):                         0.00\n",
      "Heteroskedasticity (H):               1.81   Skew:                             1.53\n",
      "Prob(H) (two-sided):                  0.00   Kurtosis:                        14.36\n",
      "===================================================================================\n",
      "\n",
      "Warnings:\n",
      "[1] Covariance matrix calculated using the outer product of gradients (complex-step).\n"
     ]
    }
   ],
   "source": [
    "model = ARIMA(tot_train['cpuF'], order=(4,0,1), exog=tot_train['cpuScore'])\n",
    "result = model.fit()\n",
    "print(result.summary())"
   ]
  },
  {
   "cell_type": "code",
   "execution_count": 106,
   "metadata": {},
   "outputs": [
    {
     "name": "stdout",
     "output_type": "stream",
     "text": [
      "                               SARIMAX Results                                \n",
      "==============================================================================\n",
      "Dep. Variable:                   cpuF   No. Observations:                  534\n",
      "Model:                 ARIMA(4, 0, 1)   Log Likelihood                 781.146\n",
      "Date:                Fri, 02 Jun 2023   AIC                          -1546.291\n",
      "Time:                        12:43:36   BIC                          -1512.048\n",
      "Sample:                             0   HQIC                         -1532.892\n",
      "                                - 534                                         \n",
      "Covariance Type:                  opg                                         \n",
      "==============================================================================\n",
      "                 coef    std err          z      P>|z|      [0.025      0.975]\n",
      "------------------------------------------------------------------------------\n",
      "const          0.2969      0.009     34.200      0.000       0.280       0.314\n",
      "cpuScore       0.0127      0.000     66.935      0.000       0.012       0.013\n",
      "ar.L1          0.2057      0.621      0.331      0.741      -1.012       1.423\n",
      "ar.L2          0.2214      0.202      1.097      0.273      -0.174       0.617\n",
      "ar.L3          0.0743      0.131      0.567      0.571      -0.182       0.331\n",
      "ar.L4          0.0795      0.065      1.222      0.222      -0.048       0.207\n",
      "ma.L1          0.1129      0.624      0.181      0.856      -1.110       1.336\n",
      "sigma2         0.0031      0.000     18.736      0.000       0.003       0.003\n",
      "===================================================================================\n",
      "Ljung-Box (L1) (Q):                   0.15   Jarque-Bera (JB):               160.16\n",
      "Prob(Q):                              0.70   Prob(JB):                         0.00\n",
      "Heteroskedasticity (H):               0.95   Skew:                             0.97\n",
      "Prob(H) (two-sided):                  0.72   Kurtosis:                         4.85\n",
      "===================================================================================\n",
      "\n",
      "Warnings:\n",
      "[1] Covariance matrix calculated using the outer product of gradients (complex-step).\n"
     ]
    }
   ],
   "source": [
    "model1 = ARIMA(train_1['cpuF'], order=(4,0,1), exog=train_1['cpuScore'])\n",
    "result1 = model1.fit()\n",
    "print(result1.summary())"
   ]
  },
  {
   "cell_type": "code",
   "execution_count": 89,
   "metadata": {},
   "outputs": [
    {
     "name": "stdout",
     "output_type": "stream",
     "text": [
      "                               SARIMAX Results                                \n",
      "==============================================================================\n",
      "Dep. Variable:                   cpuF   No. Observations:                  534\n",
      "Model:                 ARIMA(4, 0, 1)   Log Likelihood                 860.151\n",
      "Date:                Fri, 02 Jun 2023   AIC                          -1704.303\n",
      "Time:                        12:39:07   BIC                          -1670.059\n",
      "Sample:                             0   HQIC                         -1690.904\n",
      "                                - 534                                         \n",
      "Covariance Type:                  opg                                         \n",
      "==============================================================================\n",
      "                 coef    std err          z      P>|z|      [0.025      0.975]\n",
      "------------------------------------------------------------------------------\n",
      "const          0.5025      0.004    116.898      0.000       0.494       0.511\n",
      "cpuScore       0.0093      0.000     88.776      0.000       0.009       0.010\n",
      "ar.L1          0.1101      0.775      0.142      0.887      -1.409       1.629\n",
      "ar.L2          0.1257      0.156      0.808      0.419      -0.179       0.431\n",
      "ar.L3          0.0586      0.101      0.580      0.562      -0.140       0.257\n",
      "ar.L4          0.0650      0.064      1.019      0.308      -0.060       0.190\n",
      "ma.L1          0.0775      0.774      0.100      0.920      -1.439       1.594\n",
      "sigma2         0.0023   7.88e-05     29.030      0.000       0.002       0.002\n",
      "===================================================================================\n",
      "Ljung-Box (L1) (Q):                   0.03   Jarque-Bera (JB):               766.20\n",
      "Prob(Q):                              0.87   Prob(JB):                         0.00\n",
      "Heteroskedasticity (H):               0.70   Skew:                             0.69\n",
      "Prob(H) (two-sided):                  0.02   Kurtosis:                         8.70\n",
      "===================================================================================\n",
      "\n",
      "Warnings:\n",
      "[1] Covariance matrix calculated using the outer product of gradients (complex-step).\n"
     ]
    }
   ],
   "source": [
    "model2 = ARIMA(train_2['cpuF'], order=(4,0,1), exog=train_2['cpuScore'])\n",
    "result2 = model2.fit()\n",
    "print(result2.summary())"
   ]
  },
  {
   "cell_type": "code",
   "execution_count": 90,
   "metadata": {},
   "outputs": [
    {
     "name": "stdout",
     "output_type": "stream",
     "text": [
      "                               SARIMAX Results                                \n",
      "==============================================================================\n",
      "Dep. Variable:                   cpuF   No. Observations:                  534\n",
      "Model:                 ARIMA(4, 0, 1)   Log Likelihood                 665.241\n",
      "Date:                Fri, 02 Jun 2023   AIC                          -1314.481\n",
      "Time:                        12:39:08   BIC                          -1280.238\n",
      "Sample:                             0   HQIC                         -1301.082\n",
      "                                - 534                                         \n",
      "Covariance Type:                  opg                                         \n",
      "==============================================================================\n",
      "                 coef    std err          z      P>|z|      [0.025      0.975]\n",
      "------------------------------------------------------------------------------\n",
      "const          0.3416      0.014     24.330      0.000       0.314       0.369\n",
      "cpuScore       0.0110      0.000     44.034      0.000       0.011       0.012\n",
      "ar.L1          0.5962      0.224      2.656      0.008       0.156       1.036\n",
      "ar.L2          0.1944      0.059      3.296      0.001       0.079       0.310\n",
      "ar.L3         -0.0586      0.082     -0.717      0.473      -0.219       0.101\n",
      "ar.L4          0.1017      0.047      2.149      0.032       0.009       0.195\n",
      "ma.L1         -0.3719      0.231     -1.611      0.107      -0.824       0.080\n",
      "sigma2         0.0049      0.000     36.214      0.000       0.005       0.005\n",
      "===================================================================================\n",
      "Ljung-Box (L1) (Q):                   1.20   Jarque-Bera (JB):              9382.90\n",
      "Prob(Q):                              0.27   Prob(JB):                         0.00\n",
      "Heteroskedasticity (H):               2.76   Skew:                             2.65\n",
      "Prob(H) (two-sided):                  0.00   Kurtosis:                        22.84\n",
      "===================================================================================\n",
      "\n",
      "Warnings:\n",
      "[1] Covariance matrix calculated using the outer product of gradients (complex-step).\n"
     ]
    },
    {
     "name": "stderr",
     "output_type": "stream",
     "text": [
      "/Users/dmukherjee/anaconda3/lib/python3.8/site-packages/statsmodels/base/model.py:604: ConvergenceWarning: Maximum Likelihood optimization failed to converge. Check mle_retvals\n",
      "  warnings.warn(\"Maximum Likelihood optimization failed to \"\n"
     ]
    }
   ],
   "source": [
    "model3 = ARIMA(train_3['cpuF'], order=(4,0,1), exog=train_3['cpuScore'])\n",
    "result3 = model3.fit()\n",
    "print(result3.summary())"
   ]
  },
  {
   "cell_type": "code",
   "execution_count": 91,
   "metadata": {},
   "outputs": [
    {
     "name": "stdout",
     "output_type": "stream",
     "text": [
      "                               SARIMAX Results                                \n",
      "==============================================================================\n",
      "Dep. Variable:                   cpuF   No. Observations:                  534\n",
      "Model:                 ARIMA(4, 0, 1)   Log Likelihood                 644.420\n",
      "Date:                Fri, 02 Jun 2023   AIC                          -1272.840\n",
      "Time:                        12:39:09   BIC                          -1238.597\n",
      "Sample:                             0   HQIC                         -1259.441\n",
      "                                - 534                                         \n",
      "Covariance Type:                  opg                                         \n",
      "==============================================================================\n",
      "                 coef    std err          z      P>|z|      [0.025      0.975]\n",
      "------------------------------------------------------------------------------\n",
      "const          0.3036      0.008     37.465      0.000       0.288       0.320\n",
      "cpuScore       0.0114      0.000     50.251      0.000       0.011       0.012\n",
      "ar.L1          0.1254      0.600      0.209      0.834      -1.050       1.301\n",
      "ar.L2          0.1365      0.133      1.030      0.303      -0.123       0.396\n",
      "ar.L3          0.0460      0.082      0.558      0.577      -0.116       0.208\n",
      "ar.L4          0.0848      0.048      1.775      0.076      -0.009       0.179\n",
      "ma.L1          0.0884      0.606      0.146      0.884      -1.100       1.277\n",
      "sigma2         0.0052      0.000     29.002      0.000       0.005       0.006\n",
      "===================================================================================\n",
      "Ljung-Box (L1) (Q):                   0.12   Jarque-Bera (JB):              2645.97\n",
      "Prob(Q):                              0.73   Prob(JB):                         0.00\n",
      "Heteroskedasticity (H):               0.62   Skew:                             1.93\n",
      "Prob(H) (two-sided):                  0.00   Kurtosis:                        13.20\n",
      "===================================================================================\n",
      "\n",
      "Warnings:\n",
      "[1] Covariance matrix calculated using the outer product of gradients (complex-step).\n"
     ]
    }
   ],
   "source": [
    "model4 = ARIMA(train_4['cpuF'], order=(4,0,1), exog=train_4['cpuScore'])\n",
    "result4 = model4.fit()\n",
    "print(result4.summary())"
   ]
  },
  {
   "cell_type": "markdown",
   "metadata": {},
   "source": [
    "## Testing Accuracy\n",
    "We will run both the models to test its accuracy"
   ]
  },
  {
   "cell_type": "code",
   "execution_count": 92,
   "metadata": {},
   "outputs": [],
   "source": [
    "# This is to test the accuracy of prediction\n",
    "from sklearn import metrics"
   ]
  },
  {
   "cell_type": "code",
   "execution_count": 93,
   "metadata": {},
   "outputs": [],
   "source": [
    "forecast = result.forecast(steps=538,exog=test_data['cpuScore'])\n",
    "forecast = forecast.to_numpy()"
   ]
  },
  {
   "cell_type": "code",
   "execution_count": 94,
   "metadata": {},
   "outputs": [],
   "source": [
    "forecast1 = result1.forecast(steps=538,exog=test_data['cpuScore'])\n",
    "forecast1 = forecast1.to_numpy()"
   ]
  },
  {
   "cell_type": "code",
   "execution_count": 95,
   "metadata": {},
   "outputs": [],
   "source": [
    "forecast2 = result2.forecast(steps=538,exog=test_data['cpuScore'])\n",
    "forecast2 = forecast2.to_numpy()"
   ]
  },
  {
   "cell_type": "code",
   "execution_count": 96,
   "metadata": {},
   "outputs": [],
   "source": [
    "forecast3 = result3.forecast(steps=538,exog=test_data['cpuScore'])\n",
    "forecast3 = forecast3.to_numpy()"
   ]
  },
  {
   "cell_type": "code",
   "execution_count": 97,
   "metadata": {},
   "outputs": [],
   "source": [
    "forecast4 = result4.forecast(steps=538,exog=test_data['cpuScore'])\n",
    "forecast4 = forecast4.to_numpy()"
   ]
  },
  {
   "cell_type": "code",
   "execution_count": 98,
   "metadata": {},
   "outputs": [],
   "source": [
    "y_true = test_data['cpuF'].to_numpy()"
   ]
  },
  {
   "cell_type": "code",
   "execution_count": 99,
   "metadata": {},
   "outputs": [
    {
     "name": "stdout",
     "output_type": "stream",
     "text": [
      "RMSE 0.08374540012037156\n"
     ]
    }
   ],
   "source": [
    "print('RMSE', np.sqrt(metrics.mean_squared_error(y_true,forecast)))"
   ]
  },
  {
   "cell_type": "code",
   "execution_count": 100,
   "metadata": {},
   "outputs": [
    {
     "name": "stdout",
     "output_type": "stream",
     "text": [
      "RMSE_1 0.09918474173365974\n"
     ]
    }
   ],
   "source": [
    "print('RMSE_1', np.sqrt(metrics.mean_squared_error(y_true,forecast1)))"
   ]
  },
  {
   "cell_type": "code",
   "execution_count": 101,
   "metadata": {},
   "outputs": [
    {
     "name": "stdout",
     "output_type": "stream",
     "text": [
      "RMSE_2 0.1873175701746549\n"
     ]
    }
   ],
   "source": [
    "print('RMSE_2', np.sqrt(metrics.mean_squared_error(y_true,forecast2)))"
   ]
  },
  {
   "cell_type": "code",
   "execution_count": 102,
   "metadata": {},
   "outputs": [
    {
     "name": "stdout",
     "output_type": "stream",
     "text": [
      "RMSE_3 0.08081714819293216\n"
     ]
    }
   ],
   "source": [
    "print('RMSE_3', np.sqrt(metrics.mean_squared_error(y_true,forecast3)))"
   ]
  },
  {
   "cell_type": "code",
   "execution_count": 103,
   "metadata": {},
   "outputs": [
    {
     "name": "stdout",
     "output_type": "stream",
     "text": [
      "RMSE_4 0.06824123068026516\n"
     ]
    }
   ],
   "source": [
    "print('RMSE_4', np.sqrt(metrics.mean_squared_error(y_true,forecast4)))"
   ]
  },
  {
   "cell_type": "markdown",
   "metadata": {},
   "source": [
    "# Splitting the time series\n",
    "1. We will split the time series in fragments of 25 entries and then create 4 different entries and merge to train the data"
   ]
  },
  {
   "cell_type": "code",
   "execution_count": 122,
   "metadata": {},
   "outputs": [
    {
     "data": {
      "text/plain": [
       "(474, 9)"
      ]
     },
     "execution_count": 122,
     "metadata": {},
     "output_type": "execute_result"
    }
   ],
   "source": [
    "strain_1 = utilData.iloc[0:25]\n",
    "strain_2 = utilData.iloc[25:50]\n",
    "strain_3 = utilData.iloc[50:75]\n",
    "strain_4 = utilData.iloc[75:100]\n",
    "stest_data = utilData.iloc[2200:]\n",
    "stest_data.shape"
   ]
  },
  {
   "cell_type": "code",
   "execution_count": 74,
   "metadata": {},
   "outputs": [
    {
     "data": {
      "text/html": [
       "<div>\n",
       "<style scoped>\n",
       "    .dataframe tbody tr th:only-of-type {\n",
       "        vertical-align: middle;\n",
       "    }\n",
       "\n",
       "    .dataframe tbody tr th {\n",
       "        vertical-align: top;\n",
       "    }\n",
       "\n",
       "    .dataframe thead th {\n",
       "        text-align: right;\n",
       "    }\n",
       "</style>\n",
       "<table border=\"1\" class=\"dataframe\">\n",
       "  <thead>\n",
       "    <tr style=\"text-align: right;\">\n",
       "      <th></th>\n",
       "      <th>memUse</th>\n",
       "      <th>memTot</th>\n",
       "      <th>memfreq</th>\n",
       "      <th>cpuid</th>\n",
       "      <th>cpuload</th>\n",
       "      <th>cpufreq</th>\n",
       "      <th>memLoad</th>\n",
       "      <th>cpuScore</th>\n",
       "      <th>cpuF</th>\n",
       "    </tr>\n",
       "  </thead>\n",
       "  <tbody>\n",
       "    <tr>\n",
       "      <th>20</th>\n",
       "      <td>731460</td>\n",
       "      <td>7728405</td>\n",
       "      <td>275000000</td>\n",
       "      <td>0</td>\n",
       "      <td>11</td>\n",
       "      <td>300000</td>\n",
       "      <td>0.094646</td>\n",
       "      <td>2.357143</td>\n",
       "      <td>0.3</td>\n",
       "    </tr>\n",
       "    <tr>\n",
       "      <th>21</th>\n",
       "      <td>731460</td>\n",
       "      <td>7728405</td>\n",
       "      <td>275000000</td>\n",
       "      <td>0</td>\n",
       "      <td>10</td>\n",
       "      <td>300000</td>\n",
       "      <td>0.094646</td>\n",
       "      <td>2.142857</td>\n",
       "      <td>0.3</td>\n",
       "    </tr>\n",
       "    <tr>\n",
       "      <th>22</th>\n",
       "      <td>731460</td>\n",
       "      <td>7728405</td>\n",
       "      <td>275000000</td>\n",
       "      <td>0</td>\n",
       "      <td>12</td>\n",
       "      <td>300000</td>\n",
       "      <td>0.094646</td>\n",
       "      <td>2.571429</td>\n",
       "      <td>0.3</td>\n",
       "    </tr>\n",
       "    <tr>\n",
       "      <th>23</th>\n",
       "      <td>731460</td>\n",
       "      <td>7728405</td>\n",
       "      <td>275000000</td>\n",
       "      <td>0</td>\n",
       "      <td>11</td>\n",
       "      <td>300000</td>\n",
       "      <td>0.094646</td>\n",
       "      <td>2.357143</td>\n",
       "      <td>0.3</td>\n",
       "    </tr>\n",
       "    <tr>\n",
       "      <th>24</th>\n",
       "      <td>731460</td>\n",
       "      <td>7728405</td>\n",
       "      <td>275000000</td>\n",
       "      <td>0</td>\n",
       "      <td>9</td>\n",
       "      <td>300000</td>\n",
       "      <td>0.094646</td>\n",
       "      <td>1.928571</td>\n",
       "      <td>0.3</td>\n",
       "    </tr>\n",
       "  </tbody>\n",
       "</table>\n",
       "</div>"
      ],
      "text/plain": [
       "    memUse   memTot    memfreq  cpuid  cpuload  cpufreq   memLoad  cpuScore  \\\n",
       "20  731460  7728405  275000000      0       11   300000  0.094646  2.357143   \n",
       "21  731460  7728405  275000000      0       10   300000  0.094646  2.142857   \n",
       "22  731460  7728405  275000000      0       12   300000  0.094646  2.571429   \n",
       "23  731460  7728405  275000000      0       11   300000  0.094646  2.357143   \n",
       "24  731460  7728405  275000000      0        9   300000  0.094646  1.928571   \n",
       "\n",
       "    cpuF  \n",
       "20   0.3  \n",
       "21   0.3  \n",
       "22   0.3  \n",
       "23   0.3  \n",
       "24   0.3  "
      ]
     },
     "execution_count": 74,
     "metadata": {},
     "output_type": "execute_result"
    }
   ],
   "source": [
    "strain_1.tail()"
   ]
  },
  {
   "cell_type": "code",
   "execution_count": 75,
   "metadata": {},
   "outputs": [],
   "source": [
    "# We create our data here\n",
    "for i in range(100,2136,100):\n",
    "    i_1,i_2,i_3,i_4 = i,i+25,i+50,i+75\n",
    "    i_end = i+100\n",
    "    strain_1 = strain_1.append(utilData.iloc[i_1:i_2],ignore_index=True)\n",
    "    strain_2 = strain_2.append(utilData.iloc[i_2:i_3],ignore_index=True)\n",
    "    strain_3 = strain_3.append(utilData.iloc[i_3:i_4],ignore_index=True)\n",
    "    strain_4 = strain_4.append(utilData.iloc[i_4:i_end],ignore_index=True)"
   ]
  },
  {
   "cell_type": "code",
   "execution_count": 76,
   "metadata": {},
   "outputs": [
    {
     "data": {
      "text/plain": [
       "(550, 9)"
      ]
     },
     "execution_count": 76,
     "metadata": {},
     "output_type": "execute_result"
    }
   ],
   "source": [
    "strain_4.shape"
   ]
  },
  {
   "cell_type": "markdown",
   "metadata": {},
   "source": [
    "## Modeling the split time series\n",
    "We are using the newly generated split dataset to train and verify its acuracy"
   ]
  },
  {
   "cell_type": "code",
   "execution_count": 107,
   "metadata": {},
   "outputs": [
    {
     "name": "stdout",
     "output_type": "stream",
     "text": [
      "                               SARIMAX Results                                \n",
      "==============================================================================\n",
      "Dep. Variable:                   cpuF   No. Observations:                  550\n",
      "Model:                 ARIMA(4, 0, 1)   Log Likelihood                 752.097\n",
      "Date:                Fri, 02 Jun 2023   AIC                          -1488.195\n",
      "Time:                        13:21:22   BIC                          -1453.715\n",
      "Sample:                             0   HQIC                         -1474.721\n",
      "                                - 550                                         \n",
      "Covariance Type:                  opg                                         \n",
      "==============================================================================\n",
      "                 coef    std err          z      P>|z|      [0.025      0.975]\n",
      "------------------------------------------------------------------------------\n",
      "const          0.3495      0.017     20.670      0.000       0.316       0.383\n",
      "cpuScore       0.0108      0.000     62.760      0.000       0.010       0.011\n",
      "ar.L1          0.2614      0.400      0.653      0.514      -0.523       1.046\n",
      "ar.L2          0.2150      0.162      1.326      0.185      -0.103       0.533\n",
      "ar.L3          0.2112      0.089      2.369      0.018       0.036       0.386\n",
      "ar.L4          0.1305      0.095      1.373      0.170      -0.056       0.317\n",
      "ma.L1          0.1090      0.412      0.264      0.791      -0.699       0.917\n",
      "sigma2         0.0038      0.000     24.410      0.000       0.003       0.004\n",
      "===================================================================================\n",
      "Ljung-Box (L1) (Q):                   0.02   Jarque-Bera (JB):               532.14\n",
      "Prob(Q):                              0.89   Prob(JB):                         0.00\n",
      "Heteroskedasticity (H):               1.45   Skew:                             0.65\n",
      "Prob(H) (two-sided):                  0.01   Kurtosis:                         7.64\n",
      "===================================================================================\n",
      "\n",
      "Warnings:\n",
      "[1] Covariance matrix calculated using the outer product of gradients (complex-step).\n"
     ]
    }
   ],
   "source": [
    "smodel1 = ARIMA(strain_1['cpuF'], order=(4,0,1), exog=strain_1['cpuScore'])\n",
    "sresult1 = smodel1.fit()\n",
    "print(sresult1.summary())"
   ]
  },
  {
   "cell_type": "code",
   "execution_count": 108,
   "metadata": {},
   "outputs": [
    {
     "name": "stdout",
     "output_type": "stream",
     "text": [
      "                               SARIMAX Results                                \n",
      "==============================================================================\n",
      "Dep. Variable:                   cpuF   No. Observations:                  550\n",
      "Model:                 ARIMA(4, 0, 1)   Log Likelihood                 801.654\n",
      "Date:                Fri, 02 Jun 2023   AIC                          -1587.307\n",
      "Time:                        13:28:32   BIC                          -1552.828\n",
      "Sample:                             0   HQIC                         -1573.833\n",
      "                                - 550                                         \n",
      "Covariance Type:                  opg                                         \n",
      "==============================================================================\n",
      "                 coef    std err          z      P>|z|      [0.025      0.975]\n",
      "------------------------------------------------------------------------------\n",
      "const          0.3390      0.018     19.002      0.000       0.304       0.374\n",
      "cpuScore       0.0113      0.000     65.773      0.000       0.011       0.012\n",
      "ar.L1          0.3236      0.642      0.504      0.614      -0.936       1.583\n",
      "ar.L2          0.2614      0.305      0.856      0.392      -0.337       0.860\n",
      "ar.L3          0.1478      0.141      1.048      0.295      -0.129       0.424\n",
      "ar.L4          0.0877      0.107      0.820      0.412      -0.122       0.297\n",
      "ma.L1          0.1376      0.645      0.213      0.831      -1.126       1.401\n",
      "sigma2         0.0032      0.000     23.836      0.000       0.003       0.003\n",
      "===================================================================================\n",
      "Ljung-Box (L1) (Q):                   0.00   Jarque-Bera (JB):               338.73\n",
      "Prob(Q):                              1.00   Prob(JB):                         0.00\n",
      "Heteroskedasticity (H):               1.06   Skew:                             0.94\n",
      "Prob(H) (two-sided):                  0.69   Kurtosis:                         6.35\n",
      "===================================================================================\n",
      "\n",
      "Warnings:\n",
      "[1] Covariance matrix calculated using the outer product of gradients (complex-step).\n"
     ]
    }
   ],
   "source": [
    "smodel2 = ARIMA(strain_2['cpuF'], order=(4,0,1), exog=strain_2['cpuScore'])\n",
    "sresult2 = smodel2.fit()\n",
    "print(sresult2.summary())"
   ]
  },
  {
   "cell_type": "code",
   "execution_count": 109,
   "metadata": {},
   "outputs": [
    {
     "name": "stdout",
     "output_type": "stream",
     "text": [
      "                               SARIMAX Results                                \n",
      "==============================================================================\n",
      "Dep. Variable:                   cpuF   No. Observations:                  550\n",
      "Model:                 ARIMA(4, 0, 1)   Log Likelihood                 649.728\n",
      "Date:                Fri, 02 Jun 2023   AIC                          -1283.456\n",
      "Time:                        13:29:07   BIC                          -1248.976\n",
      "Sample:                             0   HQIC                         -1269.982\n",
      "                                - 550                                         \n",
      "Covariance Type:                  opg                                         \n",
      "==============================================================================\n",
      "                 coef    std err          z      P>|z|      [0.025      0.975]\n",
      "------------------------------------------------------------------------------\n",
      "const          0.3435      0.014     24.471      0.000       0.316       0.371\n",
      "cpuScore       0.0111      0.000     47.721      0.000       0.011       0.012\n",
      "ar.L1          0.4360      0.271      1.608      0.108      -0.096       0.968\n",
      "ar.L2          0.2160      0.079      2.748      0.006       0.062       0.370\n",
      "ar.L3         -0.0077      0.093     -0.083      0.934      -0.191       0.175\n",
      "ar.L4          0.1226      0.044      2.795      0.005       0.037       0.209\n",
      "ma.L1         -0.1981      0.273     -0.726      0.468      -0.732       0.336\n",
      "sigma2         0.0055      0.000     33.034      0.000       0.005       0.006\n",
      "===================================================================================\n",
      "Ljung-Box (L1) (Q):                   0.00   Jarque-Bera (JB):              7815.60\n",
      "Prob(Q):                              0.96   Prob(JB):                         0.00\n",
      "Heteroskedasticity (H):               1.56   Skew:                             2.52\n",
      "Prob(H) (two-sided):                  0.00   Kurtosis:                        20.77\n",
      "===================================================================================\n",
      "\n",
      "Warnings:\n",
      "[1] Covariance matrix calculated using the outer product of gradients (complex-step).\n"
     ]
    },
    {
     "name": "stderr",
     "output_type": "stream",
     "text": [
      "/Users/dmukherjee/anaconda3/lib/python3.8/site-packages/statsmodels/base/model.py:604: ConvergenceWarning: Maximum Likelihood optimization failed to converge. Check mle_retvals\n",
      "  warnings.warn(\"Maximum Likelihood optimization failed to \"\n"
     ]
    }
   ],
   "source": [
    "smodel3 = ARIMA(strain_3['cpuF'], order=(4,0,1), exog=strain_3['cpuScore'])\n",
    "sresult3 = smodel3.fit()\n",
    "print(sresult3.summary())"
   ]
  },
  {
   "cell_type": "code",
   "execution_count": 112,
   "metadata": {},
   "outputs": [
    {
     "name": "stdout",
     "output_type": "stream",
     "text": [
      "                               SARIMAX Results                                \n",
      "==============================================================================\n",
      "Dep. Variable:                   cpuF   No. Observations:                  550\n",
      "Model:                 ARIMA(4, 0, 1)   Log Likelihood                 704.920\n",
      "Date:                Fri, 02 Jun 2023   AIC                          -1393.840\n",
      "Time:                        13:29:54   BIC                          -1359.361\n",
      "Sample:                             0   HQIC                         -1380.366\n",
      "                                - 550                                         \n",
      "Covariance Type:                  opg                                         \n",
      "==============================================================================\n",
      "                 coef    std err          z      P>|z|      [0.025      0.975]\n",
      "------------------------------------------------------------------------------\n",
      "const          0.3499      0.016     22.126      0.000       0.319       0.381\n",
      "cpuScore       0.0110      0.000     41.953      0.000       0.011       0.012\n",
      "ar.L1          0.2693      0.227      1.189      0.234      -0.175       0.713\n",
      "ar.L2          0.2260      0.097      2.327      0.020       0.036       0.416\n",
      "ar.L3          0.0612      0.060      1.025      0.305      -0.056       0.178\n",
      "ar.L4          0.2004      0.043      4.637      0.000       0.116       0.285\n",
      "ma.L1          0.1440      0.231      0.623      0.533      -0.309       0.597\n",
      "sigma2         0.0045      0.000     24.371      0.000       0.004       0.005\n",
      "===================================================================================\n",
      "Ljung-Box (L1) (Q):                   0.00   Jarque-Bera (JB):               940.57\n",
      "Prob(Q):                              0.97   Prob(JB):                         0.00\n",
      "Heteroskedasticity (H):               1.69   Skew:                             0.94\n",
      "Prob(H) (two-sided):                  0.00   Kurtosis:                         9.12\n",
      "===================================================================================\n",
      "\n",
      "Warnings:\n",
      "[1] Covariance matrix calculated using the outer product of gradients (complex-step).\n"
     ]
    }
   ],
   "source": [
    "smodel4 = ARIMA(strain_4['cpuF'], order=(4,0,1), exog=strain_4['cpuScore'])\n",
    "sresult4 = smodel4.fit()\n",
    "print(sresult4.summary())"
   ]
  },
  {
   "cell_type": "markdown",
   "metadata": {},
   "source": [
    "## Prediction Phase for split\n",
    "We are calculating the RMSE of the models"
   ]
  },
  {
   "cell_type": "code",
   "execution_count": 132,
   "metadata": {},
   "outputs": [],
   "source": [
    "sforecast1 = sresult1.forecast(steps=474,exog=stest_data['cpuScore'])\n",
    "sforecast1 = sforecast1.to_numpy()"
   ]
  },
  {
   "cell_type": "code",
   "execution_count": 133,
   "metadata": {},
   "outputs": [],
   "source": [
    "sy_true = stest_data['cpuF'].to_numpy()"
   ]
  },
  {
   "cell_type": "code",
   "execution_count": 134,
   "metadata": {},
   "outputs": [
    {
     "name": "stdout",
     "output_type": "stream",
     "text": [
      "RMSE_1 0.08826519426325424\n"
     ]
    }
   ],
   "source": [
    "print('RMSE_1', np.sqrt(metrics.mean_squared_error(sy_true,sforecast1)))"
   ]
  },
  {
   "cell_type": "code",
   "execution_count": 135,
   "metadata": {},
   "outputs": [],
   "source": [
    "sforecast2 = sresult2.forecast(steps=474,exog=stest_data['cpuScore'])\n",
    "sforecast2 = sforecast2.to_numpy()"
   ]
  },
  {
   "cell_type": "code",
   "execution_count": 136,
   "metadata": {},
   "outputs": [
    {
     "name": "stdout",
     "output_type": "stream",
     "text": [
      "RMSE_2 0.08482416872044561\n"
     ]
    }
   ],
   "source": [
    "print('RMSE_2', np.sqrt(metrics.mean_squared_error(sy_true,sforecast2)))"
   ]
  },
  {
   "cell_type": "code",
   "execution_count": 137,
   "metadata": {},
   "outputs": [],
   "source": [
    "sforecast3 = sresult3.forecast(steps=474,exog=stest_data['cpuScore'])\n",
    "sforecast3 = sforecast3.to_numpy()"
   ]
  },
  {
   "cell_type": "code",
   "execution_count": 138,
   "metadata": {},
   "outputs": [
    {
     "name": "stdout",
     "output_type": "stream",
     "text": [
      "RMSE_3 0.08577912337072036\n"
     ]
    }
   ],
   "source": [
    "print('RMSE_3', np.sqrt(metrics.mean_squared_error(sy_true,sforecast3)))"
   ]
  },
  {
   "cell_type": "code",
   "execution_count": 139,
   "metadata": {},
   "outputs": [],
   "source": [
    "sforecast4 = sresult4.forecast(steps=474,exog=stest_data['cpuScore'])\n",
    "sforecast4 = sforecast4.to_numpy()"
   ]
  },
  {
   "cell_type": "code",
   "execution_count": 140,
   "metadata": {},
   "outputs": [
    {
     "name": "stdout",
     "output_type": "stream",
     "text": [
      "RMSE_4 0.08907612094315911\n"
     ]
    }
   ],
   "source": [
    "print('RMSE_4', np.sqrt(metrics.mean_squared_error(sy_true,sforecast4)))"
   ]
  },
  {
   "cell_type": "markdown",
   "metadata": {},
   "source": [
    "### Note; the results are better for smaller prediction interval. \n",
    "Does it mean we need to retrain every small interval. (We did 100 v. 474)\n",
    "That is not an effective prediction model"
   ]
  },
  {
   "cell_type": "markdown",
   "metadata": {},
   "source": [
    "# Grouping the data by a column\n",
    "We will now model for each state of the cpufrequency"
   ]
  },
  {
   "cell_type": "code",
   "execution_count": 146,
   "metadata": {},
   "outputs": [
    {
     "data": {
      "text/plain": [
       "array([0.6, 0.2, 0.3, 0.4, 0.5, 1.2, 0.7, 0.8, 1.4, 1.3, 1. , 0.9, 1.1])"
      ]
     },
     "execution_count": 146,
     "metadata": {},
     "output_type": "execute_result"
    }
   ],
   "source": [
    "#Get the unique cpuF values\n",
    "cpuFArr = tot_train['cpuF'].unique()\n",
    "cpuFArr"
   ]
  },
  {
   "cell_type": "code",
   "execution_count": 143,
   "metadata": {},
   "outputs": [],
   "source": [
    "gtrain = tot_train.groupby(['cpuF'])"
   ]
  },
  {
   "cell_type": "code",
   "execution_count": 145,
   "metadata": {},
   "outputs": [
    {
     "data": {
      "text/html": [
       "<div>\n",
       "<style scoped>\n",
       "    .dataframe tbody tr th:only-of-type {\n",
       "        vertical-align: middle;\n",
       "    }\n",
       "\n",
       "    .dataframe tbody tr th {\n",
       "        vertical-align: top;\n",
       "    }\n",
       "\n",
       "    .dataframe thead th {\n",
       "        text-align: right;\n",
       "    }\n",
       "</style>\n",
       "<table border=\"1\" class=\"dataframe\">\n",
       "  <thead>\n",
       "    <tr style=\"text-align: right;\">\n",
       "      <th></th>\n",
       "      <th>memUse</th>\n",
       "      <th>memTot</th>\n",
       "      <th>memfreq</th>\n",
       "      <th>cpuid</th>\n",
       "      <th>cpuload</th>\n",
       "      <th>cpufreq</th>\n",
       "      <th>memLoad</th>\n",
       "      <th>cpuScore</th>\n",
       "      <th>cpuF</th>\n",
       "    </tr>\n",
       "  </thead>\n",
       "  <tbody>\n",
       "    <tr>\n",
       "      <th>0</th>\n",
       "      <td>604872</td>\n",
       "      <td>4612865</td>\n",
       "      <td>165000000</td>\n",
       "      <td>0</td>\n",
       "      <td>31</td>\n",
       "      <td>600000</td>\n",
       "      <td>0.131127</td>\n",
       "      <td>13.285714</td>\n",
       "      <td>0.6</td>\n",
       "    </tr>\n",
       "    <tr>\n",
       "      <th>12</th>\n",
       "      <td>3742</td>\n",
       "      <td>166275</td>\n",
       "      <td>275000000</td>\n",
       "      <td>0</td>\n",
       "      <td>31</td>\n",
       "      <td>600000</td>\n",
       "      <td>0.022505</td>\n",
       "      <td>13.285714</td>\n",
       "      <td>0.6</td>\n",
       "    </tr>\n",
       "    <tr>\n",
       "      <th>13</th>\n",
       "      <td>3742</td>\n",
       "      <td>166275</td>\n",
       "      <td>275000000</td>\n",
       "      <td>0</td>\n",
       "      <td>40</td>\n",
       "      <td>600000</td>\n",
       "      <td>0.022505</td>\n",
       "      <td>17.142857</td>\n",
       "      <td>0.6</td>\n",
       "    </tr>\n",
       "    <tr>\n",
       "      <th>32</th>\n",
       "      <td>709011</td>\n",
       "      <td>7717381</td>\n",
       "      <td>275000000</td>\n",
       "      <td>0</td>\n",
       "      <td>13</td>\n",
       "      <td>600000</td>\n",
       "      <td>0.091872</td>\n",
       "      <td>5.571429</td>\n",
       "      <td>0.6</td>\n",
       "    </tr>\n",
       "    <tr>\n",
       "      <th>60</th>\n",
       "      <td>1228</td>\n",
       "      <td>46513</td>\n",
       "      <td>275000000</td>\n",
       "      <td>0</td>\n",
       "      <td>30</td>\n",
       "      <td>600000</td>\n",
       "      <td>0.026401</td>\n",
       "      <td>12.857143</td>\n",
       "      <td>0.6</td>\n",
       "    </tr>\n",
       "    <tr>\n",
       "      <th>...</th>\n",
       "      <td>...</td>\n",
       "      <td>...</td>\n",
       "      <td>...</td>\n",
       "      <td>...</td>\n",
       "      <td>...</td>\n",
       "      <td>...</td>\n",
       "      <td>...</td>\n",
       "      <td>...</td>\n",
       "      <td>...</td>\n",
       "    </tr>\n",
       "    <tr>\n",
       "      <th>1934</th>\n",
       "      <td>7212</td>\n",
       "      <td>180508</td>\n",
       "      <td>825000000</td>\n",
       "      <td>0</td>\n",
       "      <td>32</td>\n",
       "      <td>600000</td>\n",
       "      <td>0.039954</td>\n",
       "      <td>13.714286</td>\n",
       "      <td>0.6</td>\n",
       "    </tr>\n",
       "    <tr>\n",
       "      <th>1948</th>\n",
       "      <td>845096</td>\n",
       "      <td>15828949</td>\n",
       "      <td>543000000</td>\n",
       "      <td>0</td>\n",
       "      <td>31</td>\n",
       "      <td>600000</td>\n",
       "      <td>0.053389</td>\n",
       "      <td>13.285714</td>\n",
       "      <td>0.6</td>\n",
       "    </tr>\n",
       "    <tr>\n",
       "      <th>1955</th>\n",
       "      <td>912556</td>\n",
       "      <td>14908785</td>\n",
       "      <td>413000000</td>\n",
       "      <td>0</td>\n",
       "      <td>36</td>\n",
       "      <td>600000</td>\n",
       "      <td>0.061209</td>\n",
       "      <td>15.428571</td>\n",
       "      <td>0.6</td>\n",
       "    </tr>\n",
       "    <tr>\n",
       "      <th>1977</th>\n",
       "      <td>37665</td>\n",
       "      <td>206049</td>\n",
       "      <td>543000000</td>\n",
       "      <td>0</td>\n",
       "      <td>47</td>\n",
       "      <td>600000</td>\n",
       "      <td>0.182796</td>\n",
       "      <td>20.142857</td>\n",
       "      <td>0.6</td>\n",
       "    </tr>\n",
       "    <tr>\n",
       "      <th>2034</th>\n",
       "      <td>749</td>\n",
       "      <td>21505</td>\n",
       "      <td>413000000</td>\n",
       "      <td>0</td>\n",
       "      <td>43</td>\n",
       "      <td>600000</td>\n",
       "      <td>0.034829</td>\n",
       "      <td>18.428571</td>\n",
       "      <td>0.6</td>\n",
       "    </tr>\n",
       "  </tbody>\n",
       "</table>\n",
       "<p>198 rows × 9 columns</p>\n",
       "</div>"
      ],
      "text/plain": [
       "      memUse    memTot    memfreq  cpuid  cpuload  cpufreq   memLoad  \\\n",
       "0     604872   4612865  165000000      0       31   600000  0.131127   \n",
       "12      3742    166275  275000000      0       31   600000  0.022505   \n",
       "13      3742    166275  275000000      0       40   600000  0.022505   \n",
       "32    709011   7717381  275000000      0       13   600000  0.091872   \n",
       "60      1228     46513  275000000      0       30   600000  0.026401   \n",
       "...      ...       ...        ...    ...      ...      ...       ...   \n",
       "1934    7212    180508  825000000      0       32   600000  0.039954   \n",
       "1948  845096  15828949  543000000      0       31   600000  0.053389   \n",
       "1955  912556  14908785  413000000      0       36   600000  0.061209   \n",
       "1977   37665    206049  543000000      0       47   600000  0.182796   \n",
       "2034     749     21505  413000000      0       43   600000  0.034829   \n",
       "\n",
       "       cpuScore  cpuF  \n",
       "0     13.285714   0.6  \n",
       "12    13.285714   0.6  \n",
       "13    17.142857   0.6  \n",
       "32     5.571429   0.6  \n",
       "60    12.857143   0.6  \n",
       "...         ...   ...  \n",
       "1934  13.714286   0.6  \n",
       "1948  13.285714   0.6  \n",
       "1955  15.428571   0.6  \n",
       "1977  20.142857   0.6  \n",
       "2034  18.428571   0.6  \n",
       "\n",
       "[198 rows x 9 columns]"
      ]
     },
     "execution_count": 145,
     "metadata": {},
     "output_type": "execute_result"
    }
   ],
   "source": [
    "gtrain.get_group(0.6)"
   ]
  },
  {
   "cell_type": "code",
   "execution_count": 151,
   "metadata": {},
   "outputs": [],
   "source": [
    "mapTrain = {}\n",
    "for  val in cpuFArr:\n",
    "    mapTrain[val] = gtrain.get_group(val)"
   ]
  },
  {
   "cell_type": "code",
   "execution_count": 155,
   "metadata": {},
   "outputs": [
    {
     "name": "stdout",
     "output_type": "stream",
     "text": [
      "\n",
      "\n",
      "Val 0.6\n",
      "                               SARIMAX Results                                \n",
      "==============================================================================\n",
      "Dep. Variable:               cpuScore   No. Observations:                  198\n",
      "Model:                 ARIMA(4, 0, 1)   Log Likelihood                -452.894\n",
      "Date:                Fri, 02 Jun 2023   AIC                            919.789\n",
      "Time:                        14:38:18   BIC                            942.807\n",
      "Sample:                             0   HQIC                           929.106\n",
      "                                - 198                                         \n",
      "Covariance Type:                  opg                                         \n",
      "==============================================================================\n",
      "                 coef    std err          z      P>|z|      [0.025      0.975]\n",
      "------------------------------------------------------------------------------\n",
      "const         14.1272      0.376     37.553      0.000      13.390      14.865\n",
      "ar.L1          0.6116      0.615      0.994      0.320      -0.595       1.818\n",
      "ar.L2         -0.0041      0.145     -0.029      0.977      -0.288       0.279\n",
      "ar.L3          0.0099      0.076      0.131      0.896      -0.138       0.158\n",
      "ar.L4          0.0589      0.075      0.790      0.430      -0.087       0.205\n",
      "ma.L1         -0.4096      0.636     -0.645      0.519      -1.655       0.836\n",
      "sigma2         5.6755      0.310     18.321      0.000       5.068       6.283\n",
      "===================================================================================\n",
      "Ljung-Box (L1) (Q):                   0.00   Jarque-Bera (JB):               394.95\n",
      "Prob(Q):                              0.97   Prob(JB):                         0.00\n",
      "Heteroskedasticity (H):               1.60   Skew:                            -0.92\n",
      "Prob(H) (two-sided):                  0.06   Kurtosis:                         9.67\n",
      "===================================================================================\n",
      "\n",
      "Warnings:\n",
      "[1] Covariance matrix calculated using the outer product of gradients (complex-step).\n",
      "\n",
      "\n",
      "Val 0.2\n",
      "                               SARIMAX Results                                \n",
      "==============================================================================\n",
      "Dep. Variable:               cpuScore   No. Observations:                   85\n",
      "Model:                 ARIMA(4, 0, 1)   Log Likelihood                 -43.527\n",
      "Date:                Fri, 02 Jun 2023   AIC                            101.055\n",
      "Time:                        14:38:18   BIC                            118.153\n",
      "Sample:                             0   HQIC                           107.932\n",
      "                                 - 85                                         \n",
      "Covariance Type:                  opg                                         \n",
      "==============================================================================\n",
      "                 coef    std err          z      P>|z|      [0.025      0.975]\n",
      "------------------------------------------------------------------------------\n",
      "const          0.7855      0.088      8.895      0.000       0.612       0.959\n",
      "ar.L1          0.0290      3.002      0.010      0.992      -5.855       5.913\n",
      "ar.L2          0.0689      0.203      0.339      0.734      -0.329       0.467\n",
      "ar.L3          0.0702      0.231      0.303      0.762      -0.383       0.524\n",
      "ar.L4          0.0545      0.256      0.213      0.831      -0.446       0.555\n",
      "ma.L1          0.0179      3.018      0.006      0.995      -5.898       5.934\n",
      "sigma2         0.1630      0.021      7.915      0.000       0.123       0.203\n",
      "===================================================================================\n",
      "Ljung-Box (L1) (Q):                   0.00   Jarque-Bera (JB):               390.68\n",
      "Prob(Q):                              1.00   Prob(JB):                         0.00\n",
      "Heteroskedasticity (H):               2.39   Skew:                             2.55\n",
      "Prob(H) (two-sided):                  0.02   Kurtosis:                        12.18\n",
      "===================================================================================\n",
      "\n",
      "Warnings:\n",
      "[1] Covariance matrix calculated using the outer product of gradients (complex-step).\n",
      "\n",
      "\n",
      "Val 0.3\n"
     ]
    },
    {
     "name": "stderr",
     "output_type": "stream",
     "text": [
      "/Users/dmukherjee/anaconda3/lib/python3.8/site-packages/statsmodels/tsa/base/tsa_model.py:471: ValueWarning: An unsupported index was provided and will be ignored when e.g. forecasting.\n",
      "  self._init_dates(dates, freq)\n",
      "/Users/dmukherjee/anaconda3/lib/python3.8/site-packages/statsmodels/tsa/base/tsa_model.py:471: ValueWarning: An unsupported index was provided and will be ignored when e.g. forecasting.\n",
      "  self._init_dates(dates, freq)\n",
      "/Users/dmukherjee/anaconda3/lib/python3.8/site-packages/statsmodels/tsa/base/tsa_model.py:471: ValueWarning: An unsupported index was provided and will be ignored when e.g. forecasting.\n",
      "  self._init_dates(dates, freq)\n",
      "/Users/dmukherjee/anaconda3/lib/python3.8/site-packages/statsmodels/tsa/base/tsa_model.py:471: ValueWarning: An unsupported index was provided and will be ignored when e.g. forecasting.\n",
      "  self._init_dates(dates, freq)\n",
      "/Users/dmukherjee/anaconda3/lib/python3.8/site-packages/statsmodels/tsa/base/tsa_model.py:471: ValueWarning: An unsupported index was provided and will be ignored when e.g. forecasting.\n",
      "  self._init_dates(dates, freq)\n",
      "/Users/dmukherjee/anaconda3/lib/python3.8/site-packages/statsmodels/tsa/base/tsa_model.py:471: ValueWarning: An unsupported index was provided and will be ignored when e.g. forecasting.\n",
      "  self._init_dates(dates, freq)\n",
      "/Users/dmukherjee/anaconda3/lib/python3.8/site-packages/statsmodels/tsa/base/tsa_model.py:471: ValueWarning: An unsupported index was provided and will be ignored when e.g. forecasting.\n",
      "  self._init_dates(dates, freq)\n",
      "/Users/dmukherjee/anaconda3/lib/python3.8/site-packages/statsmodels/tsa/base/tsa_model.py:471: ValueWarning: An unsupported index was provided and will be ignored when e.g. forecasting.\n",
      "  self._init_dates(dates, freq)\n",
      "/Users/dmukherjee/anaconda3/lib/python3.8/site-packages/statsmodels/tsa/base/tsa_model.py:471: ValueWarning: An unsupported index was provided and will be ignored when e.g. forecasting.\n",
      "  self._init_dates(dates, freq)\n"
     ]
    },
    {
     "name": "stdout",
     "output_type": "stream",
     "text": [
      "                               SARIMAX Results                                \n",
      "==============================================================================\n",
      "Dep. Variable:               cpuScore   No. Observations:                  823\n",
      "Model:                 ARIMA(4, 0, 1)   Log Likelihood                -705.026\n",
      "Date:                Fri, 02 Jun 2023   AIC                           1424.052\n",
      "Time:                        14:38:19   BIC                           1457.042\n",
      "Sample:                             0   HQIC                          1436.708\n",
      "                                - 823                                         \n",
      "Covariance Type:                  opg                                         \n",
      "==============================================================================\n",
      "                 coef    std err          z      P>|z|      [0.025      0.975]\n",
      "------------------------------------------------------------------------------\n",
      "const          2.0448      0.114     17.949      0.000       1.822       2.268\n",
      "ar.L1          0.9762      0.079     12.427      0.000       0.822       1.130\n",
      "ar.L2         -0.0554      0.044     -1.270      0.204      -0.141       0.030\n",
      "ar.L3          0.0536      0.049      1.091      0.275      -0.043       0.150\n",
      "ar.L4         -0.0207      0.044     -0.469      0.639      -0.107       0.066\n",
      "ma.L1         -0.7751      0.074    -10.494      0.000      -0.920      -0.630\n",
      "sigma2         0.3245      0.008     39.547      0.000       0.308       0.341\n",
      "===================================================================================\n",
      "Ljung-Box (L1) (Q):                   0.00   Jarque-Bera (JB):              3317.14\n",
      "Prob(Q):                              0.98   Prob(JB):                         0.00\n",
      "Heteroskedasticity (H):               1.29   Skew:                             1.76\n",
      "Prob(H) (two-sided):                  0.03   Kurtosis:                        12.18\n",
      "===================================================================================\n",
      "\n",
      "Warnings:\n",
      "[1] Covariance matrix calculated using the outer product of gradients (complex-step).\n",
      "\n",
      "\n",
      "Val 0.4\n",
      "                               SARIMAX Results                                \n",
      "==============================================================================\n",
      "Dep. Variable:               cpuScore   No. Observations:                  210\n",
      "Model:                 ARIMA(4, 0, 1)   Log Likelihood                -371.888\n",
      "Date:                Fri, 02 Jun 2023   AIC                            757.775\n",
      "Time:                        14:38:19   BIC                            781.205\n",
      "Sample:                             0   HQIC                           767.247\n",
      "                                - 210                                         \n",
      "Covariance Type:                  opg                                         \n",
      "==============================================================================\n",
      "                 coef    std err          z      P>|z|      [0.025      0.975]\n",
      "------------------------------------------------------------------------------\n",
      "const          4.0117      0.503      7.970      0.000       3.025       4.998\n",
      "ar.L1          0.9732      0.194      5.010      0.000       0.593       1.354\n",
      "ar.L2          0.0403      0.169      0.239      0.811      -0.290       0.371\n",
      "ar.L3          0.0656      0.156      0.420      0.674      -0.240       0.371\n",
      "ar.L4         -0.1019      0.126     -0.809      0.419      -0.349       0.145\n",
      "ma.L1         -0.9192      0.139     -6.600      0.000      -1.192      -0.646\n",
      "sigma2         2.0179      0.111     18.207      0.000       1.801       2.235\n",
      "===================================================================================\n",
      "Ljung-Box (L1) (Q):                   0.01   Jarque-Bera (JB):              2985.89\n",
      "Prob(Q):                              0.94   Prob(JB):                         0.00\n",
      "Heteroskedasticity (H):               1.30   Skew:                             3.12\n",
      "Prob(H) (two-sided):                  0.27   Kurtosis:                        20.39\n",
      "===================================================================================\n",
      "\n",
      "Warnings:\n",
      "[1] Covariance matrix calculated using the outer product of gradients (complex-step).\n",
      "\n",
      "\n",
      "Val 0.5\n"
     ]
    },
    {
     "name": "stderr",
     "output_type": "stream",
     "text": [
      "/Users/dmukherjee/anaconda3/lib/python3.8/site-packages/statsmodels/tsa/base/tsa_model.py:471: ValueWarning: An unsupported index was provided and will be ignored when e.g. forecasting.\n",
      "  self._init_dates(dates, freq)\n",
      "/Users/dmukherjee/anaconda3/lib/python3.8/site-packages/statsmodels/tsa/base/tsa_model.py:471: ValueWarning: An unsupported index was provided and will be ignored when e.g. forecasting.\n",
      "  self._init_dates(dates, freq)\n",
      "/Users/dmukherjee/anaconda3/lib/python3.8/site-packages/statsmodels/tsa/base/tsa_model.py:471: ValueWarning: An unsupported index was provided and will be ignored when e.g. forecasting.\n",
      "  self._init_dates(dates, freq)\n",
      "/Users/dmukherjee/anaconda3/lib/python3.8/site-packages/statsmodels/tsa/base/tsa_model.py:471: ValueWarning: An unsupported index was provided and will be ignored when e.g. forecasting.\n",
      "  self._init_dates(dates, freq)\n",
      "/Users/dmukherjee/anaconda3/lib/python3.8/site-packages/statsmodels/tsa/base/tsa_model.py:471: ValueWarning: An unsupported index was provided and will be ignored when e.g. forecasting.\n",
      "  self._init_dates(dates, freq)\n",
      "/Users/dmukherjee/anaconda3/lib/python3.8/site-packages/statsmodels/tsa/base/tsa_model.py:471: ValueWarning: An unsupported index was provided and will be ignored when e.g. forecasting.\n",
      "  self._init_dates(dates, freq)\n"
     ]
    },
    {
     "name": "stdout",
     "output_type": "stream",
     "text": [
      "                               SARIMAX Results                                \n",
      "==============================================================================\n",
      "Dep. Variable:               cpuScore   No. Observations:                  110\n",
      "Model:                 ARIMA(4, 0, 1)   Log Likelihood                -249.924\n",
      "Date:                Fri, 02 Jun 2023   AIC                            513.848\n",
      "Time:                        14:38:19   BIC                            532.751\n",
      "Sample:                             0   HQIC                           521.515\n",
      "                                - 110                                         \n",
      "Covariance Type:                  opg                                         \n",
      "==============================================================================\n",
      "                 coef    std err          z      P>|z|      [0.025      0.975]\n",
      "------------------------------------------------------------------------------\n",
      "const          8.6559      0.482     17.946      0.000       7.711       9.601\n",
      "ar.L1          0.6718      0.441      1.522      0.128      -0.193       1.537\n",
      "ar.L2         -0.0501      0.152     -0.329      0.742      -0.348       0.248\n",
      "ar.L3         -0.0023      0.157     -0.015      0.988      -0.310       0.306\n",
      "ar.L4          0.1212      0.130      0.931      0.352      -0.134       0.376\n",
      "ma.L1         -0.4925      0.454     -1.085      0.278      -1.382       0.397\n",
      "sigma2         5.4985      0.456     12.058      0.000       4.605       6.392\n",
      "===================================================================================\n",
      "Ljung-Box (L1) (Q):                   0.00   Jarque-Bera (JB):                65.97\n",
      "Prob(Q):                              0.95   Prob(JB):                         0.00\n",
      "Heteroskedasticity (H):               0.68   Skew:                             0.23\n",
      "Prob(H) (two-sided):                  0.24   Kurtosis:                         6.77\n",
      "===================================================================================\n",
      "\n",
      "Warnings:\n",
      "[1] Covariance matrix calculated using the outer product of gradients (complex-step).\n",
      "\n",
      "\n",
      "Val 1.2\n",
      "                               SARIMAX Results                                \n",
      "==============================================================================\n",
      "Dep. Variable:               cpuScore   No. Observations:                   41\n",
      "Model:                 ARIMA(4, 0, 1)   Log Likelihood                 -90.202\n",
      "Date:                Fri, 02 Jun 2023   AIC                            194.405\n",
      "Time:                        14:38:19   BIC                            206.400\n",
      "Sample:                             0   HQIC                           198.773\n",
      "                                 - 41                                         \n",
      "Covariance Type:                  opg                                         \n",
      "==============================================================================\n",
      "                 coef    std err          z      P>|z|      [0.025      0.975]\n",
      "------------------------------------------------------------------------------\n",
      "const         70.7928      1.073     65.975      0.000      68.690      72.896\n",
      "ar.L1          0.1129      0.377      0.299      0.765      -0.627       0.852\n",
      "ar.L2          0.1277      0.142      0.897      0.370      -0.151       0.407\n",
      "ar.L3         -0.0881      0.220     -0.400      0.689      -0.519       0.343\n",
      "ar.L4          0.4668      0.182      2.563      0.010       0.110       0.824\n",
      "ma.L1         -0.0256      0.505     -0.051      0.960      -1.015       0.964\n",
      "sigma2         4.6421      1.059      4.382      0.000       2.566       6.719\n",
      "===================================================================================\n",
      "Ljung-Box (L1) (Q):                   0.07   Jarque-Bera (JB):                 2.55\n",
      "Prob(Q):                              0.79   Prob(JB):                         0.28\n",
      "Heteroskedasticity (H):               0.83   Skew:                            -0.56\n",
      "Prob(H) (two-sided):                  0.74   Kurtosis:                         3.50\n",
      "===================================================================================\n",
      "\n",
      "Warnings:\n",
      "[1] Covariance matrix calculated using the outer product of gradients (complex-step).\n",
      "\n",
      "\n",
      "Val 0.7\n",
      "                               SARIMAX Results                                \n",
      "==============================================================================\n",
      "Dep. Variable:               cpuScore   No. Observations:                  129\n",
      "Model:                 ARIMA(4, 0, 1)   Log Likelihood                -322.052\n",
      "Date:                Fri, 02 Jun 2023   AIC                            658.104\n",
      "Time:                        14:38:19   BIC                            678.123\n",
      "Sample:                             0   HQIC                           666.238\n",
      "                                - 129                                         \n",
      "Covariance Type:                  opg                                         \n",
      "==============================================================================\n",
      "                 coef    std err          z      P>|z|      [0.025      0.975]\n",
      "------------------------------------------------------------------------------\n",
      "const         20.4843      0.159    128.701      0.000      20.172      20.796\n",
      "ar.L1          0.8605      0.187      4.598      0.000       0.494       1.227\n",
      "ar.L2          0.0125      0.171      0.073      0.942      -0.322       0.347\n",
      "ar.L3          0.1015      0.111      0.915      0.360      -0.116       0.319\n",
      "ar.L4         -0.1662      0.072     -2.311      0.021      -0.307      -0.025\n",
      "ma.L1         -0.9106      0.112     -8.147      0.000      -1.130      -0.692\n",
      "sigma2         8.6077      0.680     12.656      0.000       7.275       9.941\n",
      "===================================================================================\n",
      "Ljung-Box (L1) (Q):                   0.01   Jarque-Bera (JB):               288.06\n",
      "Prob(Q):                              0.92   Prob(JB):                         0.00\n",
      "Heteroskedasticity (H):               1.67   Skew:                            -0.48\n",
      "Prob(H) (two-sided):                  0.10   Kurtosis:                        10.26\n",
      "===================================================================================\n",
      "\n",
      "Warnings:\n",
      "[1] Covariance matrix calculated using the outer product of gradients (complex-step).\n",
      "\n",
      "\n",
      "Val 0.8\n"
     ]
    },
    {
     "name": "stderr",
     "output_type": "stream",
     "text": [
      "/Users/dmukherjee/anaconda3/lib/python3.8/site-packages/statsmodels/tsa/base/tsa_model.py:471: ValueWarning: An unsupported index was provided and will be ignored when e.g. forecasting.\n",
      "  self._init_dates(dates, freq)\n",
      "/Users/dmukherjee/anaconda3/lib/python3.8/site-packages/statsmodels/tsa/base/tsa_model.py:471: ValueWarning: An unsupported index was provided and will be ignored when e.g. forecasting.\n",
      "  self._init_dates(dates, freq)\n",
      "/Users/dmukherjee/anaconda3/lib/python3.8/site-packages/statsmodels/tsa/base/tsa_model.py:471: ValueWarning: An unsupported index was provided and will be ignored when e.g. forecasting.\n",
      "  self._init_dates(dates, freq)\n",
      "/Users/dmukherjee/anaconda3/lib/python3.8/site-packages/statsmodels/tsa/base/tsa_model.py:471: ValueWarning: An unsupported index was provided and will be ignored when e.g. forecasting.\n",
      "  self._init_dates(dates, freq)\n",
      "/Users/dmukherjee/anaconda3/lib/python3.8/site-packages/statsmodels/tsa/base/tsa_model.py:471: ValueWarning: An unsupported index was provided and will be ignored when e.g. forecasting.\n",
      "  self._init_dates(dates, freq)\n",
      "/Users/dmukherjee/anaconda3/lib/python3.8/site-packages/statsmodels/tsa/base/tsa_model.py:471: ValueWarning: An unsupported index was provided and will be ignored when e.g. forecasting.\n",
      "  self._init_dates(dates, freq)\n",
      "/Users/dmukherjee/anaconda3/lib/python3.8/site-packages/statsmodels/tsa/base/tsa_model.py:471: ValueWarning: An unsupported index was provided and will be ignored when e.g. forecasting.\n",
      "  self._init_dates(dates, freq)\n",
      "/Users/dmukherjee/anaconda3/lib/python3.8/site-packages/statsmodels/tsa/base/tsa_model.py:471: ValueWarning: An unsupported index was provided and will be ignored when e.g. forecasting.\n",
      "  self._init_dates(dates, freq)\n",
      "/Users/dmukherjee/anaconda3/lib/python3.8/site-packages/statsmodels/tsa/base/tsa_model.py:471: ValueWarning: An unsupported index was provided and will be ignored when e.g. forecasting.\n",
      "  self._init_dates(dates, freq)\n"
     ]
    },
    {
     "name": "stdout",
     "output_type": "stream",
     "text": [
      "                               SARIMAX Results                                \n",
      "==============================================================================\n",
      "Dep. Variable:               cpuScore   No. Observations:                   96\n",
      "Model:                 ARIMA(4, 0, 1)   Log Likelihood                -259.441\n",
      "Date:                Fri, 02 Jun 2023   AIC                            532.882\n",
      "Time:                        14:38:19   BIC                            550.833\n",
      "Sample:                             0   HQIC                           540.138\n",
      "                                 - 96                                         \n",
      "Covariance Type:                  opg                                         \n",
      "==============================================================================\n",
      "                 coef    std err          z      P>|z|      [0.025      0.975]\n",
      "------------------------------------------------------------------------------\n",
      "const         27.3969      1.064     25.755      0.000      25.312      29.482\n",
      "ar.L1          0.1197      0.351      0.341      0.733      -0.569       0.808\n",
      "ar.L2       -3.57e-05      0.169     -0.000      1.000      -0.330       0.330\n",
      "ar.L3         -0.0557      0.200     -0.279      0.780      -0.447       0.335\n",
      "ar.L4          0.5254      0.066      7.929      0.000       0.396       0.655\n",
      "ma.L1         -0.2461      0.384     -0.641      0.521      -0.998       0.506\n",
      "sigma2        12.8526      0.912     14.096      0.000      11.066      14.640\n",
      "===================================================================================\n",
      "Ljung-Box (L1) (Q):                   0.00   Jarque-Bera (JB):              2165.52\n",
      "Prob(Q):                              0.97   Prob(JB):                         0.00\n",
      "Heteroskedasticity (H):               3.67   Skew:                            -3.49\n",
      "Prob(H) (two-sided):                  0.00   Kurtosis:                        25.19\n",
      "===================================================================================\n",
      "\n",
      "Warnings:\n",
      "[1] Covariance matrix calculated using the outer product of gradients (complex-step).\n",
      "\n",
      "\n",
      "Val 1.4\n",
      "                               SARIMAX Results                                \n",
      "==============================================================================\n",
      "Dep. Variable:               cpuScore   No. Observations:                  243\n",
      "Model:                 ARIMA(4, 0, 1)   Log Likelihood                -103.296\n",
      "Date:                Fri, 02 Jun 2023   AIC                            220.593\n",
      "Time:                        14:38:19   BIC                            245.044\n",
      "Sample:                             0   HQIC                           230.442\n",
      "                                - 243                                         \n",
      "Covariance Type:                  opg                                         \n",
      "==============================================================================\n",
      "                 coef    std err          z      P>|z|      [0.025      0.975]\n",
      "------------------------------------------------------------------------------\n",
      "const         99.9523      0.136    734.735      0.000      99.686     100.219\n",
      "ar.L1          0.8764      2.423      0.362      0.718      -3.873       5.626\n",
      "ar.L2         -0.0021      1.795     -0.001      0.999      -3.521       3.517\n",
      "ar.L3         -0.0022      1.786     -0.001      0.999      -3.503       3.498\n",
      "ar.L4         -0.0086      1.239     -0.007      0.994      -2.438       2.421\n",
      "ma.L1         -0.8965      1.934     -0.464      0.643      -4.687       2.894\n",
      "sigma2         0.1370      0.019      7.250      0.000       0.100       0.174\n",
      "===================================================================================\n",
      "Ljung-Box (L1) (Q):                   0.00   Jarque-Bera (JB):             56085.74\n",
      "Prob(Q):                              0.98   Prob(JB):                         0.00\n",
      "Heteroskedasticity (H):               0.69   Skew:                            -8.28\n",
      "Prob(H) (two-sided):                  0.10   Kurtosis:                        75.56\n",
      "===================================================================================\n",
      "\n",
      "Warnings:\n",
      "[1] Covariance matrix calculated using the outer product of gradients (complex-step).\n",
      "\n",
      "\n",
      "Val 1.3\n"
     ]
    },
    {
     "name": "stderr",
     "output_type": "stream",
     "text": [
      "/Users/dmukherjee/anaconda3/lib/python3.8/site-packages/statsmodels/tsa/base/tsa_model.py:471: ValueWarning: An unsupported index was provided and will be ignored when e.g. forecasting.\n",
      "  self._init_dates(dates, freq)\n",
      "/Users/dmukherjee/anaconda3/lib/python3.8/site-packages/statsmodels/tsa/base/tsa_model.py:471: ValueWarning: An unsupported index was provided and will be ignored when e.g. forecasting.\n",
      "  self._init_dates(dates, freq)\n",
      "/Users/dmukherjee/anaconda3/lib/python3.8/site-packages/statsmodels/tsa/base/tsa_model.py:471: ValueWarning: An unsupported index was provided and will be ignored when e.g. forecasting.\n",
      "  self._init_dates(dates, freq)\n",
      "/Users/dmukherjee/anaconda3/lib/python3.8/site-packages/statsmodels/tsa/statespace/sarimax.py:966: UserWarning: Non-stationary starting autoregressive parameters found. Using zeros as starting parameters.\n",
      "  warn('Non-stationary starting autoregressive parameters'\n",
      "/Users/dmukherjee/anaconda3/lib/python3.8/site-packages/statsmodels/tsa/statespace/sarimax.py:978: UserWarning: Non-invertible starting MA parameters found. Using zeros as starting parameters.\n",
      "  warn('Non-invertible starting MA parameters found.'\n",
      "/Users/dmukherjee/anaconda3/lib/python3.8/site-packages/statsmodels/tsa/base/tsa_model.py:471: ValueWarning: An unsupported index was provided and will be ignored when e.g. forecasting.\n",
      "  self._init_dates(dates, freq)\n",
      "/Users/dmukherjee/anaconda3/lib/python3.8/site-packages/statsmodels/tsa/base/tsa_model.py:471: ValueWarning: An unsupported index was provided and will be ignored when e.g. forecasting.\n",
      "  self._init_dates(dates, freq)\n",
      "/Users/dmukherjee/anaconda3/lib/python3.8/site-packages/statsmodels/tsa/base/tsa_model.py:471: ValueWarning: An unsupported index was provided and will be ignored when e.g. forecasting.\n",
      "  self._init_dates(dates, freq)\n"
     ]
    },
    {
     "name": "stdout",
     "output_type": "stream",
     "text": [
      "                               SARIMAX Results                                \n",
      "==============================================================================\n",
      "Dep. Variable:               cpuScore   No. Observations:                   57\n",
      "Model:                 ARIMA(4, 0, 1)   Log Likelihood                -116.882\n",
      "Date:                Fri, 02 Jun 2023   AIC                            247.764\n",
      "Time:                        14:38:19   BIC                            262.066\n",
      "Sample:                             0   HQIC                           253.322\n",
      "                                 - 57                                         \n",
      "Covariance Type:                  opg                                         \n",
      "==============================================================================\n",
      "                 coef    std err          z      P>|z|      [0.025      0.975]\n",
      "------------------------------------------------------------------------------\n",
      "const         84.3589      0.348    242.558      0.000      83.677      85.041\n",
      "ar.L1         -0.0792      2.240     -0.035      0.972      -4.471       4.312\n",
      "ar.L2         -0.1152      0.332     -0.348      0.728      -0.765       0.535\n",
      "ar.L3          0.0578      0.382      0.151      0.880      -0.691       0.807\n",
      "ar.L4          0.0805      0.274      0.294      0.768      -0.456       0.617\n",
      "ma.L1          0.1913      2.252      0.085      0.932      -4.223       4.605\n",
      "sigma2         3.5315      0.638      5.535      0.000       2.281       4.782\n",
      "===================================================================================\n",
      "Ljung-Box (L1) (Q):                   0.00   Jarque-Bera (JB):                68.06\n",
      "Prob(Q):                              0.99   Prob(JB):                         0.00\n",
      "Heteroskedasticity (H):               3.46   Skew:                             1.48\n",
      "Prob(H) (two-sided):                  0.01   Kurtosis:                         7.46\n",
      "===================================================================================\n",
      "\n",
      "Warnings:\n",
      "[1] Covariance matrix calculated using the outer product of gradients (complex-step).\n",
      "\n",
      "\n",
      "Val 1.0\n",
      "                               SARIMAX Results                                \n",
      "==============================================================================\n",
      "Dep. Variable:               cpuScore   No. Observations:                   49\n",
      "Model:                 ARIMA(4, 0, 1)   Log Likelihood                -144.861\n",
      "Date:                Fri, 02 Jun 2023   AIC                            303.723\n",
      "Time:                        14:38:19   BIC                            316.965\n",
      "Sample:                             0   HQIC                           308.747\n",
      "                                 - 49                                         \n",
      "Covariance Type:                  opg                                         \n",
      "==============================================================================\n",
      "                 coef    std err          z      P>|z|      [0.025      0.975]\n",
      "------------------------------------------------------------------------------\n",
      "const         46.4364      1.583     29.339      0.000      43.334      49.539\n",
      "ar.L1         -0.9010      0.347     -2.598      0.009      -1.581      -0.221\n",
      "ar.L2          0.0460      0.320      0.144      0.886      -0.581       0.673\n",
      "ar.L3          0.0956      0.435      0.220      0.826      -0.757       0.949\n",
      "ar.L4          0.1486      0.387      0.384      0.701      -0.611       0.908\n",
      "ma.L1          0.9979      4.422      0.226      0.821      -7.669       9.664\n",
      "sigma2        21.0162     90.223      0.233      0.816    -155.818     197.850\n",
      "===================================================================================\n",
      "Ljung-Box (L1) (Q):                   0.00   Jarque-Bera (JB):               431.21\n",
      "Prob(Q):                              0.99   Prob(JB):                         0.00\n",
      "Heteroskedasticity (H):               4.11   Skew:                            -3.09\n",
      "Prob(H) (two-sided):                  0.01   Kurtosis:                        16.16\n",
      "===================================================================================\n",
      "\n",
      "Warnings:\n",
      "[1] Covariance matrix calculated using the outer product of gradients (complex-step).\n",
      "\n",
      "\n",
      "Val 0.9\n",
      "                               SARIMAX Results                                \n",
      "==============================================================================\n",
      "Dep. Variable:               cpuScore   No. Observations:                   61\n",
      "Model:                 ARIMA(4, 0, 1)   Log Likelihood                -187.584\n",
      "Date:                Fri, 02 Jun 2023   AIC                            389.168\n",
      "Time:                        14:38:19   BIC                            403.944\n",
      "Sample:                             0   HQIC                           394.959\n",
      "                                 - 61                                         \n",
      "Covariance Type:                  opg                                         \n",
      "==============================================================================\n",
      "                 coef    std err          z      P>|z|      [0.025      0.975]\n",
      "------------------------------------------------------------------------------\n",
      "const         36.7469      1.041     35.314      0.000      34.707      38.786\n",
      "ar.L1         -0.0539      8.698     -0.006      0.995     -17.102      16.994\n",
      "ar.L2         -0.0052      2.274     -0.002      0.998      -4.463       4.452\n",
      "ar.L3          0.0026      0.687      0.004      0.997      -1.344       1.350\n",
      "ar.L4          0.0462      0.307      0.150      0.881      -0.556       0.648\n",
      "ma.L1         -0.2079      8.850     -0.023      0.981     -17.553      17.137\n",
      "sigma2        27.4162      4.077      6.724      0.000      19.425      35.407\n",
      "===================================================================================\n",
      "Ljung-Box (L1) (Q):                   0.00   Jarque-Bera (JB):               346.61\n",
      "Prob(Q):                              0.97   Prob(JB):                         0.00\n",
      "Heteroskedasticity (H):               0.69   Skew:                            -2.52\n",
      "Prob(H) (two-sided):                  0.42   Kurtosis:                        13.54\n",
      "===================================================================================\n",
      "\n",
      "Warnings:\n",
      "[1] Covariance matrix calculated using the outer product of gradients (complex-step).\n",
      "\n",
      "\n",
      "Val 1.1\n"
     ]
    },
    {
     "name": "stderr",
     "output_type": "stream",
     "text": [
      "/Users/dmukherjee/anaconda3/lib/python3.8/site-packages/statsmodels/tsa/base/tsa_model.py:471: ValueWarning: An unsupported index was provided and will be ignored when e.g. forecasting.\n",
      "  self._init_dates(dates, freq)\n",
      "/Users/dmukherjee/anaconda3/lib/python3.8/site-packages/statsmodels/tsa/base/tsa_model.py:471: ValueWarning: An unsupported index was provided and will be ignored when e.g. forecasting.\n",
      "  self._init_dates(dates, freq)\n",
      "/Users/dmukherjee/anaconda3/lib/python3.8/site-packages/statsmodels/tsa/base/tsa_model.py:471: ValueWarning: An unsupported index was provided and will be ignored when e.g. forecasting.\n",
      "  self._init_dates(dates, freq)\n",
      "/Users/dmukherjee/anaconda3/lib/python3.8/site-packages/statsmodels/base/model.py:604: ConvergenceWarning: Maximum Likelihood optimization failed to converge. Check mle_retvals\n",
      "  warnings.warn(\"Maximum Likelihood optimization failed to \"\n",
      "/Users/dmukherjee/anaconda3/lib/python3.8/site-packages/statsmodels/tsa/base/tsa_model.py:471: ValueWarning: An unsupported index was provided and will be ignored when e.g. forecasting.\n",
      "  self._init_dates(dates, freq)\n",
      "/Users/dmukherjee/anaconda3/lib/python3.8/site-packages/statsmodels/tsa/base/tsa_model.py:471: ValueWarning: An unsupported index was provided and will be ignored when e.g. forecasting.\n",
      "  self._init_dates(dates, freq)\n",
      "/Users/dmukherjee/anaconda3/lib/python3.8/site-packages/statsmodels/tsa/base/tsa_model.py:471: ValueWarning: An unsupported index was provided and will be ignored when e.g. forecasting.\n",
      "  self._init_dates(dates, freq)\n",
      "/Users/dmukherjee/anaconda3/lib/python3.8/site-packages/statsmodels/tsa/base/tsa_model.py:471: ValueWarning: An unsupported index was provided and will be ignored when e.g. forecasting.\n",
      "  self._init_dates(dates, freq)\n",
      "/Users/dmukherjee/anaconda3/lib/python3.8/site-packages/statsmodels/tsa/base/tsa_model.py:471: ValueWarning: An unsupported index was provided and will be ignored when e.g. forecasting.\n",
      "  self._init_dates(dates, freq)\n",
      "/Users/dmukherjee/anaconda3/lib/python3.8/site-packages/statsmodels/tsa/base/tsa_model.py:471: ValueWarning: An unsupported index was provided and will be ignored when e.g. forecasting.\n",
      "  self._init_dates(dates, freq)\n"
     ]
    },
    {
     "name": "stdout",
     "output_type": "stream",
     "text": [
      "                               SARIMAX Results                                \n",
      "==============================================================================\n",
      "Dep. Variable:               cpuScore   No. Observations:                   34\n",
      "Model:                 ARIMA(4, 0, 1)   Log Likelihood                -126.329\n",
      "Date:                Fri, 02 Jun 2023   AIC                            266.659\n",
      "Time:                        14:38:20   BIC                            277.343\n",
      "Sample:                             0   HQIC                           270.303\n",
      "                                 - 34                                         \n",
      "Covariance Type:                  opg                                         \n",
      "==============================================================================\n",
      "                 coef    std err          z      P>|z|      [0.025      0.975]\n",
      "------------------------------------------------------------------------------\n",
      "const         57.5689     20.536      2.803      0.005      17.319      97.819\n",
      "ar.L1          0.0219      3.058      0.007      0.994      -5.972       6.016\n",
      "ar.L2          0.1846      3.217      0.057      0.954      -6.120       6.490\n",
      "ar.L3          0.1059      2.340      0.045      0.964      -4.481       4.693\n",
      "ar.L4         -0.2893      2.305     -0.125      0.900      -4.808       4.229\n",
      "ma.L1          0.4972      3.126      0.159      0.874      -5.630       6.624\n",
      "sigma2        96.7936     28.901      3.349      0.001      40.149     153.438\n",
      "===================================================================================\n",
      "Ljung-Box (L1) (Q):                   0.01   Jarque-Bera (JB):               753.75\n",
      "Prob(Q):                              0.90   Prob(JB):                         0.00\n",
      "Heteroskedasticity (H):              13.77   Skew:                            -4.48\n",
      "Prob(H) (two-sided):                  0.00   Kurtosis:                        24.25\n",
      "===================================================================================\n",
      "\n",
      "Warnings:\n",
      "[1] Covariance matrix calculated using the outer product of gradients (complex-step).\n"
     ]
    }
   ],
   "source": [
    "gresult ={}\n",
    "for val in cpuFArr:\n",
    "    print(\"\\n\\nVal\",val)\n",
    "    gmodel = ARIMA(mapTrain[val]['cpuScore'], order=(4,0,1))\n",
    "    gresult[val] = gmodel.fit()\n",
    "    print(gresult[val].summary())"
   ]
  },
  {
   "cell_type": "markdown",
   "metadata": {},
   "source": [
    "### The "
   ]
  }
 ],
 "metadata": {
  "kernelspec": {
   "display_name": "Python 3",
   "language": "python",
   "name": "python3"
  },
  "language_info": {
   "codemirror_mode": {
    "name": "ipython",
    "version": 3
   },
   "file_extension": ".py",
   "mimetype": "text/x-python",
   "name": "python",
   "nbconvert_exporter": "python",
   "pygments_lexer": "ipython3",
   "version": "3.8.3"
  }
 },
 "nbformat": 4,
 "nbformat_minor": 4
}
