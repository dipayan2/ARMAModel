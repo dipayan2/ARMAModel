{
 "cells": [
  {
   "cell_type": "code",
   "execution_count": 1,
   "metadata": {},
   "outputs": [],
   "source": [
    "import matplotlib.pyplot as plt\n",
    "import numpy as np\n",
    "import pandas as pd\n",
    "import statsmodels.api as sm\n",
    "from scipy import stats\n",
    "# from statsmodels.tsa.arima.model import ARIMA\n",
    "from statsmodels.tsa.arima.model import ARIMA\n",
    "from statsmodels.graphics.tsaplots import plot_predict"
   ]
  },
  {
   "cell_type": "code",
   "execution_count": 2,
   "metadata": {},
   "outputs": [],
   "source": [
    "from sklearn.model_selection import train_test_split"
   ]
  },
  {
   "cell_type": "code",
   "execution_count": 3,
   "metadata": {},
   "outputs": [],
   "source": [
    "plt.rcParams['figure.figsize'] = (10, 5)\n",
    "plt.style.use('fivethirtyeight')"
   ]
  },
  {
   "cell_type": "markdown",
   "metadata": {},
   "source": [
    "# Code for data extraction\n",
    "1. In this section we will load the raw data and extract utilization and frequency value"
   ]
  },
  {
   "cell_type": "code",
   "execution_count": 4,
   "metadata": {},
   "outputs": [
    {
     "data": {
      "text/plain": [
       "(2674, 6)"
      ]
     },
     "execution_count": 4,
     "metadata": {},
     "output_type": "execute_result"
    }
   ],
   "source": [
    "utilData = pd.read_csv('./Util_Run1.csv')\n",
    "utilData.shape"
   ]
  },
  {
   "cell_type": "code",
   "execution_count": 5,
   "metadata": {},
   "outputs": [
    {
     "data": {
      "text/html": [
       "<div>\n",
       "<style scoped>\n",
       "    .dataframe tbody tr th:only-of-type {\n",
       "        vertical-align: middle;\n",
       "    }\n",
       "\n",
       "    .dataframe tbody tr th {\n",
       "        vertical-align: top;\n",
       "    }\n",
       "\n",
       "    .dataframe thead th {\n",
       "        text-align: right;\n",
       "    }\n",
       "</style>\n",
       "<table border=\"1\" class=\"dataframe\">\n",
       "  <thead>\n",
       "    <tr style=\"text-align: right;\">\n",
       "      <th></th>\n",
       "      <th>memUse</th>\n",
       "      <th>memTot</th>\n",
       "      <th>memfreq</th>\n",
       "      <th>cpuid</th>\n",
       "      <th>cpuload</th>\n",
       "      <th>cpufreq</th>\n",
       "    </tr>\n",
       "  </thead>\n",
       "  <tbody>\n",
       "    <tr>\n",
       "      <th>0</th>\n",
       "      <td>604872</td>\n",
       "      <td>4612865</td>\n",
       "      <td>165000000</td>\n",
       "      <td>0</td>\n",
       "      <td>31</td>\n",
       "      <td>600000</td>\n",
       "    </tr>\n",
       "    <tr>\n",
       "      <th>1</th>\n",
       "      <td>675</td>\n",
       "      <td>28712</td>\n",
       "      <td>275000000</td>\n",
       "      <td>0</td>\n",
       "      <td>4</td>\n",
       "      <td>200000</td>\n",
       "    </tr>\n",
       "    <tr>\n",
       "      <th>2</th>\n",
       "      <td>1191888</td>\n",
       "      <td>12624777</td>\n",
       "      <td>413000000</td>\n",
       "      <td>0</td>\n",
       "      <td>8</td>\n",
       "      <td>200000</td>\n",
       "    </tr>\n",
       "    <tr>\n",
       "      <th>3</th>\n",
       "      <td>773492</td>\n",
       "      <td>8196989</td>\n",
       "      <td>275000000</td>\n",
       "      <td>0</td>\n",
       "      <td>9</td>\n",
       "      <td>300000</td>\n",
       "    </tr>\n",
       "    <tr>\n",
       "      <th>4</th>\n",
       "      <td>1144</td>\n",
       "      <td>57890</td>\n",
       "      <td>206000000</td>\n",
       "      <td>0</td>\n",
       "      <td>7</td>\n",
       "      <td>300000</td>\n",
       "    </tr>\n",
       "  </tbody>\n",
       "</table>\n",
       "</div>"
      ],
      "text/plain": [
       "    memUse    memTot    memfreq  cpuid  cpuload  cpufreq\n",
       "0   604872   4612865  165000000      0       31   600000\n",
       "1      675     28712  275000000      0        4   200000\n",
       "2  1191888  12624777  413000000      0        8   200000\n",
       "3   773492   8196989  275000000      0        9   300000\n",
       "4     1144     57890  206000000      0        7   300000"
      ]
     },
     "execution_count": 5,
     "metadata": {},
     "output_type": "execute_result"
    }
   ],
   "source": [
    "utilData.head()"
   ]
  },
  {
   "cell_type": "code",
   "execution_count": 6,
   "metadata": {},
   "outputs": [],
   "source": [
    "utilData['memLoad'] = utilData['memUse']*100/utilData['memTot']\n",
    "utilData['memScore'] = utilData['memLoad']*utilData['memfreq']/825000000\n",
    "utilData['memF'] = utilData['memfreq']*100/825000000"
   ]
  },
  {
   "cell_type": "code",
   "execution_count": 7,
   "metadata": {},
   "outputs": [],
   "source": [
    "utilData['cpuScore'] = utilData['cpuload']*utilData['cpufreq']/1400000\n",
    "utilData['cpuF'] = utilData['cpufreq']*100/1000000"
   ]
  },
  {
   "cell_type": "code",
   "execution_count": 8,
   "metadata": {},
   "outputs": [
    {
     "data": {
      "text/html": [
       "<div>\n",
       "<style scoped>\n",
       "    .dataframe tbody tr th:only-of-type {\n",
       "        vertical-align: middle;\n",
       "    }\n",
       "\n",
       "    .dataframe tbody tr th {\n",
       "        vertical-align: top;\n",
       "    }\n",
       "\n",
       "    .dataframe thead th {\n",
       "        text-align: right;\n",
       "    }\n",
       "</style>\n",
       "<table border=\"1\" class=\"dataframe\">\n",
       "  <thead>\n",
       "    <tr style=\"text-align: right;\">\n",
       "      <th></th>\n",
       "      <th>memUse</th>\n",
       "      <th>memTot</th>\n",
       "      <th>memfreq</th>\n",
       "      <th>cpuid</th>\n",
       "      <th>cpuload</th>\n",
       "      <th>cpufreq</th>\n",
       "      <th>memLoad</th>\n",
       "      <th>memScore</th>\n",
       "      <th>memF</th>\n",
       "      <th>cpuScore</th>\n",
       "      <th>cpuF</th>\n",
       "    </tr>\n",
       "  </thead>\n",
       "  <tbody>\n",
       "    <tr>\n",
       "      <th>0</th>\n",
       "      <td>604872</td>\n",
       "      <td>4612865</td>\n",
       "      <td>165000000</td>\n",
       "      <td>0</td>\n",
       "      <td>31</td>\n",
       "      <td>600000</td>\n",
       "      <td>13.112718</td>\n",
       "      <td>2.622544</td>\n",
       "      <td>20.000000</td>\n",
       "      <td>13.285714</td>\n",
       "      <td>60.0</td>\n",
       "    </tr>\n",
       "    <tr>\n",
       "      <th>1</th>\n",
       "      <td>675</td>\n",
       "      <td>28712</td>\n",
       "      <td>275000000</td>\n",
       "      <td>0</td>\n",
       "      <td>4</td>\n",
       "      <td>200000</td>\n",
       "      <td>2.350933</td>\n",
       "      <td>0.783644</td>\n",
       "      <td>33.333333</td>\n",
       "      <td>0.571429</td>\n",
       "      <td>20.0</td>\n",
       "    </tr>\n",
       "    <tr>\n",
       "      <th>2</th>\n",
       "      <td>1191888</td>\n",
       "      <td>12624777</td>\n",
       "      <td>413000000</td>\n",
       "      <td>0</td>\n",
       "      <td>8</td>\n",
       "      <td>200000</td>\n",
       "      <td>9.440864</td>\n",
       "      <td>4.726154</td>\n",
       "      <td>50.060606</td>\n",
       "      <td>1.142857</td>\n",
       "      <td>20.0</td>\n",
       "    </tr>\n",
       "    <tr>\n",
       "      <th>3</th>\n",
       "      <td>773492</td>\n",
       "      <td>8196989</td>\n",
       "      <td>275000000</td>\n",
       "      <td>0</td>\n",
       "      <td>9</td>\n",
       "      <td>300000</td>\n",
       "      <td>9.436294</td>\n",
       "      <td>3.145431</td>\n",
       "      <td>33.333333</td>\n",
       "      <td>1.928571</td>\n",
       "      <td>30.0</td>\n",
       "    </tr>\n",
       "    <tr>\n",
       "      <th>4</th>\n",
       "      <td>1144</td>\n",
       "      <td>57890</td>\n",
       "      <td>206000000</td>\n",
       "      <td>0</td>\n",
       "      <td>7</td>\n",
       "      <td>300000</td>\n",
       "      <td>1.976162</td>\n",
       "      <td>0.493442</td>\n",
       "      <td>24.969697</td>\n",
       "      <td>1.500000</td>\n",
       "      <td>30.0</td>\n",
       "    </tr>\n",
       "  </tbody>\n",
       "</table>\n",
       "</div>"
      ],
      "text/plain": [
       "    memUse    memTot    memfreq  cpuid  cpuload  cpufreq    memLoad  memScore  \\\n",
       "0   604872   4612865  165000000      0       31   600000  13.112718  2.622544   \n",
       "1      675     28712  275000000      0        4   200000   2.350933  0.783644   \n",
       "2  1191888  12624777  413000000      0        8   200000   9.440864  4.726154   \n",
       "3   773492   8196989  275000000      0        9   300000   9.436294  3.145431   \n",
       "4     1144     57890  206000000      0        7   300000   1.976162  0.493442   \n",
       "\n",
       "        memF   cpuScore  cpuF  \n",
       "0  20.000000  13.285714  60.0  \n",
       "1  33.333333   0.571429  20.0  \n",
       "2  50.060606   1.142857  20.0  \n",
       "3  33.333333   1.928571  30.0  \n",
       "4  24.969697   1.500000  30.0  "
      ]
     },
     "execution_count": 8,
     "metadata": {},
     "output_type": "execute_result"
    }
   ],
   "source": [
    "utilData.head()"
   ]
  },
  {
   "cell_type": "code",
   "execution_count": 9,
   "metadata": {},
   "outputs": [],
   "source": [
    "tot_train = utilData.iloc[0:2136]\n"
   ]
  },
  {
   "cell_type": "code",
   "execution_count": 10,
   "metadata": {},
   "outputs": [
    {
     "name": "stdout",
     "output_type": "stream",
     "text": [
      "      memUse   memTot    memfreq  cpuid  cpuload  cpufreq    memLoad  \\\n",
      "529    41341   464426  825000000      0       50   800000   8.901526   \n",
      "530    41341   464426  825000000      0       33   600000   8.901526   \n",
      "531    41341   464426  825000000      0       30   600000   8.901526   \n",
      "532    41341   464426  825000000      0       29   500000   8.901526   \n",
      "533  2457799  3939455  825000000      0       40   700000  62.389315   \n",
      "\n",
      "      memScore   memF   cpuScore  cpuF  \n",
      "529   8.901526  100.0  28.571429  80.0  \n",
      "530   8.901526  100.0  14.142857  60.0  \n",
      "531   8.901526  100.0  12.857143  60.0  \n",
      "532   8.901526  100.0  10.357143  50.0  \n",
      "533  62.389315  100.0  20.000000  70.0  \n"
     ]
    },
    {
     "data": {
      "text/plain": [
       "(538, 11)"
      ]
     },
     "execution_count": 10,
     "metadata": {},
     "output_type": "execute_result"
    }
   ],
   "source": [
    "train_1 = utilData.iloc[0:534]\n",
    "train_2 = utilData.iloc[534:1068]\n",
    "train_3 = utilData.iloc[1068:1602]\n",
    "train_4 = utilData.iloc[1602:2136]\n",
    "test_data = utilData.iloc[2136:]\n",
    "print(train_1.tail())\n",
    "test_data.shape"
   ]
  },
  {
   "cell_type": "code",
   "execution_count": 11,
   "metadata": {},
   "outputs": [],
   "source": [
    "# Sample Space to experiment"
   ]
  },
  {
   "cell_type": "markdown",
   "metadata": {},
   "source": [
    "# Modeling \n",
    "In this section we will model the data and test its accuracy"
   ]
  },
  {
   "cell_type": "code",
   "execution_count": 12,
   "metadata": {},
   "outputs": [
    {
     "name": "stdout",
     "output_type": "stream",
     "text": [
      "                               SARIMAX Results                                \n",
      "==============================================================================\n",
      "Dep. Variable:                   cpuF   No. Observations:                 2136\n",
      "Model:                 ARIMA(2, 0, 2)   Log Likelihood               -7003.007\n",
      "Date:                Thu, 08 Jun 2023   AIC                          14022.014\n",
      "Time:                        12:02:02   BIC                          14067.347\n",
      "Sample:                             0   HQIC                         14038.604\n",
      "                               - 2136                                         \n",
      "Covariance Type:                  opg                                         \n",
      "==============================================================================\n",
      "                 coef    std err          z      P>|z|      [0.025      0.975]\n",
      "------------------------------------------------------------------------------\n",
      "const         31.1191      0.429     72.527      0.000      30.278      31.960\n",
      "memScore       0.1758      0.011     16.330      0.000       0.155       0.197\n",
      "cpuScore       1.1265      0.010    112.262      0.000       1.107       1.146\n",
      "ar.L1         -0.0028      0.209     -0.014      0.989      -0.412       0.406\n",
      "ar.L2          0.6052      0.171      3.533      0.000       0.269       0.941\n",
      "ma.L1          0.2579      0.213      1.213      0.225      -0.159       0.674\n",
      "ma.L2         -0.3712      0.129     -2.883      0.004      -0.623      -0.119\n",
      "sigma2        41.2279      0.606     68.041      0.000      40.040      42.415\n",
      "===================================================================================\n",
      "Ljung-Box (L1) (Q):                   0.09   Jarque-Bera (JB):             14232.23\n",
      "Prob(Q):                              0.77   Prob(JB):                         0.00\n",
      "Heteroskedasticity (H):               1.73   Skew:                             1.88\n",
      "Prob(H) (two-sided):                  0.00   Kurtosis:                        15.08\n",
      "===================================================================================\n",
      "\n",
      "Warnings:\n",
      "[1] Covariance matrix calculated using the outer product of gradients (complex-step).\n"
     ]
    }
   ],
   "source": [
    "model = ARIMA(tot_train['cpuF'], order=(2,0,2), exog=tot_train[['memScore','cpuScore']])\n",
    "result = model.fit()\n",
    "print(result.summary())"
   ]
  },
  {
   "cell_type": "code",
   "execution_count": 13,
   "metadata": {},
   "outputs": [
    {
     "name": "stdout",
     "output_type": "stream",
     "text": [
      "                               SARIMAX Results                                \n",
      "==============================================================================\n",
      "Dep. Variable:                   cpuF   No. Observations:                  534\n",
      "Model:                 ARIMA(2, 0, 2)   Log Likelihood               -1677.971\n",
      "Date:                Thu, 08 Jun 2023   AIC                           3369.942\n",
      "Time:                        12:02:03   BIC                           3399.905\n",
      "Sample:                             0   HQIC                          3381.666\n",
      "                                - 534                                         \n",
      "Covariance Type:                  opg                                         \n",
      "==============================================================================\n",
      "                 coef    std err          z      P>|z|      [0.025      0.975]\n",
      "------------------------------------------------------------------------------\n",
      "const         29.7149      0.903     32.916      0.000      27.945      31.484\n",
      "cpuScore       1.2713      0.019     66.205      0.000       1.234       1.309\n",
      "ar.L1          0.0813      0.830      0.098      0.922      -1.546       1.709\n",
      "ar.L2          0.5872      0.686      0.856      0.392      -0.758       1.933\n",
      "ma.L1          0.2462      0.841      0.293      0.770      -1.401       1.894\n",
      "ma.L2         -0.3256      0.431     -0.755      0.450      -1.171       0.520\n",
      "sigma2        31.3729      1.661     18.885      0.000      28.117      34.629\n",
      "===================================================================================\n",
      "Ljung-Box (L1) (Q):                   0.02   Jarque-Bera (JB):               166.83\n",
      "Prob(Q):                              0.89   Prob(JB):                         0.00\n",
      "Heteroskedasticity (H):               0.94   Skew:                             0.98\n",
      "Prob(H) (two-sided):                  0.67   Kurtosis:                         4.92\n",
      "===================================================================================\n",
      "\n",
      "Warnings:\n",
      "[1] Covariance matrix calculated using the outer product of gradients (complex-step).\n"
     ]
    }
   ],
   "source": [
    "model1 = ARIMA(train_1['cpuF'], order=(2,0,2), exog=train_1['cpuScore'])\n",
    "result1 = model1.fit()\n",
    "print(result1.summary())"
   ]
  },
  {
   "cell_type": "code",
   "execution_count": 14,
   "metadata": {},
   "outputs": [
    {
     "name": "stdout",
     "output_type": "stream",
     "text": [
      "                               SARIMAX Results                                \n",
      "==============================================================================\n",
      "Dep. Variable:                   cpuF   No. Observations:                  534\n",
      "Model:                 ARIMA(2, 0, 1)   Log Likelihood               -1599.439\n",
      "Date:                Thu, 08 Jun 2023   AIC                           3210.877\n",
      "Time:                        12:02:03   BIC                           3236.559\n",
      "Sample:                             0   HQIC                          3220.926\n",
      "                                - 534                                         \n",
      "Covariance Type:                  opg                                         \n",
      "==============================================================================\n",
      "                 coef    std err          z      P>|z|      [0.025      0.975]\n",
      "------------------------------------------------------------------------------\n",
      "const         49.7742      0.442    112.602      0.000      48.908      50.641\n",
      "cpuScore       0.9393      0.011     88.506      0.000       0.919       0.960\n",
      "ar.L1          0.5820      0.275      2.114      0.035       0.042       1.122\n",
      "ar.L2          0.0495      0.083      0.599      0.549      -0.113       0.212\n",
      "ma.L1         -0.3787      0.277     -1.367      0.172      -0.922       0.164\n",
      "sigma2        23.3902      0.820     28.510      0.000      21.782      24.998\n",
      "===================================================================================\n",
      "Ljung-Box (L1) (Q):                   0.00   Jarque-Bera (JB):               772.71\n",
      "Prob(Q):                              0.99   Prob(JB):                         0.00\n",
      "Heteroskedasticity (H):               0.70   Skew:                             0.74\n",
      "Prob(H) (two-sided):                  0.02   Kurtosis:                         8.71\n",
      "===================================================================================\n",
      "\n",
      "Warnings:\n",
      "[1] Covariance matrix calculated using the outer product of gradients (complex-step).\n"
     ]
    }
   ],
   "source": [
    "model2 = ARIMA(train_2['cpuF'], order=(2,0,1), exog=train_2['cpuScore'])\n",
    "result2 = model2.fit()\n",
    "print(result2.summary())"
   ]
  },
  {
   "cell_type": "code",
   "execution_count": 15,
   "metadata": {},
   "outputs": [
    {
     "name": "stdout",
     "output_type": "stream",
     "text": [
      "                               SARIMAX Results                                \n",
      "==============================================================================\n",
      "Dep. Variable:                   cpuF   No. Observations:                  534\n",
      "Model:                 ARIMA(2, 0, 1)   Log Likelihood               -1787.734\n",
      "Date:                Thu, 08 Jun 2023   AIC                           3587.468\n",
      "Time:                        12:02:03   BIC                           3613.150\n",
      "Sample:                             0   HQIC                          3597.517\n",
      "                                - 534                                         \n",
      "Covariance Type:                  opg                                         \n",
      "==============================================================================\n",
      "                 coef    std err          z      P>|z|      [0.025      0.975]\n",
      "------------------------------------------------------------------------------\n",
      "const         35.2394      3.346     10.530      0.000      28.680      41.798\n",
      "cpuScore       1.0555      0.021     49.487      0.000       1.014       1.097\n",
      "ar.L1          1.0417      0.053     19.770      0.000       0.938       1.145\n",
      "ar.L2         -0.0607      0.046     -1.313      0.189      -0.151       0.030\n",
      "ma.L1         -0.8009      0.039    -20.548      0.000      -0.877      -0.724\n",
      "sigma2        47.2506      1.202     39.297      0.000      44.894      49.607\n",
      "===================================================================================\n",
      "Ljung-Box (L1) (Q):                   0.03   Jarque-Bera (JB):             14618.41\n",
      "Prob(Q):                              0.87   Prob(JB):                         0.00\n",
      "Heteroskedasticity (H):               3.40   Skew:                             3.14\n",
      "Prob(H) (two-sided):                  0.00   Kurtosis:                        27.85\n",
      "===================================================================================\n",
      "\n",
      "Warnings:\n",
      "[1] Covariance matrix calculated using the outer product of gradients (complex-step).\n"
     ]
    }
   ],
   "source": [
    "model3 = ARIMA(train_3['cpuF'], order=(2,0,1), exog=train_3['cpuScore'])\n",
    "result3 = model3.fit()\n",
    "print(result3.summary())"
   ]
  },
  {
   "cell_type": "code",
   "execution_count": 16,
   "metadata": {},
   "outputs": [
    {
     "name": "stdout",
     "output_type": "stream",
     "text": [
      "                               SARIMAX Results                                \n",
      "==============================================================================\n",
      "Dep. Variable:                   cpuF   No. Observations:                  534\n",
      "Model:                 ARIMA(4, 0, 1)   Log Likelihood               -1814.247\n",
      "Date:                Thu, 08 Jun 2023   AIC                           3644.493\n",
      "Time:                        12:02:03   BIC                           3678.737\n",
      "Sample:                             0   HQIC                          3657.892\n",
      "                                - 534                                         \n",
      "Covariance Type:                  opg                                         \n",
      "==============================================================================\n",
      "                 coef    std err          z      P>|z|      [0.025      0.975]\n",
      "------------------------------------------------------------------------------\n",
      "const         30.2761      0.855     35.424      0.000      28.601      31.951\n",
      "cpuScore       1.1431      0.023     49.682      0.000       1.098       1.188\n",
      "ar.L1         -0.0924      0.406     -0.227      0.820      -0.889       0.704\n",
      "ar.L2          0.1950      0.098      1.983      0.047       0.002       0.388\n",
      "ar.L3          0.0829      0.068      1.222      0.222      -0.050       0.216\n",
      "ar.L4          0.1173      0.037      3.200      0.001       0.045       0.189\n",
      "ma.L1          0.3205      0.411      0.780      0.435      -0.485       1.126\n",
      "sigma2        52.2849      1.807     28.939      0.000      48.744      55.826\n",
      "===================================================================================\n",
      "Ljung-Box (L1) (Q):                   0.00   Jarque-Bera (JB):              2644.20\n",
      "Prob(Q):                              0.96   Prob(JB):                         0.00\n",
      "Heteroskedasticity (H):               0.63   Skew:                             1.90\n",
      "Prob(H) (two-sided):                  0.00   Kurtosis:                        13.22\n",
      "===================================================================================\n",
      "\n",
      "Warnings:\n",
      "[1] Covariance matrix calculated using the outer product of gradients (complex-step).\n"
     ]
    }
   ],
   "source": [
    "model4 = ARIMA(train_4['cpuF'], order=(4,0,1), exog=train_4['cpuScore'])\n",
    "result4 = model4.fit()\n",
    "print(result4.summary())"
   ]
  },
  {
   "cell_type": "markdown",
   "metadata": {},
   "source": [
    "## Testing Accuracy\n",
    "We will run both the models to test its accuracy"
   ]
  },
  {
   "cell_type": "code",
   "execution_count": 17,
   "metadata": {},
   "outputs": [],
   "source": [
    "# This is to test the accuracy of prediction\n",
    "from sklearn import metrics"
   ]
  },
  {
   "cell_type": "code",
   "execution_count": 18,
   "metadata": {},
   "outputs": [],
   "source": [
    "forecast = result.forecast(steps=538,exog=test_data[['memScore','cpuScore']])\n",
    "forecast = forecast.to_numpy()"
   ]
  },
  {
   "cell_type": "code",
   "execution_count": 19,
   "metadata": {},
   "outputs": [],
   "source": [
    "mtest_data = test_data.iloc[0:20]\n",
    "pforecast = result.get_forecast(steps=20,exog=mtest_data[['memScore','cpuScore']])"
   ]
  },
  {
   "cell_type": "code",
   "execution_count": 20,
   "metadata": {},
   "outputs": [
    {
     "data": {
      "text/html": [
       "<div>\n",
       "<style scoped>\n",
       "    .dataframe tbody tr th:only-of-type {\n",
       "        vertical-align: middle;\n",
       "    }\n",
       "\n",
       "    .dataframe tbody tr th {\n",
       "        vertical-align: top;\n",
       "    }\n",
       "\n",
       "    .dataframe thead th {\n",
       "        text-align: right;\n",
       "    }\n",
       "</style>\n",
       "<table border=\"1\" class=\"dataframe\">\n",
       "  <thead>\n",
       "    <tr style=\"text-align: right;\">\n",
       "      <th>cpuF</th>\n",
       "      <th>mean</th>\n",
       "      <th>mean_se</th>\n",
       "      <th>mean_ci_lower</th>\n",
       "      <th>mean_ci_upper</th>\n",
       "      <th>memScore</th>\n",
       "      <th>cpuScore</th>\n",
       "      <th>Actual freq</th>\n",
       "    </tr>\n",
       "  </thead>\n",
       "  <tbody>\n",
       "    <tr>\n",
       "      <th>2136</th>\n",
       "      <td>125.164831</td>\n",
       "      <td>6.420895</td>\n",
       "      <td>112.580108</td>\n",
       "      <td>137.749553</td>\n",
       "      <td>0.458928</td>\n",
       "      <td>85.428571</td>\n",
       "      <td>130.0</td>\n",
       "    </tr>\n",
       "    <tr>\n",
       "      <th>2137</th>\n",
       "      <td>124.276827</td>\n",
       "      <td>6.626388</td>\n",
       "      <td>111.289344</td>\n",
       "      <td>137.264310</td>\n",
       "      <td>4.550155</td>\n",
       "      <td>83.571429</td>\n",
       "      <td>130.0</td>\n",
       "    </tr>\n",
       "    <tr>\n",
       "      <th>2138</th>\n",
       "      <td>122.860853</td>\n",
       "      <td>6.793636</td>\n",
       "      <td>109.545571</td>\n",
       "      <td>136.176134</td>\n",
       "      <td>6.023547</td>\n",
       "      <td>81.714286</td>\n",
       "      <td>130.0</td>\n",
       "    </tr>\n",
       "    <tr>\n",
       "      <th>2139</th>\n",
       "      <td>126.389575</td>\n",
       "      <td>6.864917</td>\n",
       "      <td>112.934586</td>\n",
       "      <td>139.844565</td>\n",
       "      <td>6.582994</td>\n",
       "      <td>84.500000</td>\n",
       "      <td>130.0</td>\n",
       "    </tr>\n",
       "    <tr>\n",
       "      <th>2140</th>\n",
       "      <td>143.837620</td>\n",
       "      <td>6.924167</td>\n",
       "      <td>130.266503</td>\n",
       "      <td>157.408738</td>\n",
       "      <td>5.078400</td>\n",
       "      <td>100.000000</td>\n",
       "      <td>140.0</td>\n",
       "    </tr>\n",
       "    <tr>\n",
       "      <th>2141</th>\n",
       "      <td>144.013753</td>\n",
       "      <td>6.949649</td>\n",
       "      <td>130.392691</td>\n",
       "      <td>157.634815</td>\n",
       "      <td>5.078400</td>\n",
       "      <td>100.000000</td>\n",
       "      <td>140.0</td>\n",
       "    </tr>\n",
       "    <tr>\n",
       "      <th>2142</th>\n",
       "      <td>141.176996</td>\n",
       "      <td>6.971013</td>\n",
       "      <td>127.514061</td>\n",
       "      <td>154.839930</td>\n",
       "      <td>0.895113</td>\n",
       "      <td>98.000000</td>\n",
       "      <td>140.0</td>\n",
       "    </tr>\n",
       "    <tr>\n",
       "      <th>2143</th>\n",
       "      <td>127.513357</td>\n",
       "      <td>6.980215</td>\n",
       "      <td>113.832388</td>\n",
       "      <td>141.194327</td>\n",
       "      <td>3.125317</td>\n",
       "      <td>85.428571</td>\n",
       "      <td>130.0</td>\n",
       "    </tr>\n",
       "    <tr>\n",
       "      <th>2144</th>\n",
       "      <td>115.624115</td>\n",
       "      <td>6.987965</td>\n",
       "      <td>101.927955</td>\n",
       "      <td>129.320274</td>\n",
       "      <td>10.039009</td>\n",
       "      <td>73.714286</td>\n",
       "      <td>120.0</td>\n",
       "    </tr>\n",
       "    <tr>\n",
       "      <th>2145</th>\n",
       "      <td>128.905114</td>\n",
       "      <td>6.991299</td>\n",
       "      <td>115.202419</td>\n",
       "      <td>142.607809</td>\n",
       "      <td>16.106359</td>\n",
       "      <td>84.500000</td>\n",
       "      <td>130.0</td>\n",
       "    </tr>\n",
       "    <tr>\n",
       "      <th>2146</th>\n",
       "      <td>144.953550</td>\n",
       "      <td>6.994117</td>\n",
       "      <td>131.245332</td>\n",
       "      <td>158.661768</td>\n",
       "      <td>7.757998</td>\n",
       "      <td>100.000000</td>\n",
       "      <td>140.0</td>\n",
       "    </tr>\n",
       "    <tr>\n",
       "      <th>2147</th>\n",
       "      <td>144.942551</td>\n",
       "      <td>6.995327</td>\n",
       "      <td>131.231961</td>\n",
       "      <td>158.653140</td>\n",
       "      <td>7.476055</td>\n",
       "      <td>100.000000</td>\n",
       "      <td>140.0</td>\n",
       "    </tr>\n",
       "    <tr>\n",
       "      <th>2148</th>\n",
       "      <td>144.975861</td>\n",
       "      <td>6.996352</td>\n",
       "      <td>131.263262</td>\n",
       "      <td>158.688460</td>\n",
       "      <td>7.476055</td>\n",
       "      <td>100.000000</td>\n",
       "      <td>140.0</td>\n",
       "    </tr>\n",
       "    <tr>\n",
       "      <th>2149</th>\n",
       "      <td>88.455379</td>\n",
       "      <td>6.996792</td>\n",
       "      <td>74.741919</td>\n",
       "      <td>102.168838</td>\n",
       "      <td>10.813028</td>\n",
       "      <td>49.285714</td>\n",
       "      <td>100.0</td>\n",
       "    </tr>\n",
       "    <tr>\n",
       "      <th>2150</th>\n",
       "      <td>143.704795</td>\n",
       "      <td>6.997165</td>\n",
       "      <td>129.990604</td>\n",
       "      <td>157.418986</td>\n",
       "      <td>0.000000</td>\n",
       "      <td>100.000000</td>\n",
       "      <td>140.0</td>\n",
       "    </tr>\n",
       "    <tr>\n",
       "      <th>2151</th>\n",
       "      <td>144.108682</td>\n",
       "      <td>6.997324</td>\n",
       "      <td>130.394178</td>\n",
       "      <td>157.823186</td>\n",
       "      <td>2.217518</td>\n",
       "      <td>100.000000</td>\n",
       "      <td>140.0</td>\n",
       "    </tr>\n",
       "    <tr>\n",
       "      <th>2152</th>\n",
       "      <td>145.013257</td>\n",
       "      <td>6.997460</td>\n",
       "      <td>131.298488</td>\n",
       "      <td>158.728027</td>\n",
       "      <td>7.293598</td>\n",
       "      <td>100.000000</td>\n",
       "      <td>140.0</td>\n",
       "    </tr>\n",
       "    <tr>\n",
       "      <th>2153</th>\n",
       "      <td>145.357819</td>\n",
       "      <td>6.997518</td>\n",
       "      <td>131.642936</td>\n",
       "      <td>159.072702</td>\n",
       "      <td>9.205347</td>\n",
       "      <td>100.000000</td>\n",
       "      <td>140.0</td>\n",
       "    </tr>\n",
       "    <tr>\n",
       "      <th>2154</th>\n",
       "      <td>145.365131</td>\n",
       "      <td>6.997567</td>\n",
       "      <td>131.650150</td>\n",
       "      <td>159.080111</td>\n",
       "      <td>9.205347</td>\n",
       "      <td>100.000000</td>\n",
       "      <td>140.0</td>\n",
       "    </tr>\n",
       "    <tr>\n",
       "      <th>2155</th>\n",
       "      <td>145.806502</td>\n",
       "      <td>6.997589</td>\n",
       "      <td>132.091481</td>\n",
       "      <td>159.521524</td>\n",
       "      <td>11.686813</td>\n",
       "      <td>100.000000</td>\n",
       "      <td>140.0</td>\n",
       "    </tr>\n",
       "  </tbody>\n",
       "</table>\n",
       "</div>"
      ],
      "text/plain": [
       "cpuF        mean   mean_se  mean_ci_lower  mean_ci_upper   memScore  \\\n",
       "2136  125.164831  6.420895     112.580108     137.749553   0.458928   \n",
       "2137  124.276827  6.626388     111.289344     137.264310   4.550155   \n",
       "2138  122.860853  6.793636     109.545571     136.176134   6.023547   \n",
       "2139  126.389575  6.864917     112.934586     139.844565   6.582994   \n",
       "2140  143.837620  6.924167     130.266503     157.408738   5.078400   \n",
       "2141  144.013753  6.949649     130.392691     157.634815   5.078400   \n",
       "2142  141.176996  6.971013     127.514061     154.839930   0.895113   \n",
       "2143  127.513357  6.980215     113.832388     141.194327   3.125317   \n",
       "2144  115.624115  6.987965     101.927955     129.320274  10.039009   \n",
       "2145  128.905114  6.991299     115.202419     142.607809  16.106359   \n",
       "2146  144.953550  6.994117     131.245332     158.661768   7.757998   \n",
       "2147  144.942551  6.995327     131.231961     158.653140   7.476055   \n",
       "2148  144.975861  6.996352     131.263262     158.688460   7.476055   \n",
       "2149   88.455379  6.996792      74.741919     102.168838  10.813028   \n",
       "2150  143.704795  6.997165     129.990604     157.418986   0.000000   \n",
       "2151  144.108682  6.997324     130.394178     157.823186   2.217518   \n",
       "2152  145.013257  6.997460     131.298488     158.728027   7.293598   \n",
       "2153  145.357819  6.997518     131.642936     159.072702   9.205347   \n",
       "2154  145.365131  6.997567     131.650150     159.080111   9.205347   \n",
       "2155  145.806502  6.997589     132.091481     159.521524  11.686813   \n",
       "\n",
       "cpuF    cpuScore  Actual freq  \n",
       "2136   85.428571        130.0  \n",
       "2137   83.571429        130.0  \n",
       "2138   81.714286        130.0  \n",
       "2139   84.500000        130.0  \n",
       "2140  100.000000        140.0  \n",
       "2141  100.000000        140.0  \n",
       "2142   98.000000        140.0  \n",
       "2143   85.428571        130.0  \n",
       "2144   73.714286        120.0  \n",
       "2145   84.500000        130.0  \n",
       "2146  100.000000        140.0  \n",
       "2147  100.000000        140.0  \n",
       "2148  100.000000        140.0  \n",
       "2149   49.285714        100.0  \n",
       "2150  100.000000        140.0  \n",
       "2151  100.000000        140.0  \n",
       "2152  100.000000        140.0  \n",
       "2153  100.000000        140.0  \n",
       "2154  100.000000        140.0  \n",
       "2155  100.000000        140.0  "
      ]
     },
     "execution_count": 20,
     "metadata": {},
     "output_type": "execute_result"
    }
   ],
   "source": [
    "myDf = pforecast.summary_frame(alpha=0.05)\n",
    "myDf['memScore'] = mtest_data['memScore'].values\n",
    "myDf['cpuScore'] = mtest_data['cpuScore'].values\n",
    "myDf['Actual freq'] = mtest_data['cpuF'].values\n",
    "myDf\n"
   ]
  },
  {
   "cell_type": "code",
   "execution_count": 21,
   "metadata": {},
   "outputs": [
    {
     "data": {
      "text/html": [
       "<div>\n",
       "<style scoped>\n",
       "    .dataframe tbody tr th:only-of-type {\n",
       "        vertical-align: middle;\n",
       "    }\n",
       "\n",
       "    .dataframe tbody tr th {\n",
       "        vertical-align: top;\n",
       "    }\n",
       "\n",
       "    .dataframe thead th {\n",
       "        text-align: right;\n",
       "    }\n",
       "</style>\n",
       "<table border=\"1\" class=\"dataframe\">\n",
       "  <thead>\n",
       "    <tr style=\"text-align: right;\">\n",
       "      <th>cpuF</th>\n",
       "      <th>mean</th>\n",
       "      <th>mean_se</th>\n",
       "      <th>mean_ci_lower</th>\n",
       "      <th>mean_ci_upper</th>\n",
       "      <th>memScore</th>\n",
       "      <th>cpuScore</th>\n",
       "      <th>Actual freq</th>\n",
       "    </tr>\n",
       "  </thead>\n",
       "  <tbody>\n",
       "    <tr>\n",
       "      <th>2136</th>\n",
       "      <td>29.921588</td>\n",
       "      <td>6.420895</td>\n",
       "      <td>17.336865</td>\n",
       "      <td>42.506311</td>\n",
       "      <td>1.532227</td>\n",
       "      <td>0.714286</td>\n",
       "      <td>20.0</td>\n",
       "    </tr>\n",
       "    <tr>\n",
       "      <th>2137</th>\n",
       "      <td>30.538144</td>\n",
       "      <td>6.626388</td>\n",
       "      <td>17.550661</td>\n",
       "      <td>43.525626</td>\n",
       "      <td>1.366319</td>\n",
       "      <td>0.857143</td>\n",
       "      <td>20.0</td>\n",
       "    </tr>\n",
       "    <tr>\n",
       "      <th>2138</th>\n",
       "      <td>32.199968</td>\n",
       "      <td>6.793636</td>\n",
       "      <td>18.884686</td>\n",
       "      <td>45.515249</td>\n",
       "      <td>4.327118</td>\n",
       "      <td>1.500000</td>\n",
       "      <td>30.0</td>\n",
       "    </tr>\n",
       "    <tr>\n",
       "      <th>2139</th>\n",
       "      <td>31.557899</td>\n",
       "      <td>6.864917</td>\n",
       "      <td>18.102909</td>\n",
       "      <td>45.012888</td>\n",
       "      <td>3.132153</td>\n",
       "      <td>0.857143</td>\n",
       "      <td>30.0</td>\n",
       "    </tr>\n",
       "    <tr>\n",
       "      <th>2140</th>\n",
       "      <td>32.272447</td>\n",
       "      <td>6.924167</td>\n",
       "      <td>18.701330</td>\n",
       "      <td>45.843565</td>\n",
       "      <td>3.019357</td>\n",
       "      <td>1.285714</td>\n",
       "      <td>30.0</td>\n",
       "    </tr>\n",
       "    <tr>\n",
       "      <th>2141</th>\n",
       "      <td>31.965788</td>\n",
       "      <td>6.949649</td>\n",
       "      <td>18.344726</td>\n",
       "      <td>45.586849</td>\n",
       "      <td>3.019357</td>\n",
       "      <td>0.857143</td>\n",
       "      <td>30.0</td>\n",
       "    </tr>\n",
       "    <tr>\n",
       "      <th>2142</th>\n",
       "      <td>32.841737</td>\n",
       "      <td>6.971013</td>\n",
       "      <td>19.178803</td>\n",
       "      <td>46.504671</td>\n",
       "      <td>3.019357</td>\n",
       "      <td>1.500000</td>\n",
       "      <td>30.0</td>\n",
       "    </tr>\n",
       "    <tr>\n",
       "      <th>2143</th>\n",
       "      <td>32.706505</td>\n",
       "      <td>6.980215</td>\n",
       "      <td>19.025536</td>\n",
       "      <td>46.387475</td>\n",
       "      <td>3.019357</td>\n",
       "      <td>1.285714</td>\n",
       "      <td>30.0</td>\n",
       "    </tr>\n",
       "    <tr>\n",
       "      <th>2144</th>\n",
       "      <td>32.154327</td>\n",
       "      <td>6.987965</td>\n",
       "      <td>18.458167</td>\n",
       "      <td>45.850486</td>\n",
       "      <td>3.019357</td>\n",
       "      <td>0.714286</td>\n",
       "      <td>20.0</td>\n",
       "    </tr>\n",
       "    <tr>\n",
       "      <th>2145</th>\n",
       "      <td>53.785556</td>\n",
       "      <td>6.991299</td>\n",
       "      <td>40.082861</td>\n",
       "      <td>67.488252</td>\n",
       "      <td>13.102382</td>\n",
       "      <td>18.285714</td>\n",
       "      <td>80.0</td>\n",
       "    </tr>\n",
       "    <tr>\n",
       "      <th>2146</th>\n",
       "      <td>62.999275</td>\n",
       "      <td>6.994117</td>\n",
       "      <td>49.291058</td>\n",
       "      <td>76.707493</td>\n",
       "      <td>2.950876</td>\n",
       "      <td>28.000000</td>\n",
       "      <td>80.0</td>\n",
       "    </tr>\n",
       "    <tr>\n",
       "      <th>2147</th>\n",
       "      <td>46.944769</td>\n",
       "      <td>6.995327</td>\n",
       "      <td>33.234180</td>\n",
       "      <td>60.655358</td>\n",
       "      <td>2.950876</td>\n",
       "      <td>13.714286</td>\n",
       "      <td>60.0</td>\n",
       "    </tr>\n",
       "    <tr>\n",
       "      <th>2148</th>\n",
       "      <td>54.973601</td>\n",
       "      <td>6.996352</td>\n",
       "      <td>41.261002</td>\n",
       "      <td>68.686200</td>\n",
       "      <td>1.745368</td>\n",
       "      <td>21.000000</td>\n",
       "      <td>70.0</td>\n",
       "    </tr>\n",
       "    <tr>\n",
       "      <th>2149</th>\n",
       "      <td>32.379357</td>\n",
       "      <td>6.996792</td>\n",
       "      <td>18.665897</td>\n",
       "      <td>46.092817</td>\n",
       "      <td>0.791811</td>\n",
       "      <td>1.071429</td>\n",
       "      <td>30.0</td>\n",
       "    </tr>\n",
       "    <tr>\n",
       "      <th>2150</th>\n",
       "      <td>33.389375</td>\n",
       "      <td>6.997165</td>\n",
       "      <td>19.675184</td>\n",
       "      <td>47.103566</td>\n",
       "      <td>0.472580</td>\n",
       "      <td>2.000000</td>\n",
       "      <td>20.0</td>\n",
       "    </tr>\n",
       "    <tr>\n",
       "      <th>2151</th>\n",
       "      <td>31.595158</td>\n",
       "      <td>6.997324</td>\n",
       "      <td>17.880654</td>\n",
       "      <td>45.309662</td>\n",
       "      <td>0.256496</td>\n",
       "      <td>0.428571</td>\n",
       "      <td>20.0</td>\n",
       "    </tr>\n",
       "    <tr>\n",
       "      <th>2152</th>\n",
       "      <td>32.109524</td>\n",
       "      <td>6.997460</td>\n",
       "      <td>18.394754</td>\n",
       "      <td>45.824294</td>\n",
       "      <td>1.282478</td>\n",
       "      <td>0.714286</td>\n",
       "      <td>20.0</td>\n",
       "    </tr>\n",
       "    <tr>\n",
       "      <th>2153</th>\n",
       "      <td>33.302449</td>\n",
       "      <td>6.997518</td>\n",
       "      <td>19.587565</td>\n",
       "      <td>47.017332</td>\n",
       "      <td>2.985167</td>\n",
       "      <td>1.500000</td>\n",
       "      <td>30.0</td>\n",
       "    </tr>\n",
       "    <tr>\n",
       "      <th>2154</th>\n",
       "      <td>32.171537</td>\n",
       "      <td>6.997567</td>\n",
       "      <td>18.456557</td>\n",
       "      <td>45.886517</td>\n",
       "      <td>1.545567</td>\n",
       "      <td>0.714286</td>\n",
       "      <td>20.0</td>\n",
       "    </tr>\n",
       "    <tr>\n",
       "      <th>2155</th>\n",
       "      <td>32.578955</td>\n",
       "      <td>6.997589</td>\n",
       "      <td>18.863933</td>\n",
       "      <td>46.293976</td>\n",
       "      <td>1.545567</td>\n",
       "      <td>1.071429</td>\n",
       "      <td>30.0</td>\n",
       "    </tr>\n",
       "  </tbody>\n",
       "</table>\n",
       "</div>"
      ],
      "text/plain": [
       "cpuF       mean   mean_se  mean_ci_lower  mean_ci_upper   memScore   cpuScore  \\\n",
       "2136  29.921588  6.420895      17.336865      42.506311   1.532227   0.714286   \n",
       "2137  30.538144  6.626388      17.550661      43.525626   1.366319   0.857143   \n",
       "2138  32.199968  6.793636      18.884686      45.515249   4.327118   1.500000   \n",
       "2139  31.557899  6.864917      18.102909      45.012888   3.132153   0.857143   \n",
       "2140  32.272447  6.924167      18.701330      45.843565   3.019357   1.285714   \n",
       "2141  31.965788  6.949649      18.344726      45.586849   3.019357   0.857143   \n",
       "2142  32.841737  6.971013      19.178803      46.504671   3.019357   1.500000   \n",
       "2143  32.706505  6.980215      19.025536      46.387475   3.019357   1.285714   \n",
       "2144  32.154327  6.987965      18.458167      45.850486   3.019357   0.714286   \n",
       "2145  53.785556  6.991299      40.082861      67.488252  13.102382  18.285714   \n",
       "2146  62.999275  6.994117      49.291058      76.707493   2.950876  28.000000   \n",
       "2147  46.944769  6.995327      33.234180      60.655358   2.950876  13.714286   \n",
       "2148  54.973601  6.996352      41.261002      68.686200   1.745368  21.000000   \n",
       "2149  32.379357  6.996792      18.665897      46.092817   0.791811   1.071429   \n",
       "2150  33.389375  6.997165      19.675184      47.103566   0.472580   2.000000   \n",
       "2151  31.595158  6.997324      17.880654      45.309662   0.256496   0.428571   \n",
       "2152  32.109524  6.997460      18.394754      45.824294   1.282478   0.714286   \n",
       "2153  33.302449  6.997518      19.587565      47.017332   2.985167   1.500000   \n",
       "2154  32.171537  6.997567      18.456557      45.886517   1.545567   0.714286   \n",
       "2155  32.578955  6.997589      18.863933      46.293976   1.545567   1.071429   \n",
       "\n",
       "cpuF  Actual freq  \n",
       "2136         20.0  \n",
       "2137         20.0  \n",
       "2138         30.0  \n",
       "2139         30.0  \n",
       "2140         30.0  \n",
       "2141         30.0  \n",
       "2142         30.0  \n",
       "2143         30.0  \n",
       "2144         20.0  \n",
       "2145         80.0  \n",
       "2146         80.0  \n",
       "2147         60.0  \n",
       "2148         70.0  \n",
       "2149         30.0  \n",
       "2150         20.0  \n",
       "2151         20.0  \n",
       "2152         20.0  \n",
       "2153         30.0  \n",
       "2154         20.0  \n",
       "2155         30.0  "
      ]
     },
     "execution_count": 21,
     "metadata": {},
     "output_type": "execute_result"
    }
   ],
   "source": [
    "mtest_data = test_data.iloc[300:320]\n",
    "pforecast = result.get_forecast(steps=20,exog=mtest_data[['memScore','cpuScore']])\n",
    "myDf = pforecast.summary_frame(alpha=0.05)\n",
    "myDf['memScore'] = mtest_data['memScore'].values\n",
    "myDf['cpuScore'] = mtest_data['cpuScore'].values\n",
    "myDf['Actual freq'] = mtest_data['cpuF'].values\n",
    "myDf"
   ]
  },
  {
   "cell_type": "code",
   "execution_count": 22,
   "metadata": {},
   "outputs": [],
   "source": [
    "forecast1 = result1.forecast(steps=538,exog=test_data['cpuScore'])\n",
    "forecast1 = forecast1.to_numpy()"
   ]
  },
  {
   "cell_type": "code",
   "execution_count": 23,
   "metadata": {},
   "outputs": [],
   "source": [
    "forecast2 = result2.forecast(steps=538,exog=test_data['cpuScore'])\n",
    "forecast2 = forecast2.to_numpy()"
   ]
  },
  {
   "cell_type": "code",
   "execution_count": 24,
   "metadata": {},
   "outputs": [],
   "source": [
    "forecast3 = result3.forecast(steps=538,exog=test_data['cpuScore'])\n",
    "forecast3 = forecast3.to_numpy()"
   ]
  },
  {
   "cell_type": "code",
   "execution_count": 25,
   "metadata": {},
   "outputs": [],
   "source": [
    "forecast4 = result4.forecast(steps=538,exog=test_data['cpuScore'])\n",
    "forecast4 = forecast4.to_numpy()"
   ]
  },
  {
   "cell_type": "code",
   "execution_count": 26,
   "metadata": {},
   "outputs": [],
   "source": [
    "y_true = test_data['cpuF'].to_numpy()"
   ]
  },
  {
   "cell_type": "code",
   "execution_count": 27,
   "metadata": {},
   "outputs": [
    {
     "name": "stdout",
     "output_type": "stream",
     "text": [
      "RMSE 7.108269438214965\n"
     ]
    }
   ],
   "source": [
    "print('RMSE', np.sqrt(metrics.mean_squared_error(y_true,forecast)))"
   ]
  },
  {
   "cell_type": "code",
   "execution_count": 28,
   "metadata": {},
   "outputs": [
    {
     "name": "stdout",
     "output_type": "stream",
     "text": [
      "RMSE_1 9.942101654483201\n"
     ]
    }
   ],
   "source": [
    "print('RMSE_1', np.sqrt(metrics.mean_squared_error(y_true,forecast1)))"
   ]
  },
  {
   "cell_type": "code",
   "execution_count": 29,
   "metadata": {},
   "outputs": [
    {
     "name": "stdout",
     "output_type": "stream",
     "text": [
      "RMSE_2 18.38339790766391\n"
     ]
    }
   ],
   "source": [
    "print('RMSE_2', np.sqrt(metrics.mean_squared_error(y_true,forecast2)))"
   ]
  },
  {
   "cell_type": "code",
   "execution_count": 30,
   "metadata": {},
   "outputs": [
    {
     "name": "stdout",
     "output_type": "stream",
     "text": [
      "RMSE_3 8.815182682767606\n"
     ]
    }
   ],
   "source": [
    "print('RMSE_3', np.sqrt(metrics.mean_squared_error(y_true,forecast3)))"
   ]
  },
  {
   "cell_type": "code",
   "execution_count": 31,
   "metadata": {},
   "outputs": [
    {
     "name": "stdout",
     "output_type": "stream",
     "text": [
      "RMSE_4 6.822845741543657\n"
     ]
    }
   ],
   "source": [
    "print('RMSE_4', np.sqrt(metrics.mean_squared_error(y_true,forecast4)))"
   ]
  },
  {
   "cell_type": "markdown",
   "metadata": {},
   "source": [
    "# Splitting the time series\n",
    "1. We will split the time series in fragments of 25 entries and then create 4 different entries and merge to train the data"
   ]
  },
  {
   "cell_type": "code",
   "execution_count": 32,
   "metadata": {},
   "outputs": [
    {
     "data": {
      "text/plain": [
       "(474, 11)"
      ]
     },
     "execution_count": 32,
     "metadata": {},
     "output_type": "execute_result"
    }
   ],
   "source": [
    "strain_1 = utilData.iloc[0:25]\n",
    "strain_2 = utilData.iloc[25:50]\n",
    "strain_3 = utilData.iloc[50:75]\n",
    "strain_4 = utilData.iloc[75:100]\n",
    "stest_data = utilData.iloc[2200:]\n",
    "stest_data.shape"
   ]
  },
  {
   "cell_type": "code",
   "execution_count": 33,
   "metadata": {},
   "outputs": [
    {
     "data": {
      "text/html": [
       "<div>\n",
       "<style scoped>\n",
       "    .dataframe tbody tr th:only-of-type {\n",
       "        vertical-align: middle;\n",
       "    }\n",
       "\n",
       "    .dataframe tbody tr th {\n",
       "        vertical-align: top;\n",
       "    }\n",
       "\n",
       "    .dataframe thead th {\n",
       "        text-align: right;\n",
       "    }\n",
       "</style>\n",
       "<table border=\"1\" class=\"dataframe\">\n",
       "  <thead>\n",
       "    <tr style=\"text-align: right;\">\n",
       "      <th></th>\n",
       "      <th>memUse</th>\n",
       "      <th>memTot</th>\n",
       "      <th>memfreq</th>\n",
       "      <th>cpuid</th>\n",
       "      <th>cpuload</th>\n",
       "      <th>cpufreq</th>\n",
       "      <th>memLoad</th>\n",
       "      <th>memScore</th>\n",
       "      <th>memF</th>\n",
       "      <th>cpuScore</th>\n",
       "      <th>cpuF</th>\n",
       "    </tr>\n",
       "  </thead>\n",
       "  <tbody>\n",
       "    <tr>\n",
       "      <th>20</th>\n",
       "      <td>731460</td>\n",
       "      <td>7728405</td>\n",
       "      <td>275000000</td>\n",
       "      <td>0</td>\n",
       "      <td>11</td>\n",
       "      <td>300000</td>\n",
       "      <td>9.464566</td>\n",
       "      <td>3.154855</td>\n",
       "      <td>33.333333</td>\n",
       "      <td>2.357143</td>\n",
       "      <td>30.0</td>\n",
       "    </tr>\n",
       "    <tr>\n",
       "      <th>21</th>\n",
       "      <td>731460</td>\n",
       "      <td>7728405</td>\n",
       "      <td>275000000</td>\n",
       "      <td>0</td>\n",
       "      <td>10</td>\n",
       "      <td>300000</td>\n",
       "      <td>9.464566</td>\n",
       "      <td>3.154855</td>\n",
       "      <td>33.333333</td>\n",
       "      <td>2.142857</td>\n",
       "      <td>30.0</td>\n",
       "    </tr>\n",
       "    <tr>\n",
       "      <th>22</th>\n",
       "      <td>731460</td>\n",
       "      <td>7728405</td>\n",
       "      <td>275000000</td>\n",
       "      <td>0</td>\n",
       "      <td>12</td>\n",
       "      <td>300000</td>\n",
       "      <td>9.464566</td>\n",
       "      <td>3.154855</td>\n",
       "      <td>33.333333</td>\n",
       "      <td>2.571429</td>\n",
       "      <td>30.0</td>\n",
       "    </tr>\n",
       "    <tr>\n",
       "      <th>23</th>\n",
       "      <td>731460</td>\n",
       "      <td>7728405</td>\n",
       "      <td>275000000</td>\n",
       "      <td>0</td>\n",
       "      <td>11</td>\n",
       "      <td>300000</td>\n",
       "      <td>9.464566</td>\n",
       "      <td>3.154855</td>\n",
       "      <td>33.333333</td>\n",
       "      <td>2.357143</td>\n",
       "      <td>30.0</td>\n",
       "    </tr>\n",
       "    <tr>\n",
       "      <th>24</th>\n",
       "      <td>731460</td>\n",
       "      <td>7728405</td>\n",
       "      <td>275000000</td>\n",
       "      <td>0</td>\n",
       "      <td>9</td>\n",
       "      <td>300000</td>\n",
       "      <td>9.464566</td>\n",
       "      <td>3.154855</td>\n",
       "      <td>33.333333</td>\n",
       "      <td>1.928571</td>\n",
       "      <td>30.0</td>\n",
       "    </tr>\n",
       "  </tbody>\n",
       "</table>\n",
       "</div>"
      ],
      "text/plain": [
       "    memUse   memTot    memfreq  cpuid  cpuload  cpufreq   memLoad  memScore  \\\n",
       "20  731460  7728405  275000000      0       11   300000  9.464566  3.154855   \n",
       "21  731460  7728405  275000000      0       10   300000  9.464566  3.154855   \n",
       "22  731460  7728405  275000000      0       12   300000  9.464566  3.154855   \n",
       "23  731460  7728405  275000000      0       11   300000  9.464566  3.154855   \n",
       "24  731460  7728405  275000000      0        9   300000  9.464566  3.154855   \n",
       "\n",
       "         memF  cpuScore  cpuF  \n",
       "20  33.333333  2.357143  30.0  \n",
       "21  33.333333  2.142857  30.0  \n",
       "22  33.333333  2.571429  30.0  \n",
       "23  33.333333  2.357143  30.0  \n",
       "24  33.333333  1.928571  30.0  "
      ]
     },
     "execution_count": 33,
     "metadata": {},
     "output_type": "execute_result"
    }
   ],
   "source": [
    "strain_1.tail()"
   ]
  },
  {
   "cell_type": "code",
   "execution_count": 34,
   "metadata": {},
   "outputs": [],
   "source": [
    "# We create our data here\n",
    "for i in range(100,2136,100):\n",
    "    i_1,i_2,i_3,i_4 = i,i+25,i+50,i+75\n",
    "    i_end = i+100\n",
    "    strain_1 = strain_1.append(utilData.iloc[i_1:i_2],ignore_index=True)\n",
    "    strain_2 = strain_2.append(utilData.iloc[i_2:i_3],ignore_index=True)\n",
    "    strain_3 = strain_3.append(utilData.iloc[i_3:i_4],ignore_index=True)\n",
    "    strain_4 = strain_4.append(utilData.iloc[i_4:i_end],ignore_index=True)"
   ]
  },
  {
   "cell_type": "code",
   "execution_count": 35,
   "metadata": {},
   "outputs": [
    {
     "data": {
      "text/plain": [
       "(550, 11)"
      ]
     },
     "execution_count": 35,
     "metadata": {},
     "output_type": "execute_result"
    }
   ],
   "source": [
    "strain_4.shape"
   ]
  },
  {
   "cell_type": "markdown",
   "metadata": {},
   "source": [
    "## Modeling the split time series\n",
    "We are using the newly generated split dataset to train and verify its acuracy"
   ]
  },
  {
   "cell_type": "code",
   "execution_count": 36,
   "metadata": {},
   "outputs": [
    {
     "name": "stdout",
     "output_type": "stream",
     "text": [
      "                               SARIMAX Results                                \n",
      "==============================================================================\n",
      "Dep. Variable:               cpuScore   No. Observations:                  550\n",
      "Model:                 ARIMA(4, 0, 3)   Log Likelihood               -1686.942\n",
      "Date:                Thu, 08 Jun 2023   AIC                           3393.883\n",
      "Time:                        12:02:04   BIC                           3436.982\n",
      "Sample:                             0   HQIC                          3410.726\n",
      "                                - 550                                         \n",
      "Covariance Type:                  opg                                         \n",
      "==============================================================================\n",
      "                 coef    std err          z      P>|z|      [0.025      0.975]\n",
      "------------------------------------------------------------------------------\n",
      "const        -23.5298      1.668    -14.107      0.000     -26.799     -20.261\n",
      "cpuF           0.7847      0.008    100.129      0.000       0.769       0.800\n",
      "ar.L1          0.1374      0.097      1.422      0.155      -0.052       0.327\n",
      "ar.L2         -0.0863      0.028     -3.040      0.002      -0.142      -0.031\n",
      "ar.L3          0.9306      0.027     35.030      0.000       0.878       0.983\n",
      "ar.L4         -0.1703      0.078     -2.172      0.030      -0.324      -0.017\n",
      "ma.L1          0.3600      0.088      4.069      0.000       0.187       0.533\n",
      "ma.L2          0.4383      0.082      5.318      0.000       0.277       0.600\n",
      "ma.L3         -0.5635      0.083     -6.759      0.000      -0.727      -0.400\n",
      "sigma2        26.8476      1.258     21.336      0.000      24.381      29.314\n",
      "===================================================================================\n",
      "Ljung-Box (L1) (Q):                   0.00   Jarque-Bera (JB):               324.13\n",
      "Prob(Q):                              0.95   Prob(JB):                         0.00\n",
      "Heteroskedasticity (H):               1.60   Skew:                            -0.38\n",
      "Prob(H) (two-sided):                  0.00   Kurtosis:                         6.68\n",
      "===================================================================================\n",
      "\n",
      "Warnings:\n",
      "[1] Covariance matrix calculated using the outer product of gradients (complex-step).\n"
     ]
    },
    {
     "name": "stderr",
     "output_type": "stream",
     "text": [
      "/Users/dmukherjee/anaconda3/lib/python3.8/site-packages/statsmodels/base/model.py:604: ConvergenceWarning: Maximum Likelihood optimization failed to converge. Check mle_retvals\n",
      "  warnings.warn(\"Maximum Likelihood optimization failed to \"\n"
     ]
    }
   ],
   "source": [
    "smodel1 = ARIMA(strain_1['cpuScore'], order=(4,0,3), exog=strain_1['cpuF'])\n",
    "sresult1 = smodel1.fit()\n",
    "print(sresult1.summary())"
   ]
  },
  {
   "cell_type": "code",
   "execution_count": 37,
   "metadata": {},
   "outputs": [
    {
     "name": "stdout",
     "output_type": "stream",
     "text": [
      "                               SARIMAX Results                                \n",
      "==============================================================================\n",
      "Dep. Variable:                   cpuF   No. Observations:                  550\n",
      "Model:                 ARIMA(4, 0, 1)   Log Likelihood               -1727.989\n",
      "Date:                Thu, 08 Jun 2023   AIC                           3471.977\n",
      "Time:                        12:02:05   BIC                           3506.457\n",
      "Sample:                             0   HQIC                          3485.451\n",
      "                                - 550                                         \n",
      "Covariance Type:                  opg                                         \n",
      "==============================================================================\n",
      "                 coef    std err          z      P>|z|      [0.025      0.975]\n",
      "------------------------------------------------------------------------------\n",
      "const         34.2275      2.495     13.720      0.000      29.338      39.117\n",
      "cpuScore       1.1096      0.015     72.491      0.000       1.080       1.140\n",
      "ar.L1          1.2486      0.142      8.818      0.000       0.971       1.526\n",
      "ar.L2         -0.1846      0.086     -2.155      0.031      -0.352      -0.017\n",
      "ar.L3         -0.0438      0.067     -0.652      0.514      -0.176       0.088\n",
      "ar.L4         -0.0418      0.059     -0.702      0.483      -0.158       0.075\n",
      "ma.L1         -0.8037      0.134     -6.001      0.000      -1.066      -0.541\n",
      "sigma2        31.3037      1.316     23.795      0.000      28.725      33.882\n",
      "===================================================================================\n",
      "Ljung-Box (L1) (Q):                   0.00   Jarque-Bera (JB):               373.96\n",
      "Prob(Q):                              0.97   Prob(JB):                         0.00\n",
      "Heteroskedasticity (H):               1.05   Skew:                             1.01\n",
      "Prob(H) (two-sided):                  0.76   Kurtosis:                         6.50\n",
      "===================================================================================\n",
      "\n",
      "Warnings:\n",
      "[1] Covariance matrix calculated using the outer product of gradients (complex-step).\n"
     ]
    }
   ],
   "source": [
    "smodel2 = ARIMA(strain_2['cpuF'], order=(4,0,1), exog=strain_2['cpuScore'])\n",
    "sresult2 = smodel2.fit()\n",
    "print(sresult2.summary())"
   ]
  },
  {
   "cell_type": "code",
   "execution_count": 38,
   "metadata": {},
   "outputs": [
    {
     "name": "stdout",
     "output_type": "stream",
     "text": [
      "                               SARIMAX Results                                \n",
      "==============================================================================\n",
      "Dep. Variable:                   cpuF   No. Observations:                  550\n",
      "Model:                 ARIMA(4, 0, 1)   Log Likelihood               -1873.463\n",
      "Date:                Thu, 08 Jun 2023   AIC                           3762.926\n",
      "Time:                        12:02:05   BIC                           3797.406\n",
      "Sample:                             0   HQIC                          3776.400\n",
      "                                - 550                                         \n",
      "Covariance Type:                  opg                                         \n",
      "==============================================================================\n",
      "                 coef    std err          z      P>|z|      [0.025      0.975]\n",
      "------------------------------------------------------------------------------\n",
      "const         34.8708      3.170     11.000      0.000      28.657      41.084\n",
      "cpuScore       1.0762      0.022     49.627      0.000       1.034       1.119\n",
      "ar.L1          1.0832      0.057     18.881      0.000       0.971       1.196\n",
      "ar.L2          0.0899      0.053      1.710      0.087      -0.013       0.193\n",
      "ar.L3         -0.2070      0.061     -3.369      0.001      -0.327      -0.087\n",
      "ar.L4          0.0197      0.047      0.415      0.678      -0.073       0.113\n",
      "ma.L1         -0.8808      0.051    -17.255      0.000      -0.981      -0.781\n",
      "sigma2        53.1403      1.559     34.083      0.000      50.084      56.196\n",
      "===================================================================================\n",
      "Ljung-Box (L1) (Q):                   0.00   Jarque-Bera (JB):              9299.98\n",
      "Prob(Q):                              0.98   Prob(JB):                         0.00\n",
      "Heteroskedasticity (H):               1.58   Skew:                             2.70\n",
      "Prob(H) (two-sided):                  0.00   Kurtosis:                        22.41\n",
      "===================================================================================\n",
      "\n",
      "Warnings:\n",
      "[1] Covariance matrix calculated using the outer product of gradients (complex-step).\n"
     ]
    }
   ],
   "source": [
    "smodel3 = ARIMA(strain_3['cpuF'], order=(4,0,1), exog=strain_3['cpuScore'])\n",
    "sresult3 = smodel3.fit()\n",
    "print(sresult3.summary())"
   ]
  },
  {
   "cell_type": "code",
   "execution_count": 39,
   "metadata": {},
   "outputs": [
    {
     "name": "stdout",
     "output_type": "stream",
     "text": [
      "                               SARIMAX Results                                \n",
      "==============================================================================\n",
      "Dep. Variable:                   cpuF   No. Observations:                  550\n",
      "Model:                 ARIMA(4, 0, 1)   Log Likelihood               -1827.922\n",
      "Date:                Thu, 08 Jun 2023   AIC                           3671.845\n",
      "Time:                        12:02:05   BIC                           3706.324\n",
      "Sample:                             0   HQIC                          3685.319\n",
      "                                - 550                                         \n",
      "Covariance Type:                  opg                                         \n",
      "==============================================================================\n",
      "                 coef    std err          z      P>|z|      [0.025      0.975]\n",
      "------------------------------------------------------------------------------\n",
      "const         34.9780      1.572     22.249      0.000      31.897      38.059\n",
      "cpuScore       1.1037      0.026     41.984      0.000       1.052       1.155\n",
      "ar.L1          0.2633      0.227      1.162      0.245      -0.181       0.707\n",
      "ar.L2          0.2277      0.097      2.346      0.019       0.037       0.418\n",
      "ar.L3          0.0623      0.060      1.044      0.296      -0.055       0.179\n",
      "ar.L4          0.2005      0.043      4.656      0.000       0.116       0.285\n",
      "ma.L1          0.1504      0.231      0.651      0.515      -0.302       0.603\n",
      "sigma2        45.0456      1.852     24.327      0.000      41.416      48.675\n",
      "===================================================================================\n",
      "Ljung-Box (L1) (Q):                   0.00   Jarque-Bera (JB):               938.57\n",
      "Prob(Q):                              0.97   Prob(JB):                         0.00\n",
      "Heteroskedasticity (H):               1.69   Skew:                             0.95\n",
      "Prob(H) (two-sided):                  0.00   Kurtosis:                         9.11\n",
      "===================================================================================\n",
      "\n",
      "Warnings:\n",
      "[1] Covariance matrix calculated using the outer product of gradients (complex-step).\n"
     ]
    }
   ],
   "source": [
    "smodel4 = ARIMA(strain_4['cpuF'], order=(4,0,1), exog=strain_4['cpuScore'])\n",
    "sresult4 = smodel4.fit()\n",
    "print(sresult4.summary())"
   ]
  },
  {
   "cell_type": "markdown",
   "metadata": {},
   "source": [
    "## Prediction Phase for split\n",
    "We are calculating the RMSE of the models"
   ]
  },
  {
   "cell_type": "code",
   "execution_count": 40,
   "metadata": {},
   "outputs": [],
   "source": [
    "sforecast1 = sresult1.forecast(steps=474,exog=stest_data['cpuScore'])\n",
    "sforecast1 = sforecast1.to_numpy()"
   ]
  },
  {
   "cell_type": "code",
   "execution_count": 41,
   "metadata": {},
   "outputs": [],
   "source": [
    "sy_true = stest_data['cpuF'].to_numpy()"
   ]
  },
  {
   "cell_type": "code",
   "execution_count": 42,
   "metadata": {},
   "outputs": [
    {
     "name": "stdout",
     "output_type": "stream",
     "text": [
      "RMSE_1 62.004380884643425\n"
     ]
    }
   ],
   "source": [
    "print('RMSE_1', np.sqrt(metrics.mean_squared_error(sy_true,sforecast1)))"
   ]
  },
  {
   "cell_type": "code",
   "execution_count": 43,
   "metadata": {},
   "outputs": [],
   "source": [
    "sforecast2 = sresult2.forecast(steps=474,exog=stest_data['cpuScore'])\n",
    "sforecast2 = sforecast2.to_numpy()"
   ]
  },
  {
   "cell_type": "code",
   "execution_count": 44,
   "metadata": {},
   "outputs": [
    {
     "name": "stdout",
     "output_type": "stream",
     "text": [
      "RMSE_2 8.536672643340497\n"
     ]
    }
   ],
   "source": [
    "print('RMSE_2', np.sqrt(metrics.mean_squared_error(sy_true,sforecast2)))"
   ]
  },
  {
   "cell_type": "code",
   "execution_count": 45,
   "metadata": {},
   "outputs": [],
   "source": [
    "sforecast3 = sresult3.forecast(steps=474,exog=stest_data['cpuScore'])\n",
    "sforecast3 = sforecast3.to_numpy()"
   ]
  },
  {
   "cell_type": "code",
   "execution_count": 46,
   "metadata": {},
   "outputs": [
    {
     "name": "stdout",
     "output_type": "stream",
     "text": [
      "RMSE_3 8.776180011531672\n"
     ]
    }
   ],
   "source": [
    "print('RMSE_3', np.sqrt(metrics.mean_squared_error(sy_true,sforecast3)))"
   ]
  },
  {
   "cell_type": "code",
   "execution_count": 47,
   "metadata": {},
   "outputs": [],
   "source": [
    "sforecast4 = sresult4.forecast(steps=474,exog=stest_data['cpuScore'])\n",
    "sforecast4 = sforecast4.to_numpy()"
   ]
  },
  {
   "cell_type": "code",
   "execution_count": 48,
   "metadata": {},
   "outputs": [
    {
     "name": "stdout",
     "output_type": "stream",
     "text": [
      "RMSE_4 8.903101869699041\n"
     ]
    }
   ],
   "source": [
    "print('RMSE_4', np.sqrt(metrics.mean_squared_error(sy_true,sforecast4)))"
   ]
  },
  {
   "cell_type": "markdown",
   "metadata": {},
   "source": [
    "### Note; the results are better for smaller prediction interval. \n",
    "Does it mean we need to retrain every small interval. (We did 100 v. 474)\n",
    "That is not an effective prediction model"
   ]
  },
  {
   "cell_type": "markdown",
   "metadata": {},
   "source": [
    "# Grouping the data by a column\n",
    "We will now model for each state of the cpufrequency"
   ]
  },
  {
   "cell_type": "code",
   "execution_count": 49,
   "metadata": {},
   "outputs": [
    {
     "data": {
      "text/plain": [
       "array([ 60.,  20.,  30.,  40.,  50., 120.,  70.,  80., 140., 130., 100.,\n",
       "        90., 110.])"
      ]
     },
     "execution_count": 49,
     "metadata": {},
     "output_type": "execute_result"
    }
   ],
   "source": [
    "#Get the unique cpuF values\n",
    "cpuFArr = tot_train['cpuF'].unique()\n",
    "cpuFArr"
   ]
  },
  {
   "cell_type": "code",
   "execution_count": 50,
   "metadata": {},
   "outputs": [
    {
     "data": {
      "text/plain": [
       "[165000000, 206000000, 275000000, 413000000, 543000000, 825000000]"
      ]
     },
     "execution_count": 50,
     "metadata": {},
     "output_type": "execute_result"
    }
   ],
   "source": [
    "sorted(utilData['memfreq'].unique())"
   ]
  },
  {
   "cell_type": "code",
   "execution_count": 51,
   "metadata": {},
   "outputs": [],
   "source": [
    "gtrain = tot_train.groupby(['cpuF'])"
   ]
  },
  {
   "cell_type": "code",
   "execution_count": 52,
   "metadata": {},
   "outputs": [
    {
     "data": {
      "text/html": [
       "<div>\n",
       "<style scoped>\n",
       "    .dataframe tbody tr th:only-of-type {\n",
       "        vertical-align: middle;\n",
       "    }\n",
       "\n",
       "    .dataframe tbody tr th {\n",
       "        vertical-align: top;\n",
       "    }\n",
       "\n",
       "    .dataframe thead th {\n",
       "        text-align: right;\n",
       "    }\n",
       "</style>\n",
       "<table border=\"1\" class=\"dataframe\">\n",
       "  <thead>\n",
       "    <tr style=\"text-align: right;\">\n",
       "      <th></th>\n",
       "      <th>memUse</th>\n",
       "      <th>memTot</th>\n",
       "      <th>memfreq</th>\n",
       "      <th>cpuid</th>\n",
       "      <th>cpuload</th>\n",
       "      <th>cpufreq</th>\n",
       "      <th>memLoad</th>\n",
       "      <th>memScore</th>\n",
       "      <th>memF</th>\n",
       "      <th>cpuScore</th>\n",
       "      <th>cpuF</th>\n",
       "    </tr>\n",
       "  </thead>\n",
       "  <tbody>\n",
       "    <tr>\n",
       "      <th>0</th>\n",
       "      <td>604872</td>\n",
       "      <td>4612865</td>\n",
       "      <td>165000000</td>\n",
       "      <td>0</td>\n",
       "      <td>31</td>\n",
       "      <td>600000</td>\n",
       "      <td>13.112718</td>\n",
       "      <td>2.622544</td>\n",
       "      <td>20.000000</td>\n",
       "      <td>13.285714</td>\n",
       "      <td>60.0</td>\n",
       "    </tr>\n",
       "    <tr>\n",
       "      <th>12</th>\n",
       "      <td>3742</td>\n",
       "      <td>166275</td>\n",
       "      <td>275000000</td>\n",
       "      <td>0</td>\n",
       "      <td>31</td>\n",
       "      <td>600000</td>\n",
       "      <td>2.250489</td>\n",
       "      <td>0.750163</td>\n",
       "      <td>33.333333</td>\n",
       "      <td>13.285714</td>\n",
       "      <td>60.0</td>\n",
       "    </tr>\n",
       "    <tr>\n",
       "      <th>13</th>\n",
       "      <td>3742</td>\n",
       "      <td>166275</td>\n",
       "      <td>275000000</td>\n",
       "      <td>0</td>\n",
       "      <td>40</td>\n",
       "      <td>600000</td>\n",
       "      <td>2.250489</td>\n",
       "      <td>0.750163</td>\n",
       "      <td>33.333333</td>\n",
       "      <td>17.142857</td>\n",
       "      <td>60.0</td>\n",
       "    </tr>\n",
       "    <tr>\n",
       "      <th>32</th>\n",
       "      <td>709011</td>\n",
       "      <td>7717381</td>\n",
       "      <td>275000000</td>\n",
       "      <td>0</td>\n",
       "      <td>13</td>\n",
       "      <td>600000</td>\n",
       "      <td>9.187197</td>\n",
       "      <td>3.062399</td>\n",
       "      <td>33.333333</td>\n",
       "      <td>5.571429</td>\n",
       "      <td>60.0</td>\n",
       "    </tr>\n",
       "    <tr>\n",
       "      <th>60</th>\n",
       "      <td>1228</td>\n",
       "      <td>46513</td>\n",
       "      <td>275000000</td>\n",
       "      <td>0</td>\n",
       "      <td>30</td>\n",
       "      <td>600000</td>\n",
       "      <td>2.640122</td>\n",
       "      <td>0.880041</td>\n",
       "      <td>33.333333</td>\n",
       "      <td>12.857143</td>\n",
       "      <td>60.0</td>\n",
       "    </tr>\n",
       "    <tr>\n",
       "      <th>...</th>\n",
       "      <td>...</td>\n",
       "      <td>...</td>\n",
       "      <td>...</td>\n",
       "      <td>...</td>\n",
       "      <td>...</td>\n",
       "      <td>...</td>\n",
       "      <td>...</td>\n",
       "      <td>...</td>\n",
       "      <td>...</td>\n",
       "      <td>...</td>\n",
       "      <td>...</td>\n",
       "    </tr>\n",
       "    <tr>\n",
       "      <th>1934</th>\n",
       "      <td>7212</td>\n",
       "      <td>180508</td>\n",
       "      <td>825000000</td>\n",
       "      <td>0</td>\n",
       "      <td>32</td>\n",
       "      <td>600000</td>\n",
       "      <td>3.995391</td>\n",
       "      <td>3.995391</td>\n",
       "      <td>100.000000</td>\n",
       "      <td>13.714286</td>\n",
       "      <td>60.0</td>\n",
       "    </tr>\n",
       "    <tr>\n",
       "      <th>1948</th>\n",
       "      <td>845096</td>\n",
       "      <td>15828949</td>\n",
       "      <td>543000000</td>\n",
       "      <td>0</td>\n",
       "      <td>31</td>\n",
       "      <td>600000</td>\n",
       "      <td>5.338927</td>\n",
       "      <td>3.513985</td>\n",
       "      <td>65.818182</td>\n",
       "      <td>13.285714</td>\n",
       "      <td>60.0</td>\n",
       "    </tr>\n",
       "    <tr>\n",
       "      <th>1955</th>\n",
       "      <td>912556</td>\n",
       "      <td>14908785</td>\n",
       "      <td>413000000</td>\n",
       "      <td>0</td>\n",
       "      <td>36</td>\n",
       "      <td>600000</td>\n",
       "      <td>6.120928</td>\n",
       "      <td>3.064174</td>\n",
       "      <td>50.060606</td>\n",
       "      <td>15.428571</td>\n",
       "      <td>60.0</td>\n",
       "    </tr>\n",
       "    <tr>\n",
       "      <th>1977</th>\n",
       "      <td>37665</td>\n",
       "      <td>206049</td>\n",
       "      <td>543000000</td>\n",
       "      <td>0</td>\n",
       "      <td>47</td>\n",
       "      <td>600000</td>\n",
       "      <td>18.279633</td>\n",
       "      <td>12.031322</td>\n",
       "      <td>65.818182</td>\n",
       "      <td>20.142857</td>\n",
       "      <td>60.0</td>\n",
       "    </tr>\n",
       "    <tr>\n",
       "      <th>2034</th>\n",
       "      <td>749</td>\n",
       "      <td>21505</td>\n",
       "      <td>413000000</td>\n",
       "      <td>0</td>\n",
       "      <td>43</td>\n",
       "      <td>600000</td>\n",
       "      <td>3.482911</td>\n",
       "      <td>1.743566</td>\n",
       "      <td>50.060606</td>\n",
       "      <td>18.428571</td>\n",
       "      <td>60.0</td>\n",
       "    </tr>\n",
       "  </tbody>\n",
       "</table>\n",
       "<p>198 rows × 11 columns</p>\n",
       "</div>"
      ],
      "text/plain": [
       "      memUse    memTot    memfreq  cpuid  cpuload  cpufreq    memLoad  \\\n",
       "0     604872   4612865  165000000      0       31   600000  13.112718   \n",
       "12      3742    166275  275000000      0       31   600000   2.250489   \n",
       "13      3742    166275  275000000      0       40   600000   2.250489   \n",
       "32    709011   7717381  275000000      0       13   600000   9.187197   \n",
       "60      1228     46513  275000000      0       30   600000   2.640122   \n",
       "...      ...       ...        ...    ...      ...      ...        ...   \n",
       "1934    7212    180508  825000000      0       32   600000   3.995391   \n",
       "1948  845096  15828949  543000000      0       31   600000   5.338927   \n",
       "1955  912556  14908785  413000000      0       36   600000   6.120928   \n",
       "1977   37665    206049  543000000      0       47   600000  18.279633   \n",
       "2034     749     21505  413000000      0       43   600000   3.482911   \n",
       "\n",
       "       memScore        memF   cpuScore  cpuF  \n",
       "0      2.622544   20.000000  13.285714  60.0  \n",
       "12     0.750163   33.333333  13.285714  60.0  \n",
       "13     0.750163   33.333333  17.142857  60.0  \n",
       "32     3.062399   33.333333   5.571429  60.0  \n",
       "60     0.880041   33.333333  12.857143  60.0  \n",
       "...         ...         ...        ...   ...  \n",
       "1934   3.995391  100.000000  13.714286  60.0  \n",
       "1948   3.513985   65.818182  13.285714  60.0  \n",
       "1955   3.064174   50.060606  15.428571  60.0  \n",
       "1977  12.031322   65.818182  20.142857  60.0  \n",
       "2034   1.743566   50.060606  18.428571  60.0  \n",
       "\n",
       "[198 rows x 11 columns]"
      ]
     },
     "execution_count": 52,
     "metadata": {},
     "output_type": "execute_result"
    }
   ],
   "source": [
    "gtrain.get_group(cpuFArr[0])"
   ]
  },
  {
   "cell_type": "code",
   "execution_count": 53,
   "metadata": {},
   "outputs": [],
   "source": [
    "mapTrain = {}\n",
    "for  val in cpuFArr:\n",
    "    mapTrain[val] = gtrain.get_group(val)"
   ]
  },
  {
   "cell_type": "code",
   "execution_count": 54,
   "metadata": {},
   "outputs": [
    {
     "name": "stdout",
     "output_type": "stream",
     "text": [
      "\n",
      "\n",
      "Val 60.0\n",
      "                               SARIMAX Results                                \n",
      "==============================================================================\n",
      "Dep. Variable:                cpuload   No. Observations:                  198\n",
      "Model:                 ARIMA(1, 0, 1)   Log Likelihood                -620.984\n",
      "Date:                Thu, 08 Jun 2023   AIC                           1249.968\n",
      "Time:                        12:02:05   BIC                           1263.121\n",
      "Sample:                             0   HQIC                          1255.292\n",
      "                                - 198                                         \n",
      "Covariance Type:                  opg                                         \n",
      "==============================================================================\n",
      "                 coef    std err          z      P>|z|      [0.025      0.975]\n",
      "------------------------------------------------------------------------------\n",
      "const         32.9655      0.808     40.778      0.000      31.381      34.550\n",
      "ar.L1          0.7387      0.150      4.939      0.000       0.446       1.032\n",
      "ma.L1         -0.5437      0.179     -3.031      0.002      -0.895      -0.192\n",
      "sigma2        31.0042      1.596     19.429      0.000      27.877      34.132\n",
      "===================================================================================\n",
      "Ljung-Box (L1) (Q):                   0.02   Jarque-Bera (JB):               414.27\n",
      "Prob(Q):                              0.90   Prob(JB):                         0.00\n",
      "Heteroskedasticity (H):               1.67   Skew:                            -0.96\n",
      "Prob(H) (two-sided):                  0.04   Kurtosis:                         9.82\n",
      "===================================================================================\n",
      "\n",
      "Warnings:\n",
      "[1] Covariance matrix calculated using the outer product of gradients (complex-step).\n",
      "\n",
      "\n",
      "Val 20.0\n",
      "                               SARIMAX Results                                \n",
      "==============================================================================\n",
      "Dep. Variable:                cpuload   No. Observations:                   85\n",
      "Model:                 ARIMA(1, 0, 1)   Log Likelihood                -209.506\n",
      "Date:                Thu, 08 Jun 2023   AIC                            427.013\n",
      "Time:                        12:02:05   BIC                            436.784\n",
      "Sample:                             0   HQIC                           430.943\n",
      "                                 - 85                                         \n",
      "Covariance Type:                  opg                                         \n",
      "==============================================================================\n",
      "                 coef    std err          z      P>|z|      [0.025      0.975]\n",
      "------------------------------------------------------------------------------\n",
      "const          5.5080      0.711      7.745      0.000       4.114       6.902\n",
      "ar.L1          0.9811      0.229      4.283      0.000       0.532       1.430\n",
      "ma.L1         -0.9999     13.897     -0.072      0.943     -28.237      26.237\n",
      "sigma2         8.0431    110.320      0.073      0.942    -208.180     224.266\n",
      "===================================================================================\n",
      "Ljung-Box (L1) (Q):                   0.42   Jarque-Bera (JB):               419.28\n",
      "Prob(Q):                              0.52   Prob(JB):                         0.00\n",
      "Heteroskedasticity (H):               2.09   Skew:                             2.61\n",
      "Prob(H) (two-sided):                  0.06   Kurtosis:                        12.55\n",
      "===================================================================================\n",
      "\n",
      "Warnings:\n",
      "[1] Covariance matrix calculated using the outer product of gradients (complex-step).\n",
      "\n",
      "\n",
      "Val 30.0\n"
     ]
    },
    {
     "name": "stderr",
     "output_type": "stream",
     "text": [
      "/Users/dmukherjee/anaconda3/lib/python3.8/site-packages/statsmodels/tsa/base/tsa_model.py:471: ValueWarning: An unsupported index was provided and will be ignored when e.g. forecasting.\n",
      "  self._init_dates(dates, freq)\n",
      "/Users/dmukherjee/anaconda3/lib/python3.8/site-packages/statsmodels/tsa/base/tsa_model.py:471: ValueWarning: An unsupported index was provided and will be ignored when e.g. forecasting.\n",
      "  self._init_dates(dates, freq)\n",
      "/Users/dmukherjee/anaconda3/lib/python3.8/site-packages/statsmodels/tsa/base/tsa_model.py:471: ValueWarning: An unsupported index was provided and will be ignored when e.g. forecasting.\n",
      "  self._init_dates(dates, freq)\n",
      "/Users/dmukherjee/anaconda3/lib/python3.8/site-packages/statsmodels/tsa/base/tsa_model.py:471: ValueWarning: An unsupported index was provided and will be ignored when e.g. forecasting.\n",
      "  self._init_dates(dates, freq)\n",
      "/Users/dmukherjee/anaconda3/lib/python3.8/site-packages/statsmodels/tsa/base/tsa_model.py:471: ValueWarning: An unsupported index was provided and will be ignored when e.g. forecasting.\n",
      "  self._init_dates(dates, freq)\n",
      "/Users/dmukherjee/anaconda3/lib/python3.8/site-packages/statsmodels/tsa/base/tsa_model.py:471: ValueWarning: An unsupported index was provided and will be ignored when e.g. forecasting.\n",
      "  self._init_dates(dates, freq)\n",
      "/Users/dmukherjee/anaconda3/lib/python3.8/site-packages/statsmodels/tsa/statespace/sarimax.py:966: UserWarning: Non-stationary starting autoregressive parameters found. Using zeros as starting parameters.\n",
      "  warn('Non-stationary starting autoregressive parameters'\n",
      "/Users/dmukherjee/anaconda3/lib/python3.8/site-packages/statsmodels/tsa/base/tsa_model.py:471: ValueWarning: An unsupported index was provided and will be ignored when e.g. forecasting.\n",
      "  self._init_dates(dates, freq)\n",
      "/Users/dmukherjee/anaconda3/lib/python3.8/site-packages/statsmodels/tsa/base/tsa_model.py:471: ValueWarning: An unsupported index was provided and will be ignored when e.g. forecasting.\n",
      "  self._init_dates(dates, freq)\n",
      "/Users/dmukherjee/anaconda3/lib/python3.8/site-packages/statsmodels/tsa/base/tsa_model.py:471: ValueWarning: An unsupported index was provided and will be ignored when e.g. forecasting.\n",
      "  self._init_dates(dates, freq)\n"
     ]
    },
    {
     "name": "stdout",
     "output_type": "stream",
     "text": [
      "                               SARIMAX Results                                \n",
      "==============================================================================\n",
      "Dep. Variable:                cpuload   No. Observations:                  823\n",
      "Model:                 ARIMA(1, 0, 1)   Log Likelihood               -1973.630\n",
      "Date:                Thu, 08 Jun 2023   AIC                           3955.261\n",
      "Time:                        12:02:06   BIC                           3974.113\n",
      "Sample:                             0   HQIC                          3962.493\n",
      "                                - 823                                         \n",
      "Covariance Type:                  opg                                         \n",
      "==============================================================================\n",
      "                 coef    std err          z      P>|z|      [0.025      0.975]\n",
      "------------------------------------------------------------------------------\n",
      "const          9.5444      0.520     18.346      0.000       8.525      10.564\n",
      "ar.L1          0.9524      0.017     55.387      0.000       0.919       0.986\n",
      "ma.L1         -0.7706      0.028    -27.301      0.000      -0.826      -0.715\n",
      "sigma2         7.0820      0.175     40.427      0.000       6.739       7.425\n",
      "===================================================================================\n",
      "Ljung-Box (L1) (Q):                   0.28   Jarque-Bera (JB):              3391.76\n",
      "Prob(Q):                              0.60   Prob(JB):                         0.00\n",
      "Heteroskedasticity (H):               1.29   Skew:                             1.78\n",
      "Prob(H) (two-sided):                  0.03   Kurtosis:                        12.29\n",
      "===================================================================================\n",
      "\n",
      "Warnings:\n",
      "[1] Covariance matrix calculated using the outer product of gradients (complex-step).\n",
      "\n",
      "\n",
      "Val 40.0\n",
      "                               SARIMAX Results                                \n",
      "==============================================================================\n",
      "Dep. Variable:                cpuload   No. Observations:                  210\n",
      "Model:                 ARIMA(1, 0, 1)   Log Likelihood                -635.945\n",
      "Date:                Thu, 08 Jun 2023   AIC                           1279.889\n",
      "Time:                        12:02:06   BIC                           1293.278\n",
      "Sample:                             0   HQIC                          1285.302\n",
      "                                - 210                                         \n",
      "Covariance Type:                  opg                                         \n",
      "==============================================================================\n",
      "                 coef    std err          z      P>|z|      [0.025      0.975]\n",
      "------------------------------------------------------------------------------\n",
      "const         13.9793      1.490      9.380      0.000      11.058      16.900\n",
      "ar.L1          0.9608      0.051     18.750      0.000       0.860       1.061\n",
      "ma.L1         -0.8763      0.079    -11.070      0.000      -1.031      -0.721\n",
      "sigma2        24.9568      1.249     19.983      0.000      22.509      27.405\n",
      "===================================================================================\n",
      "Ljung-Box (L1) (Q):                   0.19   Jarque-Bera (JB):              3095.28\n",
      "Prob(Q):                              0.66   Prob(JB):                         0.00\n",
      "Heteroskedasticity (H):               1.32   Skew:                             3.16\n",
      "Prob(H) (two-sided):                  0.25   Kurtosis:                        20.71\n",
      "===================================================================================\n",
      "\n",
      "Warnings:\n",
      "[1] Covariance matrix calculated using the outer product of gradients (complex-step).\n",
      "\n",
      "\n",
      "Val 50.0\n",
      "                               SARIMAX Results                                \n",
      "==============================================================================\n",
      "Dep. Variable:                cpuload   No. Observations:                  110\n",
      "Model:                 ARIMA(1, 0, 1)   Log Likelihood                -364.024\n",
      "Date:                Thu, 08 Jun 2023   AIC                            736.048\n",
      "Time:                        12:02:06   BIC                            746.850\n",
      "Sample:                             0   HQIC                           740.429\n",
      "                                - 110                                         \n",
      "Covariance Type:                  opg                                         \n",
      "==============================================================================\n",
      "                 coef    std err          z      P>|z|      [0.025      0.975]\n",
      "------------------------------------------------------------------------------\n",
      "const         24.2449      1.191     20.361      0.000      21.911      26.579\n",
      "ar.L1          0.8438      0.143      5.900      0.000       0.563       1.124\n",
      "ma.L1         -0.7011      0.186     -3.761      0.000      -1.066      -0.336\n",
      "sigma2        43.7951      3.660     11.965      0.000      36.621      50.969\n",
      "===================================================================================\n",
      "Ljung-Box (L1) (Q):                   0.10   Jarque-Bera (JB):                57.94\n",
      "Prob(Q):                              0.75   Prob(JB):                         0.00\n",
      "Heteroskedasticity (H):               0.64   Skew:                             0.13\n",
      "Prob(H) (two-sided):                  0.18   Kurtosis:                         6.55\n",
      "===================================================================================\n",
      "\n",
      "Warnings:\n",
      "[1] Covariance matrix calculated using the outer product of gradients (complex-step).\n",
      "\n",
      "\n",
      "Val 120.0\n",
      "                               SARIMAX Results                                \n",
      "==============================================================================\n",
      "Dep. Variable:                cpuload   No. Observations:                   41\n",
      "Model:                 ARIMA(1, 0, 1)   Log Likelihood                 -99.584\n",
      "Date:                Thu, 08 Jun 2023   AIC                            207.168\n",
      "Time:                        12:02:06   BIC                            214.023\n",
      "Sample:                             0   HQIC                           209.664\n",
      "                                 - 41                                         \n",
      "Covariance Type:                  opg                                         \n",
      "==============================================================================\n",
      "                 coef    std err          z      P>|z|      [0.025      0.975]\n",
      "------------------------------------------------------------------------------\n",
      "const         82.5452      0.596    138.570      0.000      81.378      83.713\n",
      "ar.L1          0.6880      1.930      0.356      0.722      -3.096       4.472\n",
      "ma.L1         -0.6335      1.990     -0.318      0.750      -4.533       3.266\n",
      "sigma2         7.5357      1.880      4.007      0.000       3.850      11.221\n",
      "===================================================================================\n",
      "Ljung-Box (L1) (Q):                   0.08   Jarque-Bera (JB):                 1.31\n",
      "Prob(Q):                              0.78   Prob(JB):                         0.52\n",
      "Heteroskedasticity (H):               0.74   Skew:                            -0.42\n",
      "Prob(H) (two-sided):                  0.57   Kurtosis:                         2.77\n",
      "===================================================================================\n",
      "\n",
      "Warnings:\n",
      "[1] Covariance matrix calculated using the outer product of gradients (complex-step).\n",
      "\n",
      "\n",
      "Val 70.0\n"
     ]
    },
    {
     "name": "stderr",
     "output_type": "stream",
     "text": [
      "/Users/dmukherjee/anaconda3/lib/python3.8/site-packages/statsmodels/tsa/base/tsa_model.py:471: ValueWarning: An unsupported index was provided and will be ignored when e.g. forecasting.\n",
      "  self._init_dates(dates, freq)\n",
      "/Users/dmukherjee/anaconda3/lib/python3.8/site-packages/statsmodels/tsa/base/tsa_model.py:471: ValueWarning: An unsupported index was provided and will be ignored when e.g. forecasting.\n",
      "  self._init_dates(dates, freq)\n",
      "/Users/dmukherjee/anaconda3/lib/python3.8/site-packages/statsmodels/tsa/base/tsa_model.py:471: ValueWarning: An unsupported index was provided and will be ignored when e.g. forecasting.\n",
      "  self._init_dates(dates, freq)\n",
      "/Users/dmukherjee/anaconda3/lib/python3.8/site-packages/statsmodels/tsa/statespace/sarimax.py:966: UserWarning: Non-stationary starting autoregressive parameters found. Using zeros as starting parameters.\n",
      "  warn('Non-stationary starting autoregressive parameters'\n",
      "/Users/dmukherjee/anaconda3/lib/python3.8/site-packages/statsmodels/tsa/statespace/sarimax.py:978: UserWarning: Non-invertible starting MA parameters found. Using zeros as starting parameters.\n",
      "  warn('Non-invertible starting MA parameters found.'\n",
      "/Users/dmukherjee/anaconda3/lib/python3.8/site-packages/statsmodels/tsa/base/tsa_model.py:471: ValueWarning: An unsupported index was provided and will be ignored when e.g. forecasting.\n",
      "  self._init_dates(dates, freq)\n",
      "/Users/dmukherjee/anaconda3/lib/python3.8/site-packages/statsmodels/tsa/base/tsa_model.py:471: ValueWarning: An unsupported index was provided and will be ignored when e.g. forecasting.\n",
      "  self._init_dates(dates, freq)\n",
      "/Users/dmukherjee/anaconda3/lib/python3.8/site-packages/statsmodels/tsa/base/tsa_model.py:471: ValueWarning: An unsupported index was provided and will be ignored when e.g. forecasting.\n",
      "  self._init_dates(dates, freq)\n",
      "/Users/dmukherjee/anaconda3/lib/python3.8/site-packages/statsmodels/tsa/base/tsa_model.py:471: ValueWarning: An unsupported index was provided and will be ignored when e.g. forecasting.\n",
      "  self._init_dates(dates, freq)\n",
      "/Users/dmukherjee/anaconda3/lib/python3.8/site-packages/statsmodels/tsa/base/tsa_model.py:471: ValueWarning: An unsupported index was provided and will be ignored when e.g. forecasting.\n",
      "  self._init_dates(dates, freq)\n",
      "/Users/dmukherjee/anaconda3/lib/python3.8/site-packages/statsmodels/tsa/base/tsa_model.py:471: ValueWarning: An unsupported index was provided and will be ignored when e.g. forecasting.\n",
      "  self._init_dates(dates, freq)\n",
      "/Users/dmukherjee/anaconda3/lib/python3.8/site-packages/statsmodels/tsa/statespace/sarimax.py:966: UserWarning: Non-stationary starting autoregressive parameters found. Using zeros as starting parameters.\n",
      "  warn('Non-stationary starting autoregressive parameters'\n",
      "/Users/dmukherjee/anaconda3/lib/python3.8/site-packages/statsmodels/tsa/statespace/sarimax.py:978: UserWarning: Non-invertible starting MA parameters found. Using zeros as starting parameters.\n",
      "  warn('Non-invertible starting MA parameters found.'\n",
      "/Users/dmukherjee/anaconda3/lib/python3.8/site-packages/statsmodels/tsa/base/tsa_model.py:471: ValueWarning: An unsupported index was provided and will be ignored when e.g. forecasting.\n",
      "  self._init_dates(dates, freq)\n",
      "/Users/dmukherjee/anaconda3/lib/python3.8/site-packages/statsmodels/tsa/base/tsa_model.py:471: ValueWarning: An unsupported index was provided and will be ignored when e.g. forecasting.\n",
      "  self._init_dates(dates, freq)\n",
      "/Users/dmukherjee/anaconda3/lib/python3.8/site-packages/statsmodels/tsa/base/tsa_model.py:471: ValueWarning: An unsupported index was provided and will be ignored when e.g. forecasting.\n",
      "  self._init_dates(dates, freq)\n"
     ]
    },
    {
     "name": "stdout",
     "output_type": "stream",
     "text": [
      "                               SARIMAX Results                                \n",
      "==============================================================================\n",
      "Dep. Variable:                cpuload   No. Observations:                  129\n",
      "Model:                 ARIMA(1, 0, 1)   Log Likelihood                -414.198\n",
      "Date:                Thu, 08 Jun 2023   AIC                            836.397\n",
      "Time:                        12:02:06   BIC                            847.836\n",
      "Sample:                             0   HQIC                           841.045\n",
      "                                - 129                                         \n",
      "Covariance Type:                  opg                                         \n",
      "==============================================================================\n",
      "                 coef    std err          z      P>|z|      [0.025      0.975]\n",
      "------------------------------------------------------------------------------\n",
      "const         40.8845      0.595     68.661      0.000      39.717      42.052\n",
      "ar.L1         -0.9514      0.338     -2.812      0.005      -1.615      -0.288\n",
      "ma.L1          0.9425      0.367      2.570      0.010       0.224       1.661\n",
      "sigma2        36.0089      2.266     15.888      0.000      31.567      40.451\n",
      "===================================================================================\n",
      "Ljung-Box (L1) (Q):                   0.04   Jarque-Bera (JB):               414.82\n",
      "Prob(Q):                              0.84   Prob(JB):                         0.00\n",
      "Heteroskedasticity (H):               2.10   Skew:                            -0.74\n",
      "Prob(H) (two-sided):                  0.02   Kurtosis:                        11.66\n",
      "===================================================================================\n",
      "\n",
      "Warnings:\n",
      "[1] Covariance matrix calculated using the outer product of gradients (complex-step).\n",
      "\n",
      "\n",
      "Val 80.0\n",
      "                               SARIMAX Results                                \n",
      "==============================================================================\n",
      "Dep. Variable:                cpuload   No. Observations:                   96\n",
      "Model:                 ARIMA(1, 0, 1)   Log Likelihood                -323.785\n",
      "Date:                Thu, 08 Jun 2023   AIC                            655.571\n",
      "Time:                        12:02:06   BIC                            665.828\n",
      "Sample:                             0   HQIC                           659.717\n",
      "                                 - 96                                         \n",
      "Covariance Type:                  opg                                         \n",
      "==============================================================================\n",
      "                 coef    std err          z      P>|z|      [0.025      0.975]\n",
      "------------------------------------------------------------------------------\n",
      "const         48.3660      1.245     38.864      0.000      45.927      50.805\n",
      "ar.L1          0.0013      1.788      0.001      0.999      -3.504       3.507\n",
      "ma.L1         -0.1418      1.770     -0.080      0.936      -3.612       3.328\n",
      "sigma2        49.7716      4.100     12.139      0.000      41.736      57.808\n",
      "===================================================================================\n",
      "Ljung-Box (L1) (Q):                   0.00   Jarque-Bera (JB):              2713.18\n",
      "Prob(Q):                              0.99   Prob(JB):                         0.00\n",
      "Heteroskedasticity (H):               8.25   Skew:                            -4.40\n",
      "Prob(H) (two-sided):                  0.00   Kurtosis:                        27.51\n",
      "===================================================================================\n",
      "\n",
      "Warnings:\n",
      "[1] Covariance matrix calculated using the outer product of gradients (complex-step).\n",
      "\n",
      "\n",
      "Val 140.0\n",
      "                               SARIMAX Results                                \n",
      "==============================================================================\n",
      "Dep. Variable:                cpuload   No. Observations:                  243\n",
      "Model:                 ARIMA(1, 0, 1)   Log Likelihood                -103.321\n",
      "Date:                Thu, 08 Jun 2023   AIC                            214.641\n",
      "Time:                        12:02:06   BIC                            228.614\n",
      "Sample:                             0   HQIC                           220.269\n",
      "                                - 243                                         \n",
      "Covariance Type:                  opg                                         \n",
      "==============================================================================\n",
      "                 coef    std err          z      P>|z|      [0.025      0.975]\n",
      "------------------------------------------------------------------------------\n",
      "const         99.9524      0.133    750.907      0.000      99.692     100.213\n",
      "ar.L1          0.8849      1.990      0.445      0.657      -3.015       4.785\n",
      "ma.L1         -0.9125      1.596     -0.572      0.568      -4.041       2.216\n",
      "sigma2         0.1370      0.019      7.050      0.000       0.099       0.175\n",
      "===================================================================================\n",
      "Ljung-Box (L1) (Q):                   0.02   Jarque-Bera (JB):             56158.37\n",
      "Prob(Q):                              0.88   Prob(JB):                         0.00\n",
      "Heteroskedasticity (H):               0.69   Skew:                            -8.28\n",
      "Prob(H) (two-sided):                  0.10   Kurtosis:                        75.61\n",
      "===================================================================================\n",
      "\n",
      "Warnings:\n",
      "[1] Covariance matrix calculated using the outer product of gradients (complex-step).\n",
      "\n",
      "\n",
      "Val 130.0\n",
      "                               SARIMAX Results                                \n",
      "==============================================================================\n",
      "Dep. Variable:                cpuload   No. Observations:                   57\n",
      "Model:                 ARIMA(1, 0, 1)   Log Likelihood                -121.599\n",
      "Date:                Thu, 08 Jun 2023   AIC                            251.198\n",
      "Time:                        12:02:06   BIC                            259.370\n",
      "Sample:                             0   HQIC                           254.374\n",
      "                                 - 57                                         \n",
      "Covariance Type:                  opg                                         \n",
      "==============================================================================\n",
      "                 coef    std err          z      P>|z|      [0.025      0.975]\n",
      "------------------------------------------------------------------------------\n",
      "const         90.8475      0.367    247.262      0.000      90.127      91.568\n",
      "ar.L1         -0.4202      0.931     -0.451      0.652      -2.245       1.404\n",
      "ma.L1          0.5615      0.900      0.624      0.533      -1.203       2.326\n",
      "sigma2         4.1709      0.521      8.002      0.000       3.149       5.192\n",
      "===================================================================================\n",
      "Ljung-Box (L1) (Q):                   0.05   Jarque-Bera (JB):                80.56\n",
      "Prob(Q):                              0.83   Prob(JB):                         0.00\n",
      "Heteroskedasticity (H):               3.50   Skew:                             1.54\n",
      "Prob(H) (two-sided):                  0.01   Kurtosis:                         7.94\n",
      "===================================================================================\n",
      "\n",
      "Warnings:\n",
      "[1] Covariance matrix calculated using the outer product of gradients (complex-step).\n",
      "\n",
      "\n",
      "Val 100.0\n",
      "                               SARIMAX Results                                \n",
      "==============================================================================\n",
      "Dep. Variable:                cpuload   No. Observations:                   49\n",
      "Model:                 ARIMA(1, 0, 1)   Log Likelihood                -162.158\n",
      "Date:                Thu, 08 Jun 2023   AIC                            332.315\n",
      "Time:                        12:02:06   BIC                            339.882\n",
      "Sample:                             0   HQIC                           335.186\n",
      "                                 - 49                                         \n",
      "Covariance Type:                  opg                                         \n",
      "==============================================================================\n",
      "                 coef    std err          z      P>|z|      [0.025      0.975]\n",
      "------------------------------------------------------------------------------\n",
      "const         64.9975      2.305     28.195      0.000      60.479      69.516\n",
      "ar.L1          0.7542      1.725      0.437      0.662      -2.626       4.134\n",
      "ma.L1         -0.6984      1.869     -0.374      0.709      -4.361       2.964\n",
      "sigma2        43.8388      6.800      6.447      0.000      30.511      57.166\n",
      "===================================================================================\n",
      "Ljung-Box (L1) (Q):                   0.01   Jarque-Bera (JB):               383.14\n",
      "Prob(Q):                              0.93   Prob(JB):                         0.00\n",
      "Heteroskedasticity (H):               4.67   Skew:                            -2.87\n",
      "Prob(H) (two-sided):                  0.00   Kurtosis:                        15.43\n",
      "===================================================================================\n",
      "\n",
      "Warnings:\n",
      "[1] Covariance matrix calculated using the outer product of gradients (complex-step).\n",
      "\n",
      "\n",
      "Val 90.0\n"
     ]
    },
    {
     "name": "stderr",
     "output_type": "stream",
     "text": [
      "/Users/dmukherjee/anaconda3/lib/python3.8/site-packages/statsmodels/tsa/base/tsa_model.py:471: ValueWarning: An unsupported index was provided and will be ignored when e.g. forecasting.\n",
      "  self._init_dates(dates, freq)\n",
      "/Users/dmukherjee/anaconda3/lib/python3.8/site-packages/statsmodels/tsa/base/tsa_model.py:471: ValueWarning: An unsupported index was provided and will be ignored when e.g. forecasting.\n",
      "  self._init_dates(dates, freq)\n",
      "/Users/dmukherjee/anaconda3/lib/python3.8/site-packages/statsmodels/tsa/base/tsa_model.py:471: ValueWarning: An unsupported index was provided and will be ignored when e.g. forecasting.\n",
      "  self._init_dates(dates, freq)\n",
      "/Users/dmukherjee/anaconda3/lib/python3.8/site-packages/statsmodels/tsa/base/tsa_model.py:471: ValueWarning: An unsupported index was provided and will be ignored when e.g. forecasting.\n",
      "  self._init_dates(dates, freq)\n",
      "/Users/dmukherjee/anaconda3/lib/python3.8/site-packages/statsmodels/tsa/base/tsa_model.py:471: ValueWarning: An unsupported index was provided and will be ignored when e.g. forecasting.\n",
      "  self._init_dates(dates, freq)\n",
      "/Users/dmukherjee/anaconda3/lib/python3.8/site-packages/statsmodels/tsa/base/tsa_model.py:471: ValueWarning: An unsupported index was provided and will be ignored when e.g. forecasting.\n",
      "  self._init_dates(dates, freq)\n",
      "/Users/dmukherjee/anaconda3/lib/python3.8/site-packages/statsmodels/tsa/statespace/sarimax.py:966: UserWarning: Non-stationary starting autoregressive parameters found. Using zeros as starting parameters.\n",
      "  warn('Non-stationary starting autoregressive parameters'\n",
      "/Users/dmukherjee/anaconda3/lib/python3.8/site-packages/statsmodels/tsa/statespace/sarimax.py:978: UserWarning: Non-invertible starting MA parameters found. Using zeros as starting parameters.\n",
      "  warn('Non-invertible starting MA parameters found.'\n",
      "/Users/dmukherjee/anaconda3/lib/python3.8/site-packages/statsmodels/tsa/base/tsa_model.py:471: ValueWarning: An unsupported index was provided and will be ignored when e.g. forecasting.\n",
      "  self._init_dates(dates, freq)\n",
      "/Users/dmukherjee/anaconda3/lib/python3.8/site-packages/statsmodels/tsa/base/tsa_model.py:471: ValueWarning: An unsupported index was provided and will be ignored when e.g. forecasting.\n",
      "  self._init_dates(dates, freq)\n",
      "/Users/dmukherjee/anaconda3/lib/python3.8/site-packages/statsmodels/tsa/base/tsa_model.py:471: ValueWarning: An unsupported index was provided and will be ignored when e.g. forecasting.\n",
      "  self._init_dates(dates, freq)\n",
      "/Users/dmukherjee/anaconda3/lib/python3.8/site-packages/statsmodels/tsa/base/tsa_model.py:471: ValueWarning: An unsupported index was provided and will be ignored when e.g. forecasting.\n",
      "  self._init_dates(dates, freq)\n",
      "/Users/dmukherjee/anaconda3/lib/python3.8/site-packages/statsmodels/tsa/base/tsa_model.py:471: ValueWarning: An unsupported index was provided and will be ignored when e.g. forecasting.\n",
      "  self._init_dates(dates, freq)\n",
      "/Users/dmukherjee/anaconda3/lib/python3.8/site-packages/statsmodels/tsa/base/tsa_model.py:471: ValueWarning: An unsupported index was provided and will be ignored when e.g. forecasting.\n",
      "  self._init_dates(dates, freq)\n",
      "/Users/dmukherjee/anaconda3/lib/python3.8/site-packages/statsmodels/tsa/base/tsa_model.py:471: ValueWarning: An unsupported index was provided and will be ignored when e.g. forecasting.\n",
      "  self._init_dates(dates, freq)\n",
      "/Users/dmukherjee/anaconda3/lib/python3.8/site-packages/statsmodels/tsa/base/tsa_model.py:471: ValueWarning: An unsupported index was provided and will be ignored when e.g. forecasting.\n",
      "  self._init_dates(dates, freq)\n",
      "/Users/dmukherjee/anaconda3/lib/python3.8/site-packages/statsmodels/tsa/base/tsa_model.py:471: ValueWarning: An unsupported index was provided and will be ignored when e.g. forecasting.\n",
      "  self._init_dates(dates, freq)\n"
     ]
    },
    {
     "name": "stdout",
     "output_type": "stream",
     "text": [
      "                               SARIMAX Results                                \n",
      "==============================================================================\n",
      "Dep. Variable:                cpuload   No. Observations:                   61\n",
      "Model:                 ARIMA(1, 0, 1)   Log Likelihood                -214.585\n",
      "Date:                Thu, 08 Jun 2023   AIC                            437.170\n",
      "Time:                        12:02:06   BIC                            445.613\n",
      "Sample:                             0   HQIC                           440.479\n",
      "                                 - 61                                         \n",
      "Covariance Type:                  opg                                         \n",
      "==============================================================================\n",
      "                 coef    std err          z      P>|z|      [0.025      0.975]\n",
      "------------------------------------------------------------------------------\n",
      "const         57.1733      1.210     47.246      0.000      54.802      59.545\n",
      "ar.L1         -0.0462      1.494     -0.031      0.975      -2.975       2.883\n",
      "ma.L1         -0.2153      1.465     -0.147      0.883      -3.087       2.656\n",
      "sigma2        66.4571      7.091      9.372      0.000      52.559      80.355\n",
      "===================================================================================\n",
      "Ljung-Box (L1) (Q):                   0.00   Jarque-Bera (JB):               350.20\n",
      "Prob(Q):                              0.97   Prob(JB):                         0.00\n",
      "Heteroskedasticity (H):               0.71   Skew:                            -2.50\n",
      "Prob(H) (two-sided):                  0.44   Kurtosis:                        13.62\n",
      "===================================================================================\n",
      "\n",
      "Warnings:\n",
      "[1] Covariance matrix calculated using the outer product of gradients (complex-step).\n",
      "\n",
      "\n",
      "Val 110.0\n",
      "                               SARIMAX Results                                \n",
      "==============================================================================\n",
      "Dep. Variable:                cpuload   No. Observations:                   34\n",
      "Model:                 ARIMA(1, 0, 1)   Log Likelihood                -134.798\n",
      "Date:                Thu, 08 Jun 2023   AIC                            277.595\n",
      "Time:                        12:02:06   BIC                            283.700\n",
      "Sample:                             0   HQIC                           279.677\n",
      "                                 - 34                                         \n",
      "Covariance Type:                  opg                                         \n",
      "==============================================================================\n",
      "                 coef    std err          z      P>|z|      [0.025      0.975]\n",
      "------------------------------------------------------------------------------\n",
      "const         73.7007      8.448      8.724      0.000      57.143      90.258\n",
      "ar.L1         -0.2678      1.050     -0.255      0.799      -2.327       1.791\n",
      "ma.L1          0.7383      1.003      0.736      0.461      -1.227       2.703\n",
      "sigma2       160.6121     43.576      3.686      0.000      75.204     246.020\n",
      "===================================================================================\n",
      "Ljung-Box (L1) (Q):                   0.01   Jarque-Bera (JB):               699.82\n",
      "Prob(Q):                              0.91   Prob(JB):                         0.00\n",
      "Heteroskedasticity (H):              12.84   Skew:                            -4.36\n",
      "Prob(H) (two-sided):                  0.00   Kurtosis:                        23.44\n",
      "===================================================================================\n",
      "\n",
      "Warnings:\n",
      "[1] Covariance matrix calculated using the outer product of gradients (complex-step).\n"
     ]
    },
    {
     "name": "stderr",
     "output_type": "stream",
     "text": [
      "/Users/dmukherjee/anaconda3/lib/python3.8/site-packages/statsmodels/tsa/base/tsa_model.py:471: ValueWarning: An unsupported index was provided and will be ignored when e.g. forecasting.\n",
      "  self._init_dates(dates, freq)\n",
      "/Users/dmukherjee/anaconda3/lib/python3.8/site-packages/statsmodels/tsa/base/tsa_model.py:471: ValueWarning: An unsupported index was provided and will be ignored when e.g. forecasting.\n",
      "  self._init_dates(dates, freq)\n",
      "/Users/dmukherjee/anaconda3/lib/python3.8/site-packages/statsmodels/tsa/base/tsa_model.py:471: ValueWarning: An unsupported index was provided and will be ignored when e.g. forecasting.\n",
      "  self._init_dates(dates, freq)\n"
     ]
    }
   ],
   "source": [
    "gresult ={}\n",
    "for val in cpuFArr:\n",
    "    print(\"\\n\\nVal\",val)\n",
    "    gmodel = ARIMA(mapTrain[val]['cpuload'], order=(1,0,1))\n",
    "    gresult[val] = gmodel.fit()\n",
    "    print(gresult[val].summary())"
   ]
  },
  {
   "cell_type": "markdown",
   "metadata": {},
   "source": [
    "### The results are very confusing\n",
    "What should serve as the endogenous and exogenous variable for this model?"
   ]
  },
  {
   "cell_type": "markdown",
   "metadata": {},
   "source": [
    "# Plotting the data\n",
    "Understand how does the state looks like with the change\n"
   ]
  },
  {
   "cell_type": "code",
   "execution_count": 55,
   "metadata": {},
   "outputs": [
    {
     "data": {
      "text/plain": [
       "<matplotlib.axes._subplots.AxesSubplot at 0x7f7fd095d4c0>"
      ]
     },
     "execution_count": 55,
     "metadata": {},
     "output_type": "execute_result"
    },
    {
     "data": {
      "image/png": "[encoded data removed]",
      "text/plain": [
       "<Figure size 720x360 with 1 Axes>"
      ]
     },
     "metadata": {},
     "output_type": "display_data"
    }
   ],
   "source": [
    "utilData.plot(y='cpuload')"
   ]
  },
  {
   "cell_type": "code",
   "execution_count": 56,
   "metadata": {},
   "outputs": [
    {
     "data": {
      "text/plain": [
       "<matplotlib.axes._subplots.AxesSubplot at 0x7f7fe1cebe80>"
      ]
     },
     "execution_count": 56,
     "metadata": {},
     "output_type": "execute_result"
    },
    {
     "data": {
      "image/png": "[encoded data removed]",
      "text/plain": [
       "<Figure size 720x360 with 1 Axes>"
      ]
     },
     "metadata": {},
     "output_type": "display_data"
    }
   ],
   "source": [
    "utilData.plot(y='memLoad')"
   ]
  },
  {
   "cell_type": "code",
   "execution_count": 57,
   "metadata": {},
   "outputs": [],
   "source": [
    "x_axis= utilData.index.values.tolist()"
   ]
  },
  {
   "cell_type": "code",
   "execution_count": 89,
   "metadata": {},
   "outputs": [
    {
     "data": {
      "text/plain": [
       "[<matplotlib.lines.Line2D at 0x7f7ff31108b0>]"
      ]
     },
     "execution_count": 89,
     "metadata": {},
     "output_type": "execute_result"
    },
    {
     "data": {
      "image/png": "[encoded data removed]",
      "text/plain": [
       "<Figure size 3600x1440 with 2 Axes>"
      ]
     },
     "metadata": {},
     "output_type": "display_data"
    }
   ],
   "source": [
    "# plt.figure(figsize=(50,2))\n",
    "fig, ax1 = plt.subplots(figsize=(50, 20))\n",
    "\n",
    "x = utilData.index.values.tolist()\n",
    "y1 = utilData['cpuF']\n",
    "y2 = utilData['memF']\n",
    "\n",
    "ax2 = ax1.twinx()\n",
    "\n",
    "ax1.plot(x, y1, 'go')\n",
    "ax2.plot(x, y2, 'bo')"
   ]
  },
  {
   "cell_type": "code",
   "execution_count": 59,
   "metadata": {},
   "outputs": [
    {
     "data": {
      "text/plain": [
       "[<matplotlib.lines.Line2D at 0x7f7fd0bbefd0>]"
      ]
     },
     "execution_count": 59,
     "metadata": {},
     "output_type": "execute_result"
    },
    {
     "data": {
      "text/plain": [
       "<Figure size 3600x144 with 0 Axes>"
      ]
     },
     "metadata": {},
     "output_type": "display_data"
    },
    {
     "data": {
      "image/png": "[encoded data removed]",
      "text/plain": [
       "<Figure size 720x360 with 2 Axes>"
      ]
     },
     "metadata": {},
     "output_type": "display_data"
    }
   ],
   "source": [
    "plt.figure(figsize=(50,2))\n",
    "fig, ax1 = plt.subplots()\n",
    "\n",
    "x = utilData[1800:2000].index.values.tolist()\n",
    "y1 = utilData['cpuScore'].iloc[1800:2000]\n",
    "y2 = utilData['memScore'].iloc[1800:2000]\n",
    "\n",
    "ax2 = ax1.twinx()\n",
    "\n",
    "ax1.plot(x, y1, 'go')\n",
    "ax2.plot(x, y2, 'bo')"
   ]
  },
  {
   "cell_type": "code",
   "execution_count": 60,
   "metadata": {},
   "outputs": [
    {
     "data": {
      "text/plain": [
       "[<matplotlib.lines.Line2D at 0x7f7fe1e477c0>]"
      ]
     },
     "execution_count": 60,
     "metadata": {},
     "output_type": "execute_result"
    },
    {
     "data": {
      "text/plain": [
       "<Figure size 3600x144 with 0 Axes>"
      ]
     },
     "metadata": {},
     "output_type": "display_data"
    },
    {
     "data": {
      "image/png": "[encoded data removed]",
      "text/plain": [
       "<Figure size 720x360 with 2 Axes>"
      ]
     },
     "metadata": {},
     "output_type": "display_data"
    }
   ],
   "source": [
    "plt.figure(figsize=(50,2))\n",
    "fig, ax1 = plt.subplots()\n",
    "\n",
    "x = utilData.index.values.tolist()\n",
    "y1 = utilData['cpuScore']\n",
    "y2 = utilData['cpuF']\n",
    "\n",
    "ax2 = ax1.twinx()\n",
    "\n",
    "ax1.plot(x, y1, 'go')\n",
    "ax2.plot(x, y2, 'bo')"
   ]
  },
  {
   "cell_type": "code",
   "execution_count": 61,
   "metadata": {},
   "outputs": [
    {
     "data": {
      "text/plain": [
       "[<matplotlib.lines.Line2D at 0x7f7fc04ebd90>]"
      ]
     },
     "execution_count": 61,
     "metadata": {},
     "output_type": "execute_result"
    },
    {
     "data": {
      "text/plain": [
       "<Figure size 3600x144 with 0 Axes>"
      ]
     },
     "metadata": {},
     "output_type": "display_data"
    },
    {
     "data": {
      "image/png": "[encoded data removed]",
      "text/plain": [
       "<Figure size 720x360 with 2 Axes>"
      ]
     },
     "metadata": {},
     "output_type": "display_data"
    }
   ],
   "source": [
    "plt.figure(figsize=(50,2))\n",
    "fig, ax1 = plt.subplots()\n",
    "\n",
    "x = utilData.index.values.tolist()\n",
    "y1 = utilData['memScore']\n",
    "y2 = utilData['memF']\n",
    "\n",
    "ax2 = ax1.twinx()\n",
    "\n",
    "ax1.plot(x, y1, 'go')\n",
    "ax2.plot(x, y2, 'bo')"
   ]
  },
  {
   "cell_type": "code",
   "execution_count": 62,
   "metadata": {},
   "outputs": [
    {
     "data": {
      "text/plain": [
       "[<matplotlib.lines.Line2D at 0x7f7ff2c7c3d0>]"
      ]
     },
     "execution_count": 62,
     "metadata": {},
     "output_type": "execute_result"
    },
    {
     "data": {
      "text/plain": [
       "<Figure size 3600x144 with 0 Axes>"
      ]
     },
     "metadata": {},
     "output_type": "display_data"
    },
    {
     "data": {
      "image/png": "[encoded data removed]",
      "text/plain": [
       "<Figure size 720x360 with 2 Axes>"
      ]
     },
     "metadata": {},
     "output_type": "display_data"
    }
   ],
   "source": [
    "plt.figure(figsize=(50,2))\n",
    "fig, ax1 = plt.subplots()\n",
    "\n",
    "x = utilData.index.values.tolist()\n",
    "y1 = utilData['cpuScore']\n",
    "y2 = utilData['memF']\n",
    "\n",
    "ax2 = ax1.twinx()\n",
    "\n",
    "ax1.plot(x, y1, 'go')\n",
    "ax2.plot(x, y2, 'bo')"
   ]
  },
  {
   "cell_type": "code",
   "execution_count": 63,
   "metadata": {},
   "outputs": [],
   "source": [
    "# Empty space for plotting more"
   ]
  },
  {
   "cell_type": "markdown",
   "metadata": {},
   "source": [
    "# Characterizing state and load behaviour\n",
    "How does cpuload, memload, and their frequencies fare"
   ]
  },
  {
   "cell_type": "code",
   "execution_count": 64,
   "metadata": {},
   "outputs": [],
   "source": [
    "def diffCorr(x,y):\n",
    "    print(\"Pearson\",stats.pearsonr(x,y))\n",
    "    print(\"Spearman\",stats.spearmanr(x,y))"
   ]
  },
  {
   "cell_type": "code",
   "execution_count": 65,
   "metadata": {},
   "outputs": [
    {
     "name": "stdout",
     "output_type": "stream",
     "text": [
      "Pearson (0.3836347504363804, 1.7063228385820354e-94)\n",
      "Spearman SpearmanrResult(correlation=0.47070653722998695, pvalue=1.5434514304878583e-147)\n"
     ]
    }
   ],
   "source": [
    "x1 = utilData['cpuF'].to_numpy()\n",
    "x2 = utilData['memfreq'].to_numpy()\n",
    "diffCorr(x1,x2)"
   ]
  },
  {
   "cell_type": "code",
   "execution_count": 66,
   "metadata": {},
   "outputs": [
    {
     "name": "stdout",
     "output_type": "stream",
     "text": [
      "Pearson (0.166601935751212, 4.255277434031809e-18)\n",
      "Spearman SpearmanrResult(correlation=0.3111704705195926, pvalue=4.017215464125179e-61)\n"
     ]
    }
   ],
   "source": [
    "x1 = utilData['memLoad'].to_numpy()\n",
    "x2 = utilData['cpuF'].to_numpy()\n",
    "diffCorr(x1,x2)"
   ]
  },
  {
   "cell_type": "code",
   "execution_count": 67,
   "metadata": {},
   "outputs": [
    {
     "name": "stdout",
     "output_type": "stream",
     "text": [
      "Pearson (0.9767547511328467, 0.0)\n",
      "Spearman SpearmanrResult(correlation=0.9563341295204049, pvalue=0.0)\n"
     ]
    }
   ],
   "source": [
    "x1 = utilData['cpuF'].to_numpy()\n",
    "x2 = utilData['cpuScore'].to_numpy()\n",
    "diffCorr(x1,x2)"
   ]
  },
  {
   "cell_type": "code",
   "execution_count": 68,
   "metadata": {},
   "outputs": [
    {
     "name": "stdout",
     "output_type": "stream",
     "text": [
      "Pearson (0.2371348222140171, 8.05247743413532e-08)\n",
      "Spearman SpearmanrResult(correlation=-0.022169267470536456, pvalue=0.6209249027838075)\n"
     ]
    }
   ],
   "source": [
    "x1 = utilData['memScore'][0:500].to_numpy()\n",
    "x2 = utilData['cpuScore'][0:500].to_numpy()\n",
    "diffCorr(x1,x2)"
   ]
  },
  {
   "cell_type": "code",
   "execution_count": 69,
   "metadata": {},
   "outputs": [
    {
     "name": "stdout",
     "output_type": "stream",
     "text": [
      "Pearson (0.6229270915789488, 2.867526676180988e-287)\n",
      "Spearman SpearmanrResult(correlation=0.5987098763658174, pvalue=7.37488228744494e-260)\n"
     ]
    }
   ],
   "source": [
    "x1 = utilData['memfreq'].to_numpy()\n",
    "x2 = utilData['memLoad'].to_numpy()\n",
    "diffCorr(x1,x2)"
   ]
  },
  {
   "cell_type": "code",
   "execution_count": 70,
   "metadata": {},
   "outputs": [
    {
     "name": "stdout",
     "output_type": "stream",
     "text": [
      "Pearson (0.166601935751212, 4.255277434031809e-18)\n",
      "Spearman SpearmanrResult(correlation=0.3111704705195926, pvalue=4.017215464125179e-61)\n"
     ]
    }
   ],
   "source": [
    "x1 = utilData['cpuF'].to_numpy()\n",
    "x2 = utilData['memLoad'].to_numpy()\n",
    "diffCorr(x1,x2)"
   ]
  },
  {
   "cell_type": "code",
   "execution_count": 71,
   "metadata": {},
   "outputs": [
    {
     "name": "stdout",
     "output_type": "stream",
     "text": [
      "Pearson (0.28102522714424977, 1.0101016102936825e-49)\n",
      "Spearman SpearmanrResult(correlation=0.44547340370761845, pvalue=1.5588595621015236e-130)\n"
     ]
    }
   ],
   "source": [
    "x1 = utilData['memfreq'].to_numpy()\n",
    "x2 = utilData['cpuScore'].to_numpy()\n",
    "diffCorr(x1,x2)"
   ]
  },
  {
   "cell_type": "code",
   "execution_count": 72,
   "metadata": {},
   "outputs": [
    {
     "name": "stdout",
     "output_type": "stream",
     "text": [
      "Pearson (-0.6501625547573261, 2.117236295695532e-61)\n",
      "Spearman SpearmanrResult(correlation=-0.5693636481061536, pvalue=2.658643254534761e-44)\n"
     ]
    }
   ],
   "source": [
    "x1 = utilData['memF'][500:1000].to_numpy()\n",
    "x2 = utilData['cpuScore'][500:1000].to_numpy()\n",
    "diffCorr(x1,x2)"
   ]
  },
  {
   "cell_type": "markdown",
   "metadata": {},
   "source": [
    "### Note: Memory has more cross resource predictive power but cpu is better at its own prediction\n",
    "We will utilize these values and try run a linear model to check how the coefficients look for a multi-dimensional ARMA model and a linear/other regression model"
   ]
  },
  {
   "cell_type": "code",
   "execution_count": 73,
   "metadata": {},
   "outputs": [],
   "source": [
    "#Empty space for code"
   ]
  },
  {
   "cell_type": "markdown",
   "metadata": {},
   "source": [
    "# Plotting PACF and ACF\n",
    "We need to find out the level of autocorrelation in the values"
   ]
  },
  {
   "cell_type": "code",
   "execution_count": 74,
   "metadata": {},
   "outputs": [],
   "source": [
    "from statsmodels.graphics.tsaplots import plot_pacf, plot_acf"
   ]
  },
  {
   "cell_type": "code",
   "execution_count": 75,
   "metadata": {},
   "outputs": [
    {
     "data": {
      "image/png": "[encoded data removed]",
      "text/plain": [
       "<Figure size 720x360 with 1 Axes>"
      ]
     },
     "metadata": {},
     "output_type": "display_data"
    }
   ],
   "source": [
    "plot_pacf(tot_train['cpuScore'], lags=80, alpha=0.05,method='ols');"
   ]
  },
  {
   "cell_type": "code",
   "execution_count": 76,
   "metadata": {},
   "outputs": [
    {
     "data": {
      "image/png": "[encoded data removed]",
      "text/plain": [
       "<Figure size 720x360 with 1 Axes>"
      ]
     },
     "metadata": {},
     "output_type": "display_data"
    }
   ],
   "source": [
    "plot_acf(tot_train['cpuload'], lags=200, alpha=0.05);"
   ]
  },
  {
   "cell_type": "code",
   "execution_count": 77,
   "metadata": {},
   "outputs": [
    {
     "data": {
      "image/png": "[encoded data removed]",
      "text/plain": [
       "<Figure size 720x360 with 1 Axes>"
      ]
     },
     "metadata": {},
     "output_type": "display_data"
    }
   ],
   "source": [
    "plot_pacf(tot_train['memF'], lags=40, alpha=0.05,method='ols');"
   ]
  },
  {
   "cell_type": "code",
   "execution_count": 78,
   "metadata": {},
   "outputs": [
    {
     "data": {
      "image/png": "[encoded data removed]",
      "text/plain": [
       "<Figure size 720x360 with 1 Axes>"
      ]
     },
     "metadata": {},
     "output_type": "display_data"
    }
   ],
   "source": [
    "plot_acf(tot_train['memF'], lags=50, alpha=0.02);"
   ]
  },
  {
   "cell_type": "code",
   "execution_count": 79,
   "metadata": {},
   "outputs": [],
   "source": [
    "# Space for futher analysis\n"
   ]
  },
  {
   "cell_type": "markdown",
   "metadata": {},
   "source": [
    "# Understanding cross value lagged correlation\n",
    "Using xcorr to get the idea of lagged dependency among variables"
   ]
  },
  {
   "cell_type": "code",
   "execution_count": 80,
   "metadata": {},
   "outputs": [
    {
     "data": {
      "image/png": "[encoded data removed]",
      "text/plain": [
       "<Figure size 720x360 with 1 Axes>"
      ]
     },
     "metadata": {},
     "output_type": "display_data"
    }
   ],
   "source": [
    "x1 = utilData['cpuF'].to_numpy()\n",
    "x2 = utilData['memF'].to_numpy()\n",
    "plt.xcorr(x1,x2,normed=True,maxlags=200);"
   ]
  },
  {
   "cell_type": "code",
   "execution_count": 81,
   "metadata": {},
   "outputs": [
    {
     "data": {
      "image/png": "[encoded data removed]",
      "text/plain": [
       "<Figure size 720x360 with 1 Axes>"
      ]
     },
     "metadata": {},
     "output_type": "display_data"
    }
   ],
   "source": [
    "x1 = utilData['cpuF'].to_numpy()\n",
    "x2 = utilData['cpuScore'].to_numpy()\n",
    "plt.xcorr(x1,x2,normed=True,maxlags=100);"
   ]
  },
  {
   "cell_type": "code",
   "execution_count": 82,
   "metadata": {},
   "outputs": [
    {
     "data": {
      "image/png": "[encoded data removed]",
      "text/plain": [
       "<Figure size 720x360 with 1 Axes>"
      ]
     },
     "metadata": {},
     "output_type": "display_data"
    }
   ],
   "source": [
    "x1 = utilData['cpuScore'].to_numpy()\n",
    "x2 = utilData['memScore'].to_numpy()\n",
    "plt.xcorr(x1,x2,normed=True,usevlines=True,maxlags=200);"
   ]
  },
  {
   "cell_type": "code",
   "execution_count": 83,
   "metadata": {},
   "outputs": [
    {
     "data": {
      "image/png": "[encoded data removed]",
      "text/plain": [
       "<Figure size 720x360 with 1 Axes>"
      ]
     },
     "metadata": {},
     "output_type": "display_data"
    }
   ],
   "source": [
    "x1 = utilData['memF'].to_numpy()\n",
    "x2 = utilData['memScore'].to_numpy()\n",
    "plt.xcorr(x1,x2,normed=True,maxlags=100);"
   ]
  },
  {
   "cell_type": "code",
   "execution_count": 84,
   "metadata": {},
   "outputs": [
    {
     "data": {
      "image/png": "[encoded data removed]",
      "text/plain": [
       "<Figure size 720x360 with 1 Axes>"
      ]
     },
     "metadata": {},
     "output_type": "display_data"
    }
   ],
   "source": [
    "x1 = utilData['memF'].to_numpy()\n",
    "x2 = utilData['cpuScore'].to_numpy()\n",
    "plt.xcorr(x1,x2,normed=True,usevlines=True,maxlags=100);"
   ]
  },
  {
   "cell_type": "code",
   "execution_count": null,
   "metadata": {},
   "outputs": [],
   "source": []
  },
  {
   "cell_type": "code",
   "execution_count": null,
   "metadata": {},
   "outputs": [],
   "source": [
    "\n"
   ]
  },
  {
   "cell_type": "code",
   "execution_count": null,
   "metadata": {},
   "outputs": [],
   "source": []
  },
  {
   "cell_type": "code",
   "execution_count": null,
   "metadata": {},
   "outputs": [],
   "source": []
  },
  {
   "cell_type": "code",
   "execution_count": null,
   "metadata": {},
   "outputs": [],
   "source": []
  }
 ],
 "metadata": {
  "kernelspec": {
   "display_name": "Python 3",
   "language": "python",
   "name": "python3"
  },
  "language_info": {
   "codemirror_mode": {
    "name": "ipython",
    "version": 3
   },
   "file_extension": ".py",
   "mimetype": "text/x-python",
   "name": "python",
   "nbconvert_exporter": "python",
   "pygments_lexer": "ipython3",
   "version": "3.8.3"
  }
 },
 "nbformat": 4,
 "nbformat_minor": 4
}
