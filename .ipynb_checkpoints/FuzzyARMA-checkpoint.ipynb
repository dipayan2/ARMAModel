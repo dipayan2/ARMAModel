{
 "cells": [
  {
   "cell_type": "code",
   "execution_count": 1,
   "metadata": {},
   "outputs": [],
   "source": [
    "import numpy as np\n",
    "import pandas as pd\n",
    "import matplotlib.pyplot as plt\n",
    "import seaborn as sns\n",
    "from sklearn.metrics import mean_squared_error\n",
    "from statsmodels.tsa.stattools import adfuller\n",
    "from statsmodels.graphics.tsaplots import plot_acf,plot_pacf\n",
    "pd.options.mode.chained_assignment = None  # default='warn'"
   ]
  },
  {
   "cell_type": "code",
   "execution_count": 2,
   "metadata": {},
   "outputs": [],
   "source": [
    "# Other imports"
   ]
  },
  {
   "cell_type": "markdown",
   "metadata": {},
   "source": [
    "# Get Data\n"
   ]
  },
  {
   "cell_type": "code",
   "execution_count": 3,
   "metadata": {},
   "outputs": [],
   "source": [
    "utilData = pd.read_csv('./Util_Run1.csv')\n",
    "utilData['memLoad'] = utilData['memUse']*100/utilData['memTot']\n",
    "utilData['memScore'] = utilData['memLoad']*utilData['memfreq']/825000000\n",
    "utilData['memF'] = utilData['memfreq']*100/825000000\n",
    "utilData['cpuScore'] = utilData['cpuload']*utilData['cpufreq']/1400000\n",
    "utilData['cpuF'] = utilData['cpufreq']*100/1000000"
   ]
  },
  {
   "cell_type": "code",
   "execution_count": 4,
   "metadata": {},
   "outputs": [
    {
     "data": {
      "text/html": [
       "<div>\n",
       "<style scoped>\n",
       "    .dataframe tbody tr th:only-of-type {\n",
       "        vertical-align: middle;\n",
       "    }\n",
       "\n",
       "    .dataframe tbody tr th {\n",
       "        vertical-align: top;\n",
       "    }\n",
       "\n",
       "    .dataframe thead th {\n",
       "        text-align: right;\n",
       "    }\n",
       "</style>\n",
       "<table border=\"1\" class=\"dataframe\">\n",
       "  <thead>\n",
       "    <tr style=\"text-align: right;\">\n",
       "      <th></th>\n",
       "      <th>memUse</th>\n",
       "      <th>memTot</th>\n",
       "      <th>memfreq</th>\n",
       "      <th>cpuid</th>\n",
       "      <th>cpuload</th>\n",
       "      <th>cpufreq</th>\n",
       "      <th>memLoad</th>\n",
       "      <th>memScore</th>\n",
       "      <th>memF</th>\n",
       "      <th>cpuScore</th>\n",
       "      <th>cpuF</th>\n",
       "    </tr>\n",
       "  </thead>\n",
       "  <tbody>\n",
       "    <tr>\n",
       "      <th>0</th>\n",
       "      <td>604872</td>\n",
       "      <td>4612865</td>\n",
       "      <td>165000000</td>\n",
       "      <td>0</td>\n",
       "      <td>31</td>\n",
       "      <td>600000</td>\n",
       "      <td>13.112718</td>\n",
       "      <td>2.622544</td>\n",
       "      <td>20.000000</td>\n",
       "      <td>13.285714</td>\n",
       "      <td>60.0</td>\n",
       "    </tr>\n",
       "    <tr>\n",
       "      <th>1</th>\n",
       "      <td>675</td>\n",
       "      <td>28712</td>\n",
       "      <td>275000000</td>\n",
       "      <td>0</td>\n",
       "      <td>4</td>\n",
       "      <td>200000</td>\n",
       "      <td>2.350933</td>\n",
       "      <td>0.783644</td>\n",
       "      <td>33.333333</td>\n",
       "      <td>0.571429</td>\n",
       "      <td>20.0</td>\n",
       "    </tr>\n",
       "    <tr>\n",
       "      <th>2</th>\n",
       "      <td>1191888</td>\n",
       "      <td>12624777</td>\n",
       "      <td>413000000</td>\n",
       "      <td>0</td>\n",
       "      <td>8</td>\n",
       "      <td>200000</td>\n",
       "      <td>9.440864</td>\n",
       "      <td>4.726154</td>\n",
       "      <td>50.060606</td>\n",
       "      <td>1.142857</td>\n",
       "      <td>20.0</td>\n",
       "    </tr>\n",
       "    <tr>\n",
       "      <th>3</th>\n",
       "      <td>773492</td>\n",
       "      <td>8196989</td>\n",
       "      <td>275000000</td>\n",
       "      <td>0</td>\n",
       "      <td>9</td>\n",
       "      <td>300000</td>\n",
       "      <td>9.436294</td>\n",
       "      <td>3.145431</td>\n",
       "      <td>33.333333</td>\n",
       "      <td>1.928571</td>\n",
       "      <td>30.0</td>\n",
       "    </tr>\n",
       "    <tr>\n",
       "      <th>4</th>\n",
       "      <td>1144</td>\n",
       "      <td>57890</td>\n",
       "      <td>206000000</td>\n",
       "      <td>0</td>\n",
       "      <td>7</td>\n",
       "      <td>300000</td>\n",
       "      <td>1.976162</td>\n",
       "      <td>0.493442</td>\n",
       "      <td>24.969697</td>\n",
       "      <td>1.500000</td>\n",
       "      <td>30.0</td>\n",
       "    </tr>\n",
       "    <tr>\n",
       "      <th>...</th>\n",
       "      <td>...</td>\n",
       "      <td>...</td>\n",
       "      <td>...</td>\n",
       "      <td>...</td>\n",
       "      <td>...</td>\n",
       "      <td>...</td>\n",
       "      <td>...</td>\n",
       "      <td>...</td>\n",
       "      <td>...</td>\n",
       "      <td>...</td>\n",
       "      <td>...</td>\n",
       "    </tr>\n",
       "    <tr>\n",
       "      <th>2669</th>\n",
       "      <td>807320</td>\n",
       "      <td>11546069</td>\n",
       "      <td>413000000</td>\n",
       "      <td>0</td>\n",
       "      <td>4</td>\n",
       "      <td>200000</td>\n",
       "      <td>6.992163</td>\n",
       "      <td>3.500319</td>\n",
       "      <td>50.060606</td>\n",
       "      <td>0.571429</td>\n",
       "      <td>20.0</td>\n",
       "    </tr>\n",
       "    <tr>\n",
       "      <th>2670</th>\n",
       "      <td>195717</td>\n",
       "      <td>2817255</td>\n",
       "      <td>275000000</td>\n",
       "      <td>0</td>\n",
       "      <td>7</td>\n",
       "      <td>300000</td>\n",
       "      <td>6.947081</td>\n",
       "      <td>2.315694</td>\n",
       "      <td>33.333333</td>\n",
       "      <td>1.500000</td>\n",
       "      <td>30.0</td>\n",
       "    </tr>\n",
       "    <tr>\n",
       "      <th>2671</th>\n",
       "      <td>1344</td>\n",
       "      <td>50569</td>\n",
       "      <td>275000000</td>\n",
       "      <td>0</td>\n",
       "      <td>4</td>\n",
       "      <td>300000</td>\n",
       "      <td>2.657755</td>\n",
       "      <td>0.885918</td>\n",
       "      <td>33.333333</td>\n",
       "      <td>0.857143</td>\n",
       "      <td>30.0</td>\n",
       "    </tr>\n",
       "    <tr>\n",
       "      <th>2672</th>\n",
       "      <td>1344</td>\n",
       "      <td>50569</td>\n",
       "      <td>275000000</td>\n",
       "      <td>0</td>\n",
       "      <td>5</td>\n",
       "      <td>300000</td>\n",
       "      <td>2.657755</td>\n",
       "      <td>0.885918</td>\n",
       "      <td>33.333333</td>\n",
       "      <td>1.071429</td>\n",
       "      <td>30.0</td>\n",
       "    </tr>\n",
       "    <tr>\n",
       "      <th>2673</th>\n",
       "      <td>2423</td>\n",
       "      <td>73008</td>\n",
       "      <td>413000000</td>\n",
       "      <td>0</td>\n",
       "      <td>7</td>\n",
       "      <td>300000</td>\n",
       "      <td>3.318814</td>\n",
       "      <td>1.661419</td>\n",
       "      <td>50.060606</td>\n",
       "      <td>1.500000</td>\n",
       "      <td>30.0</td>\n",
       "    </tr>\n",
       "  </tbody>\n",
       "</table>\n",
       "<p>2674 rows × 11 columns</p>\n",
       "</div>"
      ],
      "text/plain": [
       "       memUse    memTot    memfreq  cpuid  cpuload  cpufreq    memLoad  \\\n",
       "0      604872   4612865  165000000      0       31   600000  13.112718   \n",
       "1         675     28712  275000000      0        4   200000   2.350933   \n",
       "2     1191888  12624777  413000000      0        8   200000   9.440864   \n",
       "3      773492   8196989  275000000      0        9   300000   9.436294   \n",
       "4        1144     57890  206000000      0        7   300000   1.976162   \n",
       "...       ...       ...        ...    ...      ...      ...        ...   \n",
       "2669   807320  11546069  413000000      0        4   200000   6.992163   \n",
       "2670   195717   2817255  275000000      0        7   300000   6.947081   \n",
       "2671     1344     50569  275000000      0        4   300000   2.657755   \n",
       "2672     1344     50569  275000000      0        5   300000   2.657755   \n",
       "2673     2423     73008  413000000      0        7   300000   3.318814   \n",
       "\n",
       "      memScore       memF   cpuScore  cpuF  \n",
       "0     2.622544  20.000000  13.285714  60.0  \n",
       "1     0.783644  33.333333   0.571429  20.0  \n",
       "2     4.726154  50.060606   1.142857  20.0  \n",
       "3     3.145431  33.333333   1.928571  30.0  \n",
       "4     0.493442  24.969697   1.500000  30.0  \n",
       "...        ...        ...        ...   ...  \n",
       "2669  3.500319  50.060606   0.571429  20.0  \n",
       "2670  2.315694  33.333333   1.500000  30.0  \n",
       "2671  0.885918  33.333333   0.857143  30.0  \n",
       "2672  0.885918  33.333333   1.071429  30.0  \n",
       "2673  1.661419  50.060606   1.500000  30.0  \n",
       "\n",
       "[2674 rows x 11 columns]"
      ]
     },
     "execution_count": 4,
     "metadata": {},
     "output_type": "execute_result"
    }
   ],
   "source": [
    "# Some data modification\n",
    "utilData"
   ]
  },
  {
   "cell_type": "code",
   "execution_count": 5,
   "metadata": {},
   "outputs": [
    {
     "data": {
      "text/plain": [
       "2674"
      ]
     },
     "execution_count": 5,
     "metadata": {},
     "output_type": "execute_result"
    }
   ],
   "source": [
    "# utilData.shift(1)\n",
    "utilData.shape[0]"
   ]
  },
  {
   "cell_type": "markdown",
   "metadata": {},
   "source": [
    "# Fuzzy AR-MA\n"
   ]
  },
  {
   "cell_type": "code",
   "execution_count": 6,
   "metadata": {},
   "outputs": [],
   "source": [
    "# def ART(p,endog,exog=None,data_weight=None):\n",
    "    \n",
    "#     df = pd.DataFrame()\n",
    "#     df['endog'] = endog\n",
    "#     if exog!= None:\n",
    "#         df['exog'] = exog\n",
    "    \n",
    "    \n",
    "df = pd.DataFrame()\n",
    "df['Weight'] = np.ones(utilData.shape[0])\n",
    "df['Value'] = utilData['cpuScore'].diff(1)\n",
    "# df['Weight'] = np.ones(1000)\n",
    "df['exog'] = utilData['memLoad'].shift(1)\n",
    "# df.iloc[:,1]\n",
    "# df['Weight']"
   ]
  },
  {
   "cell_type": "code",
   "execution_count": 30,
   "metadata": {},
   "outputs": [],
   "source": [
    "from statsmodels.tools.eval_measures import rmspe\n",
    "def FuzzyARX(p,df):\n",
    "    df_temp = pd.DataFrame()\n",
    "    df_temp['Value'] = df['Value']\n",
    "\n",
    "    #Generating the lagged p terms\n",
    "    for i in range(1,p+1):\n",
    "        df_temp['Shifted_values_%d' % i ] = df_temp['Value'].shift(i)    \n",
    "    df_temp['exog'] = df['exog']\n",
    "    df_temp['Weight'] = df['Weight']\n",
    "    train_size = (int)(1.0 * df_temp.shape[0])\n",
    "    #Breaking data set into test and training\n",
    "    df_train = pd.DataFrame(df_temp[0:train_size])\n",
    "#     df_test = pd.DataFrame(df_temp[train_size:df.shape[0]])\n",
    "    df_train_2 = df_train.dropna()\n",
    "    X_train = df_train_2.iloc[:,1:p+2].values.reshape(-1,p+1)\n",
    "    #Y contains the value,it is the first column\n",
    "    y_train = df_train_2.iloc[:,0].values.reshape(-1,1)\n",
    "    print(y_train.shape[0])\n",
    "    sample_weight = df_train_2['Weight'].values\n",
    "    #Running linear regression to generate the coefficents of lagged terms\n",
    "    from sklearn.linear_model import LinearRegression\n",
    "    lr = LinearRegression().fit(X_train,y_train,sample_weight)\n",
    "#     lr.fit(X_train,y_train,sample_weight)\n",
    "    theta  = lr.coef_.T\n",
    "    intercept = lr.intercept_\n",
    "#     df_train_2['Predicted_Values'] = X_train.dot(lr.coef_.T) + lr.intercept_\n",
    "#     df_train_2['Predicted_Values'] = lr.predict(X_train)\n",
    "    # df_train_2[['Value','Predicted_Values']].plot()\n",
    "    print('R-means',lr.score(X_train,y_train),'theta',lr.coef_.T,'const',lr.intercept_)\n",
    "#     X_test = df_test.iloc[:,1:p+2].values.reshape(-1,p+1)\n",
    "#     df_test['Predicted_Values'] = X_test.dot(lr.coef_.T) + lr.intercept_\n",
    "#     df_test['Predicted_Values'] = lr.predict(X_test)\n",
    "    # df_test[['Value','Predicted_Values']].plot()\n",
    "#     RMSE = np.sqrt(mean_squared_error(df_test['Value'], df_test['Predicted_Values']))\n",
    "#     RMSE = rmspe(df_test['Value'],df_test['Predicted_Values'])\n",
    "\n",
    "#     print(\"The RMSE is :\", RMSE,\", Value of p : \",p)\n",
    "#     return [df_train_2,df_test,theta,intercept,RMSE]\n",
    "\n",
    "\n",
    "    \n",
    "    print(X_train)\n",
    "    import statsmodels.api as sm\n",
    "    X_sm = sm.add_constant(X_train)\n",
    "    print(X_sm)\n",
    "#     model = sm.WLS(y_train, X_sm, weights = sample_weight)\n",
    "#     results = model.fit()\n",
    "#     print(results.summary())\n",
    "    return [X_sm,y_train,sample_weight]"
   ]
  },
  {
   "cell_type": "code",
   "execution_count": 31,
   "metadata": {},
   "outputs": [
    {
     "name": "stdout",
     "output_type": "stream",
     "text": [
      "2670\n",
      "R-means 0.06906677933242333 theta [[-0.25608159]\n",
      " [-0.03690105]\n",
      " [-0.03546568]\n",
      " [ 0.045737  ]] const [-0.75122601]\n",
      "[[  0.78571429   0.57142857 -12.71428571   9.43629423]\n",
      " [ -0.42857143   0.78571429   0.57142857   1.97616169]\n",
      " [ -1.07142857  -0.42857143   0.78571429   6.18651917]\n",
      " ...\n",
      " [  0.92857143  -0.71428571   0.42857143   6.94708147]\n",
      " [ -0.64285714   0.92857143  -0.71428571   2.65775475]\n",
      " [  0.21428571  -0.64285714   0.92857143   2.65775475]]\n",
      "[[  1.           0.78571429   0.57142857 -12.71428571   9.43629423]\n",
      " [  1.          -0.42857143   0.78571429   0.57142857   1.97616169]\n",
      " [  1.          -1.07142857  -0.42857143   0.78571429   6.18651917]\n",
      " ...\n",
      " [  1.           0.92857143  -0.71428571   0.42857143   6.94708147]\n",
      " [  1.          -0.64285714   0.92857143  -0.71428571   2.65775475]\n",
      " [  1.           0.21428571  -0.64285714   0.92857143   2.65775475]]\n"
     ]
    }
   ],
   "source": [
    "res = FuzzyARX(3,df)"
   ]
  },
  {
   "cell_type": "code",
   "execution_count": 32,
   "metadata": {},
   "outputs": [
    {
     "data": {
      "text/plain": [
       "array([  1.        ,   0.78571429,   0.57142857, -12.71428571,\n",
       "         9.43629423])"
      ]
     },
     "execution_count": 32,
     "metadata": {},
     "output_type": "execute_result"
    }
   ],
   "source": [
    "X,y,w = res[0],res[1],res[2]\n",
    "X[0]"
   ]
  },
  {
   "cell_type": "code",
   "execution_count": 20,
   "metadata": {},
   "outputs": [
    {
     "data": {
      "text/plain": [
       "[1.0, 0.6, -1.0, 0.9, 7.1]"
      ]
     },
     "execution_count": 20,
     "metadata": {},
     "output_type": "execute_result"
    }
   ],
   "source": [
    "import statsmodels.api as sm\n",
    "model = sm.WLS(y, X,weights = w)\n",
    "results = model.fit()\n",
    "X_t = [1.0, 0.6,  -1.0, 0.9, 7.1]\n",
    "# X_t = np.array(X_t).reshape(-1,4)\n",
    "X_t"
   ]
  },
  {
   "cell_type": "code",
   "execution_count": 11,
   "metadata": {},
   "outputs": [
    {
     "data": {
      "text/plain": [
       "array([[ 1. ,  0.6, -1. ,  0.9,  7.1],\n",
       "       [ 1. ,  0.8, -0. ,  1.9,  7.4]])"
      ]
     },
     "execution_count": 11,
     "metadata": {},
     "output_type": "execute_result"
    }
   ],
   "source": [
    "X_t = sm.add_constant(X_t)\n",
    "X_t"
   ]
  },
  {
   "cell_type": "code",
   "execution_count": 23,
   "metadata": {},
   "outputs": [
    {
     "data": {
      "text/plain": [
       "array([-0.09101062])"
      ]
     },
     "execution_count": 23,
     "metadata": {},
     "output_type": "execute_result"
    }
   ],
   "source": [
    "results.get_prediction(X[0]).predicted_mean"
   ]
  },
  {
   "cell_type": "code",
   "execution_count": 24,
   "metadata": {},
   "outputs": [
    {
     "data": {
      "text/html": [
       "<div>\n",
       "<style scoped>\n",
       "    .dataframe tbody tr th:only-of-type {\n",
       "        vertical-align: middle;\n",
       "    }\n",
       "\n",
       "    .dataframe tbody tr th {\n",
       "        vertical-align: top;\n",
       "    }\n",
       "\n",
       "    .dataframe thead th {\n",
       "        text-align: right;\n",
       "    }\n",
       "</style>\n",
       "<table border=\"1\" class=\"dataframe\">\n",
       "  <thead>\n",
       "    <tr style=\"text-align: right;\">\n",
       "      <th></th>\n",
       "      <th>mean</th>\n",
       "      <th>mean_se</th>\n",
       "      <th>mean_ci_lower</th>\n",
       "      <th>mean_ci_upper</th>\n",
       "      <th>obs_ci_lower</th>\n",
       "      <th>obs_ci_upper</th>\n",
       "    </tr>\n",
       "  </thead>\n",
       "  <tbody>\n",
       "    <tr>\n",
       "      <th>0</th>\n",
       "      <td>-0.57516</td>\n",
       "      <td>0.236685</td>\n",
       "      <td>-0.964608</td>\n",
       "      <td>-0.185713</td>\n",
       "      <td>-19.064038</td>\n",
       "      <td>17.913717</td>\n",
       "    </tr>\n",
       "  </tbody>\n",
       "</table>\n",
       "</div>"
      ],
      "text/plain": [
       "      mean   mean_se  mean_ci_lower  mean_ci_upper  obs_ci_lower  obs_ci_upper\n",
       "0 -0.57516  0.236685      -0.964608      -0.185713    -19.064038     17.913717"
      ]
     },
     "execution_count": 24,
     "metadata": {},
     "output_type": "execute_result"
    }
   ],
   "source": [
    "results.get_prediction(X_t).summary_frame(0.1)"
   ]
  },
  {
   "cell_type": "code",
   "execution_count": 14,
   "metadata": {},
   "outputs": [
    {
     "data": {
      "text/plain": [
       "array([5.37340075e-03, 6.33829807e-39, 6.34255831e-02, 6.58770318e-02,\n",
       "       2.62904968e-06])"
      ]
     },
     "execution_count": 14,
     "metadata": {},
     "output_type": "execute_result"
    }
   ],
   "source": [
    "results.pvalues"
   ]
  },
  {
   "cell_type": "code",
   "execution_count": 15,
   "metadata": {},
   "outputs": [
    {
     "data": {
      "text/plain": [
       "array([-0.75122601, -0.25608159, -0.03690105, -0.03546568,  0.045737  ])"
      ]
     },
     "execution_count": 15,
     "metadata": {},
     "output_type": "execute_result"
    }
   ],
   "source": [
    "results.params"
   ]
  },
  {
   "cell_type": "code",
   "execution_count": 33,
   "metadata": {},
   "outputs": [
    {
     "data": {
      "text/plain": [
       "1.0"
      ]
     },
     "execution_count": 33,
     "metadata": {},
     "output_type": "execute_result"
    }
   ],
   "source": [
    "w[0]"
   ]
  },
  {
   "cell_type": "code",
   "execution_count": 16,
   "metadata": {},
   "outputs": [
    {
     "data": {
      "text/html": [
       "<table class=\"simpletable\">\n",
       "<caption>WLS Regression Results</caption>\n",
       "<tr>\n",
       "  <th>Dep. Variable:</th>            <td>y</td>        <th>  R-squared:         </th> <td>   0.069</td> \n",
       "</tr>\n",
       "<tr>\n",
       "  <th>Model:</th>                   <td>WLS</td>       <th>  Adj. R-squared:    </th> <td>   0.068</td> \n",
       "</tr>\n",
       "<tr>\n",
       "  <th>Method:</th>             <td>Least Squares</td>  <th>  F-statistic:       </th> <td>   49.43</td> \n",
       "</tr>\n",
       "<tr>\n",
       "  <th>Date:</th>             <td>Tue, 18 Jul 2023</td> <th>  Prob (F-statistic):</th> <td>3.57e-40</td> \n",
       "</tr>\n",
       "<tr>\n",
       "  <th>Time:</th>                 <td>14:49:30</td>     <th>  Log-Likelihood:    </th> <td> -10245.</td> \n",
       "</tr>\n",
       "<tr>\n",
       "  <th>No. Observations:</th>      <td>  2670</td>      <th>  AIC:               </th> <td>2.050e+04</td>\n",
       "</tr>\n",
       "<tr>\n",
       "  <th>Df Residuals:</th>          <td>  2665</td>      <th>  BIC:               </th> <td>2.053e+04</td>\n",
       "</tr>\n",
       "<tr>\n",
       "  <th>Df Model:</th>              <td>     4</td>      <th>                     </th>     <td> </td>    \n",
       "</tr>\n",
       "<tr>\n",
       "  <th>Covariance Type:</th>      <td>nonrobust</td>    <th>                     </th>     <td> </td>    \n",
       "</tr>\n",
       "</table>\n",
       "<table class=\"simpletable\">\n",
       "<tr>\n",
       "    <td></td>       <th>coef</th>     <th>std err</th>      <th>t</th>      <th>P>|t|</th>  <th>[0.025</th>    <th>0.975]</th>  \n",
       "</tr>\n",
       "<tr>\n",
       "  <th>const</th> <td>   -0.7512</td> <td>    0.270</td> <td>   -2.786</td> <td> 0.005</td> <td>   -1.280</td> <td>   -0.223</td>\n",
       "</tr>\n",
       "<tr>\n",
       "  <th>x1</th>    <td>   -0.2561</td> <td>    0.019</td> <td>  -13.263</td> <td> 0.000</td> <td>   -0.294</td> <td>   -0.218</td>\n",
       "</tr>\n",
       "<tr>\n",
       "  <th>x2</th>    <td>   -0.0369</td> <td>    0.020</td> <td>   -1.857</td> <td> 0.063</td> <td>   -0.076</td> <td>    0.002</td>\n",
       "</tr>\n",
       "<tr>\n",
       "  <th>x3</th>    <td>   -0.0355</td> <td>    0.019</td> <td>   -1.840</td> <td> 0.066</td> <td>   -0.073</td> <td>    0.002</td>\n",
       "</tr>\n",
       "<tr>\n",
       "  <th>x4</th>    <td>    0.0457</td> <td>    0.010</td> <td>    4.708</td> <td> 0.000</td> <td>    0.027</td> <td>    0.065</td>\n",
       "</tr>\n",
       "</table>\n",
       "<table class=\"simpletable\">\n",
       "<tr>\n",
       "  <th>Omnibus:</th>       <td>903.824</td> <th>  Durbin-Watson:     </th> <td>   2.005</td> \n",
       "</tr>\n",
       "<tr>\n",
       "  <th>Prob(Omnibus):</th> <td> 0.000</td>  <th>  Jarque-Bera (JB):  </th> <td>80741.570</td>\n",
       "</tr>\n",
       "<tr>\n",
       "  <th>Skew:</th>          <td>-0.646</td>  <th>  Prob(JB):          </th> <td>    0.00</td> \n",
       "</tr>\n",
       "<tr>\n",
       "  <th>Kurtosis:</th>      <td>29.909</td>  <th>  Cond. No.          </th> <td>    34.5</td> \n",
       "</tr>\n",
       "</table><br/><br/>Notes:<br/>[1] Standard Errors assume that the covariance matrix of the errors is correctly specified."
      ],
      "text/latex": [
       "\\begin{center}\n",
       "\\begin{tabular}{lclc}\n",
       "\\toprule\n",
       "\\textbf{Dep. Variable:}    &        y         & \\textbf{  R-squared:         } &     0.069   \\\\\n",
       "\\textbf{Model:}            &       WLS        & \\textbf{  Adj. R-squared:    } &     0.068   \\\\\n",
       "\\textbf{Method:}           &  Least Squares   & \\textbf{  F-statistic:       } &     49.43   \\\\\n",
       "\\textbf{Date:}             & Tue, 18 Jul 2023 & \\textbf{  Prob (F-statistic):} &  3.57e-40   \\\\\n",
       "\\textbf{Time:}             &     14:49:30     & \\textbf{  Log-Likelihood:    } &   -10245.   \\\\\n",
       "\\textbf{No. Observations:} &        2670      & \\textbf{  AIC:               } & 2.050e+04   \\\\\n",
       "\\textbf{Df Residuals:}     &        2665      & \\textbf{  BIC:               } & 2.053e+04   \\\\\n",
       "\\textbf{Df Model:}         &           4      & \\textbf{                     } &             \\\\\n",
       "\\textbf{Covariance Type:}  &    nonrobust     & \\textbf{                     } &             \\\\\n",
       "\\bottomrule\n",
       "\\end{tabular}\n",
       "\\begin{tabular}{lcccccc}\n",
       "               & \\textbf{coef} & \\textbf{std err} & \\textbf{t} & \\textbf{P$> |$t$|$} & \\textbf{[0.025} & \\textbf{0.975]}  \\\\\n",
       "\\midrule\n",
       "\\textbf{const} &      -0.7512  &        0.270     &    -2.786  &         0.005        &       -1.280    &       -0.223     \\\\\n",
       "\\textbf{x1}    &      -0.2561  &        0.019     &   -13.263  &         0.000        &       -0.294    &       -0.218     \\\\\n",
       "\\textbf{x2}    &      -0.0369  &        0.020     &    -1.857  &         0.063        &       -0.076    &        0.002     \\\\\n",
       "\\textbf{x3}    &      -0.0355  &        0.019     &    -1.840  &         0.066        &       -0.073    &        0.002     \\\\\n",
       "\\textbf{x4}    &       0.0457  &        0.010     &     4.708  &         0.000        &        0.027    &        0.065     \\\\\n",
       "\\bottomrule\n",
       "\\end{tabular}\n",
       "\\begin{tabular}{lclc}\n",
       "\\textbf{Omnibus:}       & 903.824 & \\textbf{  Durbin-Watson:     } &     2.005  \\\\\n",
       "\\textbf{Prob(Omnibus):} &   0.000 & \\textbf{  Jarque-Bera (JB):  } & 80741.570  \\\\\n",
       "\\textbf{Skew:}          &  -0.646 & \\textbf{  Prob(JB):          } &      0.00  \\\\\n",
       "\\textbf{Kurtosis:}      &  29.909 & \\textbf{  Cond. No.          } &      34.5  \\\\\n",
       "\\bottomrule\n",
       "\\end{tabular}\n",
       "%\\caption{WLS Regression Results}\n",
       "\\end{center}\n",
       "\n",
       "Notes: \\newline\n",
       " [1] Standard Errors assume that the covariance matrix of the errors is correctly specified."
      ],
      "text/plain": [
       "<class 'statsmodels.iolib.summary.Summary'>\n",
       "\"\"\"\n",
       "                            WLS Regression Results                            \n",
       "==============================================================================\n",
       "Dep. Variable:                      y   R-squared:                       0.069\n",
       "Model:                            WLS   Adj. R-squared:                  0.068\n",
       "Method:                 Least Squares   F-statistic:                     49.43\n",
       "Date:                Tue, 18 Jul 2023   Prob (F-statistic):           3.57e-40\n",
       "Time:                        14:49:30   Log-Likelihood:                -10245.\n",
       "No. Observations:                2670   AIC:                         2.050e+04\n",
       "Df Residuals:                    2665   BIC:                         2.053e+04\n",
       "Df Model:                           4                                         \n",
       "Covariance Type:            nonrobust                                         \n",
       "==============================================================================\n",
       "                 coef    std err          t      P>|t|      [0.025      0.975]\n",
       "------------------------------------------------------------------------------\n",
       "const         -0.7512      0.270     -2.786      0.005      -1.280      -0.223\n",
       "x1            -0.2561      0.019    -13.263      0.000      -0.294      -0.218\n",
       "x2            -0.0369      0.020     -1.857      0.063      -0.076       0.002\n",
       "x3            -0.0355      0.019     -1.840      0.066      -0.073       0.002\n",
       "x4             0.0457      0.010      4.708      0.000       0.027       0.065\n",
       "==============================================================================\n",
       "Omnibus:                      903.824   Durbin-Watson:                   2.005\n",
       "Prob(Omnibus):                  0.000   Jarque-Bera (JB):            80741.570\n",
       "Skew:                          -0.646   Prob(JB):                         0.00\n",
       "Kurtosis:                      29.909   Cond. No.                         34.5\n",
       "==============================================================================\n",
       "\n",
       "Notes:\n",
       "[1] Standard Errors assume that the covariance matrix of the errors is correctly specified.\n",
       "\"\"\""
      ]
     },
     "execution_count": 16,
     "metadata": {},
     "output_type": "execute_result"
    }
   ],
   "source": [
    "results.summary()"
   ]
  },
  {
   "cell_type": "code",
   "execution_count": 17,
   "metadata": {},
   "outputs": [
    {
     "name": "stdout",
     "output_type": "stream",
     "text": [
      "2669\n",
      "R-means 0.06906691127357123 theta [[-0.25609964]\n",
      " [-0.03692193]\n",
      " [-0.03561794]\n",
      " [-0.00055564]\n",
      " [ 0.04572275]] const [-0.75086811]\n",
      "[[ -0.42857143   0.78571429   0.57142857 -12.71428571   1.97616169]\n",
      " [ -1.07142857  -0.42857143   0.78571429   0.57142857   6.18651917]\n",
      " [  0.64285714  -1.07142857  -0.42857143   0.78571429  10.52235157]\n",
      " ...\n",
      " [  0.92857143  -0.71428571   0.42857143  -0.64285714   6.94708147]\n",
      " [ -0.64285714   0.92857143  -0.71428571   0.42857143   2.65775475]\n",
      " [  0.21428571  -0.64285714   0.92857143  -0.71428571   2.65775475]]\n",
      "[[  1.          -0.42857143   0.78571429   0.57142857 -12.71428571\n",
      "    1.97616169]\n",
      " [  1.          -1.07142857  -0.42857143   0.78571429   0.57142857\n",
      "    6.18651917]\n",
      " [  1.           0.64285714  -1.07142857  -0.42857143   0.78571429\n",
      "   10.52235157]\n",
      " ...\n",
      " [  1.           0.92857143  -0.71428571   0.42857143  -0.64285714\n",
      "    6.94708147]\n",
      " [  1.          -0.64285714   0.92857143  -0.71428571   0.42857143\n",
      "    2.65775475]\n",
      " [  1.           0.21428571  -0.64285714   0.92857143  -0.71428571\n",
      "    2.65775475]]\n"
     ]
    }
   ],
   "source": [
    "val = FuzzyARX(4,df)"
   ]
  },
  {
   "cell_type": "code",
   "execution_count": 18,
   "metadata": {},
   "outputs": [
    {
     "name": "stdout",
     "output_type": "stream",
     "text": [
      "2669\n",
      "R-means 0.06906691127357123 theta [[-0.25609964]\n",
      " [-0.03692193]\n",
      " [-0.03561794]\n",
      " [-0.00055564]\n",
      " [ 0.04572275]] const [-0.75086811]\n",
      "[[ -0.42857143   0.78571429   0.57142857 -12.71428571   1.97616169]\n",
      " [ -1.07142857  -0.42857143   0.78571429   0.57142857   6.18651917]\n",
      " [  0.64285714  -1.07142857  -0.42857143   0.78571429  10.52235157]\n",
      " ...\n",
      " [  0.92857143  -0.71428571   0.42857143  -0.64285714   6.94708147]\n",
      " [ -0.64285714   0.92857143  -0.71428571   0.42857143   2.65775475]\n",
      " [  0.21428571  -0.64285714   0.92857143  -0.71428571   2.65775475]]\n",
      "[[  1.          -0.42857143   0.78571429   0.57142857 -12.71428571\n",
      "    1.97616169]\n",
      " [  1.          -1.07142857  -0.42857143   0.78571429   0.57142857\n",
      "    6.18651917]\n",
      " [  1.           0.64285714  -1.07142857  -0.42857143   0.78571429\n",
      "   10.52235157]\n",
      " ...\n",
      " [  1.           0.92857143  -0.71428571   0.42857143  -0.64285714\n",
      "    6.94708147]\n",
      " [  1.          -0.64285714   0.92857143  -0.71428571   0.42857143\n",
      "    2.65775475]\n",
      " [  1.           0.21428571  -0.64285714   0.92857143  -0.71428571\n",
      "    2.65775475]]\n"
     ]
    }
   ],
   "source": [
    "val = FuzzyARX(4,df)"
   ]
  },
  {
   "cell_type": "code",
   "execution_count": 19,
   "metadata": {},
   "outputs": [
    {
     "name": "stdout",
     "output_type": "stream",
     "text": [
      "2669\n",
      "R-means 0.06906691127357123 theta [[-0.25609964]\n",
      " [-0.03692193]\n",
      " [-0.03561794]\n",
      " [-0.00055564]\n",
      " [ 0.04572275]] const [-0.75086811]\n",
      "[[ -0.42857143   0.78571429   0.57142857 -12.71428571   1.97616169]\n",
      " [ -1.07142857  -0.42857143   0.78571429   0.57142857   6.18651917]\n",
      " [  0.64285714  -1.07142857  -0.42857143   0.78571429  10.52235157]\n",
      " ...\n",
      " [  0.92857143  -0.71428571   0.42857143  -0.64285714   6.94708147]\n",
      " [ -0.64285714   0.92857143  -0.71428571   0.42857143   2.65775475]\n",
      " [  0.21428571  -0.64285714   0.92857143  -0.71428571   2.65775475]]\n",
      "[[  1.          -0.42857143   0.78571429   0.57142857 -12.71428571\n",
      "    1.97616169]\n",
      " [  1.          -1.07142857  -0.42857143   0.78571429   0.57142857\n",
      "    6.18651917]\n",
      " [  1.           0.64285714  -1.07142857  -0.42857143   0.78571429\n",
      "   10.52235157]\n",
      " ...\n",
      " [  1.           0.92857143  -0.71428571   0.42857143  -0.64285714\n",
      "    6.94708147]\n",
      " [  1.          -0.64285714   0.92857143  -0.71428571   0.42857143\n",
      "    2.65775475]\n",
      " [  1.           0.21428571  -0.64285714   0.92857143  -0.71428571\n",
      "    2.65775475]]\n"
     ]
    }
   ],
   "source": [
    "val = FuzzyARX(4,df)"
   ]
  },
  {
   "cell_type": "code",
   "execution_count": null,
   "metadata": {},
   "outputs": [],
   "source": []
  }
 ],
 "metadata": {
  "kernelspec": {
   "display_name": "Python 3",
   "language": "python",
   "name": "python3"
  },
  "language_info": {
   "codemirror_mode": {
    "name": "ipython",
    "version": 3
   },
   "file_extension": ".py",
   "mimetype": "text/x-python",
   "name": "python",
   "nbconvert_exporter": "python",
   "pygments_lexer": "ipython3",
   "version": "3.8.3"
  }
 },
 "nbformat": 4,
 "nbformat_minor": 4
}
