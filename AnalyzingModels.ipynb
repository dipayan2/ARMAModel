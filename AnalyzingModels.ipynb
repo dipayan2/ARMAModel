{
 "cells": [
  {
   "cell_type": "code",
   "execution_count": 1,
   "id": "e53d823b-64c2-4066-b8e8-153de198a728",
   "metadata": {},
   "outputs": [],
   "source": [
    "#Headers for the analysis\n",
    "import numpy as np\n",
    "import matplotlib.pyplot as plt\n",
    "import pandas as pd\n",
    "pd.set_option(\"mode.chained_assignment\", None)\n",
    "from sklearn.preprocessing import StandardScaler\n",
    "from sklearn.svm import SVR\n",
    "from sklearn.multioutput import MultiOutputRegressor\n",
    "import skfuzzy as fuzz\n",
    "import statsmodels.api as sm\n",
    "import numpy as np\n",
    "import pandas as pd\n",
    "import math\n",
    "from sklearn.metrics import mean_squared_error\n",
    "from sklearn.preprocessing import StandardScaler\n",
    "\n",
    "import matplotlib.pyplot as plt\n",
    "from sklearn.svm import SVR"
   ]
  },
  {
   "cell_type": "code",
   "execution_count": 2,
   "id": "281f2c69-616b-487b-b40e-ca9c14cedaea",
   "metadata": {},
   "outputs": [],
   "source": [
    "#Filler functions\n",
    "def rmse(predictions, targets):\n",
    "    return np.sqrt(mean_squared_error(targets, predictions))#, squared=False)\n",
    "# Fixed values for the device, not going to change based on our requirement\n",
    "\n",
    "freq_dict = {}\n",
    "freq_dict['gFreq'] = [177000000,266000000,350000000,420000000,480000000,600000000]\n",
    "freq_dict['mFreq'] = [165000000,206000000,275000000,413000000,543000000,633000000,728000000,825000000]#,933000000]\n",
    "freq_dict['sFreq'] = [200000,300000,400000,500000,600000,700000,800000,900000,1000000,1100000,1200000,1300000,1400000]\n",
    "freq_dict['bFreq'] = [200000,300000,400000,500000,600000,700000,800000,900000,1000000,1100000,1200000,1300000,1400000,1500000,1600000,1700000,1800000,1900000,2000000]\n",
    "# cost_list =['cCost','mCost','gCost']\n",
    "cFreq = 'bFreq'\n",
    "mFreq = 'mFreq'\n",
    "gFreq = 'gFreq'\n",
    "\n",
    "cost2FMap = {}\n",
    "cost2FMap['cCost'] = 'bFreq'\n",
    "cost2FMap['mCost'] = 'mFreq'\n",
    "cost2FMap['gCost'] = 'gFreq'\n",
    "\n",
    "## Function to extract the files and send a dataframe\n",
    "\n",
    "def extractDatafromFile(fileName='./UtilTestFinal',padding=0): ## Generally make the padding 0\n",
    "    new_data = pd.read_csv(fileName)\n",
    "    #### This part needs to be \n",
    "    if padding == 1:  # if there is not \n",
    "        new_data['cCost'] =  new_data['bUtil']*new_data['bFreq']/2000000\n",
    "        new_data['mCost'] = new_data['mUtil']*new_data['mFreq']/825000000\n",
    "        new_data['gCost'] = 0\n",
    "        new_data['gFreq'] = 600000000\n",
    "\n",
    "    return new_data\n",
    "\n",
    "#extractDatafromFile()\n",
    "# Getting the exog list for analysis\n",
    "\n",
    "def getExog(endog='cCost'):\n",
    "    cost_list =['cCost','mCost','gCost']\n",
    "    if endog not in cost_list:\n",
    "        print(\"Incorrect Value\")\n",
    "        return None,None\n",
    "    else:\n",
    "        my_list = []\n",
    "        for res in cost_list:\n",
    "            if res != endog:\n",
    "                my_list.append(res)\n",
    "        return my_list[0],my_list[1]\n",
    "\n",
    "# getExog('gCost')\n",
    "\n",
    "## Function to shift the data, enabling testing and trainig\n",
    "\n",
    "def createRequiredDataSet(input_df,endog,shiftAR,shiftARX):\n",
    "    modified_df = pd.DataFrame()\n",
    "    ## Get the exog values\n",
    "    exog,exog1 = getExog(endog)\n",
    "    modified_df = input_df[[endog,exog,exog1]]\n",
    "    # Shifting the endog data\n",
    "    for i in range(1,shiftAR+1):\n",
    "        modified_df['%s_%d'%(endog,i)] = modified_df[endog].shift(i)\n",
    "\n",
    "    # Shifting the exog and exog1 data\n",
    "    modified_df[exog] = modified_df[exog].shift(1)\n",
    "    modified_df[exog1] = modified_df[exog1].shift(1)\n",
    "\n",
    "    for i in range(1,shiftARX+1):\n",
    "        modified_df['%s_%d'%(exog,i)] = modified_df[exog].shift(i+1)\n",
    "        modified_df['%s_%d'%(exog1,i)] = modified_df[exog1].shift(i+1)\n",
    "\n",
    "    # Adding the frequency stuff\n",
    "    modified_df[cFreq] = input_df[cFreq] \n",
    "    modified_df[mFreq] = input_df[mFreq] \n",
    "    modified_df[gFreq] = input_df[gFreq] \n",
    "    modified_df = modified_df.dropna()\n",
    "    return modified_df\n",
    "\n",
    "\n",
    "## Test_train divide\n",
    "\n",
    "def test_train_split(input_df,trainIDX,testIDX,perc=0.8):\n",
    "    totalLen = len(input_df)\n",
    "    if trainIDX == -1 or testIDX == -1:\n",
    "        trainIDX = int(perc*totalLen)\n",
    "        testIDX = int(perc*totalLen)\n",
    "    train_df = input_df.iloc[:trainIDX,:]\n",
    "    test_df = input_df.iloc[testIDX:,:]\n",
    "    return train_df,test_df\n",
    "\n",
    "\n",
    "## get the matrices for training, we are assuming that 0 is the y value and the rest are x, we can choose to skip few columns\n",
    "\n",
    "def getYXData(input_df,ignoreCols=0):\n",
    "    totalLen = len(input_df.columns)\n",
    "    y_data = input_df.iloc[:,0].to_numpy()\n",
    "    x_data = input_df.iloc[:,1:totalLen-ignoreCols].to_numpy()\n",
    "    return y_data,x_data\n",
    "\n",
    "\n",
    "def train_Cluster(data, n_cluster = 5):\n",
    "    # print(\"The stats of the training data: features {} and size {}\".format(len(data[0]), len(data)))\n",
    "    cntr, u, u0, d, jm, p, fpc = fuzz.cluster.cmeans(data.T, n_cluster, 2, error=0.005, maxiter=1000, init=None, seed = 0)\n",
    "    # print(\"The centroid values are \\n {}\".format(cntr))\n",
    "    return cntr,u\n",
    "\n",
    "\n",
    "def simple_train(yData, xData, weight=None):\n",
    "    if weight is None:\n",
    "        weight = np.ones(len(yData))\n",
    "\n",
    "    new_x = sm.add_constant(xData)\n",
    "    model = sm.WLS(yData,new_x,weights=weight)\n",
    "    result = model.fit()\n",
    "    return result\n",
    "\n",
    "\n",
    "\n",
    "def simple_test_single(model, xData):\n",
    "    newX = [1.0]\n",
    "    newX.extend(xData)\n",
    "    y_pred = model.get_prediction(newX).predicted_mean\n",
    "    return y_pred\n",
    "\n",
    "def getSingleCluster(data, cntr):\n",
    "    ut,u0t,dt,jmt,pt,fpct = fuzz.cluster.cmeans_predict(np.array([data]).T,cntr,2,error=0.005,maxiter=1000,init=None,seed=0)\n",
    "    return ut\n",
    "\n",
    "\n",
    "def prediction(model,x,cluster):\n",
    "    ## get cluster\n",
    "    N_CLUST = len(model)\n",
    "    prob_d = getSingleCluster(x,cluster).T[0]\n",
    "    y = []\n",
    "    for i in range(N_CLUST):\n",
    "        ys = simple_test_single(model[i],x)\n",
    "        y.append(ys*prob_d[i])\n",
    "    my_pred = min(sum(y)[0],100.0)\n",
    "    return my_pred\n",
    "\n",
    "\n",
    "# Prediction of just simple Mean\n",
    "def prediction_mean(x,hist):\n",
    "    ## get cluster\n",
    "    # N_CLUST = len(model)\n",
    "    # prob_d = getSingleCluster(x,cluster).T[0]\n",
    "    # y = []\n",
    "    # for i in range(N_CLUST):\n",
    "    #     ys = simple_test_single(model[i],x)\n",
    "    #     y.append(ys*prob_d[i])\n",
    "    my_pred = np.mean(x[:hist])\n",
    "    return my_pred"
   ]
  },
  {
   "cell_type": "code",
   "execution_count": 3,
   "id": "5da749f7-cc4d-4572-aa9a-a45555f5a165",
   "metadata": {},
   "outputs": [],
   "source": [
    "def getPredF(est_util, act_util, freq_list):\n",
    "    eff_u = -1\n",
    "    max_f = max(freq_list)\n",
    "    est_freq = max_f\n",
    "    for f in freq_list:\n",
    "        eff_u = est_util * max_f/f\n",
    "        if eff_u <=100 or f == max_f:\n",
    "            eff_y = act_util * max_f/f\n",
    "            return f,eff_u,eff_y\n",
    "    return max_f,-1,-1\n",
    "def energy_perf_analysis(y_act,y_est,act_freq,endog, details=False):\n",
    "    eff_util = []\n",
    "    est_freq = []\n",
    "    possible_freq_config = freq_dict[cost2FMap[endog]] ## list of all possible frequency in increasing order\n",
    "    LEN = len(y_act)\n",
    "    energy_save = 0.\n",
    "    for idx in range(LEN):\n",
    "        pred_f, eff_u, eff_y = getPredF(y_est[idx],y_act[idx],possible_freq_config)\n",
    "        eff_util.append(eff_y)\n",
    "        est_freq.append(pred_f)\n",
    "        # print(pred_f, act_freq[idx])\n",
    "        energy_save += math.ceil(eff_y/100.) * (pred_f/act_freq[idx])**2\n",
    "        \n",
    "        \n",
    "    stall = (sum( i > 100 for i in eff_util ) * 100) / LEN\n",
    "    energy_ratio = 1.0 - (energy_save/LEN)\n",
    "    if details:\n",
    "        return stall, energy_ratio, est_freq, eff_util\n",
    "    return stall, energy_ratio\n",
    "\n",
    "    \n",
    "        \n",
    "    \n",
    "    \n",
    "    "
   ]
  },
  {
   "cell_type": "code",
   "execution_count": null,
   "id": "d9c63d06-a535-4dba-87bf-ee6bfe306647",
   "metadata": {},
   "outputs": [],
   "source": []
  },
  {
   "cell_type": "code",
   "execution_count": null,
   "id": "b3812f4b-c82a-4007-a185-571ede4c6210",
   "metadata": {},
   "outputs": [],
   "source": []
  },
  {
   "cell_type": "code",
   "execution_count": 4,
   "id": "f7dd4536-8d85-458e-ba46-7b4b17611bd7",
   "metadata": {},
   "outputs": [
    {
     "name": "stderr",
     "output_type": "stream",
     "text": [
      "2024-07-17 12:24:28.107459: I tensorflow/core/util/port.cc:111] oneDNN custom operations are on. You may see slightly different numerical results due to floating-point round-off errors from different computation orders. To turn them off, set the environment variable `TF_ENABLE_ONEDNN_OPTS=0`.\n",
      "2024-07-17 12:24:28.128133: E tensorflow/compiler/xla/stream_executor/cuda/cuda_dnn.cc:9342] Unable to register cuDNN factory: Attempting to register factory for plugin cuDNN when one has already been registered\n",
      "2024-07-17 12:24:28.128150: E tensorflow/compiler/xla/stream_executor/cuda/cuda_fft.cc:609] Unable to register cuFFT factory: Attempting to register factory for plugin cuFFT when one has already been registered\n",
      "2024-07-17 12:24:28.128164: E tensorflow/compiler/xla/stream_executor/cuda/cuda_blas.cc:1518] Unable to register cuBLAS factory: Attempting to register factory for plugin cuBLAS when one has already been registered\n",
      "2024-07-17 12:24:28.132195: I tensorflow/core/platform/cpu_feature_guard.cc:182] This TensorFlow binary is optimized to use available CPU instructions in performance-critical operations.\n",
      "To enable the following instructions: AVX2 AVX_VNNI FMA, in other operations, rebuild TensorFlow with the appropriate compiler flags.\n",
      "2024-07-17 12:24:28.851305: I tensorflow/compiler/xla/stream_executor/cuda/cuda_gpu_executor.cc:894] successful NUMA node read from SysFS had negative value (-1), but there must be at least one NUMA node, so returning NUMA node zero. See more at https://github.com/torvalds/linux/blob/v6.0/Documentation/ABI/testing/sysfs-bus-pci#L344-L355\n",
      "2024-07-17 12:24:28.854220: I tensorflow/compiler/xla/stream_executor/cuda/cuda_gpu_executor.cc:894] successful NUMA node read from SysFS had negative value (-1), but there must be at least one NUMA node, so returning NUMA node zero. See more at https://github.com/torvalds/linux/blob/v6.0/Documentation/ABI/testing/sysfs-bus-pci#L344-L355\n",
      "2024-07-17 12:24:28.854311: I tensorflow/compiler/xla/stream_executor/cuda/cuda_gpu_executor.cc:894] successful NUMA node read from SysFS had negative value (-1), but there must be at least one NUMA node, so returning NUMA node zero. See more at https://github.com/torvalds/linux/blob/v6.0/Documentation/ABI/testing/sysfs-bus-pci#L344-L355\n"
     ]
    }
   ],
   "source": [
    "##n imports\n",
    "\n",
    "from numpy import array\n",
    "import tensorflow as tf\n",
    "physical_devices = tf.config.list_physical_devices('GPU')\n",
    "tf.config.experimental.set_memory_growth(physical_devices[0], enable=True)\n",
    "from keras.layers import Dense, LSTM\n",
    "from keras.models import Sequential\n",
    "from keras.layers import Input\n",
    "\n",
    "## Lets do univariate models\n",
    "\n",
    "\n",
    "def getUnivariateDataSplit(listData, shiftAR=8): # This will create a new df so that we can run the LSTM\n",
    "    modified_df = pd.DataFrame()\n",
    "    modified_df['endog'] = listData\n",
    "    for i in range(1,shiftAR+1):\n",
    "        modified_df['endog_%d'%(i)] = modified_df['endog'].shift(i)\n",
    "        \n",
    "    modified_df = modified_df.dropna()\n",
    "    return modified_df\n",
    "    \n",
    "\n",
    "    \n",
    "\n",
    "\n",
    "# def LSTM(x_train,y_train,x_test,y_test):\n",
    "#     pass\n",
    "\n"
   ]
  },
  {
   "cell_type": "code",
   "execution_count": 9,
   "id": "aaf6823b-4dbf-426e-ba76-65e2a9b5a80b",
   "metadata": {},
   "outputs": [
    {
     "data": {
      "text/plain": [
       "<keras.src.callbacks.History at 0x7f9c80293040>"
      ]
     },
     "execution_count": 9,
     "metadata": {},
     "output_type": "execute_result"
    }
   ],
   "source": [
    "my_test = extractDatafromFile('./UtilTestFinal',1)\n",
    "MyData = getUnivariateDataSplit(my_test['cCost'].to_numpy(), shiftAR=8)\n",
    "train_df,test_df = test_train_split(MyData,trainIDX=5000,testIDX=5000,perc=0.0)\n",
    "y_train,x_train = getYXData(train_df)\n",
    "y_test,x_test = getYXData(test_df)\n",
    "#Reshape the data\n",
    "x_train = x_train.reshape(x_train.shape[0], x_train.shape[1],1)\n",
    "x_test = x_test.reshape(x_test.shape[0], x_test.shape[1],1)\n",
    "#LSTM \n",
    "n_steps = x_train.shape[1]\n",
    "n_features = 1\n",
    "# define model\n",
    "model = Sequential()\n",
    "model.add(LSTM(50, input_shape=(n_steps, n_features)))\n",
    "model.add(Dense(1))\n",
    "model.compile(optimizer='adam', loss='mse')\n",
    "# fit model\n",
    "model.fit(x_train, y_train, epochs=25, verbose=0)"
   ]
  },
  {
   "cell_type": "code",
   "execution_count": 10,
   "id": "b003197a-9772-455c-8615-6436a0653e54",
   "metadata": {},
   "outputs": [
    {
     "data": {
      "text/plain": [
       "6.0440663690707"
      ]
     },
     "execution_count": 10,
     "metadata": {},
     "output_type": "execute_result"
    }
   ],
   "source": [
    "x_test_T = x_test[:2000]\n",
    "x_test_r = x_test_T.reshape(2000,n_steps,1)\n",
    "yhat = model.predict(x_test_r, verbose=0)\n",
    "# yhat\n",
    "# yhat = np.array(yhat)\n",
    "yOut = yhat.reshape(-1)\n",
    "# yOut\n",
    "rmse(yOut,y_test[:2000])"
   ]
  },
  {
   "cell_type": "code",
   "execution_count": null,
   "id": "cba309f1-6f53-4dfc-872b-939b2f02b663",
   "metadata": {},
   "outputs": [],
   "source": [
    "## A different LSTM modeling ... with Conv Neural Network \n",
    "\n",
    "# Steps -- try to get the pipeline running....\n",
    "\n",
    "\n",
    "\n",
    "\n"
   ]
  },
  {
   "cell_type": "code",
   "execution_count": 5,
   "id": "abe340cf-3fcb-4246-becf-0d89f7a7373c",
   "metadata": {},
   "outputs": [
    {
     "data": {
      "text/html": [
       "<style>#sk-container-id-1 {color: black;}#sk-container-id-1 pre{padding: 0;}#sk-container-id-1 div.sk-toggleable {background-color: white;}#sk-container-id-1 label.sk-toggleable__label {cursor: pointer;display: block;width: 100%;margin-bottom: 0;padding: 0.3em;box-sizing: border-box;text-align: center;}#sk-container-id-1 label.sk-toggleable__label-arrow:before {content: \"▸\";float: left;margin-right: 0.25em;color: #696969;}#sk-container-id-1 label.sk-toggleable__label-arrow:hover:before {color: black;}#sk-container-id-1 div.sk-estimator:hover label.sk-toggleable__label-arrow:before {color: black;}#sk-container-id-1 div.sk-toggleable__content {max-height: 0;max-width: 0;overflow: hidden;text-align: left;background-color: #f0f8ff;}#sk-container-id-1 div.sk-toggleable__content pre {margin: 0.2em;color: black;border-radius: 0.25em;background-color: #f0f8ff;}#sk-container-id-1 input.sk-toggleable__control:checked~div.sk-toggleable__content {max-height: 200px;max-width: 100%;overflow: auto;}#sk-container-id-1 input.sk-toggleable__control:checked~label.sk-toggleable__label-arrow:before {content: \"▾\";}#sk-container-id-1 div.sk-estimator input.sk-toggleable__control:checked~label.sk-toggleable__label {background-color: #d4ebff;}#sk-container-id-1 div.sk-label input.sk-toggleable__control:checked~label.sk-toggleable__label {background-color: #d4ebff;}#sk-container-id-1 input.sk-hidden--visually {border: 0;clip: rect(1px 1px 1px 1px);clip: rect(1px, 1px, 1px, 1px);height: 1px;margin: -1px;overflow: hidden;padding: 0;position: absolute;width: 1px;}#sk-container-id-1 div.sk-estimator {font-family: monospace;background-color: #f0f8ff;border: 1px dotted black;border-radius: 0.25em;box-sizing: border-box;margin-bottom: 0.5em;}#sk-container-id-1 div.sk-estimator:hover {background-color: #d4ebff;}#sk-container-id-1 div.sk-parallel-item::after {content: \"\";width: 100%;border-bottom: 1px solid gray;flex-grow: 1;}#sk-container-id-1 div.sk-label:hover label.sk-toggleable__label {background-color: #d4ebff;}#sk-container-id-1 div.sk-serial::before {content: \"\";position: absolute;border-left: 1px solid gray;box-sizing: border-box;top: 0;bottom: 0;left: 50%;z-index: 0;}#sk-container-id-1 div.sk-serial {display: flex;flex-direction: column;align-items: center;background-color: white;padding-right: 0.2em;padding-left: 0.2em;position: relative;}#sk-container-id-1 div.sk-item {position: relative;z-index: 1;}#sk-container-id-1 div.sk-parallel {display: flex;align-items: stretch;justify-content: center;background-color: white;position: relative;}#sk-container-id-1 div.sk-item::before, #sk-container-id-1 div.sk-parallel-item::before {content: \"\";position: absolute;border-left: 1px solid gray;box-sizing: border-box;top: 0;bottom: 0;left: 50%;z-index: -1;}#sk-container-id-1 div.sk-parallel-item {display: flex;flex-direction: column;z-index: 1;position: relative;background-color: white;}#sk-container-id-1 div.sk-parallel-item:first-child::after {align-self: flex-end;width: 50%;}#sk-container-id-1 div.sk-parallel-item:last-child::after {align-self: flex-start;width: 50%;}#sk-container-id-1 div.sk-parallel-item:only-child::after {width: 0;}#sk-container-id-1 div.sk-dashed-wrapped {border: 1px dashed gray;margin: 0 0.4em 0.5em 0.4em;box-sizing: border-box;padding-bottom: 0.4em;background-color: white;}#sk-container-id-1 div.sk-label label {font-family: monospace;font-weight: bold;display: inline-block;line-height: 1.2em;}#sk-container-id-1 div.sk-label-container {text-align: center;}#sk-container-id-1 div.sk-container {/* jupyter's `normalize.less` sets `[hidden] { display: none; }` but bootstrap.min.css set `[hidden] { display: none !important; }` so we also need the `!important` here to be able to override the default hidden behavior on the sphinx rendered scikit-learn.org. See: https://github.com/scikit-learn/scikit-learn/issues/21755 */display: inline-block !important;position: relative;}#sk-container-id-1 div.sk-text-repr-fallback {display: none;}</style><div id=\"sk-container-id-1\" class=\"sk-top-container\"><div class=\"sk-text-repr-fallback\"><pre>SVR()</pre><b>In a Jupyter environment, please rerun this cell to show the HTML representation or trust the notebook. <br />On GitHub, the HTML representation is unable to render, please try loading this page with nbviewer.org.</b></div><div class=\"sk-container\" hidden><div class=\"sk-item\"><div class=\"sk-estimator sk-toggleable\"><input class=\"sk-toggleable__control sk-hidden--visually\" id=\"sk-estimator-id-1\" type=\"checkbox\" checked><label for=\"sk-estimator-id-1\" class=\"sk-toggleable__label sk-toggleable__label-arrow\">SVR</label><div class=\"sk-toggleable__content\"><pre>SVR()</pre></div></div></div></div></div>"
      ],
      "text/plain": [
       "SVR()"
      ]
     },
     "execution_count": 5,
     "metadata": {},
     "output_type": "execute_result"
    }
   ],
   "source": [
    "## LSTM Modeling....\n",
    "\n",
    "my_test = extractDatafromFile('./UtilTestFinal',1)\n",
    "Mod = createRequiredDataSet(my_test,endog='mCost',shiftAR=8,shiftARX=3)\n",
    "train_df,test_df = test_train_split(Mod,trainIDX=5000,testIDX=7500,perc=0.0)\n",
    "y_train,x_train = getYXData(train_df,ignoreCols=3)\n",
    "y_test,x_test = getYXData(test_df,ignoreCols=3)\n",
    "\n",
    "\n",
    "## This might not be the best data respresentation, but we will get into it if requried.\n",
    "\n",
    "## Train the SVR\n",
    "TEST_LEN = 500\n",
    "\n",
    "\n",
    "scaler = StandardScaler().fit(x_train)\n",
    "X_train_scaled = scaler.transform(x_train)\n",
    "X_test_scaled = scaler.transform(x_test)\n",
    "\n",
    "X_test_scaled_T = X_test_scaled[:TEST_LEN]\n",
    "\n",
    "\n",
    "svr_rbf = SVR(kernel = 'rbf')\n",
    "svr_rbf.fit(X_train_scaled, y_train)"
   ]
  },
  {
   "cell_type": "code",
   "execution_count": 6,
   "id": "2f8457b6-36c3-491a-9cd0-6bb62732c94e",
   "metadata": {},
   "outputs": [
    {
     "data": {
      "text/html": [
       "<style>#sk-container-id-2 {color: black;}#sk-container-id-2 pre{padding: 0;}#sk-container-id-2 div.sk-toggleable {background-color: white;}#sk-container-id-2 label.sk-toggleable__label {cursor: pointer;display: block;width: 100%;margin-bottom: 0;padding: 0.3em;box-sizing: border-box;text-align: center;}#sk-container-id-2 label.sk-toggleable__label-arrow:before {content: \"▸\";float: left;margin-right: 0.25em;color: #696969;}#sk-container-id-2 label.sk-toggleable__label-arrow:hover:before {color: black;}#sk-container-id-2 div.sk-estimator:hover label.sk-toggleable__label-arrow:before {color: black;}#sk-container-id-2 div.sk-toggleable__content {max-height: 0;max-width: 0;overflow: hidden;text-align: left;background-color: #f0f8ff;}#sk-container-id-2 div.sk-toggleable__content pre {margin: 0.2em;color: black;border-radius: 0.25em;background-color: #f0f8ff;}#sk-container-id-2 input.sk-toggleable__control:checked~div.sk-toggleable__content {max-height: 200px;max-width: 100%;overflow: auto;}#sk-container-id-2 input.sk-toggleable__control:checked~label.sk-toggleable__label-arrow:before {content: \"▾\";}#sk-container-id-2 div.sk-estimator input.sk-toggleable__control:checked~label.sk-toggleable__label {background-color: #d4ebff;}#sk-container-id-2 div.sk-label input.sk-toggleable__control:checked~label.sk-toggleable__label {background-color: #d4ebff;}#sk-container-id-2 input.sk-hidden--visually {border: 0;clip: rect(1px 1px 1px 1px);clip: rect(1px, 1px, 1px, 1px);height: 1px;margin: -1px;overflow: hidden;padding: 0;position: absolute;width: 1px;}#sk-container-id-2 div.sk-estimator {font-family: monospace;background-color: #f0f8ff;border: 1px dotted black;border-radius: 0.25em;box-sizing: border-box;margin-bottom: 0.5em;}#sk-container-id-2 div.sk-estimator:hover {background-color: #d4ebff;}#sk-container-id-2 div.sk-parallel-item::after {content: \"\";width: 100%;border-bottom: 1px solid gray;flex-grow: 1;}#sk-container-id-2 div.sk-label:hover label.sk-toggleable__label {background-color: #d4ebff;}#sk-container-id-2 div.sk-serial::before {content: \"\";position: absolute;border-left: 1px solid gray;box-sizing: border-box;top: 0;bottom: 0;left: 50%;z-index: 0;}#sk-container-id-2 div.sk-serial {display: flex;flex-direction: column;align-items: center;background-color: white;padding-right: 0.2em;padding-left: 0.2em;position: relative;}#sk-container-id-2 div.sk-item {position: relative;z-index: 1;}#sk-container-id-2 div.sk-parallel {display: flex;align-items: stretch;justify-content: center;background-color: white;position: relative;}#sk-container-id-2 div.sk-item::before, #sk-container-id-2 div.sk-parallel-item::before {content: \"\";position: absolute;border-left: 1px solid gray;box-sizing: border-box;top: 0;bottom: 0;left: 50%;z-index: -1;}#sk-container-id-2 div.sk-parallel-item {display: flex;flex-direction: column;z-index: 1;position: relative;background-color: white;}#sk-container-id-2 div.sk-parallel-item:first-child::after {align-self: flex-end;width: 50%;}#sk-container-id-2 div.sk-parallel-item:last-child::after {align-self: flex-start;width: 50%;}#sk-container-id-2 div.sk-parallel-item:only-child::after {width: 0;}#sk-container-id-2 div.sk-dashed-wrapped {border: 1px dashed gray;margin: 0 0.4em 0.5em 0.4em;box-sizing: border-box;padding-bottom: 0.4em;background-color: white;}#sk-container-id-2 div.sk-label label {font-family: monospace;font-weight: bold;display: inline-block;line-height: 1.2em;}#sk-container-id-2 div.sk-label-container {text-align: center;}#sk-container-id-2 div.sk-container {/* jupyter's `normalize.less` sets `[hidden] { display: none; }` but bootstrap.min.css set `[hidden] { display: none !important; }` so we also need the `!important` here to be able to override the default hidden behavior on the sphinx rendered scikit-learn.org. See: https://github.com/scikit-learn/scikit-learn/issues/21755 */display: inline-block !important;position: relative;}#sk-container-id-2 div.sk-text-repr-fallback {display: none;}</style><div id=\"sk-container-id-2\" class=\"sk-top-container\"><div class=\"sk-text-repr-fallback\"><pre>SVR()</pre><b>In a Jupyter environment, please rerun this cell to show the HTML representation or trust the notebook. <br />On GitHub, the HTML representation is unable to render, please try loading this page with nbviewer.org.</b></div><div class=\"sk-container\" hidden><div class=\"sk-item\"><div class=\"sk-estimator sk-toggleable\"><input class=\"sk-toggleable__control sk-hidden--visually\" id=\"sk-estimator-id-2\" type=\"checkbox\" checked><label for=\"sk-estimator-id-2\" class=\"sk-toggleable__label sk-toggleable__label-arrow\">SVR</label><div class=\"sk-toggleable__content\"><pre>SVR()</pre></div></div></div></div></div>"
      ],
      "text/plain": [
       "SVR()"
      ]
     },
     "execution_count": 6,
     "metadata": {},
     "output_type": "execute_result"
    }
   ],
   "source": [
    "my_test = extractDatafromFile('./UtilTestFinal',1)\n",
    "Mod = createRequiredDataSet(my_test,endog='cCost',shiftAR=8,shiftARX=3)\n",
    "train_df,test_df = test_train_split(Mod,trainIDX=5000,testIDX=7500,perc=0.0)\n",
    "y_train,x_train = getYXData(train_df,ignoreCols=3)\n",
    "y_test,x_test = getYXData(test_df,ignoreCols=3)\n",
    "\n",
    "## Train the SVR\n",
    "TEST_LEN = 500\n",
    "\n",
    "\n",
    "scaler = StandardScaler().fit(x_train)\n",
    "X_train_scaled = scaler.transform(x_train)\n",
    "X_test_scaled = scaler.transform(x_test)\n",
    "\n",
    "X_test_scaled_T = X_test_scaled[:TEST_LEN]\n",
    "\n",
    "\n",
    "svr_rbf = SVR(kernel = 'rbf')\n",
    "svr_rbf.fit(X_train_scaled, y_train)\n",
    "    "
   ]
  },
  {
   "cell_type": "code",
   "execution_count": null,
   "id": "d402cf2e-70ae-4895-a20d-d5aa2bf19358",
   "metadata": {},
   "outputs": [],
   "source": []
  },
  {
   "cell_type": "code",
   "execution_count": 7,
   "id": "08ea3005-e539-482c-9615-0c23ef219155",
   "metadata": {},
   "outputs": [
    {
     "data": {
      "text/plain": [
       "array([98.21208256, 98.21208256, 97.71160807, 97.22031932, 96.29375703,\n",
       "       96.75733741, 96.41729684, 97.15077651, 97.1614227 , 97.98618067,\n",
       "       98.48208049, 98.96255794, 98.21208256, 98.21208256, 97.71160807,\n",
       "       96.75293238, 96.29375703, 95.95599925, 95.62413956, 96.48436685,\n",
       "       96.48436685, 97.31229197, 98.14545513, 98.96255794, 98.21208256,\n",
       "       98.21208256, 97.71160807, 96.75293238, 96.29375703, 96.41729684,\n",
       "       96.80954054, 96.82374264, 97.65378071, 98.48208049, 98.96255794,\n",
       "       97.73799984, 97.73799984, 97.364991  , 96.53923495, 95.63920018,\n",
       "       96.82912565, 96.81479848, 97.42856454, 97.7161715 , 98.53731825,\n",
       "       98.7547116 , 97.73799984, 98.21208256, 97.364991  , 96.41460018,\n",
       "       95.97089408, 96.41729684, 96.08312039, 96.09790057, 97.1614227 ,\n",
       "       97.49102016, 97.98618067, 97.73793   , 98.21208256, 97.71160807,\n",
       "       96.75293238, 96.29375703, 96.41729684, 96.08312039, 96.82374264,\n",
       "       97.1614227 , 97.98618067, 98.48208049, 98.96255794, 97.73799984,\n",
       "       97.73799984, 96.89654083, 96.53923495, 95.76207994, 96.49311825,\n",
       "       36.32728988, 14.14771001,  9.29283043,  9.10775491,  7.03709519,\n",
       "        8.13754599,  9.57863808,  2.74349236,  2.53267953,  2.37764991,\n",
       "        2.50502382,  2.61837248,  2.68827546,  2.43871054,  2.79484426,\n",
       "        2.39868881,  2.73612365,  2.60439118,  2.67463033,  2.49024012,\n",
       "        2.51605661,  2.94056696,  3.04623594,  2.80747531,  2.37236632,\n",
       "        2.75709036,  2.14135367,  2.57963241,  2.45885084,  2.38939532,\n",
       "        2.70057916,  2.70249155,  2.63919385,  2.48207481,  2.80885309,\n",
       "        2.37497987,  2.53846682,  2.42320614,  2.97412661,  2.66795601,\n",
       "        2.20110264,  2.49073232,  2.40354462,  2.2810685 ,  2.66801456,\n",
       "        2.85065394,  2.7344056 ,  2.52318845,  2.81690454,  2.26404035,\n",
       "        2.70505839,  2.5551899 ,  2.6543031 ,  2.39554831,  2.55064308,\n",
       "        2.63882168,  2.47808531,  2.40908194,  2.64946268,  2.53703417,\n",
       "        2.58947866,  2.67286788,  2.74629509,  2.55194321,  2.68364379,\n",
       "        2.58960095,  2.68250689,  2.35096505,  2.63094801,  2.60087109,\n",
       "        2.75731851,  2.73435389,  2.474987  ,  2.41320926,  2.58991308,\n",
       "        2.50450709,  2.53281528,  2.78939731,  2.599807  ,  2.42988918,\n",
       "        2.57791223,  2.47375423,  2.4615849 ,  2.61558635,  2.81162787,\n",
       "        2.4604684 ,  2.79704321,  2.50520467,  2.58086421,  2.42652812,\n",
       "        2.42474577,  2.69419596,  2.46049136,  2.7697041 ,  2.8705042 ,\n",
       "        2.62238218,  2.41070815,  2.62882645,  2.30020111,  2.40350841,\n",
       "        2.61317223,  2.71418114,  2.61714574,  2.41471244,  2.37378262,\n",
       "        2.51300787,  2.28890772,  2.59865889,  2.60526587,  2.81253769,\n",
       "        2.89677652,  2.50935568,  3.05884034,  2.40449051,  2.25333062,\n",
       "        2.36565912,  2.6040821 ,  2.70877515,  2.83040348,  2.45630716,\n",
       "        2.44117832,  2.56913694,  2.30852171,  2.40924413,  2.34280261,\n",
       "        2.66402594,  2.35577083,  2.48722272,  2.58405598,  2.27261206,\n",
       "        2.62593499,  2.59160962,  2.69404317,  2.70755866,  2.80526119,\n",
       "        2.20068539,  2.72253019,  2.52298496,  2.44883409,  2.93488431,\n",
       "        2.65697403,  2.35826781,  2.7678244 ,  2.40783326,  2.67318881,\n",
       "        2.41591353,  2.6404551 ,  2.40481185,  2.67979808,  2.59884375,\n",
       "        2.35387332,  2.77262794,  2.49574128,  2.30828433,  2.87737889,\n",
       "        2.64444041,  2.68587306,  2.57925951,  2.63572619,  2.66805527,\n",
       "        2.79844036,  2.69652118,  2.55634594,  2.42001494,  2.65699481,\n",
       "        2.19714126,  2.44793931,  2.4835551 ,  2.61936947,  2.6692742 ,\n",
       "        2.41095798,  2.75779985,  2.63582976,  2.7985304 ,  2.46524798,\n",
       "        2.34027458,  2.58427159,  2.40266025,  2.45051089,  2.64661892,\n",
       "        2.46032104,  2.54104272,  2.63454159,  2.39586771,  2.44842643,\n",
       "        2.52065462,  2.5486149 ,  2.64805524,  2.62451824,  2.64944665,\n",
       "        2.43484609,  2.63297645,  2.19636712,  2.30485933,  2.8598505 ,\n",
       "        2.60828897,  2.78265271,  2.57560703,  2.56257689,  2.39410633,\n",
       "        2.46452977,  2.29882103,  2.68149628,  2.67075596,  2.73437449,\n",
       "        2.63210601,  2.70871877,  2.55531189,  2.69439042,  2.41153375,\n",
       "        2.68375252,  2.36421986,  2.71185982,  2.57006803,  2.35516352,\n",
       "        2.68680873,  2.44993184,  2.60056632,  2.38668105,  2.93814065,\n",
       "        2.57859758,  2.25524305,  2.77626644,  2.4310257 ,  2.56490042,\n",
       "        2.42988379,  2.72539238,  2.58178979,  2.5285062 ,  2.71591263,\n",
       "        3.48406472,  4.32122999,  3.41443639,  2.18937786,  3.29317132,\n",
       "        2.14456174,  2.14588276,  2.12635755,  2.60263997,  2.67543065,\n",
       "        2.97153161,  2.72290523,  2.39000246,  2.63969459,  2.30956774,\n",
       "        2.23188703,  2.51190673,  2.80436611,  2.61023764,  2.67294302,\n",
       "        2.75414731,  2.56864084,  2.36781576,  2.55586438,  2.35831056,\n",
       "        2.59184182,  2.6340644 ,  2.65200269,  2.42713227,  2.71820578,\n",
       "        2.5169904 ,  2.53459526,  2.35980874,  2.62934051,  2.61738787,\n",
       "        2.4567037 ,  2.7865795 ,  2.39290584,  2.94011708,  2.60598985,\n",
       "        2.28573462,  2.63968211,  2.41770119,  2.73713444,  2.52159252,\n",
       "        2.65708613,  2.87788167,  2.58545911,  2.4962503 ,  2.51263535,\n",
       "        2.70880142,  2.6924572 ,  2.65308066,  2.38735445,  2.69141374,\n",
       "        2.53598575,  2.43424812,  2.55694846,  2.29226525,  2.7934023 ,\n",
       "        2.76123279,  2.77385151,  2.29272018,  2.95652618,  2.48004285,\n",
       "        2.40840554,  2.63846905,  2.39637072,  2.73849281,  2.46523036,\n",
       "        2.40212897,  2.41143173,  2.56906357,  2.47875061,  2.69072419,\n",
       "        2.51289781,  2.51036531,  2.76452053,  2.2285127 ,  2.58533395,\n",
       "        2.82700718,  2.64587296,  2.55525793,  2.67378035,  2.67300442,\n",
       "        2.77124278,  2.53554146,  2.97339878,  2.57004328,  2.42222491,\n",
       "        2.49590194,  2.34108677,  2.37584702,  2.64634628,  2.44897208,\n",
       "        2.98336798,  2.50703164,  2.54205209,  2.42205557,  2.3943784 ,\n",
       "        2.21236497,  2.71474995,  2.73634572,  3.15556379,  2.81460369,\n",
       "        2.51680141,  2.37212148,  2.34811594,  2.56540467,  2.45710359,\n",
       "        2.53185011,  2.65257784,  2.7665191 ,  2.80159158,  2.52219464,\n",
       "       25.89626827, 30.30707254, 18.85764607,  8.45093601,  8.00860437,\n",
       "        6.79121243,  4.81509548,  3.87864429,  3.34551014,  2.57454714,\n",
       "        2.33556123,  2.37352298,  2.79544463,  2.47305878,  2.33290015,\n",
       "        2.92970061,  2.4885001 ,  2.37021885,  2.60301597,  2.58210898,\n",
       "        2.57554066,  2.51676779,  2.91700898,  2.4697455 ,  2.29327007,\n",
       "        2.71114145,  2.45491602,  2.59231122,  2.37009091,  2.7696878 ,\n",
       "        2.4330907 ,  2.63533972,  2.69267737,  2.54895811,  2.4212086 ,\n",
       "        2.72424782,  2.54773116,  2.52726825,  2.73453246,  2.82509942,\n",
       "        2.7031485 ,  2.4024036 ,  2.79313354,  2.53852278,  2.61505735,\n",
       "        3.07717586,  3.06375209,  2.24218801,  2.31604884,  2.49130376,\n",
       "        2.06246053,  2.26797918,  2.65723515,  2.75031206,  2.3695251 ,\n",
       "        2.61628979,  2.55694885,  2.59069464,  2.65788965,  2.50064682,\n",
       "        2.74825702,  2.54338433,  2.60920475,  2.51225753,  2.47190362,\n",
       "        2.56871321,  2.5674106 ,  2.52892088,  2.54682872,  2.74898263,\n",
       "        2.53253521,  2.52828226,  2.68367949,  2.59650308,  2.46820416,\n",
       "        2.64400062,  2.65433836,  2.55169445,  2.4735857 ,  2.80283394])"
      ]
     },
     "execution_count": 7,
     "metadata": {},
     "output_type": "execute_result"
    }
   ],
   "source": [
    "svr_rbf.predict(X_test_scaled_T)"
   ]
  },
  {
   "cell_type": "code",
   "execution_count": 8,
   "id": "0705d049-a51f-4d4d-b722-cf55bbc94d1e",
   "metadata": {},
   "outputs": [
    {
     "data": {
      "text/plain": [
       "array([100.  , 100.  , 100.  , 100.  , 100.  , 100.  , 100.  , 100.  ,\n",
       "       100.  , 100.  , 100.  , 100.  , 100.  , 100.  , 100.  , 100.  ,\n",
       "       100.  , 100.  , 100.  , 100.  , 100.  , 100.  , 100.  , 100.  ,\n",
       "       100.  , 100.  , 100.  , 100.  , 100.  , 100.  , 100.  , 100.  ,\n",
       "       100.  , 100.  , 100.  , 100.  , 100.  , 100.  , 100.  , 100.  ,\n",
       "       100.  , 100.  , 100.  , 100.  , 100.  , 100.  , 100.  , 100.  ,\n",
       "       100.  , 100.  , 100.  , 100.  , 100.  , 100.  , 100.  , 100.  ,\n",
       "       100.  , 100.  , 100.  , 100.  , 100.  , 100.  , 100.  , 100.  ,\n",
       "       100.  , 100.  , 100.  , 100.  , 100.  , 100.  , 100.  , 100.  ,\n",
       "       100.  , 100.  ,   0.75,   1.8 ,   2.4 ,   4.25,   2.4 ,   2.4 ,\n",
       "         4.5 ,   1.2 ,   2.  ,   2.  ,   4.25,   1.8 ,   3.5 ,   2.  ,\n",
       "         2.  ,   2.2 ,   2.6 ,   2.4 ,   1.8 ,   1.8 ,   2.7 ,   7.5 ,\n",
       "         2.4 ,   4.5 ,   2.  ,   2.  ,   4.25,   2.  ,   2.  ,   2.6 ,\n",
       "         4.5 ,   1.8 ,   4.75,   2.  ,   4.25,   1.8 ,   1.8 ,   6.6 ,\n",
       "         3.75,   1.8 ,   2.6 ,   2.2 ,   1.8 ,   1.8 ,   6.  ,   1.2 ,\n",
       "         4.5 ,   2.  ,   1.8 ,   2.2 ,   3.5 ,   2.8 ,   2.2 ,   2.4 ,\n",
       "         3.5 ,   2.  ,   2.  ,   1.8 ,   1.8 ,   1.8 ,   3.75,   2.2 ,\n",
       "         3.5 ,   1.2 ,   3.75,   2.4 ,   2.4 ,   2.2 ,   2.2 ,   4.25,\n",
       "         3.5 ,   2.2 ,   2.2 ,   2.6 ,   2.2 ,   2.75,   4.  ,   2.4 ,\n",
       "         2.6 ,   2.6 ,   2.6 ,   1.2 ,   4.5 ,   2.  ,   4.  ,   3.2 ,\n",
       "         2.4 ,   4.  ,   1.2 ,   2.6 ,   2.6 ,   2.4 ,   3.6 ,   6.  ,\n",
       "         2.2 ,   2.6 ,   3.5 ,   2.  ,   2.6 ,   3.75,   3.75,   4.5 ,\n",
       "         1.8 ,   2.4 ,   1.8 ,   2.4 ,   2.4 ,   2.4 ,   6.6 ,   2.2 ,\n",
       "         4.5 ,   4.5 ,   3.5 ,   2.  ,   2.6 ,   2.6 ,   6.  ,   6.  ,\n",
       "         2.6 ,   4.  ,   2.2 ,   4.25,   2.6 ,   3.25,   4.  ,   1.8 ,\n",
       "         3.5 ,   1.8 ,   2.2 ,   2.75,   3.75,   1.2 ,   6.  ,   2.2 ,\n",
       "         1.05,   4.5 ,   1.05,   2.1 ,   6.3 ,   1.2 ,   4.  ,   1.8 ,\n",
       "         3.5 ,   2.2 ,   2.6 ,   2.  ,   2.  ,   4.  ,   2.  ,   2.  ,\n",
       "         3.75,   1.2 ,   2.2 ,   2.2 ,   4.75,   3.5 ,   2.  ,   2.6 ,\n",
       "         3.25,   3.75,   6.3 ,   1.8 ,   3.5 ,   3.5 ,   2.2 ,   2.6 ,\n",
       "         2.  ,   4.  ,   2.  ,   3.5 ,   2.4 ,   3.6 ,   6.  ,   2.6 ,\n",
       "         2.4 ,   3.5 ,   2.6 ,   3.75,   3.75,   2.4 ,   2.6 ,   3.5 ,\n",
       "         2.6 ,   2.4 ,   2.6 ,   3.5 ,   3.5 ,   4.  ,   2.2 ,   3.5 ,\n",
       "         3.75,   1.2 ,   2.6 ,   2.6 ,   4.75,   2.4 ,   3.5 ,   1.8 ,\n",
       "         2.6 ,   2.6 ,   2.2 ,   2.2 ,   3.5 ,   2.6 ,   4.  ,   2.  ,\n",
       "         4.5 ,   2.2 ,   4.5 ,   2.4 ,   2.4 ,   4.75,   2.2 ,   3.75,\n",
       "         1.2 ,   4.5 ,   2.2 ,   2.2 ,   6.  ,   1.8 ,   2.4 ,   2.2 ,\n",
       "         3.75,   1.8 ,   1.8 ,   4.5 ,   1.05,   4.25,   1.2 ,   2.4 ,\n",
       "        16.65,   3.75,   3.75,   3.5 ,   3.5 ,   1.2 ,   2.  ,   2.  ,\n",
       "         3.  ,   6.6 ,   2.2 ,   2.6 ,   3.75,   2.  ,   1.2 ,   2.4 ,\n",
       "         3.75,   2.6 ,   2.6 ,   4.5 ,   2.2 ,   3.5 ,   2.6 ,   2.6 ,\n",
       "         1.8 ,   4.75,   2.6 ,   2.6 ,   2.6 ,   3.5 ,   2.4 ,   1.8 ,\n",
       "         3.75,   0.9 ,   4.5 ,   1.8 ,   1.8 ,   6.3 ,   2.  ,   1.8 ,\n",
       "         1.8 ,   2.2 ,   4.  ,   2.  ,   2.  ,   3.5 ,   3.75,   1.8 ,\n",
       "         2.4 ,   2.4 ,   4.5 ,   3.5 ,   2.2 ,   3.75,   2.  ,   4.5 ,\n",
       "         1.8 ,   1.8 ,   1.8 ,   6.6 ,   2.2 ,   2.4 ,   4.25,   2.4 ,\n",
       "         3.75,   2.  ,   3.5 ,   3.5 ,   3.75,   1.8 ,   2.  ,   2.6 ,\n",
       "         2.6 ,   4.75,   1.05,   2.6 ,   4.75,   2.  ,   2.  ,   4.5 ,\n",
       "         1.8 ,   2.4 ,   1.8 ,   3.75,   1.8 ,   4.25,   4.25,   4.  ,\n",
       "         3.5 ,   3.75,   1.8 ,   3.5 ,   1.05,   4.5 ,   4.5 ,   4.25,\n",
       "         1.8 ,   2.2 ,   2.2 ,   3.5 ,   2.2 ,   3.75,   4.5 ,   4.5 ,\n",
       "         4.5 ,   2.  ,   2.4 ,   3.75,   3.75,   3.5 ,   2.4 ,   6.9 ,\n",
       "         2.4 ,   6.6 ,   6.6 ,  73.1 ,  40.3 ,   1.05,   4.5 ,   4.5 ,\n",
       "         4.25,   2.6 ,   2.6 ,   4.  ,   1.8 ,   2.2 ,   6.  ,   1.8 ,\n",
       "         1.8 ,   4.5 ,   2.2 ,   2.6 ,   2.2 ,   4.  ,   2.2 ,   2.2 ,\n",
       "         6.  ,   1.2 ,   2.6 ,   2.  ,   3.75,   2.  ,   2.6 ,   2.6 ,\n",
       "         2.  ,   2.  ,   4.25,   2.  ,   2.2 ,   2.4 ,   2.6 ,   2.2 ,\n",
       "         2.2 ,   6.  ,   1.8 ,   2.2 ,   4.  ,   3.5 ,   2.  ,   7.5 ,\n",
       "         7.5 ,   1.8 ,   3.75,   2.6 ,   1.8 ,   1.2 ,   4.  ,   3.75,\n",
       "         2.2 ,   1.8 ,   1.8 ,   3.75,   2.2 ,   3.5 ,   2.  ,   2.4 ,\n",
       "         3.5 ,   2.  ,   2.2 ,   2.2 ,   3.5 ,   2.2 ,   2.2 ,   3.75,\n",
       "         2.  ,   2.  ,   4.  ,   1.8 ,   2.  ,   2.6 ,   3.75,   1.8 ,\n",
       "         2.25,   4.75,   2.6 ,   3.5 ])"
      ]
     },
     "execution_count": 8,
     "metadata": {},
     "output_type": "execute_result"
    }
   ],
   "source": [
    "y_test[:TEST_LEN]"
   ]
  },
  {
   "cell_type": "code",
   "execution_count": null,
   "id": "43915738-23ad-45f7-aa4e-266b14462d4a",
   "metadata": {},
   "outputs": [],
   "source": []
  },
  {
   "cell_type": "code",
   "execution_count": null,
   "id": "4d84aa4b-6be5-47c8-a841-85ff22102922",
   "metadata": {},
   "outputs": [],
   "source": []
  },
  {
   "cell_type": "code",
   "execution_count": null,
   "id": "2d7423b8-d43c-498a-a685-a89d06b9a209",
   "metadata": {},
   "outputs": [],
   "source": []
  },
  {
   "cell_type": "markdown",
   "id": "040d5c7a-5e13-452f-b2fb-31333198dc74",
   "metadata": {},
   "source": [
    "# Pipelined Approach "
   ]
  },
  {
   "cell_type": "code",
   "execution_count": 9,
   "id": "5ac5f757-65dc-4504-b054-308644fe8a06",
   "metadata": {},
   "outputs": [],
   "source": [
    "def ModelPipeline_LSTM(fileName,padding=0,endog='cCost',Kernel='rbf',N_CLUST=5,shiftAR=5,shiftARX=3,trainIDX=5000,testIDX=5000,TEST_LEN = 50, energy=True):\n",
    "    pass"
   ]
  },
  {
   "cell_type": "code",
   "execution_count": null,
   "id": "28e99dba-6566-4927-b744-61d21366b02a",
   "metadata": {},
   "outputs": [],
   "source": []
  },
  {
   "cell_type": "code",
   "execution_count": 43,
   "id": "4088a786-e3f4-494f-b9ba-a52881521385",
   "metadata": {},
   "outputs": [],
   "source": [
    "def ModelPipeline_SVR(fileName,padding=0,endog='cCost',Kernel='rbf',N_CLUST=5,shiftAR=5,shiftARX=3,trainIDX=5000,testIDX=5000,TEST_LEN = 50, energy=True):\n",
    "    my_test = extractDatafromFile(fileName,padding) # set to 1 for most of the data, unless no GPU present\n",
    "    Mod = createRequiredDataSet(my_test,endog,shiftAR,shiftARX)\n",
    "    train_df,test_df = test_train_split(Mod,trainIDX,testIDX,perc=0.0)\n",
    "    y_train,x_train = getYXData(train_df,ignoreCols=3)\n",
    "    y_test,x_test = getYXData(test_df,ignoreCols=3)\n",
    "    ### Get the clusters\n",
    "    # cluster_center,prob = train_Cluster(x_train[:,:],n_cluster = N_CLUST)\n",
    "    ### Train the Model\n",
    "    scaler = StandardScaler().fit(x_train)\n",
    "    X_train_scaled = scaler.transform(x_train)\n",
    "    X_test_scaled = scaler.transform(x_test)\n",
    "    svr = SVR(kernel = Kernel)\n",
    "    svr.fit(X_train_scaled, y_train)\n",
    "    # model = []\n",
    "    # for i in range(N_CLUST):\n",
    "    #     out_model = simple_train(y_train,x_train,weight = prob[i,:])\n",
    "    #     model.append(out_model)\n",
    "\n",
    "    ### Test the models\n",
    "    ys_actual = y_test[:TEST_LEN]\n",
    "    X_test_scaled_T = X_test_scaled[:TEST_LEN]\n",
    "    ys_est = svr.predict(X_test_scaled_T)\n",
    "    # ys_est = []\n",
    "    # for id in range(TEST_LEN):\n",
    "    #     predVal = prediction(model,x_test[id],cluster_center)\n",
    "    #     ys_est.append(predVal)\n",
    "    # print(cost2FMap[endog])        \n",
    "    if energy:\n",
    "        ys_freq = test_df[cost2FMap[endog]].to_numpy()[:TEST_LEN] # the actual frequency we observed\n",
    "        ##  Do something with energy values and frequency values\n",
    "        stall, energy, est_freq, eff_util  = energy_perf_analysis(ys_actual,ys_est,ys_freq,endog,details=True)\n",
    "        return ys_est,ys_actual,rmse(ys_est,ys_actual), est_freq, ys_freq, eff_util, stall,energy\n",
    "        \n",
    "    ##\n",
    "    \n",
    "    return ys_est,ys_actual,rmse(ys_est,ys_actual)"
   ]
  },
  {
   "cell_type": "code",
   "execution_count": 44,
   "id": "92579c07-ad65-4cac-9c06-bad259687ad2",
   "metadata": {},
   "outputs": [],
   "source": [
    "def ModelPipeline_Mean(fileName,padding=0,endog='cCost',N_CLUST=5,shiftAR=5,shiftARX=3,trainIDX=5000,testIDX=5000,TEST_LEN = 50, energy=True):\n",
    "    my_test = extractDatafromFile(fileName,padding) # set to 0 for most of the data, unless no GPU present\n",
    "    Mod = createRequiredDataSet(my_test,endog,shiftAR,shiftARX)\n",
    "    train_df,test_df = test_train_split(Mod,trainIDX,testIDX,perc=0.0)\n",
    "    y_train,x_train = getYXData(train_df,ignoreCols=3)\n",
    "    y_test,x_test = getYXData(test_df,ignoreCols=3)\n",
    "    ### Get the clusters\n",
    "    # cluster_center,prob = train_Cluster(x_train[:,:],n_cluster = N_CLUST)\n",
    "    # ### Train the Model\n",
    "    # model = []\n",
    "    # for i in range(N_CLUST):\n",
    "    #     out_model = simple_train(y_train,x_train,weight = prob[i,:])\n",
    "    #     model.append(out_model)\n",
    "\n",
    "    ### Test the models\n",
    "    ys_actual = y_test[:TEST_LEN]\n",
    "    ys_est = []\n",
    "    for id in range(TEST_LEN):\n",
    "        predVal = prediction_mean(x_test[id],shiftAR)\n",
    "        ys_est.append(predVal)\n",
    "    # print(cost2FMap[endog])        \n",
    "    if energy:\n",
    "        ys_freq = test_df[cost2FMap[endog]].to_numpy()[:TEST_LEN] # the actual frequency we observed\n",
    "        ##  Do something with energy values and frequency values\n",
    "        stall, energy, est_freq, eff_util  = energy_perf_analysis(ys_actual,ys_est,ys_freq,endog,details=True)\n",
    "        return ys_est,ys_actual,rmse(ys_est,ys_actual), est_freq, ys_freq, eff_util, stall,energy\n",
    "        \n",
    "    ##\n",
    "    \n",
    "    return ys_est,ys_actual,rmse(ys_est,ys_actual)"
   ]
  },
  {
   "cell_type": "code",
   "execution_count": 45,
   "id": "f6fcc91e-d8a7-414d-9d27-1adba23ecfac",
   "metadata": {},
   "outputs": [],
   "source": [
    "def ModelPipeline(fileName,padding=0,endog='cCost',N_CLUST=5,shiftAR=5,shiftARX=3,trainIDX=5000,testIDX=5000,TEST_LEN = 50, energy=True):\n",
    "    my_test = extractDatafromFile(fileName,padding) # set to 0 for most of the data, unless no GPU present\n",
    "    Mod = createRequiredDataSet(my_test,endog,shiftAR,shiftARX)\n",
    "    train_df,test_df = test_train_split(Mod,trainIDX,testIDX,perc=0.0)\n",
    "    y_train,x_train = getYXData(train_df,ignoreCols=3)\n",
    "    y_test,x_test = getYXData(test_df,ignoreCols=3)\n",
    "    ### Get the clusters\n",
    "    cluster_center,prob = train_Cluster(x_train[:,:],n_cluster = N_CLUST)\n",
    "    ### Train the Model\n",
    "    model = []\n",
    "    for i in range(N_CLUST):\n",
    "        out_model = simple_train(y_train,x_train,weight = prob[i,:])\n",
    "        model.append(out_model)\n",
    "\n",
    "    ### Test the models\n",
    "    ys_actual = y_test[:TEST_LEN]\n",
    "    ys_est = []\n",
    "    for id in range(TEST_LEN):\n",
    "        predVal = prediction(model,x_test[id],cluster_center)\n",
    "        ys_est.append(predVal)\n",
    "    # print(cost2FMap[endog])        \n",
    "    if energy:\n",
    "        ys_freq = test_df[cost2FMap[endog]].to_numpy()[:TEST_LEN] # the actual frequency we observed\n",
    "        ##  Do something with energy values and frequency values\n",
    "        stall, energy, est_freq, eff_util  = energy_perf_analysis(ys_actual,ys_est,ys_freq,endog,details=True)\n",
    "        return ys_est,ys_actual,rmse(ys_est,ys_actual), est_freq, ys_freq, eff_util, stall,energy\n",
    "        \n",
    "    ##\n",
    "    \n",
    "    return ys_est,ys_actual,rmse(ys_est,ys_actual)"
   ]
  },
  {
   "cell_type": "code",
   "execution_count": 46,
   "id": "cedace42-5de0-4c13-a387-06b6bfae8283",
   "metadata": {},
   "outputs": [],
   "source": [
    "y_est,y_act,err,est_freq, act_freq,eff_util,stall,energy = ModelPipeline('./UtilTestFinal',padding=1,\\\n",
    "                                                                         endog='gCost',N_CLUST=3,shiftAR=10,shiftARX=3,\\\n",
    "                                                                         trainIDX=5000,testIDX=5000,TEST_LEN = 200)"
   ]
  },
  {
   "cell_type": "code",
   "execution_count": 47,
   "id": "5a2c8c0b-eaa7-4b90-b6cf-2784852b57d6",
   "metadata": {},
   "outputs": [
    {
     "data": {
      "text/plain": [
       "0.0"
      ]
     },
     "execution_count": 47,
     "metadata": {},
     "output_type": "execute_result"
    }
   ],
   "source": [
    "stall"
   ]
  },
  {
   "cell_type": "code",
   "execution_count": 48,
   "id": "b1310be9-3b86-428a-a8ba-41858431b9a0",
   "metadata": {},
   "outputs": [],
   "source": [
    "## \n",
    "test_endog = 'cCost'\n",
    "TrIDX = 5000\n",
    "TIDX = 5000\n",
    "TLEN = 2000"
   ]
  },
  {
   "cell_type": "code",
   "execution_count": 49,
   "id": "cd6a723e-1f5b-44ea-8abe-dc87192695f4",
   "metadata": {},
   "outputs": [
    {
     "name": "stdout",
     "output_type": "stream",
     "text": [
      "#AR  2  RMSE : 7.52964598696477\n",
      "#AR  3  RMSE : 6.640720781708288\n",
      "#AR  4  RMSE : 6.232028891118944\n",
      "#AR  5  RMSE : 5.818915262455695\n",
      "#AR  6  RMSE : 4.910070672315444\n",
      "#AR  7  RMSE : 4.55114491541928\n",
      "#AR  8  RMSE : 4.190209042679231\n",
      "#AR  9  RMSE : 3.9129357380556384\n",
      "#AR  10  RMSE : 3.8418697559683763\n",
      "#AR  11  RMSE : 3.833617341073307\n",
      "#AR  12  RMSE : 3.881406197165761\n",
      "#AR  13  RMSE : 3.7985961221324986\n",
      "#AR  14  RMSE : 3.781219305082141\n",
      "#AR  15  RMSE : 3.7597380923013235\n"
     ]
    }
   ],
   "source": [
    "my_data = []\n",
    "for val in range(2,16):\n",
    "    y_est,y_act,rms,est_freq, act_freq,eff_util,stall,energy= ModelPipeline('./UtilTestFinal',padding=1,\\\n",
    "                                                                            endog=test_endog,N_CLUST=2,shiftAR=val,shiftARX=val-5,\\\n",
    "                                                                            trainIDX=TrIDX,testIDX=TIDX,TEST_LEN = TLEN)\n",
    "    print(\"#AR \",val,\" RMSE :\", rms)\n",
    "    data = (val,rms,stall,energy)\n",
    "    my_data.append(data)\n",
    "    "
   ]
  },
  {
   "cell_type": "code",
   "execution_count": 50,
   "id": "6ec5fab4-c2f8-44e3-b041-86d2c8a19b42",
   "metadata": {},
   "outputs": [
    {
     "name": "stdout",
     "output_type": "stream",
     "text": [
      "#AR  2  RMSE : 46.34908452461819\n",
      "#AR  3  RMSE : 31.013742453005623\n",
      "#AR  4  RMSE : 23.408986168395543\n",
      "#AR  5  RMSE : 18.899209736121215\n",
      "#AR  6  RMSE : 15.938318559333942\n",
      "#AR  7  RMSE : 13.86798699270981\n",
      "#AR  8  RMSE : 12.364081670062172\n",
      "#AR  9  RMSE : 11.236442410356856\n",
      "#AR  10  RMSE : 10.37795158234775\n",
      "#AR  11  RMSE : 9.713002096583613\n",
      "#AR  12  RMSE : 9.192247352107884\n",
      "#AR  13  RMSE : 8.78383929295734\n",
      "#AR  14  RMSE : 8.46611697501485\n",
      "#AR  15  RMSE : 8.221453601365317\n"
     ]
    }
   ],
   "source": [
    "my_data_mean = []\n",
    "for val in range(2,16):\n",
    "    y_est,y_act,rms,est_freq, act_freq,eff_util,stall,energy= ModelPipeline_Mean('./UtilTestFinal',padding=1,\\\n",
    "                                                                            endog=test_endog,N_CLUST=5,shiftAR=val,shiftARX=val,\\\n",
    "                                                                            trainIDX=TrIDX,testIDX=TIDX,TEST_LEN = TLEN)\n",
    "    print(\"#AR \",val,\" RMSE :\", rms)\n",
    "    data = (val,rms,stall,energy)\n",
    "    my_data_mean.append(data)"
   ]
  },
  {
   "cell_type": "code",
   "execution_count": 51,
   "id": "0c912a05-f853-4043-b4f6-8a829c4acbee",
   "metadata": {},
   "outputs": [
    {
     "name": "stdout",
     "output_type": "stream",
     "text": [
      "SVR: #AR  2  RMSE : 44.981948332919124\n",
      "SVR: #AR  3  RMSE : 45.1195915892379\n",
      "SVR: #AR  4  RMSE : 45.071263454952685\n",
      "SVR: #AR  5  RMSE : 45.366616573086574\n",
      "SVR: #AR  6  RMSE : 45.51016583129201\n",
      "SVR: #AR  7  RMSE : 45.999216822081394\n",
      "SVR: #AR  8  RMSE : 46.36674515323461\n",
      "SVR: #AR  9  RMSE : 46.554991346499705\n",
      "SVR: #AR  10  RMSE : 46.896423909353786\n",
      "SVR: #AR  11  RMSE : 47.262897220295365\n",
      "SVR: #AR  12  RMSE : 47.67572685089981\n",
      "SVR: #AR  13  RMSE : 47.99020667174805\n",
      "SVR: #AR  14  RMSE : 48.15760589436272\n",
      "SVR: #AR  15  RMSE : 48.41013666019525\n"
     ]
    }
   ],
   "source": [
    "my_data_svr = []\n",
    "for val in range(2,16):\n",
    "    y_est,y_act,rms,est_freq, act_freq,eff_util,stall,energy= ModelPipeline_SVR('./UtilTestFinal',padding=1,\\\n",
    "                                                                            endog=test_endog,Kernel='rbf',N_CLUST=0,\\\n",
    "                                                                            shiftAR=val,shiftARX=val,\\\n",
    "                                                                            trainIDX=TrIDX,testIDX=TIDX,TEST_LEN = TLEN)\n",
    "    print(\"SVR: #AR \",val,\" RMSE :\", rms)\n",
    "    data = (val,rms,stall,energy)\n",
    "    my_data_svr.append(data)"
   ]
  },
  {
   "cell_type": "code",
   "execution_count": null,
   "id": "06c5d430-b440-4898-a477-eeb9800a88c2",
   "metadata": {},
   "outputs": [],
   "source": []
  },
  {
   "cell_type": "code",
   "execution_count": null,
   "id": "f6936522-1165-4090-aaa3-ca34ac8746c5",
   "metadata": {},
   "outputs": [],
   "source": []
  },
  {
   "cell_type": "code",
   "execution_count": null,
   "id": "507b1002-15ec-44cb-a1d3-40285e38f83a",
   "metadata": {},
   "outputs": [],
   "source": []
  },
  {
   "cell_type": "code",
   "execution_count": null,
   "id": "afa0ce7e-35b7-4ca3-a831-8f7422aee173",
   "metadata": {},
   "outputs": [],
   "source": []
  },
  {
   "cell_type": "code",
   "execution_count": 19,
   "id": "7457abe4-e784-4761-b257-280e5e3b3c80",
   "metadata": {},
   "outputs": [],
   "source": [
    "x = list(map(lambda x: x[0], my_data))\n",
    "y = list(map(lambda x: x[3], my_data))\n",
    "y_svr = list(map(lambda x: x[1], my_data_svr))\n",
    "y_mean = list(map(lambda x: x[1], my_data_mean))"
   ]
  },
  {
   "cell_type": "code",
   "execution_count": null,
   "id": "63960528-260c-418a-bde5-afb19357e5c0",
   "metadata": {},
   "outputs": [],
   "source": []
  },
  {
   "cell_type": "code",
   "execution_count": 86,
   "id": "0e9fdbbc-190c-4183-bbe0-42d37a6ce55d",
   "metadata": {},
   "outputs": [],
   "source": [
    "# ##Combined Plot\n",
    "# plt.plot(x, y, label='Our Method') \n",
    "# # plt.plot(x, y_svr, label='SVR') \n",
    "# # plt.plot(x, y_mean, label='Mean') \n",
    "\n",
    "# plt.xlabel(\"AR\") \n",
    "# plt.ylabel(\"Energy\") \n",
    "# plt.title(\"Comparing Model\") \n",
    "# plt.legend() \n",
    "# plt.show() "
   ]
  },
  {
   "cell_type": "code",
   "execution_count": null,
   "id": "50090aa9-42b3-47c5-a7b2-d7211d520f94",
   "metadata": {},
   "outputs": [],
   "source": []
  },
  {
   "cell_type": "markdown",
   "id": "1eb66f72-0ad4-4772-abbf-0f6a0b2f60ac",
   "metadata": {},
   "source": [
    "## Mem Values"
   ]
  },
  {
   "cell_type": "code",
   "execution_count": 69,
   "id": "9b4112e5-7884-42fa-a7a5-da21fbac4944",
   "metadata": {},
   "outputs": [
    {
     "data": {
      "image/png": "[encoded data removed]",
      "text/plain": [
       "<Figure size 640x480 with 1 Axes>"
      ]
     },
     "metadata": {},
     "output_type": "display_data"
    }
   ],
   "source": [
    "##Combined Plot\n",
    "plt.plot(x, y, label='Our Method') \n",
    "plt.plot(x, y_svr, label='SVR') \n",
    "plt.plot(x, y_mean, label='Mean') \n",
    "\n",
    "plt.xlabel(\"AR\") \n",
    "plt.ylabel(\"Stall\") \n",
    "plt.title(\"Comparing Model\") \n",
    "plt.legend() \n",
    "plt.show() "
   ]
  },
  {
   "cell_type": "code",
   "execution_count": 67,
   "id": "8314cf35-b405-441a-a863-5eb2475124d0",
   "metadata": {},
   "outputs": [
    {
     "data": {
      "image/png": "[encoded data removed]",
      "text/plain": [
       "<Figure size 640x480 with 1 Axes>"
      ]
     },
     "metadata": {},
     "output_type": "display_data"
    }
   ],
   "source": [
    "##Combined Plot\n",
    "plt.plot(x, y, label='Our Method') \n",
    "plt.plot(x, y_svr, label='SVR') \n",
    "plt.plot(x, y_mean, label='Mean') \n",
    "\n",
    "plt.xlabel(\"AR\") \n",
    "plt.ylabel(\"RMSE\") \n",
    "plt.title(\"Comparing Model\") \n",
    "plt.legend() \n",
    "plt.show() "
   ]
  },
  {
   "cell_type": "markdown",
   "id": "7f275a10-3c44-4293-960a-b17cae61b6a4",
   "metadata": {},
   "source": [
    "## CPU Values"
   ]
  },
  {
   "cell_type": "code",
   "execution_count": 78,
   "id": "524d7708-c56a-4152-acd6-efcf893acafe",
   "metadata": {},
   "outputs": [
    {
     "data": {
      "image/png": "[encoded data removed]",
      "text/plain": [
       "<Figure size 640x480 with 1 Axes>"
      ]
     },
     "metadata": {},
     "output_type": "display_data"
    }
   ],
   "source": [
    "##Combined Plot\n",
    "plt.plot(x, y, label='Our Method') \n",
    "plt.plot(x, y_svr, label='SVR') \n",
    "plt.plot(x, y_mean, label='Mean') \n",
    "\n",
    "plt.xlabel(\"AR\") \n",
    "plt.ylabel(\"RMSE\") \n",
    "plt.title(\"Comparing Model\") \n",
    "plt.legend() \n",
    "plt.show()"
   ]
  },
  {
   "cell_type": "code",
   "execution_count": 59,
   "id": "0044a28e-c0ed-4c06-9d61-85f18cbb303b",
   "metadata": {},
   "outputs": [
    {
     "data": {
      "image/png": "[encoded data removed]",
      "text/plain": [
       "<Figure size 640x480 with 1 Axes>"
      ]
     },
     "metadata": {},
     "output_type": "display_data"
    }
   ],
   "source": [
    "##Combined Plot\n",
    "plt.plot(x, y, label='Our Method') \n",
    "plt.plot(x, y_svr, label='SVR') \n",
    "plt.plot(x, y_mean, label='Mean') \n",
    "\n",
    "plt.xlabel(\"AR\") \n",
    "plt.ylabel(\"Stall\") \n",
    "plt.title(\"Comparing Model\") \n",
    "plt.legend() \n",
    "plt.show() "
   ]
  },
  {
   "cell_type": "code",
   "execution_count": 39,
   "id": "22d622da-04de-45a7-8310-dd5de0d88aca",
   "metadata": {},
   "outputs": [
    {
     "data": {
      "image/png": "[encoded data removed]",
      "text/plain": [
       "<Figure size 640x480 with 1 Axes>"
      ]
     },
     "metadata": {},
     "output_type": "display_data"
    }
   ],
   "source": [
    "##Combined Plot\n",
    "plt.plot(x, y, label='Our Method') \n",
    "plt.plot(x, y_svr, label='SVR-Poly') \n",
    "plt.plot(x, y_mean, label='Mean') \n",
    "\n",
    "plt.xlabel(\"AR\") \n",
    "plt.ylabel(\"Stall\") \n",
    "plt.title(\"Comparing Model\") \n",
    "plt.legend() \n",
    "plt.show() "
   ]
  },
  {
   "cell_type": "code",
   "execution_count": 58,
   "id": "047cde9e-d8ed-4c3c-aaa5-343de6957e7f",
   "metadata": {},
   "outputs": [
    {
     "data": {
      "image/png": "[encoded data removed]",
      "text/plain": [
       "<Figure size 640x480 with 1 Axes>"
      ]
     },
     "metadata": {},
     "output_type": "display_data"
    }
   ],
   "source": [
    "##Combined Plot\n",
    "plt.plot(x, y, label='Our Method') \n",
    "plt.plot(x, y_svr, label='SVR') \n",
    "plt.plot(x, y_mean, label='Mean') \n",
    "\n",
    "plt.xlabel(\"AR\") \n",
    "plt.ylabel(\"Stall\") \n",
    "plt.title(\"Comparing Model\") \n",
    "plt.legend() \n",
    "plt.show() "
   ]
  },
  {
   "cell_type": "code",
   "execution_count": null,
   "id": "f29a0b67-bf9f-4304-8d6c-e505a9ea315c",
   "metadata": {},
   "outputs": [],
   "source": []
  },
  {
   "cell_type": "code",
   "execution_count": null,
   "id": "7e3c2785-a44d-4bc7-8750-87c8bb087f99",
   "metadata": {},
   "outputs": [],
   "source": []
  },
  {
   "cell_type": "code",
   "execution_count": null,
   "id": "9805d5e6-2d12-4683-9d5f-da6bed0ffeb1",
   "metadata": {},
   "outputs": [],
   "source": []
  },
  {
   "cell_type": "code",
   "execution_count": null,
   "id": "1cda0cac-481e-45f8-8774-31fec906df88",
   "metadata": {},
   "outputs": [],
   "source": []
  },
  {
   "cell_type": "code",
   "execution_count": null,
   "id": "5fd59312-00f6-4160-acea-46ef1b20dab1",
   "metadata": {},
   "outputs": [],
   "source": []
  },
  {
   "cell_type": "code",
   "execution_count": null,
   "id": "ff8f2292-b9aa-46f4-90ad-0a426f9f8f92",
   "metadata": {},
   "outputs": [],
   "source": []
  },
  {
   "cell_type": "code",
   "execution_count": null,
   "id": "a0ed87d3-9595-4b04-b683-4680756a2ea0",
   "metadata": {},
   "outputs": [],
   "source": []
  }
 ],
 "metadata": {
  "kernelspec": {
   "display_name": "Python 3 (ipykernel)",
   "language": "python",
   "name": "python3"
  },
  "language_info": {
   "codemirror_mode": {
    "name": "ipython",
    "version": 3
   },
   "file_extension": ".py",
   "mimetype": "text/x-python",
   "name": "python",
   "nbconvert_exporter": "python",
   "pygments_lexer": "ipython3",
   "version": "3.10.12"
  }
 },
 "nbformat": 4,
 "nbformat_minor": 5
}
