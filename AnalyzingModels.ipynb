{
 "cells": [
  {
   "cell_type": "code",
   "execution_count": 3,
   "id": "e53d823b-64c2-4066-b8e8-153de198a728",
   "metadata": {},
   "outputs": [],
   "source": [
    "#Headers for the analysis\n",
    "import numpy as np\n",
    "import matplotlib.pyplot as plt\n",
    "import pandas as pd\n",
    "pd.set_option(\"mode.chained_assignment\", None)\n",
    "from sklearn.preprocessing import StandardScaler\n",
    "from sklearn.svm import SVR\n",
    "from sklearn.multioutput import MultiOutputRegressor\n"
   ]
  },
  {
   "cell_type": "code",
   "execution_count": 4,
   "id": "c8153d24-8644-4708-ba9f-4d3f811331b2",
   "metadata": {},
   "outputs": [],
   "source": [
    "# Fixed values for the device, not going to change based on our requirement\n",
    "\n",
    "freq_dict = {}\n",
    "freq_dict['gFreq'] = [177000000,266000000,350000000,420000000,480000000,600000000]\n",
    "freq_dict['mFreq'] = [165000000,206000000,275000000,413000000,543000000,633000000,728000000,825000000]#,933000000]\n",
    "freq_dict['sFreq'] = [200000,300000,400000,500000,600000,700000,800000,900000,1000000,1100000,1200000,1300000,1400000]\n",
    "freq_dict['bFreq'] = [200000,300000,400000,500000,600000,700000,800000,900000,1000000,1100000,1200000,1300000,1400000,1500000,1600000,1700000,1800000,1900000,2000000]\n",
    "cost_list =['cCost','mCost','gCost']"
   ]
  },
  {
   "cell_type": "code",
   "execution_count": 8,
   "id": "86b3e8c1-4a5c-487f-b7dc-fdc91aee1b34",
   "metadata": {},
   "outputs": [],
   "source": [
    "## Function to extract the files and send a dataframe\n",
    "\n",
    "def extractDatafromFile(fileName='./UtilTestFinal',padding=0):\n",
    "    new_data = pd.read_csv(fileName)\n",
    "    #### This part needs to be \n",
    "    if padding == 0:  # if there is not \n",
    "        new_data['cCost'] =  new_data['bUtil']*new_data['bFreq']/2000000\n",
    "        new_data['mCost'] = new_data['mUtil']*new_data['mFreq']/825000000\n",
    "        new_data['gCost'] = 0\n",
    "        new_data['gFreq'] = 600000000\n",
    "\n",
    "    return new_data\n",
    "\n",
    "#extractDatafromFile()"
   ]
  },
  {
   "cell_type": "code",
   "execution_count": null,
   "id": "2f8457b6-36c3-491a-9cd0-6bb62732c94e",
   "metadata": {},
   "outputs": [],
   "source": [
    "## Function to shift the data, enabling testing and trainig\n",
    "\n",
    "def createRequiredDataSet()"
   ]
  },
  {
   "cell_type": "code",
   "execution_count": null,
   "id": "af088315-5746-4ef5-9937-978cb6145904",
   "metadata": {},
   "outputs": [],
   "source": []
  }
 ],
 "metadata": {
  "kernelspec": {
   "display_name": "Python 3 (ipykernel)",
   "language": "python",
   "name": "python3"
  },
  "language_info": {
   "codemirror_mode": {
    "name": "ipython",
    "version": 3
   },
   "file_extension": ".py",
   "mimetype": "text/x-python",
   "name": "python",
   "nbconvert_exporter": "python",
   "pygments_lexer": "ipython3",
   "version": "3.10.12"
  }
 },
 "nbformat": 4,
 "nbformat_minor": 5
}
